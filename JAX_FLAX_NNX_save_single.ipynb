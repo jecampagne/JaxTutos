{
  "cells": [
    {
      "cell_type": "markdown",
      "metadata": {
        "id": "view-in-github",
        "colab_type": "text"
      },
      "source": [
        "<a href=\"https://colab.research.google.com/github/jecampagne/JaxTutos/blob/main/JAX_FLAX_NNX_save_single.ipynb\" target=\"_parent\"><img src=\"https://colab.research.google.com/assets/colab-badge.svg\" alt=\"Open In Colab\"/></a>"
      ]
    },
    {
      "cell_type": "code",
      "execution_count": 1,
      "id": "04e4f884-1a4c-4fc8-a685-b6e431431382",
      "metadata": {
        "id": "04e4f884-1a4c-4fc8-a685-b6e431431382"
      },
      "outputs": [],
      "source": [
        "import matplotlib as mpl\n",
        "import matplotlib.pyplot as plt\n",
        "mpl.rc('image', cmap='jet')\n",
        "mpl.rcParams['font.size'] = 16"
      ]
    },
    {
      "cell_type": "code",
      "source": [
        "#!pip install orbax-checkpoint==0.9.1"
      ],
      "metadata": {
        "id": "YxE0Of27PHc7"
      },
      "id": "YxE0Of27PHc7",
      "execution_count": 2,
      "outputs": []
    },
    {
      "cell_type": "code",
      "execution_count": 3,
      "id": "75b28140-7ad1-4dbd-b3dc-1c2b4569d975",
      "metadata": {
        "id": "75b28140-7ad1-4dbd-b3dc-1c2b4569d975"
      },
      "outputs": [],
      "source": [
        "import jax\n",
        "import flax\n",
        "import orbax.checkpoint as ocp"
      ]
    },
    {
      "cell_type": "code",
      "source": [
        "print(jax.__version__, flax.__version__, ocp.__version__)\n",
        "#0.4.33 0.10.3 0.6.4 on Colab 25 Fev 0k\n",
        "#0.5.0 0.10.3 0.11.5 on Jean Zay 25 Fev Ok"
      ],
      "metadata": {
        "colab": {
          "base_uri": "https://localhost:8080/"
        },
        "id": "bJjP-vIL_xNx",
        "outputId": "e34a1b59-0ff2-4c35-b6f2-9e9fbc0890df"
      },
      "id": "bJjP-vIL_xNx",
      "execution_count": 25,
      "outputs": [
        {
          "output_type": "stream",
          "name": "stdout",
          "text": [
            "0.4.33 0.10.3 0.6.4\n"
          ]
        }
      ]
    },
    {
      "cell_type": "code",
      "source": [
        "jax.random.PRNGKey(0)"
      ],
      "metadata": {
        "colab": {
          "base_uri": "https://localhost:8080/"
        },
        "id": "0EB4gqLxP9Xz",
        "outputId": "56e60231-ee68-46db-a329-b44fb70e6a56"
      },
      "id": "0EB4gqLxP9Xz",
      "execution_count": 5,
      "outputs": [
        {
          "output_type": "execute_result",
          "data": {
            "text/plain": [
              "Array([0, 0], dtype=uint32)"
            ]
          },
          "metadata": {},
          "execution_count": 5
        }
      ]
    },
    {
      "cell_type": "code",
      "execution_count": 6,
      "id": "2267ac67-69ad-444d-9e3b-befa2d5ca2f3",
      "metadata": {
        "id": "2267ac67-69ad-444d-9e3b-befa2d5ca2f3"
      },
      "outputs": [],
      "source": [
        "import jax.numpy as jnp"
      ]
    },
    {
      "cell_type": "code",
      "execution_count": 7,
      "id": "bb8a79fb-f84f-4e19-b98d-4652df0c5880",
      "metadata": {
        "colab": {
          "base_uri": "https://localhost:8080/"
        },
        "id": "bb8a79fb-f84f-4e19-b98d-4652df0c5880",
        "outputId": "3dd82614-a87c-4b2f-f092-a73e015e0c30"
      },
      "outputs": [
        {
          "output_type": "execute_result",
          "data": {
            "text/plain": [
              "1"
            ]
          },
          "metadata": {},
          "execution_count": 7
        }
      ],
      "source": [
        "from functools import partial\n",
        "\n",
        "import numpy as np\n",
        "num_devices = jax.device_count()\n",
        "num_devices # 1"
      ]
    },
    {
      "cell_type": "code",
      "execution_count": 8,
      "id": "ddb60fc7-24e8-411a-bfb6-9794a2ec87c4",
      "metadata": {
        "id": "ddb60fc7-24e8-411a-bfb6-9794a2ec87c4"
      },
      "outputs": [],
      "source": [
        "args = {\n",
        "    'x_dim': 2,\n",
        "    'seed': 2025,\n",
        "}\n",
        "args['num_blobs'] = 4\n",
        "args['x_lim'] = 1\n",
        "\n",
        "# Set the parallel batch size.\n",
        "args['batch_size'] = num_devices * 512 if num_devices > 1 else  512\n",
        "args['epochs'] = 1500  # min: 500. More <=> less samples between the blobs...\n",
        "args['batch_size_p'] = args['batch_size'] //  num_devices\n",
        "\n",
        "args['sigma_max'] = 15.0"
      ]
    },
    {
      "cell_type": "code",
      "execution_count": 9,
      "id": "923f6f1e-a1a4-454d-9fbd-c40ec1a52065",
      "metadata": {
        "id": "923f6f1e-a1a4-454d-9fbd-c40ec1a52065"
      },
      "outputs": [],
      "source": [
        "import optax\n",
        "\n",
        "from flax import nnx\n",
        "from flax.training import train_state\n",
        "\n",
        "from typing import Any, Callable, Sequence, Optional, Tuple\n",
        "PRNGKey = jnp.ndarray"
      ]
    },
    {
      "cell_type": "markdown",
      "id": "0fa298f6-78e1-4cc2-ac44-d6467318ee69",
      "metadata": {
        "id": "0fa298f6-78e1-4cc2-ac44-d6467318ee69"
      },
      "source": [
        "# Dataset"
      ]
    },
    {
      "cell_type": "code",
      "execution_count": 10,
      "id": "da549dfb-928c-47c0-aca4-758e91a4c9e2",
      "metadata": {
        "id": "da549dfb-928c-47c0-aca4-758e91a4c9e2"
      },
      "outputs": [],
      "source": [
        "def make_dataset_gaussian_blobs(\n",
        "    seed: int,\n",
        "    batch_size: int = 1,\n",
        "    num_blobs: int = 8,\n",
        "    r: float = 1.0,\n",
        "    SCALE: float = 0.1\n",
        "):\n",
        "    key = jax.random.PRNGKey(seed)\n",
        "    offset = 0  # jnp.pi / num_blobs\n",
        "    thetas = jnp.linspace(offset, 2 * jnp.pi + offset, num_blobs, endpoint=False)\n",
        "    x = r * jnp.cos(thetas)\n",
        "    y = r * jnp.sin(thetas)\n",
        "    loc = jnp.stack([x, y], axis=-1)\n",
        "\n",
        "    kay, key1 = jax.random.split(key,2)\n",
        "    iblob = jax.random.randint(key1,minval=0, maxval=num_blobs, shape=(batch_size,))\n",
        "    keys = jax.random.split(key,batch_size)\n",
        "    dataGen = jax.vmap(lambda x: jax.random.multivariate_normal(keys[x],\n",
        "            mean=loc[iblob[x]],\n",
        "            cov=SCALE**2*jnp.array([[1,0],[0,1]]), shape=(1,)))\n",
        "\n",
        "    data = dataGen(jnp.arange(batch_size))\n",
        "    data = data.squeeze()\n",
        "\n",
        "    return data/(2*jnp.max(jnp.abs(data))) + jnp.ones((batch_size,2))*0.5\n",
        ""
      ]
    },
    {
      "cell_type": "code",
      "execution_count": 11,
      "id": "56fca03e-b501-45e3-845f-0320f5be0d44",
      "metadata": {
        "colab": {
          "base_uri": "https://localhost:8080/"
        },
        "id": "56fca03e-b501-45e3-845f-0320f5be0d44",
        "outputId": "83a82ec9-87a9-41a8-f88f-eee56671181e"
      },
      "outputs": [
        {
          "output_type": "stream",
          "name": "stdout",
          "text": [
            "99840 195\n"
          ]
        }
      ],
      "source": [
        "dataset_size = 100_000\n",
        "batches_in_epoch = dataset_size // args['batch_size']\n",
        "dataset_size = batches_in_epoch * args['batch_size']\n",
        "\n",
        "print(dataset_size, batches_in_epoch)"
      ]
    },
    {
      "cell_type": "code",
      "execution_count": 12,
      "id": "5b4a2097-7a95-46f8-b13e-cb69e813286a",
      "metadata": {
        "id": "5b4a2097-7a95-46f8-b13e-cb69e813286a"
      },
      "outputs": [],
      "source": [
        "X_train= make_dataset_gaussian_blobs(seed=args['seed'],num_blobs=args['num_blobs'],\n",
        "                                     batch_size=dataset_size)\n",
        "xlim, ylim = [0,args['x_lim'] ], [0,args['x_lim'] ]"
      ]
    },
    {
      "cell_type": "code",
      "execution_count": 13,
      "id": "9b559f56-1aca-4359-81b3-136054e81968",
      "metadata": {
        "colab": {
          "base_uri": "https://localhost:8080/",
          "height": 490
        },
        "id": "9b559f56-1aca-4359-81b3-136054e81968",
        "outputId": "e0a8747f-5d9e-44f2-dee4-d42191abd5cf"
      },
      "outputs": [
        {
          "output_type": "display_data",
          "data": {
            "text/plain": [
              "<Figure size 640x480 with 1 Axes>"
            ],
            "image/png": "[encoded data removed]"
          },
          "metadata": {}
        }
      ],
      "source": [
        "plt.scatter(X_train[:5000, 0], X_train[:5000, 1], s=0.1, color='red',label='Train')\n",
        "plt.title(\"Training set\")\n",
        "plt.xlim(xlim)\n",
        "plt.ylim(ylim)\n",
        "plt.xlabel(\"$x_1$\")\n",
        "plt.ylabel(\"$x_2$\")\n",
        "plt.gca().set_aspect('equal')\n",
        "plt.grid()"
      ]
    },
    {
      "cell_type": "code",
      "execution_count": 14,
      "id": "df6d3c5a-079a-4d1c-aaf2-f7f0890ebb30",
      "metadata": {
        "id": "df6d3c5a-079a-4d1c-aaf2-f7f0890ebb30"
      },
      "outputs": [],
      "source": [
        "import itertools\n",
        "data_gen = itertools.cycle(jnp.array(jnp.array_split(jax.random.permutation(jax.random.PRNGKey(42),X_train), batches_in_epoch )))"
      ]
    },
    {
      "cell_type": "markdown",
      "id": "788d0abd-df79-408f-b9f2-9b5c69c13a9d",
      "metadata": {
        "id": "788d0abd-df79-408f-b9f2-9b5c69c13a9d"
      },
      "source": [
        "# ScoreNet simple architecture"
      ]
    },
    {
      "cell_type": "code",
      "execution_count": 15,
      "id": "48eb5091-fb3e-4790-8949-56021c7035e1",
      "metadata": {
        "id": "48eb5091-fb3e-4790-8949-56021c7035e1"
      },
      "outputs": [],
      "source": [
        "def marginal_prob_std(t, sigma):\n",
        "  \"\"\"Compute the mean and standard deviation of $p_{0t}(x(t) | x(0))$.\n",
        "\n",
        "  Args:\n",
        "    t: A vector of time steps.\n",
        "    sigma: The $\\sigma$ in our SDE.\n",
        "\n",
        "  Returns:\n",
        "    The standard deviation.\n",
        "  \"\"\"\n",
        "  return jnp.sqrt((sigma**(2 * t) - 1.) / 2. / jnp.log(sigma))\n",
        "\n",
        "marginal_prob_std_fn = partial(marginal_prob_std, sigma=args['sigma_max'])"
      ]
    },
    {
      "cell_type": "code",
      "execution_count": 16,
      "id": "742bbbcc-44af-4658-a4bf-ecb9c365f782",
      "metadata": {
        "id": "742bbbcc-44af-4658-a4bf-ecb9c365f782"
      },
      "outputs": [],
      "source": [
        "class GaussianFourierProjection(nnx.Module):\n",
        "  \"\"\"Gaussian random features for encoding time steps.\"\"\"\n",
        "  #embed_dim: int\n",
        "  #scale: float = 30.\n",
        "\n",
        "  def __init__(self, embed_dim: int, scale: float, *, rngs: nnx.Rngs):\n",
        "    key = rngs.params()\n",
        "    dout = embed_dim // 2\n",
        "    self.W = nnx.Variable(jax.random.normal(key, (dout,))  *  scale)\n",
        "\n",
        "  def __call__(self, x):\n",
        "    x_proj = x[:, None] * self.W[None, :] * 2 * jnp.pi\n",
        "    return jnp.concatenate([jnp.sin(x_proj), jnp.cos(x_proj)], axis=-1)\n",
        "\n",
        "class ScoreNet(nnx.Module):\n",
        "  channels: Tuple[int] =  (32, 64, 128, 256)\n",
        "  embed_dim: int = 256\n",
        "  scale: float = 30.\n",
        "\n",
        "  def __init__(self, marginal_prob_std:Any, din_t:int, rngs: nnx.Rngs):\n",
        "    self.act = nnx.swish\n",
        "    self.marginal_prob_std = marginal_prob_std\n",
        "    #time embedding\n",
        "    self.embed = GaussianFourierProjection(embed_dim=self.embed_dim,\n",
        "                                           scale=self.scale,\n",
        "                                           rngs=rngs)\n",
        "    self.LayerEmb = nnx.Linear(self.embed_dim, self.embed_dim, rngs=rngs)\n",
        "    #encoding part\n",
        "    self.Layer1  = nnx.Linear(args['x_dim'],self.channels[0],use_bias=False, rngs=rngs)\n",
        "    self.Layer1e = nnx.Linear(self.embed_dim,self.channels[0], rngs=rngs)\n",
        "    self.Norm1   = nnx.GroupNorm(self.channels[0],num_groups=4, rngs=rngs)\n",
        "\n",
        "    self.Layer2  = nnx.Linear(self.channels[0],self.channels[1],use_bias=False, rngs=rngs)\n",
        "    self.Layer2e = nnx.Linear(self.embed_dim,self.channels[1], rngs=rngs)\n",
        "    self.Norm2   = nnx.GroupNorm(self.channels[1], rngs=rngs) # num_groups=32 by default\n",
        "\n",
        "    self.Layer3  = nnx.Linear(self.channels[1],self.channels[2],use_bias=False, rngs=rngs)\n",
        "    self.Layer3e = nnx.Linear(self.embed_dim,self.channels[2], rngs=rngs)\n",
        "    self.Norm3   = nnx.GroupNorm(self.channels[2], rngs=rngs) # num_groups=32 by default\n",
        "\n",
        "    self.Layer4  = nnx.Linear(self.channels[2],self.channels[3],use_bias=False, rngs=rngs)\n",
        "    self.Layer4e = nnx.Linear(self.embed_dim,self.channels[3], rngs=rngs)\n",
        "    self.Norm4   = nnx.GroupNorm(self.channels[3], rngs=rngs) # num_groups=32 by default\n",
        "\n",
        "    #decoding part\n",
        "    self.Layer5  = nnx.Linear(self.channels[3],self.channels[2],use_bias=False, rngs=rngs)\n",
        "    self.Layer5e = nnx.Linear(self.embed_dim,self.channels[2], rngs=rngs)\n",
        "    self.Norm5   = nnx.GroupNorm(self.channels[2], rngs=rngs) # num_groups=32 by default\n",
        "\n",
        "    self.Layer6  = nnx.Linear(2*self.channels[2],self.channels[1],use_bias=False, rngs=rngs)\n",
        "    self.Layer6e = nnx.Linear(self.embed_dim,self.channels[1], rngs=rngs)\n",
        "    self.Norm6   = nnx.GroupNorm(self.channels[1], rngs=rngs) # num_groups=32 by default\n",
        "\n",
        "    self.Layer7  = nnx.Linear(2*self.channels[1],self.channels[0],use_bias=False, rngs=rngs)\n",
        "    self.Layer7e = nnx.Linear(self.embed_dim,self.channels[0], rngs=rngs)\n",
        "    self.Norm7   = nnx.GroupNorm(self.channels[0], rngs=rngs) # num_groups=32 by default\n",
        "\n",
        "    self.Layer7  = nnx.Linear(2*self.channels[1],self.channels[0],use_bias=False, rngs=rngs)\n",
        "    self.Layer7e = nnx.Linear(self.embed_dim,self.channels[0], rngs=rngs)\n",
        "    self.Norm7   = nnx.GroupNorm(self.channels[0], rngs=rngs) # num_groups=32 by default\n",
        "\n",
        "    self.Layer8  = nnx.Linear(2*self.channels[0],args['x_dim'], rngs=rngs)\n",
        "\n",
        "\n",
        "  def __call__ (self,x,t):\n",
        "    # time embding\n",
        "    embed = self.act(self.LayerEmb(self.embed(t)))\n",
        "\n",
        "    # encoding\n",
        "    h1 = self.Layer1(x)\n",
        "    h1 += self.Layer1e(embed)\n",
        "    h1 = self.Norm1(h1)\n",
        "    h1 = self.act(h1)\n",
        "\n",
        "    h2 = self.Layer2(h1)\n",
        "    h2 += self.Layer2e(embed)\n",
        "    h2 = self.Norm2(h2)\n",
        "    h2 = self.act(h2)\n",
        "\n",
        "    h3 = self.Layer3(h2)\n",
        "    h3 += self.Layer3e(embed)\n",
        "    h3 = self.Norm3(h3)\n",
        "    h3 = self.act(h3)\n",
        "\n",
        "    h4 = self.Layer4(h3)\n",
        "    h4 += self.Layer4e(embed)\n",
        "    h4 = self.Norm4(h4)\n",
        "    h4 = self.act(h4)\n",
        "\n",
        "    # decondig\n",
        "    h = self.Layer5(h4)\n",
        "    h += self.Layer5e(embed)\n",
        "    h = self.Norm5(h)\n",
        "    h = self.act(h)\n",
        "\n",
        "    h = self.Layer6(jnp.concatenate([h, h3], axis=-1))\n",
        "    h += self.Layer6e(embed)\n",
        "    h = self.Norm6(h)\n",
        "    h = self.act(h)\n",
        "\n",
        "    h = self.Layer7(jnp.concatenate([h, h2], axis=-1))\n",
        "    h += self.Layer7e(embed)\n",
        "    h = self.Norm7(h)\n",
        "    h = self.act(h)\n",
        "\n",
        "    h = self.Layer8(jnp.concatenate([h, h1], axis=-1))\n",
        "\n",
        "    # normalisation\n",
        "    h = h / self.marginal_prob_std(t)[:, None]\n",
        "    return h"
      ]
    },
    {
      "cell_type": "markdown",
      "id": "f5fa7018-5dd2-41a7-b83b-6da9e90ac9cf",
      "metadata": {
        "id": "f5fa7018-5dd2-41a7-b83b-6da9e90ac9cf"
      },
      "source": [
        "# Training\n",
        "restart from here if you want to change training parameters\n",
        "\n",
        "[note 1] This use the [fax #4224](https://github.com/google/flax/discussions/4224)"
      ]
    },
    {
      "cell_type": "code",
      "execution_count": 17,
      "id": "2a1cf0ba-286d-461c-af04-34a9253dad01",
      "metadata": {
        "id": "2a1cf0ba-286d-461c-af04-34a9253dad01"
      },
      "outputs": [],
      "source": [
        "import os\n",
        "import shutil\n",
        "path = os.getcwd()"
      ]
    },
    {
      "cell_type": "code",
      "execution_count": 18,
      "id": "69678666-f3e1-4d16-a487-55c66b0daf01",
      "metadata": {
        "id": "69678666-f3e1-4d16-a487-55c66b0daf01"
      },
      "outputs": [],
      "source": [
        "import orbax.checkpoint as ocp\n",
        "\n",
        "# Create the checkpoint manager\n",
        "ckpt_dir = f\"{path}/tmp\"\n",
        "ckpt_dir = ocp.test_utils.erase_and_create_empty(ckpt_dir)\n",
        "\n",
        "options = ocp.CheckpointManagerOptions(\n",
        "    save_interval_steps=1,\n",
        "    max_to_keep=1,\n",
        "    # other options\n",
        ")\n",
        "mngr = ocp.CheckpointManager(\n",
        "    ckpt_dir,\n",
        "    options=options,\n",
        ")\n"
      ]
    },
    {
      "cell_type": "code",
      "execution_count": 20,
      "id": "1f819af2-28cf-47ec-8996-98dae9f907a5",
      "metadata": {
        "id": "1f819af2-28cf-47ec-8996-98dae9f907a5"
      },
      "outputs": [],
      "source": [
        "#@nnx.jit  slow see\n",
        "#def train_step(model: ScoreNet,\n",
        "#                optimizer: nnx.Optimizer,\n",
        "#                x: jnp.ndarray,\n",
        "#                key: PRNGKey):\n",
        "@jax.jit\n",
        "def train_step(graphdef, state, x, key):\n",
        "\n",
        "  model, optimizer = nnx.merge(graphdef, state)   # see [note 1]\n",
        "\n",
        "  key, key_std, key_noise = jax.random.split(key,3)\n",
        "  random_t = jax.random.uniform(key_std, (x.shape[0],), minval=1e-5, maxval=1.)\n",
        "  std = marginal_prob_std_fn(random_t)\n",
        "  z = jax.random.normal(key_noise, x.shape)\n",
        "  perturbed_x = x + z * std[:,None]\n",
        "\n",
        "  def loss_fn(model: ScoreNet):\n",
        "    score = model(perturbed_x, random_t)\n",
        "    loss = jnp.mean(jnp.sum((score * std[:, None] + z)**2, axis=1))\n",
        "    return loss\n",
        "\n",
        "  loss, grads = nnx.value_and_grad(loss_fn)(model)\n",
        "  optimizer.update(grads)\n",
        "\n",
        "  #see [note 1]\n",
        "  _, state = nnx.split((model, optimizer))\n",
        "  return state, loss\n",
        "  #return loss"
      ]
    },
    {
      "cell_type": "code",
      "source": [
        "jax.random.PRNGKey(0)"
      ],
      "metadata": {
        "colab": {
          "base_uri": "https://localhost:8080/"
        },
        "id": "zTrIiB2EPc8r",
        "outputId": "ea1275ac-cb19-48ba-d238-08825f4f5a38"
      },
      "id": "zTrIiB2EPc8r",
      "execution_count": 21,
      "outputs": [
        {
          "output_type": "execute_result",
          "data": {
            "text/plain": [
              "Array([0, 0], dtype=uint32)"
            ]
          },
          "metadata": {},
          "execution_count": 21
        }
      ]
    },
    {
      "cell_type": "code",
      "execution_count": 22,
      "id": "f789b21f-4ed1-465f-954a-240dc51dbf22",
      "metadata": {
        "colab": {
          "base_uri": "https://localhost:8080/"
        },
        "id": "f789b21f-4ed1-465f-954a-240dc51dbf22",
        "outputId": "58478cc7-5323-4ff9-c52a-d9b47ab3190a"
      },
      "outputs": [
        {
          "output_type": "stream",
          "name": "stdout",
          "text": [
            "292695\n"
          ]
        }
      ],
      "source": [
        "key = jax.random.PRNGKey(seed=2025)\n",
        "key, key_scorenet = jax.random.split(key, 2)\n",
        "\n",
        "total_steps = (args['epochs']+1) * batches_in_epoch\n",
        "print(total_steps)\n",
        "schedule_fn = optax.piecewise_constant_schedule(init_value=1e-3,\n",
        "        boundaries_and_scales={int(total_steps*0.33):0.1,\n",
        "                               int(total_steps*0.66):0.1})\n",
        "\n",
        "model = ScoreNet(marginal_prob_std_fn,din_t=1,rngs=nnx.Rngs(args['seed']))\n",
        "optimizer = nnx.Optimizer(model, optax.adam(learning_rate=schedule_fn))# implicitly does not upate W variables\n",
        "\n",
        "graphdef, state = nnx.split((model, optimizer))  # see [note1]\n"
      ]
    },
    {
      "cell_type": "code",
      "execution_count": 23,
      "id": "e4105939-1def-46c0-b249-535c898ed562",
      "metadata": {
        "id": "e4105939-1def-46c0-b249-535c898ed562"
      },
      "outputs": [],
      "source": [
        "from IPython.display import clear_output\n",
        "import orbax"
      ]
    },
    {
      "cell_type": "code",
      "execution_count": 24,
      "id": "d4238405-16b8-40bb-be72-c7b01471fda2",
      "metadata": {
        "colab": {
          "base_uri": "https://localhost:8080/"
        },
        "id": "d4238405-16b8-40bb-be72-c7b01471fda2",
        "outputId": "c8765886-48b3-4c3d-e1d1-09884485afe8"
      },
      "outputs": [
        {
          "output_type": "stream",
          "name": "stdout",
          "text": [
            "Epoch 1500/1500: loss = 0.17366\n"
          ]
        }
      ],
      "source": [
        "info_losses=[]\n",
        "loss_best = jnp.inf\n",
        "\n",
        "eval_every = 10\n",
        "\n",
        "for epoch in range(1, args['epochs'] + 1):\n",
        "    loss_mean = 0.\n",
        "    for batch in range(batches_in_epoch):\n",
        "      # Generate RNG keys for denoiser\n",
        "      key, key_scorenet = jax.random.split(key, 2)\n",
        "      #key_scorenet = shard_prng_key(key_scorenet)\n",
        "\n",
        "      # Shard the data to possible devices.\n",
        "      batch_data = next(data_gen)\n",
        "      # Take a step with the denoiser.\n",
        "      state, loss = train_step(graphdef, state, batch_data, key_scorenet)  #see [note 1]\n",
        "      #loss =  train_step(model, optimizer,\n",
        "      #                  batch_data, key_scorenet)\n",
        "\n",
        "      loss_mean += loss\n",
        "\n",
        "    loss_mean = loss_mean/batches_in_epoch\n",
        "    info_losses.append(loss_mean)\n",
        "    #save best\n",
        "    if loss_mean < loss_best:\n",
        "      loss_best = loss_mean\n",
        "      epoch_best = epoch\n",
        "      nnx.update((model, optimizer), state) #see note1\n",
        "      _, best_state = nnx.split(model)\n",
        "      mngr.save(epoch_best, args=ocp.args.StandardSave(best_state))\n",
        "\n",
        "    if epoch > 0 and (epoch % eval_every == 0 or epoch == args['epochs']):\n",
        "        clear_output(wait=True)\n",
        "        print(f\"Epoch {epoch}/{args['epochs']}: loss = {loss_mean:.5f}\")\n",
        "#        clear_output(wait=True)\n",
        "#        # Plot loss and accuracy in subplots\n",
        "#        plt.plot(info_losses,label='Loss')\n",
        "#        plt.scatter(epoch_best,loss_best,s=10,c='r',label='best')\n",
        "#        plt.yscale('log')\n",
        "#        plt.legend();\n",
        "#        plt.show()\n"
      ]
    },
    {
      "cell_type": "code",
      "execution_count": 26,
      "id": "082c4719-967d-48a3-8b77-4ae374715bad",
      "metadata": {
        "id": "082c4719-967d-48a3-8b77-4ae374715bad"
      },
      "outputs": [],
      "source": [
        "mngr.wait_until_finished()"
      ]
    },
    {
      "cell_type": "markdown",
      "id": "e54a0769-2c30-4fe2-aef4-4dea8e3d8e84",
      "metadata": {
        "id": "e54a0769-2c30-4fe2-aef4-4dea8e3d8e84"
      },
      "source": [
        "# Plot"
      ]
    },
    {
      "cell_type": "code",
      "execution_count": 27,
      "id": "a085aaa6-6d19-4bb5-be48-acc7a184c42a",
      "metadata": {
        "colab": {
          "base_uri": "https://localhost:8080/",
          "height": 436
        },
        "id": "a085aaa6-6d19-4bb5-be48-acc7a184c42a",
        "outputId": "ddd5ae83-8d6a-4de3-a36f-77901a901cc2"
      },
      "outputs": [
        {
          "output_type": "display_data",
          "data": {
            "text/plain": [
              "<Figure size 640x480 with 1 Axes>"
            ],
            "image/png": "[encoded data removed]"
          },
          "metadata": {}
        }
      ],
      "source": [
        "import numpy as np\n",
        "\n",
        "info_losses = np.array(info_losses)\n",
        "plt.plot(info_losses,label='Loss')\n",
        "plt.scatter(epoch_best,loss_best,s=10,c='r',label='best')\n",
        "plt.yscale('log')\n",
        "#plt.xlim([0,10])\n",
        "#plt.ylim([info_den_losses.min()/2,1])\n",
        "plt.legend();"
      ]
    },
    {
      "cell_type": "markdown",
      "id": "29228c5d-4822-4e64-9859-30dbfaec4faa",
      "metadata": {
        "id": "29228c5d-4822-4e64-9859-30dbfaec4faa"
      },
      "source": [
        "# Sampling"
      ]
    },
    {
      "cell_type": "code",
      "execution_count": 28,
      "id": "709bf37f-39fc-43a9-afbc-49200b7d7572",
      "metadata": {
        "id": "709bf37f-39fc-43a9-afbc-49200b7d7572"
      },
      "outputs": [],
      "source": [
        "def diffusion_coeff(t, sigma):\n",
        "  \"\"\"Compute the diffusion coefficient of our SDE.\n",
        "\n",
        "  Args:\n",
        "    t: A vector of time steps.\n",
        "    sigma: The $\\sigma$ in our SDE.\n",
        "\n",
        "  Returns:\n",
        "    The vector of diffusion coefficients.\n",
        "  \"\"\"\n",
        "  return sigma**t\n",
        "diffusion_coeff_fn = partial(diffusion_coeff, sigma=args['sigma_max'])"
      ]
    },
    {
      "cell_type": "code",
      "execution_count": 29,
      "id": "e38ba0e3-3daa-49ac-9b89-e507ab10147f",
      "metadata": {
        "id": "e38ba0e3-3daa-49ac-9b89-e507ab10147f"
      },
      "outputs": [],
      "source": [
        "from scipy import integrate\n",
        "\n",
        "## The error tolerance for the black-box ODE solver\n",
        "error_tolerance = 1e-5\n",
        "def ode_sampler(rng,\n",
        "                model,   # model\n",
        "                marginal_prob_std,\n",
        "                diffusion_coeff,\n",
        "                batch_size=64,\n",
        "                atol=error_tolerance,\n",
        "                rtol=error_tolerance,\n",
        "                z=None,\n",
        "                eps=1e-5):\n",
        "  \"\"\"Generate samples from score-based models with black-box ODE solvers.\n",
        "\n",
        "  Args:\n",
        "    rng: A JAX random state.\n",
        "    score_model: A `flax.linen.Module` object  that represents architecture\n",
        "      of the score-based model.\n",
        "    params: A dictionary that contains model parameters.\n",
        "    marginal_prob_std: A function that returns the standard deviation\n",
        "      of the perturbation kernel.\n",
        "    diffusion_coeff: A function that returns the diffusion coefficient of the SDE.\n",
        "    batch_size: The number of samplers to generate by calling this function once.\n",
        "    atol: Tolerance of absolute errors.\n",
        "    rtol: Tolerance of relative errors.\n",
        "    z: The latent code that governs the final sample. If None, we start from p_1;\n",
        "      otherwise, we start from the given z.\n",
        "    eps: The smallest time step for numerical stability.\n",
        "  \"\"\"\n",
        "\n",
        "  time_shape = (batch_size,)\n",
        "  sample_shape = (*time_shape, args['x_dim'])\n",
        "\n",
        "  # Create the latent code\n",
        "  if z is None:\n",
        "    rng, step_rng = jax.random.split(rng)\n",
        "    z = jax.random.normal(step_rng, sample_shape)\n",
        "    init_x = z * marginal_prob_std(1.)\n",
        "  else:\n",
        "    init_x = z\n",
        "\n",
        "  shape = init_x.shape\n",
        "\n",
        "  def score_eval_wrapper(sample, time_steps):\n",
        "    \"\"\"A wrapper of the score-based model for use by the ODE solver.\"\"\"\n",
        "    sample = jnp.asarray(sample, dtype=jnp.float32).reshape(sample_shape)\n",
        "    time_steps = jnp.asarray(time_steps).reshape(time_shape)\n",
        "\n",
        "    #score, (graphdef, new_state) = state.apply_fn(\n",
        "    #  state.params,\n",
        "    #  state.other_variables\n",
        "    #)( sample, time_steps)\n",
        "    score = model(sample, time_steps)\n",
        "\n",
        "    return np.asarray(score).reshape((-1,)).astype(np.float64)\n",
        "\n",
        "  def ode_func(t, x):\n",
        "    \"\"\"The ODE function for use by the ODE solver.\"\"\"\n",
        "    time_steps = np.ones(time_shape) * t\n",
        "    g = diffusion_coeff(t)\n",
        "    return  -0.5 * (g**2) * score_eval_wrapper(x, time_steps)\n",
        "\n",
        "  # Run the black-box ODE solver.\n",
        "  res = integrate.solve_ivp(ode_func, (1., eps), np.asarray(init_x).reshape(-1),\n",
        "                            rtol=rtol, atol=atol, method='RK45', max_step=200)\n",
        "  print(f\"Number of function evaluations: {res.nfev}\")\n",
        "  x = jnp.asarray(res.y[:, -1]).reshape(shape)\n",
        "\n",
        "  return x"
      ]
    },
    {
      "cell_type": "code",
      "execution_count": 29,
      "id": "a498b3c2-9af7-4280-a8fb-4b28f02216d0",
      "metadata": {
        "id": "a498b3c2-9af7-4280-a8fb-4b28f02216d0"
      },
      "outputs": [],
      "source": []
    },
    {
      "cell_type": "code",
      "execution_count": 30,
      "id": "678d2d3d-b324-4dce-bd8a-7ff4eaa2dda8",
      "metadata": {
        "colab": {
          "base_uri": "https://localhost:8080/"
        },
        "id": "678d2d3d-b324-4dce-bd8a-7ff4eaa2dda8",
        "outputId": "062831ef-01bc-4f41-dbd0-d5d38e745605"
      },
      "outputs": [
        {
          "output_type": "stream",
          "name": "stderr",
          "text": [
            "WARNING:absl:CheckpointManagerOptions.read_only=True, setting save_interval_steps=0.\n",
            "WARNING:absl:Given directory is read only=/content/tmp\n"
          ]
        }
      ],
      "source": [
        "#model = ScoreNet(marginal_prob_std_fn,din_t=1,rngs=nnx.Rngs(args['seed']))\n",
        "#optimizer = nnx.Optimizer(model, optax.adamw(learning_rate=schedule_fn))# implicitly does not upate W variables\n",
        "#nnx.update((model, optimizer), best_state)\n",
        "# Restore the checkpoint back to its `nnx.State` structure - need an abstract reference.\n",
        "\n",
        "options = ocp.CheckpointManagerOptions(\n",
        "    read_only=True,\n",
        "    create=False,\n",
        ")\n",
        "\n",
        "ckpt_dir = f\"{path}/tmp\"\n",
        "\n",
        "mngr = ocp.CheckpointManager(\n",
        "    ckpt_dir,\n",
        "    options=options,\n",
        ")\n",
        "\n"
      ]
    },
    {
      "cell_type": "code",
      "source": [
        "ocp.__version__"
      ],
      "metadata": {
        "colab": {
          "base_uri": "https://localhost:8080/",
          "height": 37
        },
        "id": "Jd8tkzERGzjy",
        "outputId": "34da24b9-a460-41b3-8b60-baed31fdba73"
      },
      "id": "Jd8tkzERGzjy",
      "execution_count": 32,
      "outputs": [
        {
          "output_type": "execute_result",
          "data": {
            "text/plain": [
              "'0.6.4'"
            ],
            "application/vnd.google.colaboratory.intrinsic+json": {
              "type": "string"
            }
          },
          "metadata": {},
          "execution_count": 32
        }
      ]
    },
    {
      "cell_type": "code",
      "source": [
        "abstract_model = nnx.eval_shape(lambda: ScoreNet(marginal_prob_std_fn,din_t=1,rngs=nnx.Rngs(0)))\n",
        "graphdef, abstract_state = nnx.split(abstract_model)\n",
        "\n",
        "epoch_best= mngr.latest_step()\n",
        "\n",
        "if ocp.__version__ == '0.6.4':\n",
        "  state_restored = mngr.restore(epoch_best,  args=ocp.args.StandardSave(abstract_state)) # ocp 0.6.4\n",
        "elif ocp.__version__ == '0.11.5':\n",
        "  state_restored = mngr.restore(epoch_best, items=abstract_state)\n",
        "else:\n",
        "  state_restored= None\n",
        "  print(\"HELP! do not know how to proceed yet\")\n",
        ""
      ],
      "metadata": {
        "colab": {
          "base_uri": "https://localhost:8080/"
        },
        "id": "bddee708JDIq",
        "outputId": "ac64fbed-5c24-40ae-da2f-f2722a437e8f"
      },
      "id": "bddee708JDIq",
      "execution_count": 41,
      "outputs": [
        {
          "output_type": "stream",
          "name": "stderr",
          "text": [
            "/usr/local/lib/python3.11/dist-packages/orbax/checkpoint/type_handlers.py:1330: UserWarning: Couldn't find sharding info under RestoreArgs. Populating sharding info from sharding file. Please note restoration time will be slightly increased due to reading from file instead of directly from RestoreArgs. Note also that this option is unsafe when restoring on a different topology than the checkpoint was saved with.\n",
            "  warnings.warn(\n"
          ]
        }
      ]
    },
    {
      "cell_type": "code",
      "source": [],
      "metadata": {
        "id": "KOQ5yAsPJDSY"
      },
      "id": "KOQ5yAsPJDSY",
      "execution_count": 41,
      "outputs": []
    },
    {
      "cell_type": "code",
      "execution_count": 42,
      "id": "0370cbfa-bd19-4e40-b8d2-8a103936015e",
      "metadata": {
        "id": "0370cbfa-bd19-4e40-b8d2-8a103936015e"
      },
      "outputs": [],
      "source": [
        "model = nnx.merge(graphdef, state_restored)"
      ]
    },
    {
      "cell_type": "code",
      "execution_count": 39,
      "id": "77f9bafa-ab7d-44f5-a229-475d5cf96139",
      "metadata": {
        "colab": {
          "base_uri": "https://localhost:8080/"
        },
        "id": "77f9bafa-ab7d-44f5-a229-475d5cf96139",
        "outputId": "f555e58b-ddfa-4521-d8d1-fe4d6a32258f"
      },
      "outputs": [
        {
          "output_type": "stream",
          "name": "stdout",
          "text": [
            "Number of function evaluations: 254\n"
          ]
        }
      ],
      "source": [
        "sample_batch_size = 1_024\n",
        "sampler = ode_sampler\n",
        "rng = jax.random.PRNGKey(0)\n",
        "\n",
        "## Generate samples\n",
        "rng, step_rng = jax.random.split(rng)\n",
        "samples = sampler(rng,\n",
        "                  model,\n",
        "                  marginal_prob_std_fn,\n",
        "                  diffusion_coeff_fn,\n",
        "                  sample_batch_size)"
      ]
    },
    {
      "cell_type": "code",
      "execution_count": 40,
      "id": "3ae2596d-e728-422f-b8aa-d41a6825069c",
      "metadata": {
        "colab": {
          "base_uri": "https://localhost:8080/",
          "height": 469
        },
        "id": "3ae2596d-e728-422f-b8aa-d41a6825069c",
        "outputId": "1b1e201d-88a3-4def-9431-6d422cda2273"
      },
      "outputs": [
        {
          "output_type": "display_data",
          "data": {
            "text/plain": [
              "<Figure size 640x480 with 1 Axes>"
            ],
            "image/png": "[encoded data removed]"
          },
          "metadata": {}
        }
      ],
      "source": [
        "plt.scatter(X_train[:samples.shape[0], 0], X_train[:samples.shape[0], 1], s=0.3, color='red',label='Train')\n",
        "plt.scatter(samples[:,0],samples[:,1],s=0.3,color='blue',label='Gen')\n",
        "plt.xlim(xlim)\n",
        "plt.ylim(ylim)\n",
        "plt.xlabel(\"$x_1$\")\n",
        "plt.ylabel(\"$x_2$\")\n",
        "plt.gca().set_aspect('equal')\n",
        "plt.grid()\n",
        "lgnd = plt.legend(loc=\"lower left\", scatterpoints=1, fontsize=10)\n",
        "lgnd.legend_handles[0]._sizes = [30]\n",
        "lgnd.legend_handles[1]._sizes = [30]\n"
      ]
    },
    {
      "cell_type": "code",
      "execution_count": null,
      "id": "d27331a1-2d66-4746-ac01-6f8ad08a5201",
      "metadata": {
        "id": "d27331a1-2d66-4746-ac01-6f8ad08a5201"
      },
      "outputs": [],
      "source": []
    }
  ],
  "metadata": {
    "kernelspec": {
      "display_name": "pytorch-gpu-2.6.0_py3.12.8",
      "language": "python",
      "name": "module-conda-env-pytorch-gpu-2.6.0_py3.12.8"
    },
    "language_info": {
      "codemirror_mode": {
        "name": "ipython",
        "version": 3
      },
      "file_extension": ".py",
      "mimetype": "text/x-python",
      "name": "python",
      "nbconvert_exporter": "python",
      "pygments_lexer": "ipython3",
      "version": "3.12.8"
    },
    "colab": {
      "provenance": [],
      "toc_visible": true,
      "gpuType": "T4",
      "include_colab_link": true
    },
    "accelerator": "GPU"
  },
  "nbformat": 4,
  "nbformat_minor": 5
}