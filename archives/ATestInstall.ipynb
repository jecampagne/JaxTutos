{
 "cells": [
  {
   "cell_type": "code",
   "execution_count": 1,
   "id": "774eb216-d7b2-4ab1-82b3-997aa7f80ea3",
   "metadata": {},
   "outputs": [
    {
     "name": "stderr",
     "output_type": "stream",
     "text": [
      "2022-04-13 09:19:01.660402: W external/org_tensorflow/tensorflow/stream_executor/platform/default/dso_loader.cc:64] Could not load dynamic library 'libcudart.so.11.0'; dlerror: libcudart.so.11.0: cannot open shared object file: No such file or directory; LD_LIBRARY_PATH: \n",
      "2022-04-13 09:19:08.253907: W external/org_tensorflow/tensorflow/stream_executor/platform/default/dso_loader.cc:64] Could not load dynamic library 'libcudart.so.11.0'; dlerror: libcudart.so.11.0: cannot open shared object file: No such file or directory; LD_LIBRARY_PATH: \n",
      "2022-04-13 09:19:08.447135: W external/org_tensorflow/tensorflow/stream_executor/platform/default/dso_loader.cc:64] Could not load dynamic library 'libcudart.so.11.0'; dlerror: libcudart.so.11.0: cannot open shared object file: No such file or directory; LD_LIBRARY_PATH: \n"
     ]
    }
   ],
   "source": [
    "from pathinit import *\n",
    "\n",
    "import numpy\n",
    "import scipy\n",
    "\n",
    "import jax\n",
    "import jaxopt\n",
    "import numpyro\n",
    "\n",
    "from functools import partial\n",
    "import matplotlib\n",
    "import corner\n",
    "import arviz\n",
    "\n",
    "import GPy\n",
    "import sklearn"
   ]
  },
  {
   "cell_type": "code",
   "execution_count": 13,
   "id": "1bfb48a3-09ba-4441-a944-b45f6e92940b",
   "metadata": {},
   "outputs": [],
   "source": [
    "JAXTutos_default_version = {\n",
    "    \"matplotlib\":\"3.5.1\",\n",
    "    \"numpy\":\"1.21.5\",\n",
    "    \"scipy\":\"1.8.0\",\n",
    "    \"scikit-learn\":\"1.0.2\",\n",
    "    \"corner\":\"2.2.1\",\n",
    "    \"GPy\":\"1.10.0\",\n",
    "    \"arviz\":\"0.11.4\",\n",
    "    \"numpyro\":\"0.9.1\",\n",
    "    \"jax\":\"0.3.5\",\n",
    "    \"jaxopt\":\"0.3.1\"\n",
    "}"
   ]
  },
  {
   "cell_type": "code",
   "execution_count": 21,
   "id": "89631c8f-5696-4df8-87d0-3a9c3d986d70",
   "metadata": {},
   "outputs": [],
   "source": [
    "import pkg_resources\n",
    "import types\n",
    "def get_imports():\n",
    "    for name, val in globals().items():\n",
    "        if isinstance(val, types.ModuleType):\n",
    "            # Split ensures you get root package, \n",
    "            # not just imported function\n",
    "            name = val.__name__.split(\".\")[0]\n",
    "\n",
    "        elif isinstance(val, type):\n",
    "            name = val.__module__.split(\".\")[0]\n",
    "\n",
    "        # Some packages are weird and have different\n",
    "        # imported names vs. system/pip names. Unfortunately,\n",
    "        # there is no systematic way to get pip names from\n",
    "        # a package's imported name. You'll have to add\n",
    "        # exceptions to this list manually!\n",
    "        poorly_named_packages = {\n",
    "            \"PIL\": \"Pillow\",\n",
    "            \"sklearn\": \"scikit-learn\"\n",
    "        }\n",
    "        if name in poorly_named_packages.keys():\n",
    "            name = poorly_named_packages[name]\n",
    "\n",
    "        yield name\n",
    "imports = list(set(get_imports()))\n",
    "\n",
    "# The only way I found to get the version of the root package\n",
    "# from only the name of the package is to cross-check the names \n",
    "# of installed packages vs. imported packages\n",
    "requirements = []\n",
    "for m in pkg_resources.working_set:\n",
    "    if m.project_name in imports and m.project_name!=\"pip\":\n",
    "        requirements.append((m.project_name, m.version))\n",
    "\n",
    "        \n",
    "for r in requirements:\n",
    "    assert JAXTutos_default_version[r[0]], f\"missing {r[0]}\"\n",
    "    assert JAXTutos_default_version[r[0]]==r[1], f\"wrong version {r[0]}:{r[1]}\""
   ]
  },
  {
   "cell_type": "code",
   "execution_count": null,
   "id": "3caf56c7-8a4a-41e0-96cd-5f709a8e599f",
   "metadata": {},
   "outputs": [],
   "source": []
  }
 ],
 "metadata": {
  "jupytext": {
   "text_representation": {
    "extension": ".py",
    "format_name": "light",
    "format_version": "1.5",
    "jupytext_version": "1.11.3"
   }
  },
  "kernelspec": {
   "display_name": "JaxTutos",
   "language": "python",
   "name": "jaxtutos"
  },
  "language_info": {
   "codemirror_mode": {
    "name": "ipython",
    "version": 3
   },
   "file_extension": ".py",
   "mimetype": "text/x-python",
   "name": "python",
   "nbconvert_exporter": "python",
   "pygments_lexer": "ipython3",
   "version": "3.8.13"
  }
 },
 "nbformat": 4,
 "nbformat_minor": 5
}
