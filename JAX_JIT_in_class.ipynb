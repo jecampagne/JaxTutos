{
  "nbformat": 4,
  "nbformat_minor": 0,
  "metadata": {
    "colab": {
      "provenance": [],
      "toc_visible": true,
      "authorship_tag": "ABX9TyPsd6jHtkJegyeIiC2pfiPX",
      "include_colab_link": true
    },
    "kernelspec": {
      "name": "python3",
      "display_name": "Python 3"
    },
    "language_info": {
      "name": "python"
    }
  },
  "cells": [
    {
      "cell_type": "markdown",
      "metadata": {
        "id": "view-in-github",
        "colab_type": "text"
      },
      "source": [
        "<a href=\"https://colab.research.google.com/github/jecampagne/JaxTutos/blob/main/JAX_JIT_in_class.ipynb\" target=\"_parent\"><img src=\"https://colab.research.google.com/assets/colab-badge.svg\" alt=\"Open In Colab\"/></a>"
      ]
    },
    {
      "cell_type": "code",
      "execution_count": 1,
      "metadata": {
        "id": "ieUbBxWOdMxq"
      },
      "outputs": [],
      "source": [
        "import numpy as np\n",
        "import scipy as sc\n",
        "\n",
        "\n",
        "import jax\n",
        "import jax.numpy as jnp\n",
        "import jax.scipy as jsc   \n",
        "\n",
        "from jax import grad, jit, vmap\n",
        "from jax import jacfwd, jacrev, hessian\n",
        "#from jax.ops import index, index_update\n",
        "jax.config.update(\"jax_enable_x64\", True)\n",
        "\n",
        "from functools import partial\n",
        "from typing import Union, Dict, Callable, Optional, Tuple, Any"
      ]
    },
    {
      "cell_type": "code",
      "source": [
        "jax.__version__"
      ],
      "metadata": {
        "colab": {
          "base_uri": "https://localhost:8080/",
          "height": 36
        },
        "id": "I5OJV3UUfSm0",
        "outputId": "e4d3ab14-7c40-42f5-99c5-3284ebc6dc6d"
      },
      "execution_count": 4,
      "outputs": [
        {
          "output_type": "execute_result",
          "data": {
            "text/plain": [
              "'0.4.4'"
            ],
            "application/vnd.google.colaboratory.intrinsic+json": {
              "type": "string"
            }
          },
          "metadata": {},
          "execution_count": 4
        }
      ]
    },
    {
      "cell_type": "code",
      "source": [
        "jax._src."
      ],
      "metadata": {
        "id": "eb-mCMblmjT8"
      },
      "execution_count": null,
      "outputs": []
    },
    {
      "cell_type": "markdown",
      "source": [],
      "metadata": {
        "id": "UkGbOTxUfR_I"
      }
    },
    {
      "cell_type": "code",
      "source": [
        "def u_print(idx:int, *args)->int:\n",
        "    print(f\"{idx}):\",*args)\n",
        "    idx +=1\n",
        "    return idx\n"
      ],
      "metadata": {
        "id": "wSf3EGXIewrV"
      },
      "execution_count": 5,
      "outputs": []
    },
    {
      "cell_type": "markdown",
      "source": [
        "# Topic: JIT and Class methods\n",
        "\n",
        "This notebook is a bit technical but deals with a real problem when one comes from the C++ world.\n",
        "\n",
        "it's an element of a JAX thread that I initiated and that becomes a part of the doc [see FAQ](https://jax.readthedocs.io/en/latest/faq.html#strategy-1-jit-compiled-helper-function)"
      ],
      "metadata": {
        "id": "l6OOn8bneA1v"
      }
    },
    {
      "cell_type": "code",
      "source": [
        "class A():\n",
        "    def __init__(self, a: float):\n",
        "        print(\"New A\")\n",
        "        self.a = a                   # a variable that will be \"static\" once the obj is created\n",
        "        self.b = None                # a variable (\"dynamic\")\n",
        "\n",
        "    def f(self, var: float) -> None:\n",
        "        self.b = self.a * var\n",
        "\n",
        "###### \n",
        "\n",
        "idp=0\n",
        "\n",
        "objA = A(2.0)\n",
        "idp = u_print(idp,objA.a, objA.b)\n",
        "objA.f(10.)\n",
        "idp = u_print(idp,objA.a, objA.b)\n",
        "objA.f(11.)\n",
        "idp = u_print(idp,objA.a, objA.b)\n",
        "\n",
        "\n",
        "objA = A(3.0)\n",
        "idp = u_print(idp,objA.a, objA.b)\n",
        "objA.f(20.)\n",
        "idp = u_print(idp,objA.a, objA.b)"
      ],
      "metadata": {
        "colab": {
          "base_uri": "https://localhost:8080/"
        },
        "id": "NrV88f8gdS3K",
        "outputId": "5a6deb9a-43aa-4481-e228-a1d081408947"
      },
      "execution_count": 9,
      "outputs": [
        {
          "output_type": "stream",
          "name": "stdout",
          "text": [
            "New A\n",
            "0): 2.0 None\n",
            "1): 2.0 20.0\n",
            "2): 2.0 22.0\n",
            "New A\n",
            "3): 3.0 None\n",
            "4): 3.0 60.0\n"
          ]
        }
      ]
    },
    {
      "cell_type": "markdown",
      "source": [
        "# And now use jit on f"
      ],
      "metadata": {
        "id": "7mEvPJ-Fo1-Q"
      }
    },
    {
      "cell_type": "code",
      "source": [
        "class A():\n",
        "    def __init__(self, a: float):\n",
        "        self.a = a                   # une variable qui ne changera pas (\"statique\")\n",
        "        self.b = None                # une variable qui sera déterminée utltérieuremnt (\"dynamique\")\n",
        "    @jit\n",
        "    def f(self, var: float) -> None:\n",
        "        self.b = self.a * var\n",
        "\n",
        "\n",
        "idp=0\n",
        "\n",
        "objA = A(2.0)\n",
        "idp = u_print(idp,objA.a, objA.b)\n",
        "objA.f(10.)\n"
      ],
      "metadata": {
        "colab": {
          "base_uri": "https://localhost:8080/",
          "height": 658
        },
        "id": "OTZ0gec4oVCw",
        "outputId": "9ab5eae2-2a14-4e19-b2b9-95cac0c3cb4e"
      },
      "execution_count": 10,
      "outputs": [
        {
          "output_type": "stream",
          "name": "stdout",
          "text": [
            "0): 2.0 None\n"
          ]
        },
        {
          "output_type": "error",
          "ename": "TypeError",
          "evalue": "ignored",
          "traceback": [
            "\u001b[0;31m---------------------------------------------------------------------------\u001b[0m",
            "\u001b[0;31mKeyError\u001b[0m                                  Traceback (most recent call last)",
            "\u001b[0;32m/usr/local/lib/python3.8/dist-packages/jax/_src/api_util.py\u001b[0m in \u001b[0;36mshaped_abstractify\u001b[0;34m(x)\u001b[0m\n\u001b[1;32m    555\u001b[0m   \u001b[0;32mtry\u001b[0m\u001b[0;34m:\u001b[0m\u001b[0;34m\u001b[0m\u001b[0;34m\u001b[0m\u001b[0m\n\u001b[0;32m--> 556\u001b[0;31m     \u001b[0;32mreturn\u001b[0m \u001b[0m_shaped_abstractify_handlers\u001b[0m\u001b[0;34m[\u001b[0m\u001b[0mtype\u001b[0m\u001b[0;34m(\u001b[0m\u001b[0mx\u001b[0m\u001b[0;34m)\u001b[0m\u001b[0;34m]\u001b[0m\u001b[0;34m(\u001b[0m\u001b[0mx\u001b[0m\u001b[0;34m)\u001b[0m\u001b[0;34m\u001b[0m\u001b[0;34m\u001b[0m\u001b[0m\n\u001b[0m\u001b[1;32m    557\u001b[0m   \u001b[0;32mexcept\u001b[0m \u001b[0mKeyError\u001b[0m\u001b[0;34m:\u001b[0m\u001b[0;34m\u001b[0m\u001b[0;34m\u001b[0m\u001b[0m\n",
            "\u001b[0;31mKeyError\u001b[0m: <class '__main__.A'>",
            "\nDuring handling of the above exception, another exception occurred:\n",
            "\u001b[0;31mUnfilteredStackTrace\u001b[0m                      Traceback (most recent call last)",
            "\u001b[0;32m<ipython-input-10-ec0746a8de3e>\u001b[0m in \u001b[0;36m<module>\u001b[0;34m\u001b[0m\n\u001b[1;32m     13\u001b[0m \u001b[0midp\u001b[0m \u001b[0;34m=\u001b[0m \u001b[0mu_print\u001b[0m\u001b[0;34m(\u001b[0m\u001b[0midp\u001b[0m\u001b[0;34m,\u001b[0m\u001b[0mobjA\u001b[0m\u001b[0;34m.\u001b[0m\u001b[0ma\u001b[0m\u001b[0;34m,\u001b[0m \u001b[0mobjA\u001b[0m\u001b[0;34m.\u001b[0m\u001b[0mb\u001b[0m\u001b[0;34m)\u001b[0m\u001b[0;34m\u001b[0m\u001b[0;34m\u001b[0m\u001b[0m\n\u001b[0;32m---> 14\u001b[0;31m \u001b[0mobjA\u001b[0m\u001b[0;34m.\u001b[0m\u001b[0mf\u001b[0m\u001b[0;34m(\u001b[0m\u001b[0;36m10.\u001b[0m\u001b[0;34m)\u001b[0m\u001b[0;34m\u001b[0m\u001b[0;34m\u001b[0m\u001b[0m\n\u001b[0m",
            "\u001b[0;32m/usr/local/lib/python3.8/dist-packages/jax/_src/traceback_util.py\u001b[0m in \u001b[0;36mreraise_with_filtered_traceback\u001b[0;34m(*args, **kwargs)\u001b[0m\n\u001b[1;32m    162\u001b[0m     \u001b[0;32mtry\u001b[0m\u001b[0;34m:\u001b[0m\u001b[0;34m\u001b[0m\u001b[0;34m\u001b[0m\u001b[0m\n\u001b[0;32m--> 163\u001b[0;31m       \u001b[0;32mreturn\u001b[0m \u001b[0mfun\u001b[0m\u001b[0;34m(\u001b[0m\u001b[0;34m*\u001b[0m\u001b[0margs\u001b[0m\u001b[0;34m,\u001b[0m \u001b[0;34m**\u001b[0m\u001b[0mkwargs\u001b[0m\u001b[0;34m)\u001b[0m\u001b[0;34m\u001b[0m\u001b[0;34m\u001b[0m\u001b[0m\n\u001b[0m\u001b[1;32m    164\u001b[0m     \u001b[0;32mexcept\u001b[0m \u001b[0mException\u001b[0m \u001b[0;32mas\u001b[0m \u001b[0me\u001b[0m\u001b[0;34m:\u001b[0m\u001b[0;34m\u001b[0m\u001b[0;34m\u001b[0m\u001b[0m\n",
            "\u001b[0;32m/usr/local/lib/python3.8/dist-packages/jax/_src/pjit.py\u001b[0m in \u001b[0;36mcache_miss\u001b[0;34m(*args, **kwargs)\u001b[0m\n\u001b[1;32m    236\u001b[0m   \u001b[0;32mdef\u001b[0m \u001b[0mcache_miss\u001b[0m\u001b[0;34m(\u001b[0m\u001b[0;34m*\u001b[0m\u001b[0margs\u001b[0m\u001b[0;34m,\u001b[0m \u001b[0;34m**\u001b[0m\u001b[0mkwargs\u001b[0m\u001b[0;34m)\u001b[0m\u001b[0;34m:\u001b[0m\u001b[0;34m\u001b[0m\u001b[0;34m\u001b[0m\u001b[0m\n\u001b[0;32m--> 237\u001b[0;31m     outs, out_flat, out_tree, args_flat = _python_pjit_helper(\n\u001b[0m\u001b[1;32m    238\u001b[0m         fun, infer_params_fn, *args, **kwargs)\n",
            "\u001b[0;32m/usr/local/lib/python3.8/dist-packages/jax/_src/pjit.py\u001b[0m in \u001b[0;36m_python_pjit_helper\u001b[0;34m(fun, infer_params_fn, *args, **kwargs)\u001b[0m\n\u001b[1;32m    179\u001b[0m \u001b[0;32mdef\u001b[0m \u001b[0m_python_pjit_helper\u001b[0m\u001b[0;34m(\u001b[0m\u001b[0mfun\u001b[0m\u001b[0;34m,\u001b[0m \u001b[0minfer_params_fn\u001b[0m\u001b[0;34m,\u001b[0m \u001b[0;34m*\u001b[0m\u001b[0margs\u001b[0m\u001b[0;34m,\u001b[0m \u001b[0;34m**\u001b[0m\u001b[0mkwargs\u001b[0m\u001b[0;34m)\u001b[0m\u001b[0;34m:\u001b[0m\u001b[0;34m\u001b[0m\u001b[0;34m\u001b[0m\u001b[0m\n\u001b[0;32m--> 180\u001b[0;31m   args_flat, _, params, in_tree, out_tree, _ = infer_params_fn(\n\u001b[0m\u001b[1;32m    181\u001b[0m       *args, **kwargs)\n",
            "\u001b[0;32m/usr/local/lib/python3.8/dist-packages/jax/_src/api.py\u001b[0m in \u001b[0;36minfer_params\u001b[0;34m(*args, **kwargs)\u001b[0m\n\u001b[1;32m    442\u001b[0m           inline=inline, resource_env=None)\n\u001b[0;32m--> 443\u001b[0;31m       \u001b[0;32mreturn\u001b[0m \u001b[0mpjit\u001b[0m\u001b[0;34m.\u001b[0m\u001b[0mcommon_infer_params\u001b[0m\u001b[0;34m(\u001b[0m\u001b[0mpjit_info_args\u001b[0m\u001b[0;34m,\u001b[0m \u001b[0;34m*\u001b[0m\u001b[0margs\u001b[0m\u001b[0;34m,\u001b[0m \u001b[0;34m**\u001b[0m\u001b[0mkwargs\u001b[0m\u001b[0;34m)\u001b[0m\u001b[0;34m\u001b[0m\u001b[0;34m\u001b[0m\u001b[0m\n\u001b[0m\u001b[1;32m    444\u001b[0m \u001b[0;34m\u001b[0m\u001b[0m\n",
            "\u001b[0;32m/usr/local/lib/python3.8/dist-packages/jax/_src/pjit.py\u001b[0m in \u001b[0;36mcommon_infer_params\u001b[0;34m(***failed resolving arguments***)\u001b[0m\n\u001b[1;32m    503\u001b[0m \u001b[0;34m\u001b[0m\u001b[0m\n\u001b[0;32m--> 504\u001b[0;31m   \u001b[0mlocal_in_avals\u001b[0m \u001b[0;34m=\u001b[0m \u001b[0mtuple\u001b[0m\u001b[0;34m(\u001b[0m\u001b[0mshaped_abstractify\u001b[0m\u001b[0;34m(\u001b[0m\u001b[0ma\u001b[0m\u001b[0;34m)\u001b[0m \u001b[0;32mfor\u001b[0m \u001b[0ma\u001b[0m \u001b[0;32min\u001b[0m \u001b[0margs_flat\u001b[0m\u001b[0;34m)\u001b[0m\u001b[0;34m\u001b[0m\u001b[0;34m\u001b[0m\u001b[0m\n\u001b[0m\u001b[1;32m    505\u001b[0m   \u001b[0;31m# TODO(yashkatariya): This is a hack. This should go away when avals have\u001b[0m\u001b[0;34m\u001b[0m\u001b[0;34m\u001b[0m\u001b[0;34m\u001b[0m\u001b[0m\n",
            "\u001b[0;32m/usr/local/lib/python3.8/dist-packages/jax/_src/pjit.py\u001b[0m in \u001b[0;36m<genexpr>\u001b[0;34m(.0)\u001b[0m\n\u001b[1;32m    503\u001b[0m \u001b[0;34m\u001b[0m\u001b[0m\n\u001b[0;32m--> 504\u001b[0;31m   \u001b[0mlocal_in_avals\u001b[0m \u001b[0;34m=\u001b[0m \u001b[0mtuple\u001b[0m\u001b[0;34m(\u001b[0m\u001b[0mshaped_abstractify\u001b[0m\u001b[0;34m(\u001b[0m\u001b[0ma\u001b[0m\u001b[0;34m)\u001b[0m \u001b[0;32mfor\u001b[0m \u001b[0ma\u001b[0m \u001b[0;32min\u001b[0m \u001b[0margs_flat\u001b[0m\u001b[0;34m)\u001b[0m\u001b[0;34m\u001b[0m\u001b[0;34m\u001b[0m\u001b[0m\n\u001b[0m\u001b[1;32m    505\u001b[0m   \u001b[0;31m# TODO(yashkatariya): This is a hack. This should go away when avals have\u001b[0m\u001b[0;34m\u001b[0m\u001b[0;34m\u001b[0m\u001b[0;34m\u001b[0m\u001b[0m\n",
            "\u001b[0;32m/usr/local/lib/python3.8/dist-packages/jax/_src/api_util.py\u001b[0m in \u001b[0;36mshaped_abstractify\u001b[0;34m(x)\u001b[0m\n\u001b[1;32m    557\u001b[0m   \u001b[0;32mexcept\u001b[0m \u001b[0mKeyError\u001b[0m\u001b[0;34m:\u001b[0m\u001b[0;34m\u001b[0m\u001b[0;34m\u001b[0m\u001b[0m\n\u001b[0;32m--> 558\u001b[0;31m     \u001b[0;32mreturn\u001b[0m \u001b[0m_shaped_abstractify_slow\u001b[0m\u001b[0;34m(\u001b[0m\u001b[0mx\u001b[0m\u001b[0;34m)\u001b[0m\u001b[0;34m\u001b[0m\u001b[0;34m\u001b[0m\u001b[0m\n\u001b[0m\u001b[1;32m    559\u001b[0m \u001b[0m_shaped_abstractify_handlers\u001b[0m\u001b[0;34m:\u001b[0m \u001b[0mDict\u001b[0m\u001b[0;34m[\u001b[0m\u001b[0mAny\u001b[0m\u001b[0;34m,\u001b[0m \u001b[0mCallable\u001b[0m\u001b[0;34m[\u001b[0m\u001b[0;34m[\u001b[0m\u001b[0mAny\u001b[0m\u001b[0;34m]\u001b[0m\u001b[0;34m,\u001b[0m \u001b[0mcore\u001b[0m\u001b[0;34m.\u001b[0m\u001b[0mShapedArray\u001b[0m\u001b[0;34m]\u001b[0m\u001b[0;34m]\u001b[0m \u001b[0;34m=\u001b[0m \u001b[0;34m{\u001b[0m\u001b[0;34m}\u001b[0m\u001b[0;34m\u001b[0m\u001b[0;34m\u001b[0m\u001b[0m\n",
            "\u001b[0;32m/usr/local/lib/python3.8/dist-packages/jax/_src/api_util.py\u001b[0m in \u001b[0;36m_shaped_abstractify_slow\u001b[0;34m(x)\u001b[0m\n\u001b[1;32m    546\u001b[0m   \u001b[0;32melse\u001b[0m\u001b[0;34m:\u001b[0m\u001b[0;34m\u001b[0m\u001b[0;34m\u001b[0m\u001b[0m\n\u001b[0;32m--> 547\u001b[0;31m     raise TypeError(\n\u001b[0m\u001b[1;32m    548\u001b[0m         \u001b[0;34mf\"Cannot interpret value of type {type(x)} as an abstract array; it \"\u001b[0m\u001b[0;34m\u001b[0m\u001b[0;34m\u001b[0m\u001b[0m\n",
            "\u001b[0;31mUnfilteredStackTrace\u001b[0m: TypeError: Cannot interpret value of type <class '__main__.A'> as an abstract array; it does not have a dtype attribute\n\nThe stack trace below excludes JAX-internal frames.\nThe preceding is the original exception that occurred, unmodified.\n\n--------------------",
            "\nThe above exception was the direct cause of the following exception:\n",
            "\u001b[0;31mTypeError\u001b[0m                                 Traceback (most recent call last)",
            "\u001b[0;32m<ipython-input-10-ec0746a8de3e>\u001b[0m in \u001b[0;36m<module>\u001b[0;34m\u001b[0m\n\u001b[1;32m     12\u001b[0m \u001b[0mobjA\u001b[0m \u001b[0;34m=\u001b[0m \u001b[0mA\u001b[0m\u001b[0;34m(\u001b[0m\u001b[0;36m2.0\u001b[0m\u001b[0;34m)\u001b[0m\u001b[0;34m\u001b[0m\u001b[0;34m\u001b[0m\u001b[0m\n\u001b[1;32m     13\u001b[0m \u001b[0midp\u001b[0m \u001b[0;34m=\u001b[0m \u001b[0mu_print\u001b[0m\u001b[0;34m(\u001b[0m\u001b[0midp\u001b[0m\u001b[0;34m,\u001b[0m\u001b[0mobjA\u001b[0m\u001b[0;34m.\u001b[0m\u001b[0ma\u001b[0m\u001b[0;34m,\u001b[0m \u001b[0mobjA\u001b[0m\u001b[0;34m.\u001b[0m\u001b[0mb\u001b[0m\u001b[0;34m)\u001b[0m\u001b[0;34m\u001b[0m\u001b[0;34m\u001b[0m\u001b[0m\n\u001b[0;32m---> 14\u001b[0;31m \u001b[0mobjA\u001b[0m\u001b[0;34m.\u001b[0m\u001b[0mf\u001b[0m\u001b[0;34m(\u001b[0m\u001b[0;36m10.\u001b[0m\u001b[0;34m)\u001b[0m\u001b[0;34m\u001b[0m\u001b[0;34m\u001b[0m\u001b[0m\n\u001b[0m",
            "\u001b[0;31mTypeError\u001b[0m: Cannot interpret value of type <class '__main__.A'> as an abstract array; it does not have a dtype attribute"
          ]
        }
      ]
    },
    {
      "cell_type": "markdown",
      "source": [
        "The problem is that the first argument of the function is `self`, which has the type `A`and JAX does not know what it is.\n",
        "\n",
        "There are different basic strategies we can use in this case, and we will discuss them below."
      ],
      "metadata": {
        "id": "AnJM_GmTpP85"
      }
    },
    {
      "cell_type": "markdown",
      "source": [
        "# 1st strategy: external function ('helper')"
      ],
      "metadata": {
        "id": "4PHx5v9Lpo3C"
      }
    },
    {
      "cell_type": "markdown",
      "source": [
        "## small aside...\n",
        "\"in Python, type annotations are purely decorative and don't affect runtime values in normal code\""
      ],
      "metadata": {
        "id": "v1mgJF99p9Dt"
      }
    },
    {
      "cell_type": "code",
      "source": [
        "print(1.0*jnp.array([10.]))\n",
        "def test(v: jnp.array)->jnp.array:\n",
        "    return 1.0*v\n",
        "print(test(jnp.array([10.])))\n",
        "print(test(10.))"
      ],
      "metadata": {
        "colab": {
          "base_uri": "https://localhost:8080/"
        },
        "id": "XveVR44wpD9W",
        "outputId": "0c98f5d8-f752-4433-8a2b-c95a7d850f26"
      },
      "execution_count": 13,
      "outputs": [
        {
          "output_type": "stream",
          "name": "stdout",
          "text": [
            "[10.]\n",
            "[10.]\n",
            "10.0\n"
          ]
        }
      ]
    },
    {
      "cell_type": "code",
      "source": [
        "@jit\n",
        "def f(v):\n",
        "    return 1.0 * v\n",
        "print(repr(f(10.0)), type(f(10.0)))  # implicit conversion d'un float en JAX device array (a-la-jnp.array)\n"
      ],
      "metadata": {
        "colab": {
          "base_uri": "https://localhost:8080/"
        },
        "id": "y5Tjnpn_qDrm",
        "outputId": "0ca8f467-6d7f-4482-e11b-dbec5dfbb7ce"
      },
      "execution_count": 15,
      "outputs": [
        {
          "output_type": "stream",
          "name": "stdout",
          "text": [
            "Array(10., dtype=float64, weak_type=True) <class 'jaxlib.xla_extension.Array'>\n"
          ]
        }
      ]
    },
    {
      "cell_type": "code",
      "source": [
        "class A():\n",
        "    def __init__(self, a):\n",
        "        print(\"new A\")\n",
        "        self.a = a   \n",
        "        self.b = None \n",
        "   \n",
        "    def f(self, var):\n",
        "        self.b = _f(self.a,var)\n",
        "\n",
        "@jit\n",
        "def _f(a:float, var):\n",
        "    print(\"compile...\")\n",
        "    res = a* var\n",
        "    return res\n",
        "\n",
        "\n",
        "\n",
        "idp=0\n",
        "\n",
        "print(\"New Obj A (1)\")\n",
        "objA = A(2.0)\n",
        "idp = u_print(idp, objA.a, objA.b)\n",
        "objA.f(10.)\n",
        "idp = u_print(idp, objA.a, objA.b)\n",
        "objA.f(11.)\n",
        "idp = u_print(idp, objA.a, objA.b)\n",
        "\n",
        "\n",
        "print(\"New Obj A (2)\")\n",
        "objA = A(3.0)\n",
        "idp = u_print(idp, objA.a, objA.b)\n",
        "objA.f(20.)\n",
        "idp = u_print(idp, objA.a, objA.b)\n",
        "objA.f(21.)\n",
        "idp = u_print(idp, objA.a, objA.b)\n",
        "\n",
        "\n",
        "print(\"New Obj A (3)\")\n",
        "objA = A(4.0)\n",
        "idp = u_print(idp, objA.a, objA.b)\n",
        "objA.f(20.)\n",
        "idp = u_print(idp, objA.a, objA.b)\n",
        "\n",
        "print(\"f is called with an array not a float => compile\")\n",
        "objA.f(jnp.array([20.]))\n",
        "idp = u_print(idp, objA.a, objA.b)\n",
        "\n",
        "objA.f(jnp.array([21.]))\n",
        "idp = u_print(idp, objA.a, objA.b)\n",
        "\n",
        "objA.f(21.)\n",
        "idp = u_print(idp, objA.a, objA.b)\n",
        "\n",
        "print(\"change internal objA.a\")\n",
        "\n",
        "objA.a = 400.  # change\n",
        "objA.f(21.)\n",
        "idp = u_print(idp, objA.a, objA.b)\n"
      ],
      "metadata": {
        "colab": {
          "base_uri": "https://localhost:8080/"
        },
        "id": "XeYg2G1MqYcx",
        "outputId": "f4292745-53f3-41e1-b2f5-1173176d82b4"
      },
      "execution_count": 20,
      "outputs": [
        {
          "output_type": "stream",
          "name": "stdout",
          "text": [
            "New Obj A (1)\n",
            "new A\n",
            "0): 2.0 None\n",
            "compile...\n",
            "1): 2.0 20.0\n",
            "2): 2.0 22.0\n",
            "New Obj A (2)\n",
            "new A\n",
            "3): 3.0 None\n",
            "4): 3.0 60.0\n",
            "5): 3.0 63.0\n",
            "New Obj A (3)\n",
            "new A\n",
            "6): 4.0 None\n",
            "7): 4.0 80.0\n",
            "f is called with an array not a float => compile\n",
            "compile...\n",
            "8): 4.0 [80.]\n",
            "9): 4.0 [84.]\n",
            "10): 4.0 84.0\n",
            "change internal objA.a\n",
            "11): 400.0 8400.0\n"
          ]
        }
      ]
    },
    {
      "cell_type": "markdown",
      "source": [
        "## Review of the helper method\n",
        "\n",
        "- This is a simple method\n",
        "implementation, and we don't have to instruct JAX how to use the A class.\n",
        "\n",
        "- Now it becomes a matter of taste to code a helper per function to use jit. But we can do file encapsulation so that at least the code of \"A\" is in the code of the definition of \"A\".\n",
        "\n",
        "- Pb: what if the function f needs for example another function (either member of A, or external to A)?"
      ],
      "metadata": {
        "id": "0mMrL3MdsuAj"
      }
    },
    {
      "cell_type": "markdown",
      "source": [
        "# 2nd strategy: self as static\n",
        "\n",
        "\n",
        "it is a classic procedure that is often proposed"
      ],
      "metadata": {
        "id": "6qkJjt-JtSXg"
      }
    },
    {
      "cell_type": "code",
      "source": [
        "class A():\n",
        "    def __init__(self, a: float):\n",
        "        print(\"new A\")\n",
        "        self.a = a\n",
        "        self.b = None\n",
        "    \n",
        "    @partial(jit, static_argnums=(0,))   # \"self\" is static    \n",
        "    def f(self, var: float) -> None:\n",
        "        print(\"compile...\")\n",
        "        self.b = self.a * var  #<- this is the culpit of the later crash on \"g\"\n",
        "\n",
        "    def g(self):\n",
        "        print(\"g...:\",self.b)\n",
        "        return self.b*self.b\n",
        "\n",
        "idp=0\n",
        "\n",
        "objA = A(2.0)\n",
        "idp = u_print(idp, objA.a, objA.b)\n",
        "objA.f(10.)\n",
        "idp = u_print(idp, objA.a, objA.b)\n",
        "res = objA.g()   # will case a crash but this is not the culpit \n",
        "print(res)\n"
      ],
      "metadata": {
        "colab": {
          "base_uri": "https://localhost:8080/"
        },
        "id": "wz3kq-Oqq5NF",
        "outputId": "6ee4fd9f-e6d8-4c4e-e5d1-34689db03e92"
      },
      "execution_count": 24,
      "outputs": [
        {
          "output_type": "stream",
          "name": "stdout",
          "text": [
            "new A\n",
            "0): 2.0 None\n",
            "compile...\n",
            "1): 2.0 1.0\n",
            "g...: 1.0\n",
            "1.0\n"
          ]
        }
      ]
    },
    {
      "cell_type": "markdown",
      "source": [
        "The code crash and seems to point the `g` function BUT in fact the problem comes from the jitted `f` function with self as static: it uses Traced<ShapedArray> to analyze the code, and propagate...\n",
        "\n",
        "Do not use `self.var =` in a jitted function with self as static."
      ],
      "metadata": {
        "id": "JojVQYrounlb"
      }
    },
    {
      "cell_type": "code",
      "source": [
        "class A():\n",
        "    def __init__(self, a):\n",
        "        print(\"Nouveau A\")\n",
        "        self.a = a               \n",
        "        self.b = None            \n",
        "\n",
        "    def set_a(self,x):\n",
        "        self.a = x \n",
        "        print(\"new a:\",self.a)\n",
        "        \n",
        "    def set_b(self,x):                  # (*) call from extern\n",
        "        self.b = x\n",
        "    \n",
        "    @partial(jit, static_argnums=(0,))   #  \"self\" is static\n",
        "    def f(self, var):\n",
        "        print(\"compile...\")\n",
        "        return self.a * var             # see (*)\n",
        "\n",
        "    def g(self):\n",
        "        print(\"g...:\",self.b)\n",
        "        return self.b*self.b\n",
        "\n",
        "\n",
        "idp=0\n",
        "\n",
        "objA = A(2.0)\n",
        "idp = u_print(idp, objA.a, objA.b)\n",
        "b  = objA.f(10.)\n",
        "objA.set_b(b)      #<----------------------\n",
        "idp = u_print(idp, objA.a, objA.b)\n",
        "res = objA.g() \n",
        "print(res)\n"
      ],
      "metadata": {
        "colab": {
          "base_uri": "https://localhost:8080/"
        },
        "id": "iaHLhqw_tm4a",
        "outputId": "077d4b5b-aff4-45da-e377-22831c99b4dd"
      },
      "execution_count": 26,
      "outputs": [
        {
          "output_type": "stream",
          "name": "stdout",
          "text": [
            "Nouveau A\n",
            "0): 2.0 None\n",
            "compile...\n",
            "1): 2.0 20.0\n",
            "g...: 20.0\n",
            "400.0\n"
          ]
        }
      ]
    },
    {
      "cell_type": "markdown",
      "source": [
        "## We have to be careful:\n",
        "- the \"static\" character of \"a\" is a by-product of the analysis of the code by JIT, but this is done silently and without warning and therefore, this can mislead the user\n",
        "\n",
        "What is behind? The problem is that ``tatic_argnums` relies on the hash method of the object to determine if it has changed between two calls, and the\n",
        "method `__hash__` for a user-defined class does not take into account the class attributes.\n",
        "\n",
        "This means that on the second function call, JAX has no way of knowing that the class attributes have changed and uses the static value cached during the previous compilation.\n",
        "\n",
        "For this reason, if you mark personal arguments as static, it is important that you define an appropriate `__hash__` method for your class. For example:"
      ],
      "metadata": {
        "id": "gvxqeOOixCdk"
      }
    },
    {
      "cell_type": "code",
      "source": [
        "class A():\n",
        "    def __init__(self, a):\n",
        "        print(\"new A\")\n",
        "        self.a = a\n",
        "        self.b = None\n",
        "        \n",
        "    def set_a(self,x):\n",
        "        self.a = x \n",
        "        print(\"new a:\",self.a)\n",
        "\n",
        "        \n",
        "    def set_b(self,x):\n",
        "        self.b = x\n",
        "    \n",
        "    @partial(jit, static_argnums=0)   #\"self\" is static\n",
        "    def f(self, var):\n",
        "        print(\"compile...\")\n",
        "        return self.a * var\n",
        "    \n",
        "    # specific hash metho\n",
        "    def __hash__(self):\n",
        "        return hash((self.a,self.b))\n",
        "\n",
        "    def __eq__(self, other):   # you need it also\n",
        "        return (isinstance(other, A) and\n",
        "            (self.a, self.b) == (other.a, other.b))\n",
        "    \n"
      ],
      "metadata": {
        "id": "CoCmcYuVw3hL"
      },
      "execution_count": 29,
      "outputs": []
    },
    {
      "cell_type": "markdown",
      "source": [
        "But this is not the end...."
      ],
      "metadata": {
        "id": "qXA4m4EQz03c"
      }
    },
    {
      "cell_type": "code",
      "source": [
        "idp=0\n",
        "\n",
        "objA = A(2.0)\n",
        "idp = u_print(idp, objA.a, objA.b)\n",
        "\n",
        "b = objA.f(10.)         #  quel est le type de 'b' ??? (*)\n",
        "print(\"b:\", b, type(b))\n",
        "objA.set_b(b)\n",
        "idp = u_print(idp, objA.a, objA.b)\n",
        "\n",
        "objA.f(11.)"
      ],
      "metadata": {
        "colab": {
          "base_uri": "https://localhost:8080/",
          "height": 948
        },
        "id": "DHM--OfjzkK5",
        "outputId": "e0ab0f5b-fa03-44ca-9b16-461ee31659ac"
      },
      "execution_count": 30,
      "outputs": [
        {
          "output_type": "stream",
          "name": "stdout",
          "text": [
            "new A\n",
            "0): 2.0 None\n",
            "compile...\n",
            "b: 20.0 <class 'jaxlib.xla_extension.Array'>\n",
            "1): 2.0 20.0\n"
          ]
        },
        {
          "output_type": "error",
          "ename": "ValueError",
          "evalue": "ignored",
          "traceback": [
            "\u001b[0;31m---------------------------------------------------------------------------\u001b[0m",
            "\u001b[0;31mValueError\u001b[0m                                Traceback (most recent call last)",
            "\u001b[0;32m<ipython-input-30-7167151e40c4>\u001b[0m in \u001b[0;36m<module>\u001b[0;34m\u001b[0m\n\u001b[1;32m      9\u001b[0m \u001b[0midp\u001b[0m \u001b[0;34m=\u001b[0m \u001b[0mu_print\u001b[0m\u001b[0;34m(\u001b[0m\u001b[0midp\u001b[0m\u001b[0;34m,\u001b[0m \u001b[0mobjA\u001b[0m\u001b[0;34m.\u001b[0m\u001b[0ma\u001b[0m\u001b[0;34m,\u001b[0m \u001b[0mobjA\u001b[0m\u001b[0;34m.\u001b[0m\u001b[0mb\u001b[0m\u001b[0;34m)\u001b[0m\u001b[0;34m\u001b[0m\u001b[0;34m\u001b[0m\u001b[0m\n\u001b[1;32m     10\u001b[0m \u001b[0;34m\u001b[0m\u001b[0m\n\u001b[0;32m---> 11\u001b[0;31m \u001b[0mobjA\u001b[0m\u001b[0;34m.\u001b[0m\u001b[0mf\u001b[0m\u001b[0;34m(\u001b[0m\u001b[0;36m11.\u001b[0m\u001b[0;34m)\u001b[0m\u001b[0;34m\u001b[0m\u001b[0;34m\u001b[0m\u001b[0m\n\u001b[0m",
            "\u001b[0;31mValueError\u001b[0m: Non-hashable static arguments are not supported. An error occurred during a call to 'f' while trying to hash an object of type <class '__main__.A'>, <__main__.A object at 0x7f87d831da30>. The error was:\nTypeError: unhashable type: 'Array'\n\nAt:\n  <ipython-input-29-7e9f3e1bd40e>(22): __hash__\n  <ipython-input-30-7167151e40c4>(11): <module>\n  /usr/local/lib/python3.8/dist-packages/IPython/core/interactiveshell.py(3326): run_code\n  /usr/local/lib/python3.8/dist-packages/IPython/core/interactiveshell.py(3249): run_ast_nodes\n  /usr/local/lib/python3.8/dist-packages/IPython/core/interactiveshell.py(3057): run_cell_async\n  /usr/local/lib/python3.8/dist-packages/IPython/core/async_helpers.py(68): _pseudo_sync_runner\n  /usr/local/lib/python3.8/dist-packages/IPython/core/interactiveshell.py(2881): _run_cell\n  /usr/local/lib/python3.8/dist-packages/IPython/core/interactiveshell.py(2854): run_cell\n  /usr/local/lib/python3.8/dist-packages/ipykernel/zmqshell.py(536): run_cell\n  /usr/local/lib/python3.8/dist-packages/ipykernel/ipkernel.py(306): do_execute\n  /usr/local/lib/python3.8/dist-packages/tornado/gen.py(234): wrapper\n  /usr/local/lib/python3.8/dist-packages/ipykernel/kernelbase.py(543): execute_request\n  /usr/local/lib/python3.8/dist-packages/tornado/gen.py(234): wrapper\n  /usr/local/lib/python3.8/dist-packages/ipykernel/kernelbase.py(268): dispatch_shell\n  /usr/local/lib/python3.8/dist-packages/tornado/gen.py(234): wrapper\n  /usr/local/lib/python3.8/dist-packages/ipykernel/kernelbase.py(365): process_one\n  /usr/local/lib/python3.8/dist-packages/tornado/gen.py(782): run\n  /usr/local/lib/python3.8/dist-packages/tornado/gen.py(821): inner\n  /usr/local/lib/python3.8/dist-packages/tornado/ioloop.py(740): _run_callback\n  /usr/local/lib/python3.8/dist-packages/tornado/ioloop.py(687): <lambda>\n  /usr/lib/python3.8/asyncio/events.py(81): _run\n  /usr/lib/python3.8/asyncio/base_events.py(1859): _run_once\n  /usr/lib/python3.8/asyncio/base_events.py(570): run_forever\n  /usr/local/lib/python3.8/dist-packages/tornado/platform/asyncio.py(215): start\n  /usr/local/lib/python3.8/dist-packages/ipykernel/kernelapp.py(612): start\n  /usr/local/lib/python3.8/dist-packages/traitlets/config/application.py(992): launch_instance\n  /usr/local/lib/python3.8/dist-packages/ipykernel_launcher.py(16): <module>\n  /usr/lib/python3.8/runpy.py(87): _run_code\n  /usr/lib/python3.8/runpy.py(194): _run_module_as_main\n\n"
          ]
        }
      ]
    },
    {
      "cell_type": "markdown",
      "source": [
        "the problem comes from the fact that after compilation `b` becomes a `DeviceArray` which is unhastable so it's stuck because then self can't be hashtable too !!!"
      ],
      "metadata": {
        "id": "BAeHhF6K0FDe"
      }
    },
    {
      "cell_type": "code",
      "source": [
        "class A():\n",
        "    def __init__(self, a):\n",
        "        print(\"Nouveau A\")\n",
        "        self.a = a\n",
        "        self.b = None\n",
        "\n",
        "    def set_a(self,x):\n",
        "        self.a = x \n",
        "        print(\"new a:\",self.a)\n",
        "\n",
        "    def set_b(self,x):\n",
        "        self.b = x\n",
        "    \n",
        "    @partial(jit, static_argnums=0)\n",
        "    def f(self, var):\n",
        "        print(\"compile...\")\n",
        "        return self.a * var\n",
        "    \n",
        "    def __hash__(self):\n",
        "        return hash((self.a))                 # do not put \"b\"\n",
        "\n",
        "    def __eq__(self, other):\n",
        "        return (isinstance(other, A) and\n",
        "            (self.a) == (other.a))             # do not put \"b\"\n"
      ],
      "metadata": {
        "id": "ekWiOl--z41k"
      },
      "execution_count": 31,
      "outputs": []
    },
    {
      "cell_type": "code",
      "source": [
        "idp=0\n",
        "\n",
        "objA = A(2.0)\n",
        "idp = u_print(idp, objA.a, objA.b)\n",
        "\n",
        "b = objA.f(10.)         #  quel est le type de 'b' ??? (*)\n",
        "print(\"b:\", b, type(b))\n",
        "objA.set_b(b)\n",
        "idp = u_print(idp, objA.a, objA.b)\n",
        "\n",
        "objA.set_b(objA.f(11.))\n",
        "idp = u_print(idp, objA.a, objA.b)\n",
        "\n",
        "\n",
        "objA = A(3.0)\n",
        "idp = u_print(idp, objA.a, objA.b)\n",
        "objA.set_b(objA.f(20.))\n",
        "idp = u_print(idp, objA.a, objA.b)"
      ],
      "metadata": {
        "colab": {
          "base_uri": "https://localhost:8080/"
        },
        "id": "pqckfEKQ0ZJY",
        "outputId": "5b7c1cea-7284-489c-e082-38b209920c5e"
      },
      "execution_count": 32,
      "outputs": [
        {
          "output_type": "stream",
          "name": "stdout",
          "text": [
            "Nouveau A\n",
            "0): 2.0 None\n",
            "compile...\n",
            "b: 20.0 <class 'jaxlib.xla_extension.Array'>\n",
            "1): 2.0 20.0\n",
            "2): 2.0 22.0\n",
            "Nouveau A\n",
            "3): 3.0 None\n",
            "compile...\n",
            "4): 3.0 60.0\n"
          ]
        }
      ]
    },
    {
      "cell_type": "code",
      "source": [
        "objA.set_a(40.)\n",
        "objA.set_b(objA.f(11.))\n",
        "idp = u_print(idp, objA.a, objA.b)   # 40.*11. = 440\n"
      ],
      "metadata": {
        "colab": {
          "base_uri": "https://localhost:8080/"
        },
        "id": "nHTbHn3b0nDL",
        "outputId": "9e447a92-d0f8-4ce7-c8fe-f9cedcc3ffc5"
      },
      "execution_count": 34,
      "outputs": [
        {
          "output_type": "stream",
          "name": "stdout",
          "text": [
            "new a: 40.0\n",
            "compile...\n",
            "6): 40.0 440.0\n"
          ]
        }
      ]
    },
    {
      "cell_type": "markdown",
      "source": [
        "## Review self as static:\n",
        "\n",
        "- We have to carefully define `__hass__`  and `__eq__` (see Python [doc](https://docs.python.org/3/reference/datamodel.html#object.__hash__)) but DeviceArray are non-hashtable\n",
        "\n",
        "- `a` can be redefined voluntarily (with/without setter), the result of `b` is well updated\n",
        "\n",
        "- So can be done but with care and there is a simpler solution\n"
      ],
      "metadata": {
        "id": "LDNbI22W001r"
      }
    },
    {
      "cell_type": "markdown",
      "source": [
        "# 3d strategy: PyTree"
      ],
      "metadata": {
        "id": "Dj-Nxvuk1ync"
      }
    },
    {
      "cell_type": "code",
      "source": [
        "class A():\n",
        "    def __init__(self, a, b=None):   # new signature\n",
        "        #print(\"Nouveau A\")\n",
        "        self.a = a\n",
        "        self.b = b\n",
        "\n",
        "        \n",
        "    def set_a(self,x):\n",
        "        self.a = x \n",
        "        print(\"new a:\",self.a)\n",
        "\n",
        "    def set_b(self, b):\n",
        "        self.b = b\n",
        "        \n",
        "    @jit                              # <------ self, no more static    !                \n",
        "    def f(self, var):\n",
        "        print(\"compile...\")\n",
        "        return self.a * var\n",
        "\n",
        "    def g(self):\n",
        "      return self.b * self.b\n",
        "\n",
        "    #### PyTree methods....\n",
        "    def tree_flatten(self):\n",
        "        children = (self.b,)         # dynamic values\n",
        "        aux_data = {'a': self.a}     # static values\n",
        "        return (children, aux_data)\n",
        "\n",
        "    @classmethod                     \n",
        "    def tree_unflatten(cls, aux_data, children):\n",
        "        b = children\n",
        "        a = aux_data['a']\n",
        "        return cls(a=a, b=b ) # should be the signature of __init__\n",
        "\n",
        "# register explicit Or decorator\n",
        "from jax import tree_util\n",
        "tree_util.register_pytree_node(A,\n",
        "                               A.tree_flatten,\n",
        "                               A.tree_unflatten) "
      ],
      "metadata": {
        "id": "IjIsNeyM0b94"
      },
      "execution_count": 70,
      "outputs": []
    },
    {
      "cell_type": "code",
      "source": [
        "idp=0\n",
        "\n",
        "objA = A(2.0)\n",
        "idp = u_print(idp, objA.a, objA.b)\n",
        "\n",
        "b = objA.f(10.)         #  quel est le type de 'b' ??? (*)\n",
        "print(\"b:\", b, type(b))\n",
        "objA.set_b(b)\n",
        "idp = u_print(idp, objA.a, objA.b)\n",
        "\n",
        "objA.set_b(objA.f(11.))\n",
        "idp = u_print(idp, objA.a, objA.b)\n",
        "\n",
        "\n",
        "objA = A(3.0) \n",
        "idp = u_print(idp, objA.a, objA.b)\n",
        "objA.set_b(objA.f(20.))\n",
        "idp = u_print(idp, objA.a, objA.b)\n",
        "objA.set_b(objA.f(30.))\n",
        "idp = u_print(idp, objA.a, objA.b)\n",
        "\n",
        "\n",
        "objA.set_a(30.) \n",
        "objA.set_b(objA.f(30.))\n",
        "idp = u_print(idp, objA.a, objA.b)\n",
        "\n",
        "\n",
        "\n",
        "objA = A(3.0) \n",
        "idp = u_print(idp, objA.a, objA.b)\n",
        "\n",
        "objA.set_b(objA.f(20.))\n",
        "idp = u_print(idp, objA.a, objA.b)\n",
        "\n",
        "objA.set_b(objA.f(30.))\n",
        "idp = u_print(idp, objA.a, objA.b)\n",
        "\n",
        "print(\">>>> try an array for var\")\n",
        "\n",
        "objA.set_b(objA.f(jnp.array([30.])))\n",
        "idp = u_print(idp, objA.a, objA.b)\n",
        "\n",
        "objA.set_b(objA.f(jnp.array([40.])))\n",
        "idp = u_print(idp, objA.a, objA.b)\n",
        "\n",
        "print(\"g: \", objA.g())"
      ],
      "metadata": {
        "colab": {
          "base_uri": "https://localhost:8080/"
        },
        "id": "ILNoH3042Gkm",
        "outputId": "22d2765c-8860-41a5-e50d-1e9e02d7fe94"
      },
      "execution_count": 71,
      "outputs": [
        {
          "output_type": "stream",
          "name": "stdout",
          "text": [
            "0): 2.0 None\n",
            "compile...\n",
            "b: 20.0 <class 'jaxlib.xla_extension.Array'>\n",
            "1): 2.0 20.0\n",
            "compile...\n",
            "2): 2.0 22.0\n",
            "3): 3.0 None\n",
            "compile...\n",
            "4): 3.0 60.0\n",
            "compile...\n",
            "5): 3.0 90.0\n",
            "new a: 30.0\n",
            "compile...\n",
            "6): 30.0 900.0\n",
            "7): 3.0 None\n",
            "8): 3.0 60.0\n",
            "9): 3.0 90.0\n",
            ">>>> try an array for var\n",
            "compile...\n",
            "10): 3.0 [90.]\n",
            "compile...\n",
            "11): 3.0 [120.]\n",
            "g:  [14400.]\n"
          ]
        }
      ]
    },
    {
      "cell_type": "markdown",
      "source": [
        "## A possible variation"
      ],
      "metadata": {
        "id": "wWbd0Zeg2lwS"
      }
    },
    {
      "cell_type": "code",
      "source": [
        "class A():\n",
        "    def __init__(self, a, b=None):\n",
        "        self.a = a\n",
        "        self.b = b\n",
        "\n",
        "    @jit                                       \n",
        "    def f(self, var):\n",
        "        print(\"compile...\")\n",
        "        new_b = self.a * var\n",
        "        return A(self.a, new_b)       # <--------- new objet.\n",
        "\n",
        "\n",
        "# registration with  lambda functions    \n",
        "tree_util.register_pytree_node(A,\n",
        "                               lambda x: ((x.a,x.b), None),\n",
        "                               lambda _, x: A(a=x[0],b=x[1]) \n",
        "                              )"
      ],
      "metadata": {
        "id": "8J4MwGRl2KqP"
      },
      "execution_count": 69,
      "outputs": []
    },
    {
      "cell_type": "code",
      "source": [
        "idp=0\n",
        "\n",
        "objA = A(2.0)\n",
        "idp = u_print(idp, objA.a, objA.b)    #0\n",
        "\n",
        "objA = objA.f(10.)\n",
        "idp = u_print(idp,objA.a, objA.b)     #1\n",
        "\n",
        "objA = objA.f(11.)\n",
        "idp = u_print(idp, objA.a, objA.b)    #2\n",
        "\n",
        "####\n",
        "\n",
        "objA = A(3.0) \n",
        "idp = u_print(idp, objA.a, objA.b)     #3\n",
        "objA = objA.f(20.)\n",
        "idp = u_print(idp, objA.a, objA.b)     #4\n",
        "objA= objA.f(30.)\n",
        "idp = u_print(idp, objA.a, objA.b)     #5\n",
        "\n",
        "\n",
        "objA.a = 30.  # change \n",
        "objA= objA.f(30.)\n",
        "idp = u_print(idp, objA.a, objA.b)     #6\n",
        "\n",
        "####\n",
        "\n",
        "objA = A(3.0) \n",
        "idp = u_print(idp, objA.a, objA.b)     #7\n",
        "\n",
        "objA= objA.f(20.)\n",
        "idp = u_print(idp, objA.a, objA.b)     #8\n",
        "\n",
        "objA= objA.f(30.)\n",
        "idp = u_print(idp, objA.a, objA.b)     #9\n",
        "\n",
        "print(\">>>> try an array for var\")\n",
        "\n",
        "objA= objA.f(jnp.array([30.]))\n",
        "idp = u_print(idp, objA.a, objA.b)     #10\n",
        "\n",
        "objA= objA.f(jnp.array([40.]))\n",
        "idp = u_print(idp, objA.a, objA.b)     #11\n",
        "\n",
        "objA= objA.f(jnp.array([50.]))         \n",
        "idp = u_print(idp, objA.a, objA.b)     #12\n",
        "\n",
        "\n",
        "objA.a = 40. ### new change\n",
        "objA= objA.f(jnp.array([50.]))\n",
        "idp = u_print(idp, objA.a, objA.b)     #13\n"
      ],
      "metadata": {
        "colab": {
          "base_uri": "https://localhost:8080/"
        },
        "id": "qRW7lVXv2uSb",
        "outputId": "0dcd5f7f-b1ff-41da-8893-f1b1e07d79f2"
      },
      "execution_count": 42,
      "outputs": [
        {
          "output_type": "stream",
          "name": "stdout",
          "text": [
            "0): 2.0 None\n",
            "1): 2.0 20.0\n",
            "2): 2.0 22.0\n",
            "3): 3.0 None\n",
            "4): 3.0 60.0\n",
            "5): 3.0 90.0\n",
            "6): 30.0 900.0\n",
            "7): 3.0 None\n",
            "8): 3.0 60.0\n",
            "9): 3.0 90.0\n",
            ">>>> try an array for var\n",
            "10): 3.0 [90.]\n",
            "11): 3.0 [120.]\n",
            "12): 3.0 [150.]\n",
            "13): 40.0 [2000.]\n"
          ]
        }
      ]
    },
    {
      "cell_type": "markdown",
      "source": [
        "## Review PyTree\n",
        "\n",
        "- one must somehow set up `tree_flatten` and `tree_unflatten` with care\n",
        "- the change of ``a` is well transmitted\n",
        "- choice of implementation with new object each time or setter of the internal variable to change"
      ],
      "metadata": {
        "id": "AtnQOf9S3GAs"
      }
    },
    {
      "cell_type": "code",
      "source": [
        "from jax.tree_util import register_pytree_node_class\n",
        "\n",
        "@register_pytree_node_class\n",
        "class B():\n",
        "    def __init__(self, p, v):\n",
        "        self.p = p\n",
        "        self.v = v\n",
        "        print(\"init:\",p,v)\n",
        "\n",
        "    @jit\n",
        "    def step(self, dt):\n",
        "        print(\"compile...\")\n",
        "        a = -9.8\n",
        "        new_v = self.v + a * dt\n",
        "        new_p = self.p + new_v * dt\n",
        "        return B(new_p, new_v)\n",
        "    \n",
        "    #### PyTree methods....\n",
        "    def tree_flatten(self):\n",
        "        print(\"tree_flatten\")\n",
        "        children = (self.p,self.v)         # dynamic values\n",
        "        aux_data = {}     # static values\n",
        "        return (children, aux_data)\n",
        "\n",
        "    @classmethod                     \n",
        "    def tree_unflatten(cls, aux_data, children):\n",
        "        print(\"tree_unflatten\") \n",
        "        b = children\n",
        "        return cls(p=b[0], v=b[1] ) # should be the signature of __init__\n",
        "\n"
      ],
      "metadata": {
        "id": "V-DbnwUV2zhz"
      },
      "execution_count": 114,
      "outputs": []
    },
    {
      "cell_type": "code",
      "source": [
        "b = B(jnp.array([0., 0.5]), jnp.array([1., 1.5]))"
      ],
      "metadata": {
        "colab": {
          "base_uri": "https://localhost:8080/"
        },
        "id": "K9NHO7Op4j9B",
        "outputId": "3f4767bf-a057-4564-c972-4698f9291767"
      },
      "execution_count": 122,
      "outputs": [
        {
          "output_type": "stream",
          "name": "stdout",
          "text": [
            "init: [0.  0.5] [1.  1.5]\n"
          ]
        }
      ]
    },
    {
      "cell_type": "code",
      "source": [
        "for i in range(5):\n",
        "    b = b.step(0.01)\n"
      ],
      "metadata": {
        "colab": {
          "base_uri": "https://localhost:8080/"
        },
        "id": "l-eTQ0KQ5ZPn",
        "outputId": "e2cc941c-ee74-477f-8033-29b9486118c8"
      },
      "execution_count": 123,
      "outputs": [
        {
          "output_type": "stream",
          "name": "stdout",
          "text": [
            "tree_flatten\n",
            "tree_unflatten\n",
            "init: [0.00902 0.51402] [0.902 1.402]\n",
            "tree_flatten\n",
            "tree_unflatten\n",
            "init: [0.01706 0.52706] [0.804 1.304]\n",
            "tree_flatten\n",
            "tree_unflatten\n",
            "init: [0.02412 0.53912] [0.706 1.206]\n",
            "tree_flatten\n",
            "tree_unflatten\n",
            "init: [0.0302 0.5502] [0.608 1.108]\n",
            "tree_flatten\n",
            "tree_unflatten\n",
            "init: [0.0353 0.5603] [0.51 1.01]\n"
          ]
        }
      ]
    },
    {
      "cell_type": "code",
      "source": [
        "! pip install -q equinox"
      ],
      "metadata": {
        "colab": {
          "base_uri": "https://localhost:8080/"
        },
        "id": "iHRhSOZL4dWv",
        "outputId": "3412e40a-6fb9-4896-a014-7b261ccdbd17"
      },
      "execution_count": 124,
      "outputs": [
        {
          "output_type": "stream",
          "name": "stdout",
          "text": [
            "\u001b[?25l     \u001b[90m━━━━━━━━━━━━━━━━━━━━━━━━━━━━━━━━━━━━━━━━\u001b[0m \u001b[32m0.0/108.7 KB\u001b[0m \u001b[31m?\u001b[0m eta \u001b[36m-:--:--\u001b[0m\r\u001b[2K     \u001b[90m━━━━━━━━━━━━━━━━━━━━━━━━━━━━━━━━━━━━━━━\u001b[0m \u001b[32m108.7/108.7 KB\u001b[0m \u001b[31m3.2 MB/s\u001b[0m eta \u001b[36m0:00:00\u001b[0m\n",
            "\u001b[?25h"
          ]
        }
      ]
    },
    {
      "cell_type": "code",
      "source": [
        "import equinox as eqx"
      ],
      "metadata": {
        "id": "RmdWjOGU_kdh"
      },
      "execution_count": 125,
      "outputs": []
    },
    {
      "cell_type": "code",
      "source": [
        "class D(eqx.Module):\n",
        "  p: float\n",
        "  v: float\n",
        "\n",
        "  def __init__(self, p,v):  # the init\n",
        "    self.p = p\n",
        "    self.v = v\n",
        "\n",
        "  def __call__(self, dt):    # the forward call\n",
        "        a = -9.8\n",
        "        new_v = self.v + a * dt\n",
        "        new_p = self.p + new_v * dt\n",
        "        return D(new_p, new_v)"
      ],
      "metadata": {
        "id": "ehcPIqsK_fM4"
      },
      "execution_count": 138,
      "outputs": []
    },
    {
      "cell_type": "code",
      "source": [
        "d = D(np.array([0, 0.5]), np.array([1, 1.5]))\n",
        "for i in range(5):\n",
        "    d = d(0.01)\n"
      ],
      "metadata": {
        "id": "k6qop4n5BA64"
      },
      "execution_count": 139,
      "outputs": []
    },
    {
      "cell_type": "code",
      "source": [
        "d.p, d.v"
      ],
      "metadata": {
        "colab": {
          "base_uri": "https://localhost:8080/"
        },
        "id": "cOW0pcmtBxWu",
        "outputId": "56cc8f23-816c-40dd-ca92-7319af8b0fd9"
      },
      "execution_count": 141,
      "outputs": [
        {
          "output_type": "execute_result",
          "data": {
            "text/plain": [
              "(array([0.0353, 0.5603]), array([0.51, 1.01]))"
            ]
          },
          "metadata": {},
          "execution_count": 141
        }
      ]
    },
    {
      "cell_type": "markdown",
      "source": [
        "# Takeaway message (JIT in a class):\n",
        "\n",
        "- several methods: helper, self-static, Pytree\n",
        "\n",
        "- should not use `self.<var>` = in a jitted function (otherwise side effect). By the way, the code analysis by JIT is done via `Traced<ShapedArray>`\n",
        "\n",
        "- use of `__hash__` and `__eq__`, and the DeviceArray is unhastable\n",
        "\n",
        "- when the compilation is triggered (JIT)\n",
        "\n",
        "- See also the doc [to-jit-or-not-to-jit](https://jax.readthedocs.io/en/latest/notebooks/thinking_in_jax.html?highlight=Traced%3CShapedArray%3E#to-jit-or-not-to-jit)\n",
        "\n",
        "- Ask yourself \"Do I need OO encapsulation (i.e. make Class) ?\""
      ],
      "metadata": {
        "id": "izCf_wEACEj1"
      }
    },
    {
      "cell_type": "code",
      "source": [],
      "metadata": {
        "id": "3iN6Bg6kAhXR"
      },
      "execution_count": null,
      "outputs": []
    }
  ]
}