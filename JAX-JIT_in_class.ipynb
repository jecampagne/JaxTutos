{
 "cells": [
  {
   "cell_type": "code",
   "execution_count": 335,
   "id": "21ced717-bc31-4c45-abe9-301ba02d2ce4",
   "metadata": {},
   "outputs": [],
   "source": [
    "from pathinit import *\n",
    "\n",
    "import numpy as np\n",
    "import scipy as sc\n",
    "\n",
    "\n",
    "import jax\n",
    "import jax.numpy as jnp\n",
    "import jax.scipy as jsc   \n",
    "\n",
    "from jax import grad, jit, vmap\n",
    "from jax import jacfwd, jacrev, hessian\n",
    "#from jax.ops import index, index_update\n",
    "jax.config.update(\"jax_enable_x64\", True)\n",
    "\n",
    "from functools import partial\n",
    "from typing import Union, Dict, Callable, Optional, Tuple, Any\n"
   ]
  },
  {
   "cell_type": "code",
   "execution_count": 455,
   "id": "5ccd14dc-10e6-4c91-bff2-06ab5b66d6fb",
   "metadata": {},
   "outputs": [],
   "source": [
    "#utile pour clear the cache notament pour voir les recompilation\n",
    "if jax.__version__ < '0.2.26':\n",
    "    clear_cache = jax.interpreters.xla._xla_callable.cache_clear\n",
    "else:\n",
    "    clear_cache = jax._src.dispatch._xla_callable.cache_clear\n",
    "\n",
    "\n",
    "def u_print(idx:int, *args)->int:\n",
    "    print(f\"{idx}):\",*args)\n",
    "    idx +=1\n",
    "    return idx"
   ]
  },
  {
   "cell_type": "markdown",
   "id": "3b4162e6-334c-4267-b625-9d992647a7b1",
   "metadata": {},
   "source": [
    "# Le thème: JIT et les méthodes de Class\n",
    "il s'agit d'élément d'un thread JAX que j'ai initié et qui devient une partie de la [doc](https://jax.readthedocs.io/en/latest/faq.html#strategy-1-jit-compiled-helper-function) (ici c'est une version longue)"
   ]
  },
  {
   "cell_type": "code",
   "execution_count": 634,
   "id": "a8ffeb55-cacf-4ae3-8f4a-6d60156fd509",
   "metadata": {},
   "outputs": [
    {
     "name": "stdout",
     "output_type": "stream",
     "text": [
      "Nouveau A\n",
      "0): 2.0 None\n",
      "1): 2.0 20.0\n",
      "2): 2.0 22.0\n",
      "Nouveau A\n",
      "3): 3.0 None\n",
      "4): 3.0 60.0\n"
     ]
    }
   ],
   "source": [
    "class A():\n",
    "    def __init__(self, a: float):\n",
    "        print(\"Nouveau A\")\n",
    "        self.a = a                   # une variable qui ne changera pas (\"statique\") une fois l'objet cree\n",
    "        self.b = None                # une variable qui sera déterminée utltérieuremnt (\"dynamique\")\n",
    "\n",
    "    def f(self, var: float) -> None:\n",
    "        self.b = self.a * var\n",
    "\n",
    "###### \n",
    "\n",
    "\n",
    "clear_cache\n",
    "idp=0\n",
    "\n",
    "objA = A(2.0)\n",
    "idp = u_print(idp,objA.a, objA.b)\n",
    "objA.f(10.)\n",
    "idp = u_print(idp,objA.a, objA.b)\n",
    "objA.f(11.)\n",
    "idp = u_print(idp,objA.a, objA.b)\n",
    "\n",
    "\n",
    "objA = A(3.0)\n",
    "idp = u_print(idp,objA.a, objA.b)\n",
    "objA.f(20.)\n",
    "idp = u_print(idp,objA.a, objA.b)\n"
   ]
  },
  {
   "cell_type": "markdown",
   "id": "a4310b0b-6b82-4ef3-8bf4-7251d2c2314c",
   "metadata": {},
   "source": [
    "# Et maintenant usage de jit sur f"
   ]
  },
  {
   "cell_type": "code",
   "execution_count": 635,
   "id": "b4d1a454-a679-4fbf-8ca1-e4d1a91d0575",
   "metadata": {
    "tags": []
   },
   "outputs": [
    {
     "name": "stdout",
     "output_type": "stream",
     "text": [
      "0): <__main__.A object at 0x7fdb3be6bd30> 2.0 None\n"
     ]
    },
    {
     "ename": "TypeError",
     "evalue": "Argument '<__main__.A object at 0x7fdb3be6bd30>' of type <class '__main__.A'> is not a valid JAX type.",
     "output_type": "error",
     "traceback": [
      "\u001b[0;31m---------------------------------------------------------------------------\u001b[0m",
      "\u001b[0;31mTypeError\u001b[0m                                 Traceback (most recent call last)",
      "Input \u001b[0;32mIn [635]\u001b[0m, in \u001b[0;36m<cell line: 15>\u001b[0;34m()\u001b[0m\n\u001b[1;32m     13\u001b[0m objA \u001b[38;5;241m=\u001b[39m A(\u001b[38;5;241m2.0\u001b[39m)\n\u001b[1;32m     14\u001b[0m idp \u001b[38;5;241m=\u001b[39m u_print(idp,objA, objA\u001b[38;5;241m.\u001b[39ma, objA\u001b[38;5;241m.\u001b[39mb)\n\u001b[0;32m---> 15\u001b[0m \u001b[43mobjA\u001b[49m\u001b[38;5;241;43m.\u001b[39;49m\u001b[43mf\u001b[49m\u001b[43m(\u001b[49m\u001b[38;5;241;43m10.\u001b[39;49m\u001b[43m)\u001b[49m\n",
      "    \u001b[0;31m[... skipping hidden 2 frame]\u001b[0m\n",
      "File \u001b[0;32m/sps/lsst/users/campagne/anaconda3/envs/JaxTutos/lib/python3.8/site-packages/jax/_src/api.py:2840\u001b[0m, in \u001b[0;36m_check_arg\u001b[0;34m(arg)\u001b[0m\n\u001b[1;32m   2838\u001b[0m \u001b[38;5;28;01mdef\u001b[39;00m \u001b[38;5;21m_check_arg\u001b[39m(arg):\n\u001b[1;32m   2839\u001b[0m   \u001b[38;5;28;01mif\u001b[39;00m \u001b[38;5;129;01mnot\u001b[39;00m (\u001b[38;5;28misinstance\u001b[39m(arg, core\u001b[38;5;241m.\u001b[39mTracer) \u001b[38;5;129;01mor\u001b[39;00m _valid_jaxtype(arg)):\n\u001b[0;32m-> 2840\u001b[0m     \u001b[38;5;28;01mraise\u001b[39;00m \u001b[38;5;167;01mTypeError\u001b[39;00m(\u001b[38;5;124mf\u001b[39m\u001b[38;5;124m\"\u001b[39m\u001b[38;5;124mArgument \u001b[39m\u001b[38;5;124m'\u001b[39m\u001b[38;5;132;01m{\u001b[39;00marg\u001b[38;5;132;01m}\u001b[39;00m\u001b[38;5;124m'\u001b[39m\u001b[38;5;124m of type \u001b[39m\u001b[38;5;132;01m{\u001b[39;00m\u001b[38;5;28mtype\u001b[39m(arg)\u001b[38;5;132;01m}\u001b[39;00m\u001b[38;5;124m is not a valid JAX type.\u001b[39m\u001b[38;5;124m\"\u001b[39m)\n",
      "\u001b[0;31mTypeError\u001b[0m: Argument '<__main__.A object at 0x7fdb3be6bd30>' of type <class '__main__.A'> is not a valid JAX type."
     ]
    }
   ],
   "source": [
    "class A():\n",
    "    def __init__(self, a: float):\n",
    "        self.a = a                   # une variable qui ne changera pas (\"statique\")\n",
    "        self.b = None                # une variable qui sera déterminée utltérieuremnt (\"dynamique\")\n",
    "    @jit\n",
    "    def f(self, var: float) -> None:\n",
    "        self.b = self.a * var\n",
    "\n",
    "\n",
    "clear_cache\n",
    "idp=0\n",
    "\n",
    "objA = A(2.0)\n",
    "idp = u_print(idp,objA, objA.a, objA.b)\n",
    "objA.f(10.)"
   ]
  },
  {
   "cell_type": "markdown",
   "id": "2eacd24a-2781-4955-b9d2-0ca9fde504cc",
   "metadata": {},
   "source": [
    "## Le problème est que le premier argument de la fonction est `self`, qui a le type `A` et $\\color{red}{\\text{JAX ne sait pas comment gérer ce type}}$. Il y a différentes stratégies de base que nous pouvons utiliser dans ce cas, et nous allons les discuter ci-dessous."
   ]
  },
  {
   "cell_type": "markdown",
   "id": "bb7f18fb-433e-4f02-8046-845f7b8cb44f",
   "metadata": {},
   "source": [
    "# 1ere strategie: fonction externe ('helper')"
   ]
  },
  {
   "cell_type": "markdown",
   "id": "41b72ad7-534a-4bcb-a0b8-e0833c582943",
   "metadata": {},
   "source": [
    "## petit aparté..."
   ]
  },
  {
   "cell_type": "markdown",
   "id": "0d8ffdb0-6b3d-4930-acf8-33eb050e84fa",
   "metadata": {},
   "source": [
    "## \"in Python, type annotations are purely decorative and don't affect runtime values in normal code\""
   ]
  },
  {
   "cell_type": "code",
   "execution_count": 546,
   "id": "baac6623-f048-4210-bc6b-a8de9de04775",
   "metadata": {},
   "outputs": [
    {
     "name": "stdout",
     "output_type": "stream",
     "text": [
      "[10.]\n",
      "[10.]\n",
      "10.0\n"
     ]
    }
   ],
   "source": [
    "print(1.0*jnp.array([10.]))\n",
    "def test(v: jnp.array)->jnp.array:\n",
    "    return 1.0*v\n",
    "print(test(jnp.array([10.])))\n",
    "print(test(10.))\n"
   ]
  },
  {
   "cell_type": "code",
   "execution_count": 548,
   "id": "be847809-9d07-49cd-8ca9-bfd23b82ca0e",
   "metadata": {},
   "outputs": [
    {
     "name": "stdout",
     "output_type": "stream",
     "text": [
      "DeviceArray(10., dtype=float64, weak_type=True)\n"
     ]
    }
   ],
   "source": [
    "@jit\n",
    "def f(v):\n",
    "    return 1.0 * v\n",
    "print(repr(f(10.0)))  # implicit conversion d'un float en JAX device array (a-la-jnp.array)"
   ]
  },
  {
   "cell_type": "code",
   "execution_count": 636,
   "id": "ce63ad8e-050f-4df5-870f-d2f55e3e19ae",
   "metadata": {},
   "outputs": [
    {
     "name": "stdout",
     "output_type": "stream",
     "text": [
      "Nouveau A\n",
      "0): 2.0 None\n",
      "compile...\n",
      "1): 2.0 20.0\n",
      "2): 2.0 22.0\n",
      "Nouveau A\n",
      "3): 3.0 None\n",
      "4): 3.0 60.0\n",
      "5): 3.0 63.0\n",
      "Nouveau A\n",
      "6): 4.0 None\n",
      "7): 4.0 80.0\n",
      "compile...\n",
      "8): 4.0 [80.]\n",
      "9): 4.0 [84.]\n",
      "10): 4.0 84.0\n",
      "11): 400.0 8400.0\n"
     ]
    }
   ],
   "source": [
    "class A():\n",
    "    def __init__(self, a):\n",
    "        print(\"Nouveau A\")\n",
    "        self.a = a                   # une variable qui ne changera pas (\"statique\") sauf par le user\n",
    "        self.b = None                # une variable qui sera déterminée utltérieuremnt (\"dynamique\")\n",
    "   \n",
    "    def f(self, var):\n",
    "        self.b = _f(self.a,var)\n",
    "\n",
    "@jit\n",
    "def _f(a:float, var):\n",
    "    print(\"compile...\")\n",
    "    res = a* var\n",
    "    return res\n",
    "\n",
    "\n",
    "\n",
    "clear_cache\n",
    "idp=0\n",
    "\n",
    "objA = A(2.0)\n",
    "idp = u_print(idp, objA.a, objA.b)\n",
    "objA.f(10.)\n",
    "idp = u_print(idp, objA.a, objA.b)\n",
    "objA.f(11.)\n",
    "idp = u_print(idp, objA.a, objA.b)\n",
    "\n",
    "\n",
    "objA = A(3.0)\n",
    "idp = u_print(idp, objA.a, objA.b)\n",
    "objA.f(20.)\n",
    "idp = u_print(idp, objA.a, objA.b)\n",
    "objA.f(21.)\n",
    "idp = u_print(idp, objA.a, objA.b)\n",
    "\n",
    "\n",
    "objA = A(4.0)\n",
    "idp = u_print(idp, objA.a, objA.b)\n",
    "objA.f(20.)\n",
    "idp = u_print(idp, objA.a, objA.b)\n",
    "\n",
    "objA.f(jnp.array([20.]))\n",
    "idp = u_print(idp, objA.a, objA.b)\n",
    "\n",
    "objA.f(jnp.array([21.]))\n",
    "idp = u_print(idp, objA.a, objA.b)\n",
    "\n",
    "objA.f(21.)\n",
    "idp = u_print(idp, objA.a, objA.b)\n",
    "\n",
    "objA.a = 400.  # changement volontaire\n",
    "objA.f(21.)\n",
    "idp = u_print(idp, objA.a, objA.b)\n",
    "\n",
    "\n"
   ]
  },
  {
   "cell_type": "markdown",
   "id": "5450d855-bbc2-43df-a64e-c331fb3d9155",
   "metadata": {},
   "source": [
    "## Bilan de la méthode `helper`: \n",
    "## C'est une $\\color{red}{\\text{méthode simple et explicite}}$ de mise en oeuvre, et on n'a pas à instruire JAX comment utiliser la class A.\n",
    "## Maintenant, il devient une affaire de goût de coder un helper par fonction pour utiliser jit. Mais on peut faire de l'encapsulation par fichier pour qu'au moins le code de \"A\" soit dans celui de la définition de \"A\"."
   ]
  },
  {
   "cell_type": "markdown",
   "id": "c0d4162a-0e36-413c-bc98-675dbe46baa3",
   "metadata": {},
   "source": [
    "# 2nd stratégie: `self` comme static\n",
    "## c'est une procédure classique qui est souvent proposée"
   ]
  },
  {
   "cell_type": "code",
   "execution_count": 637,
   "id": "7d61773f-5440-4987-aab5-430254383f61",
   "metadata": {
    "tags": []
   },
   "outputs": [
    {
     "name": "stdout",
     "output_type": "stream",
     "text": [
      "Nouveau A\n",
      "0): <__main__.A object at 0x7fdb5c832670> 2.0 None\n",
      "compile...\n",
      "1): <__main__.A object at 0x7fdb5c832670> 2.0 Traced<ShapedArray(float64[], weak_type=True)>with<DynamicJaxprTrace(level=0/1)>\n",
      "g...: Traced<ShapedArray(float64[], weak_type=True)>with<DynamicJaxprTrace(level=0/1)>\n"
     ]
    },
    {
     "ename": "UnexpectedTracerError",
     "evalue": "Encountered an unexpected tracer. A function transformed by JAX had a side effect, allowing for a reference to an intermediate value with shape () and dtype float64 to escape.\nJAX transformations require that functions explicitly return their outputs, and disallow saving intermediate values to global state.\nThe function being traced when the value leaked was f at /tmp/ipykernel_10150/1610217741.py:7 traced for jit.\n------------------------------\nThe leaked intermediate value was created on line /tmp/ipykernel_10150/1610217741.py:10 (f). \n------------------------------\nWhen the value was created, the final 5 stack frames (most recent last) excluding JAX-internal frames were:\n------------------------------\n/opt/conda/lib/python3.8/site-packages/IPython/core/interactiveshell.py:3106 (run_cell_async)\n/opt/conda/lib/python3.8/site-packages/IPython/core/interactiveshell.py:3309 (run_ast_nodes)\n/opt/conda/lib/python3.8/site-packages/IPython/core/interactiveshell.py:3369 (run_code)\n/tmp/ipykernel_10150/1610217741.py:21 (<cell line: 21>)\n/tmp/ipykernel_10150/1610217741.py:10 (f)\n------------------------------\n\nTo catch the leak earlier, try setting the environment variable JAX_CHECK_TRACER_LEAKS or using the `jax.checking_leaks` context manager.\nSee https://jax.readthedocs.io/en/latest/errors.html#jax.errors.UnexpectedTracerError",
     "output_type": "error",
     "traceback": [
      "\u001b[0;31m---------------------------------------------------------------------------\u001b[0m",
      "\u001b[0;31mUnexpectedTracerError\u001b[0m                     Traceback (most recent call last)",
      "Input \u001b[0;32mIn [637]\u001b[0m, in \u001b[0;36m<cell line: 23>\u001b[0;34m()\u001b[0m\n\u001b[1;32m     21\u001b[0m objA\u001b[38;5;241m.\u001b[39mf(\u001b[38;5;241m10.\u001b[39m)\n\u001b[1;32m     22\u001b[0m idp \u001b[38;5;241m=\u001b[39m u_print(idp,objA, objA\u001b[38;5;241m.\u001b[39ma, objA\u001b[38;5;241m.\u001b[39mb)\n\u001b[0;32m---> 23\u001b[0m res \u001b[38;5;241m=\u001b[39m \u001b[43mobjA\u001b[49m\u001b[38;5;241;43m.\u001b[39;49m\u001b[43mg\u001b[49m\u001b[43m(\u001b[49m\u001b[43m)\u001b[49m\n\u001b[1;32m     24\u001b[0m \u001b[38;5;28mprint\u001b[39m(res)\n",
      "Input \u001b[0;32mIn [637]\u001b[0m, in \u001b[0;36mA.g\u001b[0;34m(self)\u001b[0m\n\u001b[1;32m     12\u001b[0m \u001b[38;5;28;01mdef\u001b[39;00m \u001b[38;5;21mg\u001b[39m(\u001b[38;5;28mself\u001b[39m):\n\u001b[1;32m     13\u001b[0m     \u001b[38;5;28mprint\u001b[39m(\u001b[38;5;124m\"\u001b[39m\u001b[38;5;124mg...:\u001b[39m\u001b[38;5;124m\"\u001b[39m,\u001b[38;5;28mself\u001b[39m\u001b[38;5;241m.\u001b[39mb)\n\u001b[0;32m---> 14\u001b[0m     \u001b[38;5;28;01mreturn\u001b[39;00m \u001b[38;5;28;43mself\u001b[39;49m\u001b[38;5;241;43m.\u001b[39;49m\u001b[43mb\u001b[49m\u001b[38;5;241;43m*\u001b[39;49m\u001b[38;5;28;43mself\u001b[39;49m\u001b[38;5;241;43m.\u001b[39;49m\u001b[43mb\u001b[49m\n",
      "File \u001b[0;32m/sps/lsst/users/campagne/anaconda3/envs/JaxTutos/lib/python3.8/site-packages/jax/core.py:509\u001b[0m, in \u001b[0;36mTracer.__mul__\u001b[0;34m(self, other)\u001b[0m\n\u001b[0;32m--> 509\u001b[0m \u001b[38;5;28;01mdef\u001b[39;00m \u001b[38;5;21m__mul__\u001b[39m(\u001b[38;5;28mself\u001b[39m, other): \u001b[38;5;28;01mreturn\u001b[39;00m \u001b[38;5;28;43mself\u001b[39;49m\u001b[38;5;241;43m.\u001b[39;49m\u001b[43maval\u001b[49m\u001b[38;5;241;43m.\u001b[39;49m\u001b[43m_mul\u001b[49m\u001b[43m(\u001b[49m\u001b[38;5;28;43mself\u001b[39;49m\u001b[43m,\u001b[49m\u001b[43m \u001b[49m\u001b[43mother\u001b[49m\u001b[43m)\u001b[49m\n",
      "File \u001b[0;32m/sps/lsst/users/campagne/anaconda3/envs/JaxTutos/lib/python3.8/site-packages/jax/_src/numpy/lax_numpy.py:4502\u001b[0m, in \u001b[0;36m_defer_to_unrecognized_arg.<locals>.deferring_binary_op\u001b[0;34m(self, other)\u001b[0m\n\u001b[1;32m   4500\u001b[0m \u001b[38;5;28;01mif\u001b[39;00m \u001b[38;5;129;01mnot\u001b[39;00m \u001b[38;5;28misinstance\u001b[39m(other, _accepted_binop_types):\n\u001b[1;32m   4501\u001b[0m   \u001b[38;5;28;01mreturn\u001b[39;00m \u001b[38;5;28mNotImplemented\u001b[39m\n\u001b[0;32m-> 4502\u001b[0m \u001b[38;5;28;01mreturn\u001b[39;00m \u001b[43mbinary_op\u001b[49m\u001b[43m(\u001b[49m\u001b[38;5;28;43mself\u001b[39;49m\u001b[43m,\u001b[49m\u001b[43m \u001b[49m\u001b[43mother\u001b[49m\u001b[43m)\u001b[49m\n",
      "    \u001b[0;31m[... skipping hidden 5 frame]\u001b[0m\n",
      "File \u001b[0;32m/sps/lsst/users/campagne/anaconda3/envs/JaxTutos/lib/python3.8/site-packages/jax/interpreters/partial_eval.py:1276\u001b[0m, in \u001b[0;36mDynamicJaxprTracer._assert_live\u001b[0;34m(self)\u001b[0m\n\u001b[1;32m   1274\u001b[0m \u001b[38;5;28;01mdef\u001b[39;00m \u001b[38;5;21m_assert_live\u001b[39m(\u001b[38;5;28mself\u001b[39m) \u001b[38;5;241m-\u001b[39m\u001b[38;5;241m>\u001b[39m \u001b[38;5;28;01mNone\u001b[39;00m:\n\u001b[1;32m   1275\u001b[0m   \u001b[38;5;28;01mif\u001b[39;00m \u001b[38;5;129;01mnot\u001b[39;00m \u001b[38;5;28mself\u001b[39m\u001b[38;5;241m.\u001b[39m_trace\u001b[38;5;241m.\u001b[39mmain\u001b[38;5;241m.\u001b[39mjaxpr_stack:  \u001b[38;5;66;03m# type: ignore\u001b[39;00m\n\u001b[0;32m-> 1276\u001b[0m     \u001b[38;5;28;01mraise\u001b[39;00m core\u001b[38;5;241m.\u001b[39mescaped_tracer_error(\u001b[38;5;28mself\u001b[39m, \u001b[38;5;28;01mNone\u001b[39;00m)\n",
      "\u001b[0;31mUnexpectedTracerError\u001b[0m: Encountered an unexpected tracer. A function transformed by JAX had a side effect, allowing for a reference to an intermediate value with shape () and dtype float64 to escape.\nJAX transformations require that functions explicitly return their outputs, and disallow saving intermediate values to global state.\nThe function being traced when the value leaked was f at /tmp/ipykernel_10150/1610217741.py:7 traced for jit.\n------------------------------\nThe leaked intermediate value was created on line /tmp/ipykernel_10150/1610217741.py:10 (f). \n------------------------------\nWhen the value was created, the final 5 stack frames (most recent last) excluding JAX-internal frames were:\n------------------------------\n/opt/conda/lib/python3.8/site-packages/IPython/core/interactiveshell.py:3106 (run_cell_async)\n/opt/conda/lib/python3.8/site-packages/IPython/core/interactiveshell.py:3309 (run_ast_nodes)\n/opt/conda/lib/python3.8/site-packages/IPython/core/interactiveshell.py:3369 (run_code)\n/tmp/ipykernel_10150/1610217741.py:21 (<cell line: 21>)\n/tmp/ipykernel_10150/1610217741.py:10 (f)\n------------------------------\n\nTo catch the leak earlier, try setting the environment variable JAX_CHECK_TRACER_LEAKS or using the `jax.checking_leaks` context manager.\nSee https://jax.readthedocs.io/en/latest/errors.html#jax.errors.UnexpectedTracerError"
     ]
    }
   ],
   "source": [
    "class A():\n",
    "    def __init__(self, a: float):\n",
    "        print(\"Nouveau A\")\n",
    "        self.a = a\n",
    "        self.b = None\n",
    "    \n",
    "    @partial(jit, static_argnums=(0,))   # on marque bien que \"self\" est statique    \n",
    "    def f(self, var: float) -> None:\n",
    "        print(\"compile...\")\n",
    "        self.b = self.a * var\n",
    "\n",
    "    def g(self):\n",
    "        print(\"g...:\",self.b)\n",
    "        return self.b*self.b\n",
    "\n",
    "clear_cache\n",
    "idp=0\n",
    "\n",
    "objA = A(2.0)\n",
    "idp = u_print(idp,objA, objA.a, objA.b)\n",
    "objA.f(10.)\n",
    "idp = u_print(idp,objA, objA.a, objA.b)\n",
    "res = objA.g()\n",
    "print(res)"
   ]
  },
  {
   "cell_type": "markdown",
   "id": "4d872ca1-2855-4dc0-9bc6-e7012a21d875",
   "metadata": {},
   "source": [
    "## Jit utilise `Traced<ShapedArray>` pour analyser le code, et découvre un `side effect`\n",
    "## !!! $\\color{red}{\\text{ne pas utiliser}}$ `self.<var> =` dans une fnt jitted"
   ]
  },
  {
   "cell_type": "code",
   "execution_count": 638,
   "id": "eb62a0e9-33e3-4cc6-b759-2099a3ea9fb1",
   "metadata": {},
   "outputs": [
    {
     "name": "stdout",
     "output_type": "stream",
     "text": [
      "Nouveau A\n",
      "0): 2.0 None\n",
      "compile...\n",
      "1): 2.0 20.0\n",
      "2): 2.0 22.0\n",
      "Nouveau A\n",
      "3): 3.0 None\n",
      "compile...\n",
      "4): 3.0 60.0\n",
      "compile...\n",
      "5): 3.0 63.0\n",
      "compile...\n",
      "6): 3.0 [60.]\n",
      "7): 3.0 [63.]\n"
     ]
    }
   ],
   "source": [
    "class A():\n",
    "    def __init__(self, a):\n",
    "        print(\"Nouveau A\")\n",
    "        self.a = a               \n",
    "        self.b = None            \n",
    "\n",
    "    def set_a(self,x):\n",
    "        self.a = x \n",
    "        print(\"new a:\",self.a)\n",
    "        \n",
    "    def set_b(self,x):                  # (*) on va gérérer depuis l'extérieur\n",
    "        self.b = x\n",
    "    \n",
    "    @partial(jit, static_argnums=(0,))   # on marque bien que \"self\" est statique    \n",
    "    def f(self, var):\n",
    "        print(\"compile...\")\n",
    "        return self.a * var             # voir (*)\n",
    "\n",
    "clear_cache\n",
    "idp=0\n",
    "\n",
    "objA = A(2.0)\n",
    "idp = u_print(idp, objA.a, objA.b)\n",
    "\n",
    "objA.set_b(objA.f(10.))\n",
    "idp = u_print(idp, objA.a, objA.b)\n",
    "\n",
    "objA.set_b(objA.f(11.))\n",
    "idp = u_print(idp, objA.a, objA.b)\n",
    "\n",
    "objA = A(3.0)\n",
    "idp = u_print(idp, objA.a, objA.b)\n",
    "objA.set_b(new_objA.f(20.))\n",
    "idp = u_print(idp, objA.a, objA.b)\n",
    "\n",
    "objA.set_b(objA.f(21.))\n",
    "idp = u_print(idp, objA.a, objA.b)\n",
    "\n",
    "\n",
    "objA.set_b(objA.f(jnp.array([20.])))\n",
    "idp = u_print(idp, objA.a, objA.b)\n",
    "\n",
    "objA.set_b(objA.f(jnp.array([21.])))\n",
    "idp = u_print(idp, objA.a, objA.b)\n"
   ]
  },
  {
   "cell_type": "code",
   "execution_count": 639,
   "id": "826ee831-32e9-45b1-afd3-18b39d702bb6",
   "metadata": {
    "tags": []
   },
   "outputs": [
    {
     "name": "stdout",
     "output_type": "stream",
     "text": [
      "new a: 4.0\n",
      "8): 4.0 [63.]\n",
      "9): 4.0 30.0\n"
     ]
    }
   ],
   "source": [
    "objA.set_a(4.0)                         # \"a\" est modifié à la main ...\n",
    "idp = u_print(idp, objA.a, objA.b)\n",
    "\n",
    "objA.set_b(objA.f(10.))\n",
    "idp = u_print(idp,objA.a, objA.b)  # oups 4*10 = 20 !!!    il prend 3(old a) * 10 (arg de f)"
   ]
  },
  {
   "cell_type": "markdown",
   "id": "772be96d-c289-4333-8f15-ed6bbf3f277a",
   "metadata": {},
   "source": [
    "## Il faut faire attention: \n",
    "- ## le caractère \"statique\" de \"a\" est un by-product de l'analyse du code par JIT,  mais celà se fait silencieusement et sans crier gare et donc $\\color{red}{\\text{peut induire en erreur l'utilisateur}}$."
   ]
  },
  {
   "cell_type": "markdown",
   "id": "38f0010a-2489-426f-8bda-9fc203c5982b",
   "metadata": {},
   "source": [
    "## Que se passe-t-il ici ? Le problème est que `static_argnums` s'appuie sur la méthode de hashage (hash) de l'objet pour déterminer s'il a changé entre deux appels, et la méthode $\\color{red}{\\text{__hash__}}$ par défaut pour une classe définie par l'utilisateur $\\color{red}{\\text{ne prend pas en compte les valeurs des attributs de classe}}$. Cela signifie qu'au deuxième appel de fonction, JAX n'a aucun moyen de savoir que les attributs de classe ont changé et utilise la valeur statique mise en cache lors de la compilation précédente.\n",
    "\n",
    "\n",
    "## Pour cette raison, si vous marquez les arguments personnels comme statiques, il est important que vous définissiez une méthode $\\color{red}{\\text{__hash__}}$ appropriée pour votre classe. Par exemple: "
   ]
  },
  {
   "cell_type": "code",
   "execution_count": 640,
   "id": "84076701-9f31-45ee-b95d-7ed37c8bbedb",
   "metadata": {},
   "outputs": [
    {
     "name": "stdout",
     "output_type": "stream",
     "text": [
      "Nouveau A\n",
      "0): 2.0 None\n",
      "compile...\n",
      "b: 20.0 <class 'jaxlib.xla_extension.DeviceArray'>\n",
      "1): 2.0 20.0\n"
     ]
    },
    {
     "ename": "ValueError",
     "evalue": "Non-hashable static arguments are not supported. An error occured during a call to 'f' while trying to hash an object of type <class '__main__.A'>, <__main__.A object at 0x7fdb3be76e50>. The error was:\nTypeError: unhashable type: 'DeviceArray'\n\nAt:\n  /tmp/ipykernel_10150/1557052676.py(22): __hash__\n  /tmp/ipykernel_10150/1557052676.py(40): <cell line: 40>\n  /opt/conda/lib/python3.8/site-packages/IPython/core/interactiveshell.py(3369): run_code\n  /opt/conda/lib/python3.8/site-packages/IPython/core/interactiveshell.py(3309): run_ast_nodes\n  /opt/conda/lib/python3.8/site-packages/IPython/core/interactiveshell.py(3106): run_cell_async\n  /opt/conda/lib/python3.8/site-packages/IPython/core/async_helpers.py(129): _pseudo_sync_runner\n  /opt/conda/lib/python3.8/site-packages/IPython/core/interactiveshell.py(2909): _run_cell\n  /opt/conda/lib/python3.8/site-packages/IPython/core/interactiveshell.py(2863): run_cell\n  /opt/conda/lib/python3.8/site-packages/ipykernel/zmqshell.py(528): run_cell\n  /opt/conda/lib/python3.8/site-packages/ipykernel/ipkernel.py(389): do_execute\n  /opt/conda/lib/python3.8/site-packages/ipykernel/kernelbase.py(722): execute_request\n  /opt/conda/lib/python3.8/site-packages/ipykernel/kernelbase.py(398): dispatch_shell\n  /opt/conda/lib/python3.8/site-packages/ipykernel/kernelbase.py(491): process_one\n  /opt/conda/lib/python3.8/site-packages/ipykernel/kernelbase.py(502): dispatch_queue\n  /sps/lsst/users/campagne/anaconda3/envs/JaxTutos/lib/python3.8/asyncio/events.py(81): _run\n  /sps/lsst/users/campagne/anaconda3/envs/JaxTutos/lib/python3.8/asyncio/base_events.py(1859): _run_once\n  /sps/lsst/users/campagne/anaconda3/envs/JaxTutos/lib/python3.8/asyncio/base_events.py(570): run_forever\n  /opt/conda/lib/python3.8/site-packages/tornado/platform/asyncio.py(199): start\n  /opt/conda/lib/python3.8/site-packages/ipykernel/kernelapp.py(707): start\n  /opt/conda/lib/python3.8/site-packages/traitlets/config/application.py(846): launch_instance\n  /opt/conda/lib/python3.8/site-packages/ipykernel_launcher.py(17): <module>\n  /sps/lsst/users/campagne/anaconda3/envs/JaxTutos/lib/python3.8/runpy.py(87): _run_code\n  /sps/lsst/users/campagne/anaconda3/envs/JaxTutos/lib/python3.8/runpy.py(194): _run_module_as_main\n\n",
     "output_type": "error",
     "traceback": [
      "\u001b[0;31m---------------------------------------------------------------------------\u001b[0m",
      "\u001b[0;31mValueError\u001b[0m                                Traceback (most recent call last)",
      "Input \u001b[0;32mIn [640]\u001b[0m, in \u001b[0;36m<cell line: 40>\u001b[0;34m()\u001b[0m\n\u001b[1;32m     37\u001b[0m objA\u001b[38;5;241m.\u001b[39mset_b(b)\n\u001b[1;32m     38\u001b[0m idp \u001b[38;5;241m=\u001b[39m u_print(idp, objA\u001b[38;5;241m.\u001b[39ma, objA\u001b[38;5;241m.\u001b[39mb)\n\u001b[0;32m---> 40\u001b[0m \u001b[43mobjA\u001b[49m\u001b[38;5;241;43m.\u001b[39;49m\u001b[43mf\u001b[49m\u001b[43m(\u001b[49m\u001b[38;5;241;43m11.\u001b[39;49m\u001b[43m)\u001b[49m\n",
      "\u001b[0;31mValueError\u001b[0m: Non-hashable static arguments are not supported. An error occured during a call to 'f' while trying to hash an object of type <class '__main__.A'>, <__main__.A object at 0x7fdb3be76e50>. The error was:\nTypeError: unhashable type: 'DeviceArray'\n\nAt:\n  /tmp/ipykernel_10150/1557052676.py(22): __hash__\n  /tmp/ipykernel_10150/1557052676.py(40): <cell line: 40>\n  /opt/conda/lib/python3.8/site-packages/IPython/core/interactiveshell.py(3369): run_code\n  /opt/conda/lib/python3.8/site-packages/IPython/core/interactiveshell.py(3309): run_ast_nodes\n  /opt/conda/lib/python3.8/site-packages/IPython/core/interactiveshell.py(3106): run_cell_async\n  /opt/conda/lib/python3.8/site-packages/IPython/core/async_helpers.py(129): _pseudo_sync_runner\n  /opt/conda/lib/python3.8/site-packages/IPython/core/interactiveshell.py(2909): _run_cell\n  /opt/conda/lib/python3.8/site-packages/IPython/core/interactiveshell.py(2863): run_cell\n  /opt/conda/lib/python3.8/site-packages/ipykernel/zmqshell.py(528): run_cell\n  /opt/conda/lib/python3.8/site-packages/ipykernel/ipkernel.py(389): do_execute\n  /opt/conda/lib/python3.8/site-packages/ipykernel/kernelbase.py(722): execute_request\n  /opt/conda/lib/python3.8/site-packages/ipykernel/kernelbase.py(398): dispatch_shell\n  /opt/conda/lib/python3.8/site-packages/ipykernel/kernelbase.py(491): process_one\n  /opt/conda/lib/python3.8/site-packages/ipykernel/kernelbase.py(502): dispatch_queue\n  /sps/lsst/users/campagne/anaconda3/envs/JaxTutos/lib/python3.8/asyncio/events.py(81): _run\n  /sps/lsst/users/campagne/anaconda3/envs/JaxTutos/lib/python3.8/asyncio/base_events.py(1859): _run_once\n  /sps/lsst/users/campagne/anaconda3/envs/JaxTutos/lib/python3.8/asyncio/base_events.py(570): run_forever\n  /opt/conda/lib/python3.8/site-packages/tornado/platform/asyncio.py(199): start\n  /opt/conda/lib/python3.8/site-packages/ipykernel/kernelapp.py(707): start\n  /opt/conda/lib/python3.8/site-packages/traitlets/config/application.py(846): launch_instance\n  /opt/conda/lib/python3.8/site-packages/ipykernel_launcher.py(17): <module>\n  /sps/lsst/users/campagne/anaconda3/envs/JaxTutos/lib/python3.8/runpy.py(87): _run_code\n  /sps/lsst/users/campagne/anaconda3/envs/JaxTutos/lib/python3.8/runpy.py(194): _run_module_as_main\n\n"
     ]
    }
   ],
   "source": [
    "class A():\n",
    "    def __init__(self, a):\n",
    "        print(\"Nouveau A\")\n",
    "        self.a = a\n",
    "        self.b = None\n",
    "        \n",
    "    def set_a(self,x):\n",
    "        self.a = x \n",
    "        print(\"new a:\",self.a)\n",
    "\n",
    "        \n",
    "    def set_b(self,x):\n",
    "        self.b = x\n",
    "    \n",
    "    @partial(jit, static_argnums=0)   # on marque bien que \"self\" est statique    \n",
    "    def f(self, var):\n",
    "        print(\"compile...\")\n",
    "        return self.a * var\n",
    "    \n",
    "    # methode de hashage specifique\n",
    "    def __hash__(self):\n",
    "        return hash((self.a,self.b))\n",
    "\n",
    "    def __eq__(self, other):   # il faut la coder aussi\n",
    "        return (isinstance(other, A) and\n",
    "            (self.a, self.b) == (other.a, other.b))\n",
    "    \n",
    "\n",
    "clear_cache\n",
    "idp=0\n",
    "\n",
    "objA = A(2.0)\n",
    "idp = u_print(idp, objA.a, objA.b)\n",
    "\n",
    "b = objA.f(10.)         #  quel est le type de 'b' ??? (*)\n",
    "print(\"b:\", b, type(b))\n",
    "objA.set_b(b)\n",
    "idp = u_print(idp, objA.a, objA.b)\n",
    "\n",
    "objA.f(11.)"
   ]
  },
  {
   "cell_type": "markdown",
   "id": "39216453-6334-4094-b845-adf7e49ed8b0",
   "metadata": {},
   "source": [
    "## le problème vient du fait qu'après la compilation `b` devient un `DeviceArray` qui est `unhastable` donc çà coince car alors `self` ne peut ètre hashtable également."
   ]
  },
  {
   "cell_type": "code",
   "execution_count": 641,
   "id": "8d85e468-60a7-458f-9b30-f8d17eef945d",
   "metadata": {},
   "outputs": [
    {
     "name": "stdout",
     "output_type": "stream",
     "text": [
      "Nouveau A\n",
      "0): 2.0 None\n",
      "compile...\n",
      "b: 20.0 <class 'jaxlib.xla_extension.DeviceArray'>\n",
      "1): 2.0 20.0\n",
      "2): 2.0 22.0\n",
      "Nouveau A\n",
      "3): 3.0 None\n",
      "compile...\n",
      "4): 3.0 60.0\n"
     ]
    }
   ],
   "source": [
    "class A():\n",
    "    def __init__(self, a):\n",
    "        print(\"Nouveau A\")\n",
    "        self.a = a\n",
    "        self.b = None\n",
    "\n",
    "    def set_a(self,x):\n",
    "        self.a = x \n",
    "        print(\"new a:\",self.a)\n",
    "\n",
    "    def set_b(self,x):\n",
    "        self.b = x\n",
    "    \n",
    "    @partial(jit, static_argnums=0)\n",
    "    def f(self, var):\n",
    "        print(\"compile...\")\n",
    "        return self.a * var\n",
    "    \n",
    "    # methode de hashage specifique\n",
    "    def __hash__(self):\n",
    "        return hash((self.a))                 # on ne met pas \"b\"\n",
    "\n",
    "    def __eq__(self, other):\n",
    "        return (isinstance(other, A) and\n",
    "            (self.a) == (other.a))             # on ne met pas \"b\"\n",
    "\n",
    "\n",
    "clear_cache\n",
    "idp=0\n",
    "\n",
    "objA = A(2.0)\n",
    "idp = u_print(idp, objA.a, objA.b)\n",
    "\n",
    "b = objA.f(10.)         #  quel est le type de 'b' ??? (*)\n",
    "print(\"b:\", b, type(b))\n",
    "objA.set_b(b)\n",
    "idp = u_print(idp, objA.a, objA.b)\n",
    "\n",
    "objA.set_b(objA.f(11.))\n",
    "idp = u_print(idp, objA.a, objA.b)\n",
    "\n",
    "\n",
    "objA = A(3.0)\n",
    "idp = u_print(idp, objA.a, objA.b)\n",
    "objA.set_b(objA.f(20.))\n",
    "idp = u_print(idp, objA.a, objA.b)\n"
   ]
  },
  {
   "cell_type": "code",
   "execution_count": 642,
   "id": "12e8f215-6766-45ce-8e3a-062c6d7cc411",
   "metadata": {},
   "outputs": [
    {
     "name": "stdout",
     "output_type": "stream",
     "text": [
      "new a: 40.0\n"
     ]
    }
   ],
   "source": [
    "objA.set_a(40.) # ou bien objA.a = 40."
   ]
  },
  {
   "cell_type": "code",
   "execution_count": 643,
   "id": "a0344673-da03-48c1-955b-7063cb87e9d3",
   "metadata": {},
   "outputs": [
    {
     "name": "stdout",
     "output_type": "stream",
     "text": [
      "compile...\n",
      "5): 40.0 440.0\n"
     ]
    }
   ],
   "source": [
    "objA.set_b(objA.f(11.))\n",
    "idp = u_print(idp, objA.a, objA.b)   # 40.*11. = 440"
   ]
  },
  {
   "cell_type": "markdown",
   "id": "070591a8-9da9-4a10-9cb1-245dcebe185a",
   "metadata": {},
   "source": [
    "## Bilan `self`-statique:\n",
    "- ## faut définir $\\color{red}{\\text{__hash__}}$  et $\\color{red}{\\text{__eq__}}$ (voir pourquoi [Doc. Python](https://docs.python.org/3/reference/datamodel.html#object.__hash__)) avec soin, notament les $\\color{red}{\\text{DeviceArray sont unhastable}}$.\n",
    "- ## 'a' peut-être redéfinit volontairement (avec/sans setter), le résultat de `b` est bien mis à jour"
   ]
  },
  {
   "cell_type": "markdown",
   "id": "046958fb-0843-4495-a7e3-b3cbd2004ad5",
   "metadata": {},
   "source": [
    "# 3eme stratégie: PyTree"
   ]
  },
  {
   "cell_type": "code",
   "execution_count": 700,
   "id": "d04ddf36-db60-4b46-a419-76d6a3b994cb",
   "metadata": {},
   "outputs": [
    {
     "name": "stdout",
     "output_type": "stream",
     "text": [
      "0): 2.0 None\n",
      "compile...\n",
      "b: 20.0 <class 'jaxlib.xla_extension.DeviceArray'>\n",
      "1): 2.0 20.0\n",
      "compile...\n",
      "2): 2.0 22.0\n",
      "3): 3.0 None\n",
      "compile...\n",
      "4): 3.0 60.0\n",
      "compile...\n",
      "5): 3.0 90.0\n",
      "new a: 30.0\n",
      "compile...\n",
      "6): 30.0 900.0\n",
      "7): 3.0 None\n",
      "8): 3.0 60.0\n",
      "9): 3.0 90.0\n",
      ">>>> try an array for var\n",
      "compile...\n",
      "10): 3.0 [90.]\n",
      "compile...\n",
      "11): 3.0 [120.]\n"
     ]
    }
   ],
   "source": [
    "class A():\n",
    "    def __init__(self, a, b=None):   # nouvelle signature\n",
    "        #print(\"Nouveau A\")\n",
    "        self.a = a\n",
    "        self.b = b\n",
    "\n",
    "        \n",
    "    def set_a(self,x):\n",
    "        self.a = x \n",
    "        print(\"new a:\",self.a)\n",
    "\n",
    "    def set_b(self, b):\n",
    "        self.b = b\n",
    "        \n",
    "    @jit                              # <------ self, no more static    !                \n",
    "    def f(self, var):\n",
    "        print(\"compile...\")\n",
    "        return self.a * var\n",
    "\n",
    "    #### PyTree methods....\n",
    "    def tree_flatten(self):\n",
    "        children = (self.b,)         # arrays / dynamic values\n",
    "        aux_data = {'a': self.a}     # static values\n",
    "        return (children, aux_data)\n",
    "\n",
    "    @classmethod                     \n",
    "    def tree_unflatten(cls, aux_data, children):\n",
    "        b = children\n",
    "        a = aux_data['a']\n",
    "        return cls(a=a, b=b ) # doit respected la signature de __init__\n",
    "\n",
    "# register explicit OU usage d'un decorator\n",
    "from jax import tree_util\n",
    "tree_util.register_pytree_node(A,\n",
    "                               A.tree_flatten,\n",
    "                               A.tree_unflatten)  \n",
    "\n",
    "clear_cache\n",
    "idp=0\n",
    "\n",
    "objA = A(2.0)\n",
    "idp = u_print(idp, objA.a, objA.b)\n",
    "\n",
    "b = objA.f(10.)         #  quel est le type de 'b' ??? (*)\n",
    "print(\"b:\", b, type(b))\n",
    "objA.set_b(b)\n",
    "idp = u_print(idp, objA.a, objA.b)\n",
    "\n",
    "objA.set_b(objA.f(11.))\n",
    "idp = u_print(idp, objA.a, objA.b)\n",
    "\n",
    "\n",
    "objA = A(3.0) \n",
    "idp = u_print(idp, objA.a, objA.b)\n",
    "objA.set_b(objA.f(20.))\n",
    "idp = u_print(idp, objA.a, objA.b)\n",
    "objA.set_b(objA.f(30.))\n",
    "idp = u_print(idp, objA.a, objA.b)\n",
    "\n",
    "\n",
    "objA.set_a(30.) \n",
    "objA.set_b(objA.f(30.))\n",
    "idp = u_print(idp, objA.a, objA.b)\n",
    "\n",
    "\n",
    "\n",
    "objA = A(3.0) \n",
    "idp = u_print(idp, objA.a, objA.b)\n",
    "\n",
    "objA.set_b(objA.f(20.))\n",
    "idp = u_print(idp, objA.a, objA.b)\n",
    "\n",
    "objA.set_b(objA.f(30.))\n",
    "idp = u_print(idp, objA.a, objA.b)\n",
    "\n",
    "print(\">>>> try an array for var\")\n",
    "\n",
    "objA.set_b(objA.f(jnp.array([30.])))\n",
    "idp = u_print(idp, objA.a, objA.b)\n",
    "\n",
    "objA.set_b(objA.f(jnp.array([40.])))\n",
    "idp = u_print(idp, objA.a, objA.b)\n",
    "\n"
   ]
  },
  {
   "cell_type": "markdown",
   "id": "85f030b6-704e-406e-ae9f-b9a443b88f8e",
   "metadata": {},
   "source": [
    "## une variation"
   ]
  },
  {
   "cell_type": "code",
   "execution_count": 702,
   "id": "01ad9d0f-e546-447b-bfee-fd2d6343c88a",
   "metadata": {},
   "outputs": [
    {
     "name": "stdout",
     "output_type": "stream",
     "text": [
      "0): 2.0 None\n",
      "compile...\n",
      "1): 2.0 20.0\n",
      "compile...\n",
      "2): 2.0 22.0\n",
      "3): 3.0 None\n",
      "4): 3.0 60.0\n",
      "5): 3.0 90.0\n",
      "6): 30.0 900.0\n",
      "7): 3.0 None\n",
      "8): 3.0 60.0\n",
      "9): 3.0 90.0\n",
      ">>>> try an array for var\n",
      "compile...\n",
      "10): 3.0 [90.]\n",
      "compile...\n",
      "11): 3.0 [120.]\n",
      "12): 3.0 [150.]\n",
      "13): 40.0 [2000.]\n"
     ]
    }
   ],
   "source": [
    "class A():\n",
    "    def __init__(self, a, b=None):\n",
    "        ###print(\"Nouveau A\") ## too verbosy\n",
    "        self.a = a\n",
    "        self.b = b\n",
    "\n",
    "    @jit                                       \n",
    "    def f(self, var):\n",
    "        print(\"compile...\")\n",
    "        new_b = self.a * var\n",
    "        return A(self.a, new_b)       # <---------on retourne un nouvel objet.\n",
    "\n",
    "\n",
    "# registration with  lambda functions    \n",
    "tree_util.register_pytree_node(A,\n",
    "                               lambda x: ((x.a,x.b), None),\n",
    "                               lambda _, x: A(a=x[0],b=x[1]) \n",
    "                              )\n",
    "\n",
    "\n",
    "clear_cache\n",
    "idp=0\n",
    "\n",
    "objA = A(2.0)\n",
    "idp = u_print(idp, objA.a, objA.b)    #0\n",
    "\n",
    "objA = objA.f(10.)\n",
    "idp = u_print(idp,objA.a, objA.b)     #1\n",
    "\n",
    "objA = objA.f(11.)\n",
    "idp = u_print(idp, objA.a, objA.b)    #2\n",
    "\n",
    "####\n",
    "\n",
    "objA = A(3.0) \n",
    "idp = u_print(idp, objA.a, objA.b)     #3\n",
    "objA = objA.f(20.)\n",
    "idp = u_print(idp, objA.a, objA.b)     #4\n",
    "objA= objA.f(30.)\n",
    "idp = u_print(idp, objA.a, objA.b)     #5\n",
    "\n",
    "\n",
    "objA.a = 30.  # permis mais volontaire\n",
    "objA= objA.f(30.)\n",
    "idp = u_print(idp, objA.a, objA.b)     #6\n",
    "\n",
    "####\n",
    "\n",
    "objA = A(3.0) \n",
    "idp = u_print(idp, objA.a, objA.b)     #7\n",
    "\n",
    "objA= objA.f(20.)\n",
    "idp = u_print(idp, objA.a, objA.b)     #8\n",
    "\n",
    "objA= objA.f(30.)\n",
    "idp = u_print(idp, objA.a, objA.b)     #9\n",
    "\n",
    "print(\">>>> try an array for var\")\n",
    "\n",
    "objA= objA.f(jnp.array([30.]))\n",
    "idp = u_print(idp, objA.a, objA.b)     #10\n",
    "\n",
    "objA= objA.f(jnp.array([40.]))\n",
    "idp = u_print(idp, objA.a, objA.b)     #11\n",
    "\n",
    "objA= objA.f(jnp.array([50.]))         \n",
    "idp = u_print(idp, objA.a, objA.b)     #12\n",
    "\n",
    "\n",
    "objA.a = 40. ###\n",
    "objA= objA.f(jnp.array([50.]))\n",
    "idp = u_print(idp, objA.a, objA.b)     #13\n"
   ]
  },
  {
   "cell_type": "markdown",
   "id": "b39f6a8f-9095-4473-b7a9-18224bb20875",
   "metadata": {},
   "source": [
    "## Q: pourquoi une compilation entre 10) et 11)?"
   ]
  },
  {
   "cell_type": "markdown",
   "id": "700a7729-ee05-45d3-886a-d2def96dde5e",
   "metadata": {},
   "source": [
    "# Bilan PyTree\n",
    "\n",
    "- ## on doit mettre en place d'une façon ou d'une autre `tree_flatten` et `tree_unflatten` avec soin\n",
    "- ## le changement de `a` est bien assimilé\n",
    "- ## choix d'implémention avec `nouvel objet à chaque fois` ou `setter` de la variable interne à changer\n"
   ]
  },
  {
   "cell_type": "markdown",
   "id": "37463d4f-6f28-4889-87af-cac10593f8f0",
   "metadata": {},
   "source": [
    "# Autres variations sur un autre example"
   ]
  },
  {
   "cell_type": "code",
   "execution_count": 698,
   "id": "b0c64eeb-c0e3-43c5-a63d-7d328fda3e34",
   "metadata": {},
   "outputs": [
    {
     "name": "stdout",
     "output_type": "stream",
     "text": [
      "1st... go\n",
      "compile...\n",
      "res: p:[0.0461 0.5961],[0.02 0.52]\n",
      "2nd... go\n",
      "compile...\n",
      "(DeviceArray([0.0461, 0.5961], dtype=float64), DeviceArray([0.02, 0.52], dtype=float64))\n",
      "3rd... go\n",
      "compile...\n",
      "(DeviceArray([0.0461, 0.5961], dtype=float64), DeviceArray([0.02, 0.52], dtype=float64), DeviceArray(0.01, dtype=float64, weak_type=True))\n"
     ]
    }
   ],
   "source": [
    "clear_cache\n",
    "\n",
    "class World:\n",
    "    def __init__(self, p, v):\n",
    "        self.p = p\n",
    "        self.v = v\n",
    "\n",
    "    @jit\n",
    "    def step(self, dt):\n",
    "        print(\"compile...\")\n",
    "        a = -9.8\n",
    "        new_v = self.v + a * dt\n",
    "        new_p = self.p + new_v * dt\n",
    "        return World(new_p, new_v)\n",
    "\n",
    "# By registering 'World' as a pytree, it turns into a transparent container and\n",
    "# can be used as an argument to any JAX-transformed functions.\n",
    "register_pytree_node(World,\n",
    "                     lambda x: ((x.p, x.v), None),\n",
    "                     lambda _, tup: World(tup[0], tup[1]))\n",
    "\n",
    "print(\"1st... go\")\n",
    "\n",
    "world = World(jnp.array([0., 0.5]), jnp.array([1., 1.5]))\n",
    "\n",
    "for i in range(10):\n",
    "    world = world.step(0.01)\n",
    "\n",
    "print('res:', f\"p:{world.p},{world.v}\")\n",
    "\n",
    "######\n",
    "print(\"2nd... go\")\n",
    "\n",
    "class World:\n",
    "    def __init__(self, p, v):\n",
    "        self.p = p\n",
    "        self.v = v\n",
    "\n",
    "    def step(self, dt):\n",
    "        a = - 9.8\n",
    "        self.v += a * dt\n",
    "        self.p += self.v *dt\n",
    "\n",
    "@jit\n",
    "def run(init_p, init_v):\n",
    "    print(\"compile...\")\n",
    "    world = World(init_p, init_v)\n",
    "    for i in range(10):\n",
    "        world.step(0.01)\n",
    "    return world.p, world.v\n",
    "\n",
    "out = run(np.array([0, 0.5]), np.array([1, 1.5]))\n",
    "print(out)\n",
    "\n",
    "\n",
    "######\n",
    "print(\"3rd... go\")\n",
    "#def fori_loop(lower, upper, body_fun, init_val):\n",
    "#  val = init_val\n",
    "#  for i in range(lower, upper):\n",
    "#    val = body_fun(i, val)\n",
    "#  return val\n",
    "\n",
    "def body(i,carry):\n",
    "    print(\"compile...\")\n",
    "    a = -9.8\n",
    "    \n",
    "    p  = carry[0]\n",
    "    v  = carry[1]\n",
    "    dt = carry[2]\n",
    "    \n",
    "    new_v = v + a * dt\n",
    "    new_p = p + new_v * dt\n",
    "    \n",
    "    return (new_p, new_v, dt)\n",
    "\n",
    "init_world = (jnp.array([0., 0.5]), jnp.array([1., 1.5]), 0.01)\n",
    "res = jax.lax.fori_loop(0,10,body, init_world)\n",
    "print(res)\n",
    "\n",
    "    \n",
    "    \n"
   ]
  },
  {
   "cell_type": "markdown",
   "id": "d7aeaa8a-5eb4-4da6-bbd5-1ad1dceb4d00",
   "metadata": {},
   "source": [
    "# Takeaway message (JIT dans une classe):\n",
    "- plusieurs méthodes: `helper`, `self`-static, `Pytree`\n",
    "-  ne faut pas utiliser `self.<var> =` dans une fonction jitted (sinon `side` effect). Au passage l'analyse du code par JIT se fait via `Traced<ShapedArray>`\n",
    "- usage des `__hash__` et `__eq__`, et les `DeviceArray` sont `unhastable`\n",
    "- quand se déclenche la compilation (JIT) \n",
    "- et `fori_loop` qui déclenche la compilation même si on ne le demande pas...\n",
    "\n",
    "- Voir également la doc [to-jit-or-not-to-jit](https://jax.readthedocs.io/en/latest/notebooks/thinking_in_jax.html?highlight=Traced%3CShapedArray%3E#to-jit-or-not-to-jit)"
   ]
  },
  {
   "cell_type": "code",
   "execution_count": null,
   "id": "a3aeec0d-c665-435c-af3e-d910dc9206be",
   "metadata": {},
   "outputs": [],
   "source": []
  }
 ],
 "metadata": {
  "jupytext": {
   "text_representation": {
    "extension": ".py",
    "format_name": "light",
    "format_version": "1.5",
    "jupytext_version": "1.11.3"
   }
  },
  "kernelspec": {
   "display_name": "JaxTutos",
   "language": "python",
   "name": "jaxtutos"
  },
  "language_info": {
   "codemirror_mode": {
    "name": "ipython",
    "version": 3
   },
   "file_extension": ".py",
   "mimetype": "text/x-python",
   "name": "python",
   "nbconvert_exporter": "python",
   "pygments_lexer": "ipython3",
   "version": "3.8.13"
  }
 },
 "nbformat": 4,
 "nbformat_minor": 5
}
