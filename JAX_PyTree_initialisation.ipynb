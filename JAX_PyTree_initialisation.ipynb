{
  "nbformat": 4,
  "nbformat_minor": 0,
  "metadata": {
    "colab": {
      "provenance": [],
      "authorship_tag": "ABX9TyOtLesgRuxBrb7JLMgc5K1y",
      "include_colab_link": true
    },
    "kernelspec": {
      "name": "python3",
      "display_name": "Python 3"
    },
    "language_info": {
      "name": "python"
    }
  },
  "cells": [
    {
      "cell_type": "markdown",
      "metadata": {
        "id": "view-in-github",
        "colab_type": "text"
      },
      "source": [
        "<a href=\"https://colab.research.google.com/github/jecampagne/JaxTutos/blob/main/JAX_PyTree_initialisation.ipynb\" target=\"_parent\"><img src=\"https://colab.research.google.com/assets/colab-badge.svg\" alt=\"Open In Colab\"/></a>"
      ]
    },
    {
      "cell_type": "code",
      "execution_count": 60,
      "metadata": {
        "id": "awI0tvPtkd-k"
      },
      "outputs": [],
      "source": [
        "import jax\n",
        "from jax import lax, grad, jit, vmap\n",
        "from jax.tree_util import register_pytree_node_class\n",
        "\n",
        "import jax.numpy as jnp"
      ]
    },
    {
      "cell_type": "code",
      "source": [
        "jax.__version__"
      ],
      "metadata": {
        "id": "WVBuuMNbDfn6",
        "outputId": "87490021-0b0a-468f-a7a6-cfb45a01b7a8",
        "colab": {
          "base_uri": "https://localhost:8080/",
          "height": 36
        }
      },
      "execution_count": 61,
      "outputs": [
        {
          "output_type": "execute_result",
          "data": {
            "text/plain": [
              "'0.4.26'"
            ],
            "application/vnd.google.colaboratory.intrinsic+json": {
              "type": "string"
            }
          },
          "metadata": {},
          "execution_count": 61
        }
      ]
    },
    {
      "cell_type": "markdown",
      "source": [
        "# Topic: more on PyTrees\n",
        "\n",
        " - When tree_flatten/tree_unflatten are triggered?\n",
        " - Initialisation that crashes: Why? a solution\n",
        " - More advenced with different kinds of variable usage"
      ],
      "metadata": {
        "id": "z8LJTNRsknZc"
      }
    },
    {
      "cell_type": "markdown",
      "source": [
        "## When tree_flatten/tree_unflatten are triggered <=> statefull initialisation"
      ],
      "metadata": {
        "id": "NpTL3uiYrMaM"
      }
    },
    {
      "cell_type": "code",
      "source": [
        "@register_pytree_node_class\n",
        "class State:\n",
        "  def __init__(self, n: int):\n",
        "    self.n = n\n",
        "    self.stateful()\n",
        "    jax.debug.print('   n = {} # init', self.n)  # this print the value not the kind of Array Traced by JAX\n",
        "\n",
        "  def stateful(self):\n",
        "    self.n += 100\n",
        "\n",
        "  def tree_flatten(self):\n",
        "    jax.debug.print('   n = {} # flatten', self.n + 10)\n",
        "    return (self.n,), {}\n",
        "\n",
        "  @classmethod\n",
        "  def tree_unflatten(cls, aux_data, children):\n",
        "    n, = children\n",
        "    jax.debug.print('   n = {} # unflatten', n + 1)\n",
        "    return cls(n)  # runs `__init__` and in turn `stateful`"
      ],
      "metadata": {
        "id": "1PYK22yvklZl"
      },
      "execution_count": 62,
      "outputs": []
    },
    {
      "cell_type": "markdown",
      "source": [
        "As a reminder jax.lax.scan is equivalent of\n",
        "```python\n",
        "def scan(f, init, xs, length=None):\n",
        "  if xs is None:\n",
        "    xs = [None] * length\n",
        "  carry = init\n",
        "  ys = []\n",
        "  for x in xs:\n",
        "    carry, y = f(carry, x)\n",
        "    ys.append(y)\n",
        "  return carry, np.stack(ys)\n",
        "```"
      ],
      "metadata": {
        "id": "p8CzvEKjngTA"
      }
    },
    {
      "cell_type": "code",
      "source": [
        "def body_fun(carry, i):\n",
        "  # unflatten\n",
        "  # - __init__\n",
        "  jax.debug.print('---')\n",
        "  jax.debug.print('{}: n = {} # body', i, carry.n)\n",
        "  # flatten\n",
        "  return carry, carry.n   # carry.n is the \"y\"\n",
        "\n",
        "s = State(0)   # this is the carry\n",
        "xs = jnp.arange(3, dtype=jnp.int16)\n",
        "print(\"xs:\", xs)\n",
        "print('xxx')\n",
        "_, y = lax.scan(body_fun, s, xs)   # scan will first compile body_fun\n",
        "print(\"y: \",y)"
      ],
      "metadata": {
        "colab": {
          "base_uri": "https://localhost:8080/"
        },
        "id": "3SBaQouElBXj",
        "outputId": "8a8272f0-dcad-47af-e863-b8a9e0e4f257"
      },
      "execution_count": 63,
      "outputs": [
        {
          "output_type": "stream",
          "name": "stdout",
          "text": [
            "   n = 100 # init\n",
            "xs: [0 1 2]\n",
            "xxx\n",
            "   n = 110 # flatten\n",
            "   n = 110 # flatten\n",
            "   n = 110 # flatten\n",
            "   n = 110 # flatten\n",
            "   n = 101 # unflatten\n",
            "   n = 200 # init\n",
            "---\n",
            "0: n = 200 # body\n",
            "   n = 210 # flatten\n",
            "   n = 201 # unflatten\n",
            "   n = 300 # init\n",
            "---\n",
            "1: n = 300 # body\n",
            "   n = 310 # flatten\n",
            "   n = 301 # unflatten\n",
            "   n = 400 # init\n",
            "---\n",
            "2: n = 400 # body\n",
            "   n = 410 # flatten\n",
            "   n = 401 # unflatten\n",
            "   n = 500 # init\n",
            "y:  [200 300 400]\n"
          ]
        }
      ]
    },
    {
      "cell_type": "markdown",
      "source": [
        "You see that : this is the body output that is stored , but the initialisation is called before and so the state of the object is silently changed before the scan is performed."
      ],
      "metadata": {
        "id": "vJ6NNpfYnHtk"
      }
    },
    {
      "cell_type": "markdown",
      "source": [
        "## Initialisation of a PyTree"
      ],
      "metadata": {
        "id": "H652hpxDrU0v"
      }
    },
    {
      "cell_type": "markdown",
      "source": [
        "### Let us start with a crash"
      ],
      "metadata": {
        "id": "ZtYO3UKHrdTt"
      }
    },
    {
      "cell_type": "code",
      "source": [
        "class BaseObj():\n",
        "    def __init__(self, *, gsparams=None, **params):\n",
        "      self._params = params      # Dictionary containing all traced parameters\n",
        "      self._gsparams = gsparams  # Non-traced static parameters\n",
        "      jax.debug.print('Init BaseObj')\n",
        "\n",
        "\n",
        "    @property\n",
        "    def gsparams(self):\n",
        "        \"\"\"A `GSParams` object that sets various parameters relevant for speed/accuracy trade-offs.\"\"\"\n",
        "        return self._gsparams\n",
        "\n",
        "    @property\n",
        "    def params(self):\n",
        "        \"\"\"A Dictionary object containing all parameters of the internal represention of this object.\"\"\"\n",
        "        return self._params\n",
        "\n",
        "\n",
        "    def tree_flatten(self):\n",
        "        \"\"\"This function flattens the BaseObj into a list of children\n",
        "        nodes that will be traced by JAX and auxiliary static data.\"\"\"\n",
        "        jax.debug.print('tree_flatten')\n",
        "        # Define the children nodes of the PyTree that need tracing\n",
        "        children = (self.params,)\n",
        "        # Define auxiliary static data that doesn’t need to be traced\n",
        "        aux_data = {\"gsparams\": self.gsparams}\n",
        "        return (children, aux_data)\n",
        "\n",
        "    @classmethod\n",
        "    def tree_unflatten(cls, aux_data, children):\n",
        "        \"\"\"Recreates an instance of the class from flatten representation\"\"\"\n",
        "        jax.debug.print('tree_unflatten')\n",
        "        return cls(**(children[0]), **aux_data)\n",
        "\n",
        "@register_pytree_node_class\n",
        "class T(BaseObj):\n",
        "  def __init__(self, a, gsparams=None):\n",
        "    super().__init__(a=a, gsparams=gsparams)\n",
        "\n",
        "    jax.debug.print(\"Init T: a={}, type {}\",a, type(a))\n",
        "    self._m = a*2     #<<<<<<<<<<<<<<  pb if decommented\n",
        "\n",
        "\n",
        "  @property\n",
        "  def a(self):\n",
        "    return self.params[\"a\"]\n",
        "\n",
        "  def f(self,x):\n",
        "    return self.a*x + self._m"
      ],
      "metadata": {
        "id": "_KlwKeEqlQ77"
      },
      "execution_count": 64,
      "outputs": []
    },
    {
      "cell_type": "markdown",
      "source": [
        "If I instantiate a collection of T objs and apply a vmap"
      ],
      "metadata": {
        "id": "PUZD0lq7r8ow"
      }
    },
    {
      "cell_type": "code",
      "source": [
        "avals = jnp.pi * jnp.array([1.,2.])\n",
        "ts = T(avals)"
      ],
      "metadata": {
        "colab": {
          "base_uri": "https://localhost:8080/"
        },
        "id": "3aFrEmrVr3yv",
        "outputId": "1fba9a38-39a2-4591-aead-34caab6ee822"
      },
      "execution_count": 65,
      "outputs": [
        {
          "output_type": "stream",
          "name": "stdout",
          "text": [
            "Init BaseObj\n",
            "Init T: a=[3.1415927 6.2831855], type <class 'jaxlib.xla_extension.ArrayImpl'>\n"
          ]
        }
      ]
    },
    {
      "cell_type": "code",
      "source": [
        "jax.vmap(lambda t: t.f(1.))(ts)"
      ],
      "metadata": {
        "colab": {
          "base_uri": "https://localhost:8080/",
          "height": 412
        },
        "id": "kb_uJy1er_nx",
        "outputId": "3bc64fbb-a6cc-4f84-ee55-900515b81398"
      },
      "execution_count": 66,
      "outputs": [
        {
          "output_type": "stream",
          "name": "stdout",
          "text": [
            "tree_flatten\n",
            "tree_unflatten\n",
            "Init BaseObj\n",
            "Init T: a=<object object at 0x79e1ac147b30>, type <class 'object'>\n"
          ]
        },
        {
          "output_type": "error",
          "ename": "TypeError",
          "evalue": "unsupported operand type(s) for *: 'object' and 'int'",
          "traceback": [
            "\u001b[0;31m---------------------------------------------------------------------------\u001b[0m",
            "\u001b[0;31mTypeError\u001b[0m                                 Traceback (most recent call last)",
            "\u001b[0;32m<ipython-input-66-06b641f62fff>\u001b[0m in \u001b[0;36m<cell line: 1>\u001b[0;34m()\u001b[0m\n\u001b[0;32m----> 1\u001b[0;31m \u001b[0mjax\u001b[0m\u001b[0;34m.\u001b[0m\u001b[0mvmap\u001b[0m\u001b[0;34m(\u001b[0m\u001b[0;32mlambda\u001b[0m \u001b[0mt\u001b[0m\u001b[0;34m:\u001b[0m \u001b[0mt\u001b[0m\u001b[0;34m.\u001b[0m\u001b[0mf\u001b[0m\u001b[0;34m(\u001b[0m\u001b[0;36m1.\u001b[0m\u001b[0;34m)\u001b[0m\u001b[0;34m)\u001b[0m\u001b[0;34m(\u001b[0m\u001b[0mts\u001b[0m\u001b[0;34m)\u001b[0m\u001b[0;34m\u001b[0m\u001b[0;34m\u001b[0m\u001b[0m\n\u001b[0m",
            "    \u001b[0;31m[... skipping hidden 4 frame]\u001b[0m\n",
            "\u001b[0;32m<ipython-input-64-1039d0fc5c8b>\u001b[0m in \u001b[0;36mtree_unflatten\u001b[0;34m(cls, aux_data, children)\u001b[0m\n\u001b[1;32m     31\u001b[0m         \u001b[0;34m\"\"\"Recreates an instance of the class from flatten representation\"\"\"\u001b[0m\u001b[0;34m\u001b[0m\u001b[0;34m\u001b[0m\u001b[0m\n\u001b[1;32m     32\u001b[0m         \u001b[0mjax\u001b[0m\u001b[0;34m.\u001b[0m\u001b[0mdebug\u001b[0m\u001b[0;34m.\u001b[0m\u001b[0mprint\u001b[0m\u001b[0;34m(\u001b[0m\u001b[0;34m'tree_unflatten'\u001b[0m\u001b[0;34m)\u001b[0m\u001b[0;34m\u001b[0m\u001b[0;34m\u001b[0m\u001b[0m\n\u001b[0;32m---> 33\u001b[0;31m         \u001b[0;32mreturn\u001b[0m \u001b[0mcls\u001b[0m\u001b[0;34m(\u001b[0m\u001b[0;34m**\u001b[0m\u001b[0;34m(\u001b[0m\u001b[0mchildren\u001b[0m\u001b[0;34m[\u001b[0m\u001b[0;36m0\u001b[0m\u001b[0;34m]\u001b[0m\u001b[0;34m)\u001b[0m\u001b[0;34m,\u001b[0m \u001b[0;34m**\u001b[0m\u001b[0maux_data\u001b[0m\u001b[0;34m)\u001b[0m\u001b[0;34m\u001b[0m\u001b[0;34m\u001b[0m\u001b[0m\n\u001b[0m\u001b[1;32m     34\u001b[0m \u001b[0;34m\u001b[0m\u001b[0m\n\u001b[1;32m     35\u001b[0m \u001b[0;34m@\u001b[0m\u001b[0mregister_pytree_node_class\u001b[0m\u001b[0;34m\u001b[0m\u001b[0;34m\u001b[0m\u001b[0m\n",
            "\u001b[0;32m<ipython-input-64-1039d0fc5c8b>\u001b[0m in \u001b[0;36m__init__\u001b[0;34m(self, a, gsparams)\u001b[0m\n\u001b[1;32m     39\u001b[0m \u001b[0;34m\u001b[0m\u001b[0m\n\u001b[1;32m     40\u001b[0m     \u001b[0mjax\u001b[0m\u001b[0;34m.\u001b[0m\u001b[0mdebug\u001b[0m\u001b[0;34m.\u001b[0m\u001b[0mprint\u001b[0m\u001b[0;34m(\u001b[0m\u001b[0;34m\"Init T: a={}, type {}\"\u001b[0m\u001b[0;34m,\u001b[0m\u001b[0ma\u001b[0m\u001b[0;34m,\u001b[0m \u001b[0mtype\u001b[0m\u001b[0;34m(\u001b[0m\u001b[0ma\u001b[0m\u001b[0;34m)\u001b[0m\u001b[0;34m)\u001b[0m\u001b[0;34m\u001b[0m\u001b[0;34m\u001b[0m\u001b[0m\n\u001b[0;32m---> 41\u001b[0;31m     \u001b[0mself\u001b[0m\u001b[0;34m.\u001b[0m\u001b[0m_m\u001b[0m \u001b[0;34m=\u001b[0m \u001b[0ma\u001b[0m\u001b[0;34m*\u001b[0m\u001b[0;36m2\u001b[0m     \u001b[0;31m#<<<<<<<<<<<<<<  pb if decommented\u001b[0m\u001b[0;34m\u001b[0m\u001b[0;34m\u001b[0m\u001b[0m\n\u001b[0m\u001b[1;32m     42\u001b[0m \u001b[0;34m\u001b[0m\u001b[0m\n\u001b[1;32m     43\u001b[0m \u001b[0;34m\u001b[0m\u001b[0m\n",
            "\u001b[0;31mTypeError\u001b[0m: unsupported operand type(s) for *: 'object' and 'int'"
          ]
        }
      ]
    },
    {
      "cell_type": "markdown",
      "source": [
        "As you see `a` is Traced object, so it does not make sense to perform any operation with it. Notice that the crash doesn't depends of the \"super\" init position.\n",
        "\n",
        "### One simple solution in that case"
      ],
      "metadata": {
        "id": "9Asf6kWqt6hO"
      }
    },
    {
      "cell_type": "code",
      "source": [
        "@register_pytree_node_class\n",
        "class T(BaseObj):\n",
        "  def __init__(self, a, gsparams=None):\n",
        "    super().__init__(a=a, gsparams=gsparams)\n",
        "\n",
        "    jax.debug.print(\"Init T: a={}\",a)\n",
        "\n",
        "\n",
        "  @property\n",
        "  def _m(self):                #<-----\n",
        "    return self.a * 2\n",
        "\n",
        "  @property\n",
        "  def a(self):\n",
        "    return self.params[\"a\"]\n",
        "\n",
        "  @jit\n",
        "  def f(self,x):\n",
        "    return self.a*x + self._m"
      ],
      "metadata": {
        "id": "yK7FzMOntQQM"
      },
      "execution_count": 67,
      "outputs": []
    },
    {
      "cell_type": "code",
      "source": [
        "avals = jnp.pi * jnp.array([1.,2.])\n",
        "ts = T(avals)"
      ],
      "metadata": {
        "colab": {
          "base_uri": "https://localhost:8080/"
        },
        "id": "56lXz9ZMv0wx",
        "outputId": "daff45f5-b6b6-48a9-80a6-bef86b401b77"
      },
      "execution_count": 68,
      "outputs": [
        {
          "output_type": "stream",
          "name": "stdout",
          "text": [
            "Init BaseObj\n",
            "Init T: a=[3.1415927 6.2831855]\n"
          ]
        }
      ]
    },
    {
      "cell_type": "code",
      "source": [
        "jax.vmap(lambda t: t.f(1.))(ts)"
      ],
      "metadata": {
        "colab": {
          "base_uri": "https://localhost:8080/"
        },
        "id": "26jMLXrhv3-v",
        "outputId": "a1cd1f86-f1d1-45c3-c589-c9463f6a3d67"
      },
      "execution_count": 69,
      "outputs": [
        {
          "output_type": "stream",
          "name": "stdout",
          "text": [
            "tree_flatten\n",
            "tree_unflatten\n",
            "Init BaseObj\n",
            "Init T: a=<object object at 0x79e1ac147d20>\n",
            "tree_flatten\n",
            "tree_unflatten\n",
            "Init BaseObj\n",
            "Init T: a=3.1415927410125732\n",
            "Init T: a=6.2831854820251465\n",
            "tree_flatten\n",
            "tree_flatten\n",
            "tree_flatten\n",
            "tree_unflatten\n",
            "Init BaseObj\n",
            "Init T: a=3.1415927410125732\n",
            "Init T: a=6.2831854820251465\n"
          ]
        },
        {
          "output_type": "execute_result",
          "data": {
            "text/plain": [
              "Array([ 9.424778, 18.849556], dtype=float32)"
            ]
          },
          "metadata": {},
          "execution_count": 69
        }
      ]
    },
    {
      "cell_type": "code",
      "source": [
        "jax.vmap(lambda t: t.f(2.))(ts)"
      ],
      "metadata": {
        "colab": {
          "base_uri": "https://localhost:8080/"
        },
        "id": "rQXr-1jjx092",
        "outputId": "9758be54-723c-46df-9bbc-e30525fa3a7f"
      },
      "execution_count": 70,
      "outputs": [
        {
          "output_type": "stream",
          "name": "stdout",
          "text": [
            "tree_flatten\n",
            "tree_unflatten\n",
            "Init BaseObj\n",
            "Init T: a=<object object at 0x79e1ac147e00>\n",
            "tree_flatten\n",
            "tree_unflatten\n",
            "Init BaseObj\n",
            "Init T: a=3.1415927410125732\n",
            "Init T: a=6.2831854820251465\n",
            "tree_flatten\n",
            "tree_flatten\n",
            "tree_flatten\n",
            "tree_unflatten\n",
            "Init BaseObj\n",
            "Init T: a=3.1415927410125732\n",
            "Init T: a=6.2831854820251465\n"
          ]
        },
        {
          "output_type": "execute_result",
          "data": {
            "text/plain": [
              "Array([12.566371, 25.132742], dtype=float32)"
            ]
          },
          "metadata": {},
          "execution_count": 70
        }
      ]
    },
    {
      "cell_type": "markdown",
      "source": [
        "It works as expected but may be not convenient if the computation of `_m` in the above example needs a more sophisticated plan. Ie. we do not want to repeate it if for instance an other function need it."
      ],
      "metadata": {
        "id": "xB_NYjfww8zk"
      }
    },
    {
      "cell_type": "markdown",
      "source": [
        "## A more complete ex with different kinds of variables\n",
        "\n",
        "The classes below are just for academic purposes to show the init & use of some variables that you can encontered in your use-case.  "
      ],
      "metadata": {
        "id": "Oyb_VchpzO-_"
      }
    },
    {
      "cell_type": "code",
      "source": [
        "from functools import partial\n",
        "\n",
        "from typing import Optional\n",
        "import jax.tree_util as tu\n",
        "from jax import Array, jit, lax, vmap\n",
        "from jax.typing import ArrayLike\n",
        "\n",
        "import numpy as np\n",
        "import numpy.typing as npt\n",
        "rng = np.random.default_rng(0)\n"
      ],
      "metadata": {
        "id": "_7Rdl9DZv8gs"
      },
      "execution_count": 71,
      "outputs": []
    },
    {
      "cell_type": "markdown",
      "source": [
        "### A Numpy class"
      ],
      "metadata": {
        "id": "F2O7xAtJzIkx"
      }
    },
    {
      "cell_type": "code",
      "source": [
        "class ExprNp:\n",
        "  def __init__(self, name: str, steps: int, const: npt.NDArray,\n",
        "               *, start: int = 0):\n",
        "    self.name = name  # metadata\n",
        "    self.steps = steps  # constant, static\n",
        "    self.const = const  # constant, array\n",
        "    # state, initialized in __init__, modified throughout\n",
        "    self._start = start\n",
        "    self._state = np.zeros_like(const, dtype=np.float32)\n",
        "    # value, depends on constant, initialized in __init__, never modified again\n",
        "    self._y = self._init_y(const)\n",
        "    # state, depends on state, initialized in __init__, modified throughout\n",
        "    self._sum = np.zeros(steps)\n",
        "\n",
        "  @property\n",
        "  def state(self):\n",
        "    return self._state , self._sum\n",
        "\n",
        "  @staticmethod\n",
        "  def _init_y(c: npt.NDArray):\n",
        "    return np.sin(c)\n",
        "\n",
        "  def _step(self, i):\n",
        "    self._state += self._y\n",
        "    self._sum[i] += 1\n",
        "\n",
        "  def main(self, steps: Optional[int] = None, *, start: Optional[int] = None):\n",
        "    steps = steps or self.steps\n",
        "    start = start or self._start\n",
        "    end = start + steps\n",
        "    for i in range(start, end):\n",
        "      self._step(i)\n",
        "    self._start = end\n",
        "    return self"
      ],
      "metadata": {
        "id": "K8u0C6qAyyoa"
      },
      "execution_count": 72,
      "outputs": []
    },
    {
      "cell_type": "markdown",
      "source": [
        "### The JAX class"
      ],
      "metadata": {
        "id": "68oW_yxtRjo4"
      }
    },
    {
      "cell_type": "code",
      "source": [
        "#small remark\n",
        "a = None or jnp.array([0.])\n",
        "print(a)"
      ],
      "metadata": {
        "colab": {
          "base_uri": "https://localhost:8080/"
        },
        "id": "2KxMbDNCSJG0",
        "outputId": "6916f127-40f6-40a3-c197-32178dd8d7f6"
      },
      "execution_count": 73,
      "outputs": [
        {
          "output_type": "stream",
          "name": "stdout",
          "text": [
            "[0.]\n"
          ]
        }
      ]
    },
    {
      "cell_type": "code",
      "source": [
        "@register_pytree_node_class\n",
        "class ExprJax:\n",
        "  def __init__(self, name: str, steps: int, const: Array, start: Array,\n",
        "               _state: Array, _sum: Array, _y: Array):\n",
        "    #\n",
        "    # the user should use the explicit init\n",
        "    #\n",
        "\n",
        "    # init in __init__, not changed after\n",
        "    self.name = name    # metadata here a string\n",
        "    self.steps = steps  # constant, static\n",
        "    self.const = const  # constant, array\n",
        "    # state, initialized in __init__, modified throughout\n",
        "    self._start = start\n",
        "    self._state = _state\n",
        "    # state, depends on state, initialized in __init__, modified throughout\n",
        "    self._sum = _sum\n",
        "    self._y = _y\n",
        "\n",
        "  # user initialisation\n",
        "  @classmethod\n",
        "  def init(cls, name: str, steps: int, const: ArrayLike, *, start: int = 0):\n",
        "    _state = jnp.zeros_like(const, dtype=jnp.float32)\n",
        "    _start = jnp.full(_state.shape[:-1], start)\n",
        "    _sum = jnp.zeros(_state.shape[:-1] + (steps,))\n",
        "    _y = cls._y_init(const)  # <<< initilize `y` in the smart constructor\n",
        "    return cls(name, steps, jnp.array(const), _start, _state=_state, _sum=_sum, _y=_y)\n",
        "\n",
        "  @property\n",
        "  def state(self):\n",
        "    return self._state , self._sum\n",
        "\n",
        "  def tree_flatten(self):\n",
        "    # <<< also passing `y` to `tree_flatten` to make sure it's not re-initialized\n",
        "    traced = (self.const, self._start, self._state, self._sum, self._y) #traced Arrays\n",
        "    aux_data = (self.name, self.steps)\n",
        "    # print(\"tree_flatten: \",aux_data, \" | \", children) # decomment if you want what are traced obj...\n",
        "    return traced, aux_data\n",
        "\n",
        "  @classmethod\n",
        "  def tree_unflatten(cls, aux_data, traced):\n",
        "    # print(\"tree_unflatten: \",aux_data, \" | \", children)# decomment if you want what are traced obj...\n",
        "    return cls(*aux_data, *traced)\n",
        "\n",
        "  @staticmethod\n",
        "  def _y_init(const: ArrayLike):\n",
        "    jax.debug.print('y')  # <<< print to verify it's only called once\n",
        "    return jnp.sin(const)\n",
        "\n",
        "  def _step(self, i: Array):\n",
        "    self._state += self._y\n",
        "    self._sum = self._sum.at[i].add(1)\n",
        "\n",
        "  @partial(jit, static_argnums=(1,))\n",
        "  def main(self, steps: Optional[int] = None, *, start: Array = jnp.array(0)):\n",
        "    assert self._state.ndim == 1\n",
        "    steps = steps or self.steps\n",
        "    start = start or self._start\n",
        "\n",
        "    def body(i: int, self: ExprJax):\n",
        "      jax.debug.print(\"body i:{}\",i)\n",
        "      self._step(start + i)\n",
        "      return self\n",
        "\n",
        "    # here we can do better  using scan but let keep simple\n",
        "    # The JIT will be triggered implicitly in cascade: body, _step\n",
        "    self = lax.fori_loop(0, steps, body, self)\n",
        "    self._start = start + steps\n",
        "\n",
        "    return self"
      ],
      "metadata": {
        "id": "qXYIkD7g0F53"
      },
      "execution_count": 74,
      "outputs": []
    },
    {
      "cell_type": "code",
      "source": [
        "N=10\n",
        "nsteps= 6\n",
        "starters = np.arange(N).reshape(2, -1)\n",
        "starters"
      ],
      "metadata": {
        "colab": {
          "base_uri": "https://localhost:8080/"
        },
        "id": "Ngja-25D3Ggv",
        "outputId": "a2eca416-82e8-4088-c245-0e91ec859874"
      },
      "execution_count": 108,
      "outputs": [
        {
          "output_type": "execute_result",
          "data": {
            "text/plain": [
              "array([[0, 1, 2, 3, 4],\n",
              "       [5, 6, 7, 8, 9]])"
            ]
          },
          "metadata": {},
          "execution_count": 108
        }
      ]
    },
    {
      "cell_type": "code",
      "source": [
        "ExprNp('sim_np', N, np.array([5])).main(nsteps).state\n",
        "# return self._state and  self._sum where _sum is an array of N bit elements with only the first nsteps elements are 1"
      ],
      "metadata": {
        "id": "dWs6lnQFGR6g",
        "outputId": "fa384abb-5226-4303-a7be-5de6f9f047cd",
        "colab": {
          "base_uri": "https://localhost:8080/"
        }
      },
      "execution_count": 109,
      "outputs": [
        {
          "output_type": "execute_result",
          "data": {
            "text/plain": [
              "(array([-5.7535458], dtype=float32),\n",
              " array([1., 1., 1., 1., 1., 1., 0., 0., 0., 0.]))"
            ]
          },
          "metadata": {},
          "execution_count": 109
        }
      ]
    },
    {
      "cell_type": "code",
      "source": [
        "#Numpy case\n",
        "res_np = [ExprNp('sim_np', N, s).main(nsteps).state for s in starters]\n",
        "res_np"
      ],
      "metadata": {
        "colab": {
          "base_uri": "https://localhost:8080/"
        },
        "id": "xuj7G1Lh4dey",
        "outputId": "e1228de8-d24a-4608-a2cb-db9dc6111583"
      },
      "execution_count": 110,
      "outputs": [
        {
          "output_type": "execute_result",
          "data": {
            "text/plain": [
              "[(array([ 0.        ,  5.048826  ,  5.4557843 ,  0.84672004, -4.540815  ],\n",
              "        dtype=float32),\n",
              "  array([1., 1., 1., 1., 1., 1., 0., 0., 0., 0.])),\n",
              " (array([-5.7535458, -1.6764929,  3.9419198,  5.9361496,  2.4727108],\n",
              "        dtype=float32),\n",
              "  array([1., 1., 1., 1., 1., 1., 0., 0., 0., 0.]))]"
            ]
          },
          "metadata": {},
          "execution_count": 110
        }
      ]
    },
    {
      "cell_type": "code",
      "source": [
        "#just to see what is computed\n",
        "y = np.sin(starters)*nsteps\n",
        "y"
      ],
      "metadata": {
        "colab": {
          "base_uri": "https://localhost:8080/"
        },
        "id": "7GOB4B8R4iyh",
        "outputId": "f4bdf9e2-6816-421f-f108-3e32d4295893"
      },
      "execution_count": 111,
      "outputs": [
        {
          "output_type": "execute_result",
          "data": {
            "text/plain": [
              "array([[ 0.        ,  5.04882591,  5.45578456,  0.84672005, -4.54081497],\n",
              "       [-5.75354565, -1.67649299,  3.94191959,  5.93614948,  2.47271091]])"
            ]
          },
          "metadata": {},
          "execution_count": 111
        }
      ]
    },
    {
      "cell_type": "code",
      "source": [
        "[s for s in starters]"
      ],
      "metadata": {
        "colab": {
          "base_uri": "https://localhost:8080/"
        },
        "id": "JBhm-_fxL_Kg",
        "outputId": "ef13598a-4e9c-4f1e-9336-258965fd5de6"
      },
      "execution_count": 112,
      "outputs": [
        {
          "output_type": "execute_result",
          "data": {
            "text/plain": [
              "[array([0, 1, 2, 3, 4]), array([5, 6, 7, 8, 9])]"
            ]
          },
          "metadata": {},
          "execution_count": 112
        }
      ]
    },
    {
      "cell_type": "code",
      "source": [
        "# as a list comprehension\n",
        "res_jax = [ExprJax.init('sim_jax',N, s).main(nsteps).state for s in starters]\n",
        "res_jax"
      ],
      "metadata": {
        "colab": {
          "base_uri": "https://localhost:8080/"
        },
        "id": "mIGUJQWd6Oxg",
        "outputId": "1f31387f-a739-47ad-d2cc-2da0a5d45b01"
      },
      "execution_count": 114,
      "outputs": [
        {
          "output_type": "stream",
          "name": "stdout",
          "text": [
            "y\n",
            "body i:0\n",
            "body i:1\n",
            "body i:2\n",
            "body i:3\n",
            "body i:4\n",
            "body i:5\n",
            "y\n",
            "body i:0\n",
            "body i:1\n",
            "body i:2\n",
            "body i:3\n",
            "body i:4\n",
            "body i:5\n"
          ]
        },
        {
          "output_type": "execute_result",
          "data": {
            "text/plain": [
              "[(Array([ 0.        ,  5.0488253 ,  5.4557843 ,  0.84672004, -4.540815  ],      dtype=float32),\n",
              "  Array([1., 1., 1., 1., 1., 1., 0., 0., 0., 0.], dtype=float32)),\n",
              " (Array([-5.7535458, -1.6764929,  3.9419198,  5.9361496,  2.4727108],      dtype=float32),\n",
              "  Array([1., 1., 1., 1., 1., 1., 0., 0., 0., 0.], dtype=float32))]"
            ]
          },
          "metadata": {},
          "execution_count": 114
        }
      ]
    },
    {
      "cell_type": "code",
      "source": [
        "# as a vmap on ExprJax objects\n",
        "sim_jax = ExprJax.init('sim_jax', N, starters)\n",
        "print(\"sim_jax: \", sim_jax)\n",
        "res_mapped = jit(vmap(partial(ExprJax.main, steps=nsteps)))(sim_jax)\n",
        "res_mapped.state"
      ],
      "metadata": {
        "colab": {
          "base_uri": "https://localhost:8080/"
        },
        "id": "UL8s1mHTAHYm",
        "outputId": "17b49847-6bee-417c-ec9b-1f76eef50d60"
      },
      "execution_count": 115,
      "outputs": [
        {
          "output_type": "stream",
          "name": "stdout",
          "text": [
            "y\n",
            "sim_jax:  <__main__.ExprJax object at 0x79e16453d510>\n",
            "body i:0\n",
            "body i:1\n",
            "body i:2\n",
            "body i:3\n",
            "body i:4\n",
            "body i:5\n"
          ]
        },
        {
          "output_type": "execute_result",
          "data": {
            "text/plain": [
              "(Array([[ 0.        ,  5.0488253 ,  5.4557843 ,  0.84672004, -4.540815  ],\n",
              "        [-5.7535458 , -1.6764929 ,  3.9419198 ,  5.9361496 ,  2.4727108 ]],      dtype=float32),\n",
              " Array([[1., 1., 1., 1., 1., 1., 0., 0., 0., 0.],\n",
              "        [1., 1., 1., 1., 1., 1., 0., 0., 0., 0.]], dtype=float32))"
            ]
          },
          "metadata": {},
          "execution_count": 115
        }
      ]
    },
    {
      "cell_type": "code",
      "source": [
        "# A way to examine all outputs of a and b for comparison\n",
        "def tree_allclose(a, b):\n",
        "  return all(tu.tree_leaves(tu.tree_map(np.allclose, a, b)))"
      ],
      "metadata": {
        "id": "UaXNkf3wGrgb"
      },
      "execution_count": 116,
      "outputs": []
    },
    {
      "cell_type": "code",
      "source": [
        "tree_allclose(res_jax, res_np)"
      ],
      "metadata": {
        "id": "vvu-PZeGGzkS",
        "outputId": "cc682f8d-2d48-4ee8-ff3f-ac039a43e986",
        "colab": {
          "base_uri": "https://localhost:8080/"
        }
      },
      "execution_count": 117,
      "outputs": [
        {
          "output_type": "execute_result",
          "data": {
            "text/plain": [
              "True"
            ]
          },
          "metadata": {},
          "execution_count": 117
        }
      ]
    },
    {
      "cell_type": "code",
      "source": [
        "tu.tree_map(lambda *a: np.stack(a), *res_np)"
      ],
      "metadata": {
        "id": "ioM2V9SEKjok",
        "outputId": "39463618-697f-4598-d29f-d75b956a2578",
        "colab": {
          "base_uri": "https://localhost:8080/"
        }
      },
      "execution_count": 118,
      "outputs": [
        {
          "output_type": "execute_result",
          "data": {
            "text/plain": [
              "(array([[ 0.        ,  5.048826  ,  5.4557843 ,  0.84672004, -4.540815  ],\n",
              "        [-5.7535458 , -1.6764929 ,  3.9419198 ,  5.9361496 ,  2.4727108 ]],\n",
              "       dtype=float32),\n",
              " array([[1., 1., 1., 1., 1., 1., 0., 0., 0., 0.],\n",
              "        [1., 1., 1., 1., 1., 1., 0., 0., 0., 0.]]))"
            ]
          },
          "metadata": {},
          "execution_count": 118
        }
      ]
    },
    {
      "cell_type": "code",
      "source": [
        "res_mapped.state"
      ],
      "metadata": {
        "id": "uQU1MTLHKs_5",
        "outputId": "1ce19f22-059a-4ea6-c2d7-f2b5094899be",
        "colab": {
          "base_uri": "https://localhost:8080/"
        }
      },
      "execution_count": 119,
      "outputs": [
        {
          "output_type": "execute_result",
          "data": {
            "text/plain": [
              "(Array([[ 0.        ,  5.0488253 ,  5.4557843 ,  0.84672004, -4.540815  ],\n",
              "        [-5.7535458 , -1.6764929 ,  3.9419198 ,  5.9361496 ,  2.4727108 ]],      dtype=float32),\n",
              " Array([[1., 1., 1., 1., 1., 1., 0., 0., 0., 0.],\n",
              "        [1., 1., 1., 1., 1., 1., 0., 0., 0., 0.]], dtype=float32))"
            ]
          },
          "metadata": {},
          "execution_count": 119
        }
      ]
    },
    {
      "cell_type": "code",
      "source": [
        "tree_allclose(res_mapped.state, tu.tree_map(lambda *a: np.stack(a), *res_np))"
      ],
      "metadata": {
        "id": "1KYzxQEJHStr",
        "outputId": "b8133d69-531f-43c4-9ad2-23336096e235",
        "colab": {
          "base_uri": "https://localhost:8080/"
        }
      },
      "execution_count": 120,
      "outputs": [
        {
          "output_type": "execute_result",
          "data": {
            "text/plain": [
              "True"
            ]
          },
          "metadata": {},
          "execution_count": 120
        }
      ]
    },
    {
      "cell_type": "code",
      "source": [
        "#using JIT & Vmap\n",
        "\n",
        "run3 = jit(vmap(partial(ExprJax.main, steps=3)))    #3 steps\n",
        "run6 = jit(vmap(partial(ExprJax.main, steps=6)))    #6 steps\n",
        "\n",
        "sim_jax33 = run3(run3(ExprJax.init('sim_jax', N, starters)))  # apply twice the 3steps function\n",
        "sim_jax6 = run6(ExprJax.init('sim_jax', N, starters))         # apply once  the 6steps function\n"
      ],
      "metadata": {
        "colab": {
          "base_uri": "https://localhost:8080/"
        },
        "id": "I5VGYK-pAy2S",
        "outputId": "91f93de8-add6-4dbc-f841-b12a8b01d005"
      },
      "execution_count": 121,
      "outputs": [
        {
          "output_type": "stream",
          "name": "stdout",
          "text": [
            "y\n",
            "body i:0\n",
            "body i:1\n",
            "body i:2\n",
            "body i:0\n",
            "body i:1\n",
            "body i:2\n",
            "y\n",
            "body i:0\n",
            "body i:1\n",
            "body i:2\n",
            "body i:3\n",
            "body i:4\n",
            "body i:5\n"
          ]
        }
      ]
    },
    {
      "cell_type": "code",
      "source": [
        "tree_allclose(res_jax, res_np)"
      ],
      "metadata": {
        "id": "gQDGCcK0Gyk1",
        "outputId": "b8b3025d-14fc-486e-e2ba-3e85e356325b",
        "colab": {
          "base_uri": "https://localhost:8080/"
        }
      },
      "execution_count": 122,
      "outputs": [
        {
          "output_type": "execute_result",
          "data": {
            "text/plain": [
              "True"
            ]
          },
          "metadata": {},
          "execution_count": 122
        }
      ]
    },
    {
      "cell_type": "code",
      "source": [
        "sim_jax33.state"
      ],
      "metadata": {
        "colab": {
          "base_uri": "https://localhost:8080/"
        },
        "id": "J7MXIQ1vQaCU",
        "outputId": "6150b2e0-d1b3-4f6f-a058-edeac75adb51"
      },
      "execution_count": 123,
      "outputs": [
        {
          "output_type": "execute_result",
          "data": {
            "text/plain": [
              "(Array([[ 0.        ,  5.0488253 ,  5.4557843 ,  0.84672004, -4.540815  ],\n",
              "        [-5.7535458 , -1.6764929 ,  3.9419198 ,  5.9361496 ,  2.4727108 ]],      dtype=float32),\n",
              " Array([[1., 1., 1., 1., 1., 1., 0., 0., 0., 0.],\n",
              "        [1., 1., 1., 1., 1., 1., 0., 0., 0., 0.]], dtype=float32))"
            ]
          },
          "metadata": {},
          "execution_count": 123
        }
      ]
    },
    {
      "cell_type": "code",
      "source": [
        "sim_jax6.state"
      ],
      "metadata": {
        "colab": {
          "base_uri": "https://localhost:8080/"
        },
        "id": "DXMkWouQQcOl",
        "outputId": "374327bf-2330-4e9e-88aa-7e9a68cc930a"
      },
      "execution_count": 124,
      "outputs": [
        {
          "output_type": "execute_result",
          "data": {
            "text/plain": [
              "(Array([[ 0.        ,  5.0488253 ,  5.4557843 ,  0.84672004, -4.540815  ],\n",
              "        [-5.7535458 , -1.6764929 ,  3.9419198 ,  5.9361496 ,  2.4727108 ]],      dtype=float32),\n",
              " Array([[1., 1., 1., 1., 1., 1., 0., 0., 0., 0.],\n",
              "        [1., 1., 1., 1., 1., 1., 0., 0., 0., 0.]], dtype=float32))"
            ]
          },
          "metadata": {},
          "execution_count": 124
        }
      ]
    },
    {
      "cell_type": "markdown",
      "source": [
        "# Takeaway\n",
        "\n",
        "- simple initialisation as in the case of Numpy cannot be used in JAX PyTree. Reminder: see JAX_JIT_in_class notebook to see why PyTrees should be considered.\n",
        "- initialisation should be adapted to each kind of variables later usage\n"
      ],
      "metadata": {
        "id": "_XN5OdqjRwUv"
      }
    },
    {
      "cell_type": "code",
      "source": [],
      "metadata": {
        "id": "SCepKbhHQiaM"
      },
      "execution_count": null,
      "outputs": []
    }
  ]
}