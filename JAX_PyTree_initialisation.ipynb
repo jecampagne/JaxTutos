{
  "nbformat": 4,
  "nbformat_minor": 0,
  "metadata": {
    "colab": {
      "provenance": [],
      "toc_visible": true,
      "authorship_tag": "ABX9TyMk2QR03Tkt6hOn2OxW+qmg",
      "include_colab_link": true
    },
    "kernelspec": {
      "name": "python3",
      "display_name": "Python 3"
    },
    "language_info": {
      "name": "python"
    }
  },
  "cells": [
    {
      "cell_type": "markdown",
      "metadata": {
        "id": "view-in-github",
        "colab_type": "text"
      },
      "source": [
        "<a href=\"https://colab.research.google.com/github/jecampagne/JaxTutos/blob/main/JAX_PyTree_initialisation.ipynb\" target=\"_parent\"><img src=\"https://colab.research.google.com/assets/colab-badge.svg\" alt=\"Open In Colab\"/></a>"
      ]
    },
    {
      "cell_type": "code",
      "execution_count": 1,
      "metadata": {
        "id": "awI0tvPtkd-k"
      },
      "outputs": [],
      "source": [
        "import jax\n",
        "from jax import lax, grad, jit, vmap\n",
        "from jax.tree_util import register_pytree_node_class\n",
        "\n",
        "import jax.numpy as jnp"
      ]
    },
    {
      "cell_type": "code",
      "source": [
        "jax.__version__"
      ],
      "metadata": {
        "id": "WVBuuMNbDfn6",
        "outputId": "361f6705-12e1-4118-dbf2-c78206f5181d",
        "colab": {
          "base_uri": "https://localhost:8080/",
          "height": 36
        }
      },
      "execution_count": 2,
      "outputs": [
        {
          "output_type": "execute_result",
          "data": {
            "text/plain": [
              "'0.4.6'"
            ],
            "application/vnd.google.colaboratory.intrinsic+json": {
              "type": "string"
            }
          },
          "metadata": {},
          "execution_count": 2
        }
      ]
    },
    {
      "cell_type": "markdown",
      "source": [
        "# Topic: more on PyTrees\n",
        "\n",
        " - When tree_flatten/tree_unflatten are triggered?\n",
        " - Initialisation that crashes: Why? a solution\n",
        " - More advenced with different kinds of variable usage"
      ],
      "metadata": {
        "id": "z8LJTNRsknZc"
      }
    },
    {
      "cell_type": "markdown",
      "source": [
        "## When tree_flatten/tree_unflatten are triggered <=> statefull initialisation"
      ],
      "metadata": {
        "id": "NpTL3uiYrMaM"
      }
    },
    {
      "cell_type": "code",
      "source": [
        "@register_pytree_node_class\n",
        "class State:\n",
        "  def __init__(self, n: int):\n",
        "    self.n = n\n",
        "    self.stateful()\n",
        "    jax.debug.print('   n = {} # init', self.n)  # this print the value not the kind of Array Traced by JAX\n",
        "\n",
        "  def stateful(self):\n",
        "    self.n += 100\n",
        "\n",
        "  def tree_flatten(self):\n",
        "    jax.debug.print('   n = {} # flatten', self.n + 10)\n",
        "    return (self.n,), {}\n",
        "\n",
        "  @classmethod\n",
        "  def tree_unflatten(cls, aux_data, children):\n",
        "    n, = children\n",
        "    jax.debug.print('   n = {} # unflatten', n + 1)\n",
        "    return cls(n)  # runs `__init__` and in turn `stateful`"
      ],
      "metadata": {
        "id": "1PYK22yvklZl"
      },
      "execution_count": 3,
      "outputs": []
    },
    {
      "cell_type": "markdown",
      "source": [
        "As a reminder jax.lax.scan is equivalent of\n",
        "```python\n",
        "def scan(f, init, xs, length=None):\n",
        "  if xs is None:\n",
        "    xs = [None] * length\n",
        "  carry = init\n",
        "  ys = []\n",
        "  for x in xs:\n",
        "    carry, y = f(carry, x)\n",
        "    ys.append(y)\n",
        "  return carry, np.stack(ys)\n",
        "```"
      ],
      "metadata": {
        "id": "p8CzvEKjngTA"
      }
    },
    {
      "cell_type": "code",
      "source": [
        "def body_fun(carry, i):\n",
        "  # unflatten\n",
        "  # - __init__\n",
        "  jax.debug.print('---')\n",
        "  jax.debug.print('{}: n = {} # body', i, carry.n)\n",
        "  # flatten\n",
        "  return carry, carry.n   # carry.n is the \"y\"\n",
        "\n",
        "s = State(0)   # this is the carry\n",
        "xs = jnp.arange(3, dtype=jnp.int16)\n",
        "print(\"xs:\", xs)\n",
        "print('xxx')\n",
        "_, y = lax.scan(body_fun, s, xs)   # scan will first compile body_fun\n",
        "print(\"y: \",y)"
      ],
      "metadata": {
        "colab": {
          "base_uri": "https://localhost:8080/"
        },
        "id": "3SBaQouElBXj",
        "outputId": "30a713ca-1316-42f1-d6e0-a8b82575cb2a"
      },
      "execution_count": 4,
      "outputs": [
        {
          "output_type": "stream",
          "name": "stdout",
          "text": [
            "   n = 100 # init\n"
          ]
        },
        {
          "output_type": "stream",
          "name": "stderr",
          "text": [
            "WARNING:jax._src.xla_bridge:No GPU/TPU found, falling back to CPU. (Set TF_CPP_MIN_LOG_LEVEL=0 and rerun for more info.)\n"
          ]
        },
        {
          "output_type": "stream",
          "name": "stdout",
          "text": [
            "xs: [0 1 2]\n",
            "xxx\n",
            "   n = 110 # flatten\n",
            "   n = 110 # flatten\n",
            "   n = 101 # unflatten\n",
            "   n = 200 # init\n",
            "---\n",
            "0: n = 200 # body\n",
            "   n = 210 # flatten\n",
            "   n = 201 # unflatten\n",
            "   n = 300 # init\n",
            "---\n",
            "1: n = 300 # body\n",
            "   n = 310 # flatten\n",
            "   n = 301 # unflatten\n",
            "   n = 400 # init\n",
            "---\n",
            "2: n = 400 # body\n",
            "   n = 410 # flatten\n",
            "   n = 401 # unflatten\n",
            "   n = 500 # init\n",
            "y:  [200 300 400]\n"
          ]
        }
      ]
    },
    {
      "cell_type": "markdown",
      "source": [
        "You see that : this is the body output that is stored , but the initialisation is called before and so the state of the object is silently changed before the scan is performed."
      ],
      "metadata": {
        "id": "vJ6NNpfYnHtk"
      }
    },
    {
      "cell_type": "markdown",
      "source": [
        "## Initialisation of a PyTree"
      ],
      "metadata": {
        "id": "H652hpxDrU0v"
      }
    },
    {
      "cell_type": "markdown",
      "source": [
        "### Let us start with a crash"
      ],
      "metadata": {
        "id": "ZtYO3UKHrdTt"
      }
    },
    {
      "cell_type": "code",
      "source": [
        "class BaseObj():\n",
        "    def __init__(self, *, gsparams=None, **params):\n",
        "      self._params = params      # Dictionary containing all traced parameters\n",
        "      self._gsparams = gsparams  # Non-traced static parameters\n",
        "      jax.debug.print('Init BaseObj') \n",
        "\n",
        "\n",
        "    @property\n",
        "    def gsparams(self):\n",
        "        \"\"\"A `GSParams` object that sets various parameters relevant for speed/accuracy trade-offs.\"\"\"\n",
        "        return self._gsparams\n",
        "\n",
        "    @property\n",
        "    def params(self):\n",
        "        \"\"\"A Dictionary object containing all parameters of the internal represention of this object.\"\"\"\n",
        "        return self._params\n",
        "\n",
        "\n",
        "    def tree_flatten(self):\n",
        "        \"\"\"This function flattens the BaseObj into a list of children\n",
        "        nodes that will be traced by JAX and auxiliary static data.\"\"\"\n",
        "        jax.debug.print('tree_flatten') \n",
        "        # Define the children nodes of the PyTree that need tracing\n",
        "        children = (self.params,)\n",
        "        # Define auxiliary static data that doesn’t need to be traced\n",
        "        aux_data = {\"gsparams\": self.gsparams}\n",
        "        return (children, aux_data)\n",
        "\n",
        "    @classmethod\n",
        "    def tree_unflatten(cls, aux_data, children):\n",
        "        \"\"\"Recreates an instance of the class from flatten representation\"\"\"\n",
        "        jax.debug.print('tree_unflatten') \n",
        "        return cls(**(children[0]), **aux_data)\n",
        "\n",
        "@register_pytree_node_class\n",
        "class T(BaseObj):\n",
        "  def __init__(self, a, gsparams=None):\n",
        "    super().__init__(a=a, gsparams=gsparams)\n",
        "\n",
        "    jax.debug.print(\"Init T: a={}, type {}\",a, type(a)) \n",
        "    self._m = a*2     #<<<<<<<<<<<<<<  pb if decommented\n",
        "\n",
        "\n",
        "  @property\n",
        "  def a(self):\n",
        "    return self.params[\"a\"]\n",
        "  \n",
        "  def f(self,x):\n",
        "    return self.a*x + self._m"
      ],
      "metadata": {
        "id": "_KlwKeEqlQ77"
      },
      "execution_count": 5,
      "outputs": []
    },
    {
      "cell_type": "markdown",
      "source": [
        "If I instantiate a collection of T objs and apply a vmap"
      ],
      "metadata": {
        "id": "PUZD0lq7r8ow"
      }
    },
    {
      "cell_type": "code",
      "source": [
        "avals = jnp.pi * jnp.array([1.,2.])\n",
        "ts = T(avals)"
      ],
      "metadata": {
        "colab": {
          "base_uri": "https://localhost:8080/"
        },
        "id": "3aFrEmrVr3yv",
        "outputId": "2a7cd0e2-e017-4f4d-b339-eea9025db7c7"
      },
      "execution_count": 6,
      "outputs": [
        {
          "output_type": "stream",
          "name": "stdout",
          "text": [
            "Init BaseObj\n",
            "Init T: a=[3.1415927 6.2831855], type <class 'jaxlib.xla_extension.ArrayImpl'>\n"
          ]
        }
      ]
    },
    {
      "cell_type": "code",
      "source": [
        "jax.vmap(lambda t: t.f(1.))(ts)"
      ],
      "metadata": {
        "colab": {
          "base_uri": "https://localhost:8080/",
          "height": 584
        },
        "id": "kb_uJy1er_nx",
        "outputId": "2e5217ca-2967-4278-ce89-e758a06a657b"
      },
      "execution_count": 7,
      "outputs": [
        {
          "output_type": "stream",
          "name": "stdout",
          "text": [
            "tree_flatten\n",
            "tree_unflatten\n",
            "Init BaseObj\n",
            "Init T: a=<object object at 0x7fdcdd598920>, type <class 'object'>\n"
          ]
        },
        {
          "output_type": "error",
          "ename": "TypeError",
          "evalue": "ignored",
          "traceback": [
            "\u001b[0;31m---------------------------------------------------------------------------\u001b[0m",
            "\u001b[0;31mUnfilteredStackTrace\u001b[0m                      Traceback (most recent call last)",
            "\u001b[0;32m<ipython-input-7-06b641f62fff>\u001b[0m in \u001b[0;36m<module>\u001b[0;34m\u001b[0m\n\u001b[0;32m----> 1\u001b[0;31m \u001b[0mjax\u001b[0m\u001b[0;34m.\u001b[0m\u001b[0mvmap\u001b[0m\u001b[0;34m(\u001b[0m\u001b[0;32mlambda\u001b[0m \u001b[0mt\u001b[0m\u001b[0;34m:\u001b[0m \u001b[0mt\u001b[0m\u001b[0;34m.\u001b[0m\u001b[0mf\u001b[0m\u001b[0;34m(\u001b[0m\u001b[0;36m1.\u001b[0m\u001b[0;34m)\u001b[0m\u001b[0;34m)\u001b[0m\u001b[0;34m(\u001b[0m\u001b[0mts\u001b[0m\u001b[0;34m)\u001b[0m\u001b[0;34m\u001b[0m\u001b[0;34m\u001b[0m\u001b[0m\n\u001b[0m",
            "\u001b[0;32m/usr/local/lib/python3.9/dist-packages/jax/_src/traceback_util.py\u001b[0m in \u001b[0;36mreraise_with_filtered_traceback\u001b[0;34m(*args, **kwargs)\u001b[0m\n\u001b[1;32m    165\u001b[0m     \u001b[0;32mtry\u001b[0m\u001b[0;34m:\u001b[0m\u001b[0;34m\u001b[0m\u001b[0;34m\u001b[0m\u001b[0m\n\u001b[0;32m--> 166\u001b[0;31m       \u001b[0;32mreturn\u001b[0m \u001b[0mfun\u001b[0m\u001b[0;34m(\u001b[0m\u001b[0;34m*\u001b[0m\u001b[0margs\u001b[0m\u001b[0;34m,\u001b[0m \u001b[0;34m**\u001b[0m\u001b[0mkwargs\u001b[0m\u001b[0;34m)\u001b[0m\u001b[0;34m\u001b[0m\u001b[0;34m\u001b[0m\u001b[0m\n\u001b[0m\u001b[1;32m    167\u001b[0m     \u001b[0;32mexcept\u001b[0m \u001b[0mException\u001b[0m \u001b[0;32mas\u001b[0m \u001b[0me\u001b[0m\u001b[0;34m:\u001b[0m\u001b[0;34m\u001b[0m\u001b[0;34m\u001b[0m\u001b[0m\n",
            "\u001b[0;32m/usr/local/lib/python3.9/dist-packages/jax/_src/api.py\u001b[0m in \u001b[0;36mvmap_f\u001b[0;34m(*args, **kwargs)\u001b[0m\n\u001b[1;32m   1769\u001b[0m     \u001b[0mflat_fun\u001b[0m\u001b[0;34m,\u001b[0m \u001b[0mout_tree\u001b[0m \u001b[0;34m=\u001b[0m \u001b[0mbatching\u001b[0m\u001b[0;34m.\u001b[0m\u001b[0mflatten_fun_for_vmap\u001b[0m\u001b[0;34m(\u001b[0m\u001b[0mf\u001b[0m\u001b[0;34m,\u001b[0m \u001b[0min_tree\u001b[0m\u001b[0;34m)\u001b[0m\u001b[0;34m\u001b[0m\u001b[0;34m\u001b[0m\u001b[0m\n\u001b[0;32m-> 1770\u001b[0;31m     \u001b[0min_axes_flat\u001b[0m \u001b[0;34m=\u001b[0m \u001b[0mflatten_axes\u001b[0m\u001b[0;34m(\u001b[0m\u001b[0;34m\"vmap in_axes\"\u001b[0m\u001b[0;34m,\u001b[0m \u001b[0min_tree\u001b[0m\u001b[0;34m,\u001b[0m \u001b[0;34m(\u001b[0m\u001b[0min_axes\u001b[0m\u001b[0;34m,\u001b[0m \u001b[0;36m0\u001b[0m\u001b[0;34m)\u001b[0m\u001b[0;34m,\u001b[0m \u001b[0mkws\u001b[0m\u001b[0;34m=\u001b[0m\u001b[0;32mTrue\u001b[0m\u001b[0;34m)\u001b[0m\u001b[0;34m\u001b[0m\u001b[0;34m\u001b[0m\u001b[0m\n\u001b[0m\u001b[1;32m   1771\u001b[0m     axis_size_ = (axis_size if axis_size is not None else\n",
            "\u001b[0;32m/usr/local/lib/python3.9/dist-packages/jax/_src/api_util.py\u001b[0m in \u001b[0;36mflatten_axes\u001b[0;34m(name, treedef, axis_tree, kws, tupled_args)\u001b[0m\n\u001b[1;32m    415\u001b[0m   \u001b[0mproxy\u001b[0m \u001b[0;34m=\u001b[0m \u001b[0mobject\u001b[0m\u001b[0;34m(\u001b[0m\u001b[0;34m)\u001b[0m\u001b[0;34m\u001b[0m\u001b[0;34m\u001b[0m\u001b[0m\n\u001b[0;32m--> 416\u001b[0;31m   \u001b[0mdummy\u001b[0m \u001b[0;34m=\u001b[0m \u001b[0mtree_unflatten\u001b[0m\u001b[0;34m(\u001b[0m\u001b[0mtreedef\u001b[0m\u001b[0;34m,\u001b[0m \u001b[0;34m[\u001b[0m\u001b[0mobject\u001b[0m\u001b[0;34m(\u001b[0m\u001b[0;34m)\u001b[0m\u001b[0;34m]\u001b[0m \u001b[0;34m*\u001b[0m \u001b[0mtreedef\u001b[0m\u001b[0;34m.\u001b[0m\u001b[0mnum_leaves\u001b[0m\u001b[0;34m)\u001b[0m\u001b[0;34m\u001b[0m\u001b[0;34m\u001b[0m\u001b[0m\n\u001b[0m\u001b[1;32m    417\u001b[0m   \u001b[0maxes\u001b[0m \u001b[0;34m=\u001b[0m \u001b[0;34m[\u001b[0m\u001b[0;34m]\u001b[0m\u001b[0;34m\u001b[0m\u001b[0;34m\u001b[0m\u001b[0m\n",
            "\u001b[0;32m/usr/local/lib/python3.9/dist-packages/jax/_src/tree_util.py\u001b[0m in \u001b[0;36mtree_unflatten\u001b[0;34m(treedef, leaves)\u001b[0m\n\u001b[1;32m     76\u001b[0m   \"\"\"\n\u001b[0;32m---> 77\u001b[0;31m   \u001b[0;32mreturn\u001b[0m \u001b[0mtreedef\u001b[0m\u001b[0;34m.\u001b[0m\u001b[0munflatten\u001b[0m\u001b[0;34m(\u001b[0m\u001b[0mleaves\u001b[0m\u001b[0;34m)\u001b[0m\u001b[0;34m\u001b[0m\u001b[0;34m\u001b[0m\u001b[0m\n\u001b[0m\u001b[1;32m     78\u001b[0m \u001b[0;34m\u001b[0m\u001b[0m\n",
            "\u001b[0;32m<ipython-input-5-1039d0fc5c8b>\u001b[0m in \u001b[0;36mtree_unflatten\u001b[0;34m(cls, aux_data, children)\u001b[0m\n\u001b[1;32m     32\u001b[0m         \u001b[0mjax\u001b[0m\u001b[0;34m.\u001b[0m\u001b[0mdebug\u001b[0m\u001b[0;34m.\u001b[0m\u001b[0mprint\u001b[0m\u001b[0;34m(\u001b[0m\u001b[0;34m'tree_unflatten'\u001b[0m\u001b[0;34m)\u001b[0m\u001b[0;34m\u001b[0m\u001b[0;34m\u001b[0m\u001b[0m\n\u001b[0;32m---> 33\u001b[0;31m         \u001b[0;32mreturn\u001b[0m \u001b[0mcls\u001b[0m\u001b[0;34m(\u001b[0m\u001b[0;34m**\u001b[0m\u001b[0;34m(\u001b[0m\u001b[0mchildren\u001b[0m\u001b[0;34m[\u001b[0m\u001b[0;36m0\u001b[0m\u001b[0;34m]\u001b[0m\u001b[0;34m)\u001b[0m\u001b[0;34m,\u001b[0m \u001b[0;34m**\u001b[0m\u001b[0maux_data\u001b[0m\u001b[0;34m)\u001b[0m\u001b[0;34m\u001b[0m\u001b[0;34m\u001b[0m\u001b[0m\n\u001b[0m\u001b[1;32m     34\u001b[0m \u001b[0;34m\u001b[0m\u001b[0m\n",
            "\u001b[0;32m<ipython-input-5-1039d0fc5c8b>\u001b[0m in \u001b[0;36m__init__\u001b[0;34m(self, a, gsparams)\u001b[0m\n\u001b[1;32m     40\u001b[0m     \u001b[0mjax\u001b[0m\u001b[0;34m.\u001b[0m\u001b[0mdebug\u001b[0m\u001b[0;34m.\u001b[0m\u001b[0mprint\u001b[0m\u001b[0;34m(\u001b[0m\u001b[0;34m\"Init T: a={}, type {}\"\u001b[0m\u001b[0;34m,\u001b[0m\u001b[0ma\u001b[0m\u001b[0;34m,\u001b[0m \u001b[0mtype\u001b[0m\u001b[0;34m(\u001b[0m\u001b[0ma\u001b[0m\u001b[0;34m)\u001b[0m\u001b[0;34m)\u001b[0m\u001b[0;34m\u001b[0m\u001b[0;34m\u001b[0m\u001b[0m\n\u001b[0;32m---> 41\u001b[0;31m     \u001b[0mself\u001b[0m\u001b[0;34m.\u001b[0m\u001b[0m_m\u001b[0m \u001b[0;34m=\u001b[0m \u001b[0ma\u001b[0m\u001b[0;34m*\u001b[0m\u001b[0;36m2\u001b[0m     \u001b[0;31m#<<<<<<<<<<<<<<  pb if decommented\u001b[0m\u001b[0;34m\u001b[0m\u001b[0;34m\u001b[0m\u001b[0m\n\u001b[0m\u001b[1;32m     42\u001b[0m \u001b[0;34m\u001b[0m\u001b[0m\n",
            "\u001b[0;31mUnfilteredStackTrace\u001b[0m: TypeError: unsupported operand type(s) for *: 'object' and 'int'\n\nThe stack trace below excludes JAX-internal frames.\nThe preceding is the original exception that occurred, unmodified.\n\n--------------------",
            "\nThe above exception was the direct cause of the following exception:\n",
            "\u001b[0;31mTypeError\u001b[0m                                 Traceback (most recent call last)",
            "\u001b[0;32m<ipython-input-7-06b641f62fff>\u001b[0m in \u001b[0;36m<module>\u001b[0;34m\u001b[0m\n\u001b[0;32m----> 1\u001b[0;31m \u001b[0mjax\u001b[0m\u001b[0;34m.\u001b[0m\u001b[0mvmap\u001b[0m\u001b[0;34m(\u001b[0m\u001b[0;32mlambda\u001b[0m \u001b[0mt\u001b[0m\u001b[0;34m:\u001b[0m \u001b[0mt\u001b[0m\u001b[0;34m.\u001b[0m\u001b[0mf\u001b[0m\u001b[0;34m(\u001b[0m\u001b[0;36m1.\u001b[0m\u001b[0;34m)\u001b[0m\u001b[0;34m)\u001b[0m\u001b[0;34m(\u001b[0m\u001b[0mts\u001b[0m\u001b[0;34m)\u001b[0m\u001b[0;34m\u001b[0m\u001b[0;34m\u001b[0m\u001b[0m\n\u001b[0m",
            "\u001b[0;32m<ipython-input-5-1039d0fc5c8b>\u001b[0m in \u001b[0;36mtree_unflatten\u001b[0;34m(cls, aux_data, children)\u001b[0m\n\u001b[1;32m     31\u001b[0m         \u001b[0;34m\"\"\"Recreates an instance of the class from flatten representation\"\"\"\u001b[0m\u001b[0;34m\u001b[0m\u001b[0;34m\u001b[0m\u001b[0m\n\u001b[1;32m     32\u001b[0m         \u001b[0mjax\u001b[0m\u001b[0;34m.\u001b[0m\u001b[0mdebug\u001b[0m\u001b[0;34m.\u001b[0m\u001b[0mprint\u001b[0m\u001b[0;34m(\u001b[0m\u001b[0;34m'tree_unflatten'\u001b[0m\u001b[0;34m)\u001b[0m\u001b[0;34m\u001b[0m\u001b[0;34m\u001b[0m\u001b[0m\n\u001b[0;32m---> 33\u001b[0;31m         \u001b[0;32mreturn\u001b[0m \u001b[0mcls\u001b[0m\u001b[0;34m(\u001b[0m\u001b[0;34m**\u001b[0m\u001b[0;34m(\u001b[0m\u001b[0mchildren\u001b[0m\u001b[0;34m[\u001b[0m\u001b[0;36m0\u001b[0m\u001b[0;34m]\u001b[0m\u001b[0;34m)\u001b[0m\u001b[0;34m,\u001b[0m \u001b[0;34m**\u001b[0m\u001b[0maux_data\u001b[0m\u001b[0;34m)\u001b[0m\u001b[0;34m\u001b[0m\u001b[0;34m\u001b[0m\u001b[0m\n\u001b[0m\u001b[1;32m     34\u001b[0m \u001b[0;34m\u001b[0m\u001b[0m\n\u001b[1;32m     35\u001b[0m \u001b[0;34m@\u001b[0m\u001b[0mregister_pytree_node_class\u001b[0m\u001b[0;34m\u001b[0m\u001b[0;34m\u001b[0m\u001b[0m\n",
            "\u001b[0;32m<ipython-input-5-1039d0fc5c8b>\u001b[0m in \u001b[0;36m__init__\u001b[0;34m(self, a, gsparams)\u001b[0m\n\u001b[1;32m     39\u001b[0m \u001b[0;34m\u001b[0m\u001b[0m\n\u001b[1;32m     40\u001b[0m     \u001b[0mjax\u001b[0m\u001b[0;34m.\u001b[0m\u001b[0mdebug\u001b[0m\u001b[0;34m.\u001b[0m\u001b[0mprint\u001b[0m\u001b[0;34m(\u001b[0m\u001b[0;34m\"Init T: a={}, type {}\"\u001b[0m\u001b[0;34m,\u001b[0m\u001b[0ma\u001b[0m\u001b[0;34m,\u001b[0m \u001b[0mtype\u001b[0m\u001b[0;34m(\u001b[0m\u001b[0ma\u001b[0m\u001b[0;34m)\u001b[0m\u001b[0;34m)\u001b[0m\u001b[0;34m\u001b[0m\u001b[0;34m\u001b[0m\u001b[0m\n\u001b[0;32m---> 41\u001b[0;31m     \u001b[0mself\u001b[0m\u001b[0;34m.\u001b[0m\u001b[0m_m\u001b[0m \u001b[0;34m=\u001b[0m \u001b[0ma\u001b[0m\u001b[0;34m*\u001b[0m\u001b[0;36m2\u001b[0m     \u001b[0;31m#<<<<<<<<<<<<<<  pb if decommented\u001b[0m\u001b[0;34m\u001b[0m\u001b[0;34m\u001b[0m\u001b[0m\n\u001b[0m\u001b[1;32m     42\u001b[0m \u001b[0;34m\u001b[0m\u001b[0m\n\u001b[1;32m     43\u001b[0m \u001b[0;34m\u001b[0m\u001b[0m\n",
            "\u001b[0;31mTypeError\u001b[0m: unsupported operand type(s) for *: 'object' and 'int'"
          ]
        }
      ]
    },
    {
      "cell_type": "markdown",
      "source": [
        "As you see `a` is Traced object, so it does not make sense to perform any operation with it. Notice that the crash doesn't depends of the \"super\" init position.\n",
        "\n",
        "### One simple solution in that case"
      ],
      "metadata": {
        "id": "9Asf6kWqt6hO"
      }
    },
    {
      "cell_type": "code",
      "source": [
        "@register_pytree_node_class\n",
        "class T(BaseObj):\n",
        "  def __init__(self, a, gsparams=None):\n",
        "    super().__init__(a=a, gsparams=gsparams)\n",
        "\n",
        "    jax.debug.print(\"Init T: a={}\",a) \n",
        "\n",
        "\n",
        "  @property\n",
        "  def _m(self):                #<-----\n",
        "    return self.a * 2\n",
        "\n",
        "  @property\n",
        "  def a(self):\n",
        "    return self.params[\"a\"]\n",
        "  \n",
        "  @jit\n",
        "  def f(self,x):\n",
        "    return self.a*x + self._m"
      ],
      "metadata": {
        "id": "yK7FzMOntQQM"
      },
      "execution_count": 8,
      "outputs": []
    },
    {
      "cell_type": "code",
      "source": [
        "avals = jnp.pi * jnp.array([1.,2.])\n",
        "ts = T(avals)"
      ],
      "metadata": {
        "colab": {
          "base_uri": "https://localhost:8080/"
        },
        "id": "56lXz9ZMv0wx",
        "outputId": "1b8d1118-e382-4f73-b19c-b1c78a5f70b8"
      },
      "execution_count": 9,
      "outputs": [
        {
          "output_type": "stream",
          "name": "stdout",
          "text": [
            "Init BaseObj\n",
            "Init T: a=[3.1415927 6.2831855]\n"
          ]
        }
      ]
    },
    {
      "cell_type": "code",
      "source": [
        "jax.vmap(lambda t: t.f(1.))(ts)"
      ],
      "metadata": {
        "colab": {
          "base_uri": "https://localhost:8080/"
        },
        "id": "26jMLXrhv3-v",
        "outputId": "3c320611-9638-4d96-fd03-61b6be5bdc33"
      },
      "execution_count": 10,
      "outputs": [
        {
          "output_type": "stream",
          "name": "stdout",
          "text": [
            "tree_flatten\n",
            "tree_unflatten\n",
            "Init BaseObj\n",
            "Init T: a=<object object at 0x7fdcdd598340>\n",
            "tree_flatten\n",
            "tree_unflatten\n",
            "Init BaseObj\n",
            "Init T: a=3.1415927410125732\n",
            "Init T: a=6.2831854820251465\n",
            "tree_flatten\n",
            "tree_flatten\n",
            "tree_unflatten\n",
            "Init BaseObj\n",
            "Init T: a=3.1415927410125732\n",
            "Init T: a=6.2831854820251465\n"
          ]
        },
        {
          "output_type": "execute_result",
          "data": {
            "text/plain": [
              "Array([ 9.424778, 18.849556], dtype=float32)"
            ]
          },
          "metadata": {},
          "execution_count": 10
        }
      ]
    },
    {
      "cell_type": "code",
      "source": [
        "jax.vmap(lambda t: t.f(2.))(ts)"
      ],
      "metadata": {
        "colab": {
          "base_uri": "https://localhost:8080/"
        },
        "id": "rQXr-1jjx092",
        "outputId": "5da08a44-18dd-4487-f73f-796b8fc57113"
      },
      "execution_count": 11,
      "outputs": [
        {
          "output_type": "stream",
          "name": "stdout",
          "text": [
            "tree_flatten\n",
            "tree_unflatten\n",
            "Init BaseObj\n",
            "Init T: a=<object object at 0x7fdcdd598c50>\n",
            "tree_flatten\n",
            "tree_unflatten\n",
            "Init BaseObj\n",
            "Init T: a=3.1415927410125732\n",
            "Init T: a=6.2831854820251465\n",
            "tree_flatten\n",
            "tree_flatten\n",
            "tree_unflatten\n",
            "Init BaseObj\n",
            "Init T: a=3.1415927410125732\n",
            "Init T: a=6.2831854820251465\n"
          ]
        },
        {
          "output_type": "execute_result",
          "data": {
            "text/plain": [
              "Array([12.566371, 25.132742], dtype=float32)"
            ]
          },
          "metadata": {},
          "execution_count": 11
        }
      ]
    },
    {
      "cell_type": "markdown",
      "source": [
        "It works as expected but may be not convenient it the computation of `_m` in the above example needs a more sophisticated plan. Ie. we do not want to repeate it if for instance an other function need it."
      ],
      "metadata": {
        "id": "xB_NYjfww8zk"
      }
    },
    {
      "cell_type": "markdown",
      "source": [
        "## A more complete ex with different kinds of variables\n",
        "\n",
        "The classes below are just for academic purposes to show the init & use of some variables that you can encontered in your use-case.  "
      ],
      "metadata": {
        "id": "Oyb_VchpzO-_"
      }
    },
    {
      "cell_type": "code",
      "source": [
        "from functools import partial\n",
        "\n",
        "from typing import Optional\n",
        "import jax.tree_util as tu\n",
        "from jax import Array, jit, lax, vmap\n",
        "from jax.typing import ArrayLike\n",
        "\n",
        "import numpy as np\n",
        "import numpy.typing as npt\n",
        "rng = np.random.default_rng(0)\n"
      ],
      "metadata": {
        "id": "_7Rdl9DZv8gs"
      },
      "execution_count": 12,
      "outputs": []
    },
    {
      "cell_type": "markdown",
      "source": [
        "### A Numpy class"
      ],
      "metadata": {
        "id": "F2O7xAtJzIkx"
      }
    },
    {
      "cell_type": "code",
      "source": [
        "class ExprNp:\n",
        "  def __init__(self, name: str, steps: int, const: npt.NDArray,\n",
        "               *, start: int = 0):\n",
        "    self.name = name  # metadata\n",
        "    self.steps = steps  # constant, static\n",
        "    self.const = const  # constant, array\n",
        "    # state, initialized in __init__, modified throughout\n",
        "    self._start = start\n",
        "    self._state = np.zeros_like(const, dtype=np.float32)\n",
        "    # value, depends on constant, initialized in __init__, never modified again\n",
        "    self._y = self._init_y(const)\n",
        "    # state, depends on state, initialized in __init__, modified throughout\n",
        "    self._sum = np.zeros(steps)\n",
        "\n",
        "  @property\n",
        "  def state(self):\n",
        "    return self._state, self._sum\n",
        "\n",
        "  @staticmethod\n",
        "  def _init_y(c: npt.NDArray):\n",
        "    return np.sin(c)\n",
        "\n",
        "  def _step(self, i):\n",
        "    self._state += self._y\n",
        "    self._sum[i] += 1\n",
        "\n",
        "  def main(self, steps: Optional[int] = None, *, start: Optional[int] = None):\n",
        "    steps = steps or self.steps\n",
        "    start = start or self._start\n",
        "    end = start + steps\n",
        "    for i in range(start, end):\n",
        "      self._step(i)\n",
        "    self._start = end\n",
        "    return self"
      ],
      "metadata": {
        "id": "K8u0C6qAyyoa"
      },
      "execution_count": 18,
      "outputs": []
    },
    {
      "cell_type": "markdown",
      "source": [
        "### The JAX class"
      ],
      "metadata": {
        "id": "68oW_yxtRjo4"
      }
    },
    {
      "cell_type": "code",
      "source": [
        "a = None or jnp.array([0.]) \n",
        "print(a)"
      ],
      "metadata": {
        "colab": {
          "base_uri": "https://localhost:8080/"
        },
        "id": "2KxMbDNCSJG0",
        "outputId": "a326137e-d79b-4810-f1b6-38d0f25b8b7b"
      },
      "execution_count": 14,
      "outputs": [
        {
          "output_type": "stream",
          "name": "stdout",
          "text": [
            "[0.]\n"
          ]
        }
      ]
    },
    {
      "cell_type": "code",
      "source": [
        "@register_pytree_node_class\n",
        "class ExprJax:\n",
        "  def __init__(self, name: str, steps: int, const: Array, start: Array,\n",
        "               _state: Array, _sum: Array, _y: Array):\n",
        "    #\n",
        "    # the user should use the explicit init\n",
        "    #\n",
        "\n",
        "    # init in __init__, not changed after\n",
        "    self.name = name    # metadata here a string\n",
        "    self.steps = steps  # constant, static\n",
        "    self.const = const  # constant, array\n",
        "    # state, initialized in __init__, modified throughout\n",
        "    self._start = start \n",
        "    self._state = _state\n",
        "    # state, depends on state, initialized in __init__, modified throughout\n",
        "    self._sum = _sum\n",
        "    self._y = _y\n",
        "\n",
        "  # user initialisation\n",
        "  @classmethod\n",
        "  def init(cls, name: str, steps: int, const: ArrayLike, *, start: int = 0):\n",
        "    _state = jnp.zeros_like(const, dtype=jnp.float32)\n",
        "    _start = jnp.full(_state.shape[:-1], start)\n",
        "    _sum = jnp.zeros(_state.shape[:-1] + (steps,))\n",
        "    _y = cls._y_init(const)  # <<< initilize `y` in the smart constructor\n",
        "    return cls(name, steps, jnp.array(const), _start, _state=_state, _sum=_sum, _y=_y)\n",
        "\n",
        "  @property\n",
        "  def state(self):\n",
        "    return self._state, self._sum\n",
        "\n",
        "  def tree_flatten(self):\n",
        "    # <<< also passing `y` to `tree_flatten` to make sure it's not re-initialized\n",
        "    traced = (self.const, self._start, self._state, self._sum, self._y) #traced Arrays\n",
        "    aux_data = (self.name, self.steps)\n",
        "    # print(\"tree_flatten: \",aux_data, \" | \", children) # decomment if you want what are traced obj...\n",
        "    return traced, aux_data\n",
        "\n",
        "  @classmethod\n",
        "  def tree_unflatten(cls, aux_data, traced):\n",
        "    # print(\"tree_unflatten: \",aux_data, \" | \", children)# decomment if you want what are traced obj...\n",
        "    return cls(*aux_data, *traced)\n",
        "\n",
        "  @staticmethod\n",
        "  def _y_init(const: ArrayLike):\n",
        "    jax.debug.print('y')  # <<< print to verify it's only called once\n",
        "    return jnp.sin(const)\n",
        "\n",
        "  def _step(self, i: Array):\n",
        "    self._state += self._y\n",
        "    self._sum = self._sum.at[i].add(1)\n",
        "\n",
        "  @partial(jit, static_argnums=(1,))   # in case of use printing you need to desable jit\n",
        "  def main(self, steps: Optional[int] = None, *, start: Array = jnp.array(0)):\n",
        "    assert self._state.ndim == 1\n",
        "    steps = steps or self.steps\n",
        "    start = start or self._start\n",
        "\n",
        "    def body(i: int, self: ExprJax):\n",
        "      jax.debug.print(\"body i:{}\",i) \n",
        "      self._step(start + i)\n",
        "      return self\n",
        "\n",
        "    # here we can do better  using scan but let keep simple  \n",
        "    # The JIT will be triggered implicitly in cascade: body, _step\n",
        "    self = lax.fori_loop(0, steps, body, self)    \n",
        "    self._start = start + steps\n",
        "\n",
        "    return self"
      ],
      "metadata": {
        "id": "qXYIkD7g0F53"
      },
      "execution_count": 23,
      "outputs": []
    },
    {
      "cell_type": "code",
      "source": [
        "N=10\n",
        "nsteps= 3\n",
        "starters = np.arange(N).reshape(2, -1)\n",
        "starters"
      ],
      "metadata": {
        "colab": {
          "base_uri": "https://localhost:8080/"
        },
        "id": "Ngja-25D3Ggv",
        "outputId": "292d4a74-eb81-4d0e-f74e-eca6062de70c"
      },
      "execution_count": 16,
      "outputs": [
        {
          "output_type": "execute_result",
          "data": {
            "text/plain": [
              "array([[0, 1, 2, 3, 4],\n",
              "       [5, 6, 7, 8, 9]])"
            ]
          },
          "metadata": {},
          "execution_count": 16
        }
      ]
    },
    {
      "cell_type": "code",
      "source": [
        "#Numpy case\n",
        "res_np = [ExprNp('sim_np', N, s).main(nsteps).state for s in starters]\n",
        "res_np"
      ],
      "metadata": {
        "colab": {
          "base_uri": "https://localhost:8080/"
        },
        "id": "xuj7G1Lh4dey",
        "outputId": "80abeca6-f672-4cee-f078-ee88fa9560b9"
      },
      "execution_count": 19,
      "outputs": [
        {
          "output_type": "execute_result",
          "data": {
            "text/plain": [
              "[(array([ 0.        ,  2.5244129 ,  2.7278922 ,  0.42336002, -2.2704074 ],\n",
              "        dtype=float32), array([1., 1., 1., 0., 0., 0., 0., 0., 0., 0.])),\n",
              " (array([-2.8767729 , -0.83824646,  1.9709598 ,  2.9680748 ,  1.2363554 ],\n",
              "        dtype=float32), array([1., 1., 1., 0., 0., 0., 0., 0., 0., 0.]))]"
            ]
          },
          "metadata": {},
          "execution_count": 19
        }
      ]
    },
    {
      "cell_type": "code",
      "source": [
        "#just to see what is computed\n",
        "y = np.sin(starters)*nsteps\n",
        "y"
      ],
      "metadata": {
        "colab": {
          "base_uri": "https://localhost:8080/"
        },
        "id": "7GOB4B8R4iyh",
        "outputId": "cfd6a471-78ec-4c43-d6d4-aeca8c453854"
      },
      "execution_count": 20,
      "outputs": [
        {
          "output_type": "execute_result",
          "data": {
            "text/plain": [
              "array([[ 0.        ,  2.52441295,  2.72789228,  0.42336002, -2.27040749],\n",
              "       [-2.87677282, -0.83824649,  1.9709598 ,  2.96807474,  1.23635546]])"
            ]
          },
          "metadata": {},
          "execution_count": 20
        }
      ]
    },
    {
      "cell_type": "code",
      "source": [
        "[s for s in starters]"
      ],
      "metadata": {
        "colab": {
          "base_uri": "https://localhost:8080/"
        },
        "id": "JBhm-_fxL_Kg",
        "outputId": "e1bc25a9-d362-40ed-cc6f-f5607f01b3a4"
      },
      "execution_count": 21,
      "outputs": [
        {
          "output_type": "execute_result",
          "data": {
            "text/plain": [
              "[array([0, 1, 2, 3, 4]), array([5, 6, 7, 8, 9])]"
            ]
          },
          "metadata": {},
          "execution_count": 21
        }
      ]
    },
    {
      "cell_type": "code",
      "source": [
        "# as a list comprehension\n",
        "res_jax = [ExprJax.init('sim_jax',N, s).main(nsteps).state for s in starters] \n",
        "res_jax"
      ],
      "metadata": {
        "colab": {
          "base_uri": "https://localhost:8080/"
        },
        "id": "mIGUJQWd6Oxg",
        "outputId": "f7aef9c3-f576-4fdb-cc37-08ef635779c9"
      },
      "execution_count": 24,
      "outputs": [
        {
          "output_type": "stream",
          "name": "stdout",
          "text": [
            "y\n",
            "body i:0\n",
            "body i:1\n",
            "body i:2\n",
            "y\n",
            "body i:0\n",
            "body i:1\n",
            "body i:2\n"
          ]
        },
        {
          "output_type": "execute_result",
          "data": {
            "text/plain": [
              "[(Array([ 0.       ,  2.5244129,  2.7278922,  0.42336  , -2.2704074],      dtype=float32),\n",
              "  Array([1., 1., 1., 0., 0., 0., 0., 0., 0., 0.], dtype=float32)),\n",
              " (Array([-2.8767729 , -0.83824646,  1.9709598 ,  2.9680748 ,  1.2363555 ],      dtype=float32),\n",
              "  Array([1., 1., 1., 0., 0., 0., 0., 0., 0., 0.], dtype=float32))]"
            ]
          },
          "metadata": {},
          "execution_count": 24
        }
      ]
    },
    {
      "cell_type": "code",
      "source": [
        "# as a vmap on ExprJax objects\n",
        "sim_jax = ExprJax.init('sim_jax', N, starters)\n",
        "print(\"sim_jax: \", sim_jax)\n",
        "res_mapped = jit(vmap(partial(ExprJax.main, steps=nsteps)))(sim_jax)\n",
        "res_mapped.state"
      ],
      "metadata": {
        "colab": {
          "base_uri": "https://localhost:8080/"
        },
        "id": "UL8s1mHTAHYm",
        "outputId": "3dba18f3-4fad-49bf-886b-c8e2b23befc2"
      },
      "execution_count": 25,
      "outputs": [
        {
          "output_type": "stream",
          "name": "stdout",
          "text": [
            "y\n",
            "sim_jax:  <__main__.ExprJax object at 0x7fdcb40f0640>\n",
            "body i:0\n",
            "body i:1\n",
            "body i:2\n"
          ]
        },
        {
          "output_type": "execute_result",
          "data": {
            "text/plain": [
              "(Array([[ 0.        ,  2.5244129 ,  2.7278922 ,  0.42336   , -2.2704074 ],\n",
              "        [-2.8767729 , -0.83824646,  1.9709598 ,  2.9680748 ,  1.2363555 ]],      dtype=float32),\n",
              " Array([[1., 1., 1., 0., 0., 0., 0., 0., 0., 0.],\n",
              "        [1., 1., 1., 0., 0., 0., 0., 0., 0., 0.]], dtype=float32))"
            ]
          },
          "metadata": {},
          "execution_count": 25
        }
      ]
    },
    {
      "cell_type": "code",
      "source": [
        "#double the number of steps to shaow the results & compare with later code\n",
        "sim_jax = ExprJax.init('sim_jax', N, starters)\n",
        "res_mapped = jit(vmap(partial(ExprJax.main, steps=2*nsteps)))(sim_jax)\n",
        "res_mapped.state"
      ],
      "metadata": {
        "colab": {
          "base_uri": "https://localhost:8080/"
        },
        "id": "V72wM7FkQ8bO",
        "outputId": "240123c6-943e-4732-c9fa-a3ab5b01ccc4"
      },
      "execution_count": null,
      "outputs": [
        {
          "output_type": "stream",
          "name": "stdout",
          "text": [
            "body i:0\n",
            "body i:1\n",
            "body i:2\n",
            "body i:3\n",
            "body i:4\n",
            "body i:5\n"
          ]
        },
        {
          "output_type": "execute_result",
          "data": {
            "text/plain": [
              "(Array([[ 0.        ,  5.0488253 ,  5.4557843 ,  0.84672004, -4.540815  ],\n",
              "        [-5.7535458 , -1.6764929 ,  3.9419198 ,  5.9361496 ,  2.4727108 ]],      dtype=float32),\n",
              " Array([[1., 1., 1., 1., 1., 1., 0., 0., 0., 0.],\n",
              "        [1., 1., 1., 1., 1., 1., 0., 0., 0., 0.]], dtype=float32))"
            ]
          },
          "metadata": {},
          "execution_count": 162
        }
      ]
    },
    {
      "cell_type": "code",
      "source": [
        "# A way to examine all outputs of a and b for comparison\n",
        "def tree_allclose(a, b):\n",
        "  return all(tu.tree_leaves(tu.tree_map(np.allclose, a, b)))"
      ],
      "metadata": {
        "id": "UaXNkf3wGrgb"
      },
      "execution_count": 29,
      "outputs": []
    },
    {
      "cell_type": "code",
      "source": [
        "tu.tree_leaves(res_jax)"
      ],
      "metadata": {
        "id": "m-QvuqqrG7w1",
        "outputId": "b2df2951-0440-4d64-f1a2-da36f3897825",
        "colab": {
          "base_uri": "https://localhost:8080/"
        }
      },
      "execution_count": 30,
      "outputs": [
        {
          "output_type": "execute_result",
          "data": {
            "text/plain": [
              "[Array([ 0.       ,  2.5244129,  2.7278922,  0.42336  , -2.2704074],      dtype=float32),\n",
              " Array([1., 1., 1., 0., 0., 0., 0., 0., 0., 0.], dtype=float32),\n",
              " Array([-2.8767729 , -0.83824646,  1.9709598 ,  2.9680748 ,  1.2363555 ],      dtype=float32),\n",
              " Array([1., 1., 1., 0., 0., 0., 0., 0., 0., 0.], dtype=float32)]"
            ]
          },
          "metadata": {},
          "execution_count": 30
        }
      ]
    },
    {
      "cell_type": "code",
      "source": [
        "tree_allclose(res_jax, res_np)"
      ],
      "metadata": {
        "id": "vvu-PZeGGzkS",
        "outputId": "76ba77bd-32a9-48f4-bd6b-3d53c86003fc",
        "colab": {
          "base_uri": "https://localhost:8080/"
        }
      },
      "execution_count": 27,
      "outputs": [
        {
          "output_type": "execute_result",
          "data": {
            "text/plain": [
              "True"
            ]
          },
          "metadata": {},
          "execution_count": 27
        }
      ]
    },
    {
      "cell_type": "code",
      "source": [
        "tree_allclose(res_mapped.state, tu.tree_map(lambda *a: np.stack(a), *res_np))"
      ],
      "metadata": {
        "id": "1KYzxQEJHStr",
        "outputId": "ceb64b38-41e7-4e07-e7d0-1d0f6d9897d1",
        "colab": {
          "base_uri": "https://localhost:8080/"
        }
      },
      "execution_count": 31,
      "outputs": [
        {
          "output_type": "execute_result",
          "data": {
            "text/plain": [
              "True"
            ]
          },
          "metadata": {},
          "execution_count": 31
        }
      ]
    },
    {
      "cell_type": "code",
      "source": [
        "#using JIT & Vmap\n",
        "\n",
        "run3 = jit(vmap(partial(ExprJax.main, steps=3)))    #3 steps\n",
        "run6 = jit(vmap(partial(ExprJax.main, steps=6)))    #6 steps\n",
        "\n",
        "sim_jax33 = run3(run3(ExprJax.init('sim_jax', N, starters)))  # apply twice the 3steps function\n",
        "sim_jax6 = run6(ExprJax.init('sim_jax', N, starters))         # apply once  the 6steps function\n"
      ],
      "metadata": {
        "colab": {
          "base_uri": "https://localhost:8080/"
        },
        "id": "I5VGYK-pAy2S",
        "outputId": "7ad514f9-4179-4936-8524-e8004f39c37e"
      },
      "execution_count": 32,
      "outputs": [
        {
          "output_type": "stream",
          "name": "stdout",
          "text": [
            "y\n",
            "body i:0\n",
            "body i:1\n",
            "body i:2\n",
            "body i:0\n",
            "body i:1\n",
            "body i:2\n",
            "y\n",
            "body i:0\n",
            "body i:1\n",
            "body i:2\n",
            "body i:3\n",
            "body i:4\n",
            "body i:5\n"
          ]
        }
      ]
    },
    {
      "cell_type": "code",
      "source": [
        "tree_allclose(res_jax, res_np)"
      ],
      "metadata": {
        "id": "gQDGCcK0Gyk1",
        "outputId": "f224a49d-50e7-409d-b383-5ac4ea587d5c",
        "colab": {
          "base_uri": "https://localhost:8080/"
        }
      },
      "execution_count": 33,
      "outputs": [
        {
          "output_type": "execute_result",
          "data": {
            "text/plain": [
              "True"
            ]
          },
          "metadata": {},
          "execution_count": 33
        }
      ]
    },
    {
      "cell_type": "code",
      "source": [
        "sim_jax33.state"
      ],
      "metadata": {
        "colab": {
          "base_uri": "https://localhost:8080/"
        },
        "id": "J7MXIQ1vQaCU",
        "outputId": "847c3328-291f-4c33-d0d9-b4a4b1d9e147"
      },
      "execution_count": 34,
      "outputs": [
        {
          "output_type": "execute_result",
          "data": {
            "text/plain": [
              "(Array([[ 0.        ,  5.0488253 ,  5.4557843 ,  0.84672004, -4.540815  ],\n",
              "        [-5.7535458 , -1.6764929 ,  3.9419198 ,  5.9361496 ,  2.4727108 ]],      dtype=float32),\n",
              " Array([[1., 1., 1., 1., 1., 1., 0., 0., 0., 0.],\n",
              "        [1., 1., 1., 1., 1., 1., 0., 0., 0., 0.]], dtype=float32))"
            ]
          },
          "metadata": {},
          "execution_count": 34
        }
      ]
    },
    {
      "cell_type": "code",
      "source": [
        "sim_jax6.state"
      ],
      "metadata": {
        "colab": {
          "base_uri": "https://localhost:8080/"
        },
        "id": "DXMkWouQQcOl",
        "outputId": "55ff3e48-afab-4fbb-c1e0-9e10852486c8"
      },
      "execution_count": 35,
      "outputs": [
        {
          "output_type": "execute_result",
          "data": {
            "text/plain": [
              "(Array([[ 0.        ,  5.0488253 ,  5.4557843 ,  0.84672004, -4.540815  ],\n",
              "        [-5.7535458 , -1.6764929 ,  3.9419198 ,  5.9361496 ,  2.4727108 ]],      dtype=float32),\n",
              " Array([[1., 1., 1., 1., 1., 1., 0., 0., 0., 0.],\n",
              "        [1., 1., 1., 1., 1., 1., 0., 0., 0., 0.]], dtype=float32))"
            ]
          },
          "metadata": {},
          "execution_count": 35
        }
      ]
    },
    {
      "cell_type": "markdown",
      "source": [
        "# Takeaway\n",
        "\n",
        "- simple initialisation as in the case of Numpy cannot be used in JAX PyTree. Reminder: see JAX_JIT_in_class notebook to see why PyTrees should be considered.\n",
        "- initialisation should be adapted to each kind of variables later usage\n"
      ],
      "metadata": {
        "id": "_XN5OdqjRwUv"
      }
    },
    {
      "cell_type": "code",
      "source": [],
      "metadata": {
        "id": "SCepKbhHQiaM"
      },
      "execution_count": null,
      "outputs": []
    }
  ]
}