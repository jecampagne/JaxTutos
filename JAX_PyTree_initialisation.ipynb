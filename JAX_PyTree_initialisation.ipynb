{
  "nbformat": 4,
  "nbformat_minor": 0,
  "metadata": {
    "colab": {
      "provenance": [],
      "toc_visible": true,
      "authorship_tag": "ABX9TyMYcdCO8E3kH/NneHWso8RL",
      "include_colab_link": true
    },
    "kernelspec": {
      "name": "python3",
      "display_name": "Python 3"
    },
    "language_info": {
      "name": "python"
    }
  },
  "cells": [
    {
      "cell_type": "markdown",
      "metadata": {
        "id": "view-in-github",
        "colab_type": "text"
      },
      "source": [
        "<a href=\"https://colab.research.google.com/github/jecampagne/JaxTutos/blob/main/JAX_PyTree_initialisation.ipynb\" target=\"_parent\"><img src=\"https://colab.research.google.com/assets/colab-badge.svg\" alt=\"Open In Colab\"/></a>"
      ]
    },
    {
      "cell_type": "code",
      "execution_count": 1,
      "metadata": {
        "id": "awI0tvPtkd-k"
      },
      "outputs": [],
      "source": [
        "import jax\n",
        "from jax import lax, grad, jit, vmap\n",
        "from jax.tree_util import register_pytree_node_class\n",
        "\n",
        "import jax.numpy as jnp"
      ]
    },
    {
      "cell_type": "markdown",
      "source": [
        "# Topic: more on PyTrees\n",
        "\n",
        " - When tree_flatten/tree_unflatten are triggered?\n",
        " - Initialisation that crashes: Why? a solution\n",
        " - More advenced with different kinds of variable usage"
      ],
      "metadata": {
        "id": "z8LJTNRsknZc"
      }
    },
    {
      "cell_type": "markdown",
      "source": [
        "## When tree_flatten/tree_unflatten are triggered <=> statefull initialisation"
      ],
      "metadata": {
        "id": "NpTL3uiYrMaM"
      }
    },
    {
      "cell_type": "code",
      "source": [
        "@register_pytree_node_class\n",
        "class State:\n",
        "  def __init__(self, n: int):\n",
        "    self.n = n\n",
        "    self.stateful()\n",
        "    jax.debug.print('   n = {} # init', self.n)  # this print the value not the kind of Array Traced by JAX\n",
        "\n",
        "  def stateful(self):\n",
        "    self.n += 100\n",
        "\n",
        "  def tree_flatten(self):\n",
        "    jax.debug.print('   n = {} # flatten', self.n + 10)\n",
        "    return (self.n,), {}\n",
        "\n",
        "  @classmethod\n",
        "  def tree_unflatten(cls, aux_data, children):\n",
        "    n, = children\n",
        "    jax.debug.print('   n = {} # unflatten', n + 1)\n",
        "    return cls(n)  # runs `__init__` and in turn `stateful`"
      ],
      "metadata": {
        "id": "1PYK22yvklZl"
      },
      "execution_count": 5,
      "outputs": []
    },
    {
      "cell_type": "markdown",
      "source": [
        "As a reminder jax.lax.scan is equivalent of\n",
        "```python\n",
        "def scan(f, init, xs, length=None):\n",
        "  if xs is None:\n",
        "    xs = [None] * length\n",
        "  carry = init\n",
        "  ys = []\n",
        "  for x in xs:\n",
        "    carry, y = f(carry, x)\n",
        "    ys.append(y)\n",
        "  return carry, np.stack(ys)\n",
        "```"
      ],
      "metadata": {
        "id": "p8CzvEKjngTA"
      }
    },
    {
      "cell_type": "code",
      "source": [
        "def body_fun(carry, i):\n",
        "  # unflatten\n",
        "  # - __init__\n",
        "  jax.debug.print('---')\n",
        "  jax.debug.print('{}: n = {} # body', i, carry.n)\n",
        "  # flatten\n",
        "  return carry, carry.n   # carry.n is the \"y\"\n",
        "\n",
        "s = State(0)   # this is the carry\n",
        "xs = jnp.arange(3, dtype=jnp.int16)\n",
        "print(\"xs:\", xs)\n",
        "print('xxx')\n",
        "_, y = lax.scan(body_fun, s, xs)   # scan will first compile body_fun\n",
        "print(\"y: \",y)"
      ],
      "metadata": {
        "colab": {
          "base_uri": "https://localhost:8080/"
        },
        "id": "3SBaQouElBXj",
        "outputId": "cf1d8ff6-846d-450b-a823-a37a8861e6f0"
      },
      "execution_count": 6,
      "outputs": [
        {
          "output_type": "stream",
          "name": "stdout",
          "text": [
            "   n = 100 # init\n",
            "xs: [0 1 2]\n",
            "xxx\n",
            "   n = 110 # flatten\n",
            "   n = 110 # flatten\n",
            "   n = 101 # unflatten\n",
            "   n = 200 # init\n",
            "---\n",
            "0: n = 200 # body\n",
            "   n = 210 # flatten\n",
            "   n = 201 # unflatten\n",
            "   n = 300 # init\n",
            "---\n",
            "1: n = 300 # body\n",
            "   n = 310 # flatten\n",
            "   n = 301 # unflatten\n",
            "   n = 400 # init\n",
            "---\n",
            "2: n = 400 # body\n",
            "   n = 410 # flatten\n",
            "   n = 401 # unflatten\n",
            "   n = 500 # init\n",
            "y:  [200 300 400]\n"
          ]
        }
      ]
    },
    {
      "cell_type": "markdown",
      "source": [
        "You see that : this is the body output that is stored , but the initialisation is called before and so the state of the object is silently changed before the scan is performed."
      ],
      "metadata": {
        "id": "vJ6NNpfYnHtk"
      }
    },
    {
      "cell_type": "markdown",
      "source": [
        "## Initialisation of a PyTree"
      ],
      "metadata": {
        "id": "H652hpxDrU0v"
      }
    },
    {
      "cell_type": "markdown",
      "source": [
        "### Let us start with a crash"
      ],
      "metadata": {
        "id": "ZtYO3UKHrdTt"
      }
    },
    {
      "cell_type": "code",
      "source": [
        "class BaseObj():\n",
        "    def __init__(self, *, gsparams=None, **params):\n",
        "      self._params = params      # Dictionary containing all traced parameters\n",
        "      self._gsparams = gsparams  # Non-traced static parameters\n",
        "      jax.debug.print('Init BaseObj') \n",
        "\n",
        "\n",
        "    @property\n",
        "    def gsparams(self):\n",
        "        \"\"\"A `GSParams` object that sets various parameters relevant for speed/accuracy trade-offs.\"\"\"\n",
        "        return self._gsparams\n",
        "\n",
        "    @property\n",
        "    def params(self):\n",
        "        \"\"\"A Dictionary object containing all parameters of the internal represention of this object.\"\"\"\n",
        "        return self._params\n",
        "\n",
        "\n",
        "    def tree_flatten(self):\n",
        "        \"\"\"This function flattens the BaseObj into a list of children\n",
        "        nodes that will be traced by JAX and auxiliary static data.\"\"\"\n",
        "        jax.debug.print('tree_flatten') \n",
        "        # Define the children nodes of the PyTree that need tracing\n",
        "        children = (self.params,)\n",
        "        # Define auxiliary static data that doesn’t need to be traced\n",
        "        aux_data = {\"gsparams\": self.gsparams}\n",
        "        return (children, aux_data)\n",
        "\n",
        "    @classmethod\n",
        "    def tree_unflatten(cls, aux_data, children):\n",
        "        \"\"\"Recreates an instance of the class from flatten representation\"\"\"\n",
        "        jax.debug.print('tree_unflatten') \n",
        "        return cls(**(children[0]), **aux_data)\n",
        "\n",
        "@register_pytree_node_class\n",
        "class T(BaseObj):\n",
        "  def __init__(self, a, gsparams=None):\n",
        "    super().__init__(a=a, gsparams=gsparams)\n",
        "\n",
        "    jax.debug.print(\"Init T: a={}, type {}\",a, type(a)) \n",
        "    self._m = a*2     #<<<<<<<<<<<<<<  pb if decommented\n",
        "\n",
        "\n",
        "  @property\n",
        "  def a(self):\n",
        "    return self.params[\"a\"]\n",
        "  \n",
        "  def f(self,x):\n",
        "    return self.a*x + self._m"
      ],
      "metadata": {
        "id": "_KlwKeEqlQ77"
      },
      "execution_count": 20,
      "outputs": []
    },
    {
      "cell_type": "markdown",
      "source": [
        "If I instantiate a collection of T objs and apply a vmap"
      ],
      "metadata": {
        "id": "PUZD0lq7r8ow"
      }
    },
    {
      "cell_type": "code",
      "source": [
        "avals = jnp.pi * jnp.array([1.,2.])\n",
        "ts = T(avals)"
      ],
      "metadata": {
        "colab": {
          "base_uri": "https://localhost:8080/"
        },
        "id": "3aFrEmrVr3yv",
        "outputId": "ef2b39b5-ac98-435d-fd35-c5615867c9a1"
      },
      "execution_count": 18,
      "outputs": [
        {
          "output_type": "stream",
          "name": "stdout",
          "text": [
            "Init T: a=[3.1415927 6.2831855], type <class 'jaxlib.xla_extension.Array'>\n",
            "Init BaseObj\n"
          ]
        }
      ]
    },
    {
      "cell_type": "code",
      "source": [
        "jax.vmap(lambda t: t.f(1.))(ts)"
      ],
      "metadata": {
        "colab": {
          "base_uri": "https://localhost:8080/",
          "height": 1000
        },
        "id": "kb_uJy1er_nx",
        "outputId": "f33232bd-b531-47db-b760-21f6ae3fa23b"
      },
      "execution_count": 19,
      "outputs": [
        {
          "output_type": "stream",
          "name": "stdout",
          "text": [
            "tree_flatten\n",
            "tree_unflatten\n",
            "Init T: a=<object object at 0x7fe510245e20>, type <class 'object'>\n"
          ]
        },
        {
          "output_type": "error",
          "ename": "TypeError",
          "evalue": "ignored",
          "traceback": [
            "\u001b[0;31m---------------------------------------------------------------------------\u001b[0m",
            "\u001b[0;31mUnfilteredStackTrace\u001b[0m                      Traceback (most recent call last)",
            "\u001b[0;32m<ipython-input-19-06b641f62fff>\u001b[0m in \u001b[0;36m<module>\u001b[0;34m\u001b[0m\n\u001b[0;32m----> 1\u001b[0;31m \u001b[0mjax\u001b[0m\u001b[0;34m.\u001b[0m\u001b[0mvmap\u001b[0m\u001b[0;34m(\u001b[0m\u001b[0;32mlambda\u001b[0m \u001b[0mt\u001b[0m\u001b[0;34m:\u001b[0m \u001b[0mt\u001b[0m\u001b[0;34m.\u001b[0m\u001b[0mf\u001b[0m\u001b[0;34m(\u001b[0m\u001b[0;36m1.\u001b[0m\u001b[0;34m)\u001b[0m\u001b[0;34m)\u001b[0m\u001b[0;34m(\u001b[0m\u001b[0mts\u001b[0m\u001b[0;34m)\u001b[0m\u001b[0;34m\u001b[0m\u001b[0;34m\u001b[0m\u001b[0m\n\u001b[0m",
            "\u001b[0;32m/usr/local/lib/python3.8/dist-packages/jax/_src/traceback_util.py\u001b[0m in \u001b[0;36mreraise_with_filtered_traceback\u001b[0;34m(*args, **kwargs)\u001b[0m\n\u001b[1;32m    162\u001b[0m     \u001b[0;32mtry\u001b[0m\u001b[0;34m:\u001b[0m\u001b[0;34m\u001b[0m\u001b[0;34m\u001b[0m\u001b[0m\n\u001b[0;32m--> 163\u001b[0;31m       \u001b[0;32mreturn\u001b[0m \u001b[0mfun\u001b[0m\u001b[0;34m(\u001b[0m\u001b[0;34m*\u001b[0m\u001b[0margs\u001b[0m\u001b[0;34m,\u001b[0m \u001b[0;34m**\u001b[0m\u001b[0mkwargs\u001b[0m\u001b[0;34m)\u001b[0m\u001b[0;34m\u001b[0m\u001b[0;34m\u001b[0m\u001b[0m\n\u001b[0m\u001b[1;32m    164\u001b[0m     \u001b[0;32mexcept\u001b[0m \u001b[0mException\u001b[0m \u001b[0;32mas\u001b[0m \u001b[0me\u001b[0m\u001b[0;34m:\u001b[0m\u001b[0;34m\u001b[0m\u001b[0;34m\u001b[0m\u001b[0m\n",
            "\u001b[0;32m/usr/local/lib/python3.8/dist-packages/jax/_src/api.py\u001b[0m in \u001b[0;36mvmap_f\u001b[0;34m(*args, **kwargs)\u001b[0m\n\u001b[1;32m   1766\u001b[0m     \u001b[0mflat_fun\u001b[0m\u001b[0;34m,\u001b[0m \u001b[0mout_tree\u001b[0m \u001b[0;34m=\u001b[0m \u001b[0mbatching\u001b[0m\u001b[0;34m.\u001b[0m\u001b[0mflatten_fun_for_vmap\u001b[0m\u001b[0;34m(\u001b[0m\u001b[0mf\u001b[0m\u001b[0;34m,\u001b[0m \u001b[0min_tree\u001b[0m\u001b[0;34m)\u001b[0m\u001b[0;34m\u001b[0m\u001b[0;34m\u001b[0m\u001b[0m\n\u001b[0;32m-> 1767\u001b[0;31m     \u001b[0min_axes_flat\u001b[0m \u001b[0;34m=\u001b[0m \u001b[0mflatten_axes\u001b[0m\u001b[0;34m(\u001b[0m\u001b[0;34m\"vmap in_axes\"\u001b[0m\u001b[0;34m,\u001b[0m \u001b[0min_tree\u001b[0m\u001b[0;34m,\u001b[0m \u001b[0;34m(\u001b[0m\u001b[0min_axes\u001b[0m\u001b[0;34m,\u001b[0m \u001b[0;36m0\u001b[0m\u001b[0;34m)\u001b[0m\u001b[0;34m,\u001b[0m \u001b[0mkws\u001b[0m\u001b[0;34m=\u001b[0m\u001b[0;32mTrue\u001b[0m\u001b[0;34m)\u001b[0m\u001b[0;34m\u001b[0m\u001b[0;34m\u001b[0m\u001b[0m\n\u001b[0m\u001b[1;32m   1768\u001b[0m     axis_size_ = (axis_size if axis_size is not None else\n",
            "\u001b[0;32m/usr/local/lib/python3.8/dist-packages/jax/_src/api_util.py\u001b[0m in \u001b[0;36mflatten_axes\u001b[0;34m(name, treedef, axis_tree, kws, tupled_args)\u001b[0m\n\u001b[1;32m    410\u001b[0m   \u001b[0mproxy\u001b[0m \u001b[0;34m=\u001b[0m \u001b[0mobject\u001b[0m\u001b[0;34m(\u001b[0m\u001b[0;34m)\u001b[0m\u001b[0;34m\u001b[0m\u001b[0;34m\u001b[0m\u001b[0m\n\u001b[0;32m--> 411\u001b[0;31m   \u001b[0mdummy\u001b[0m \u001b[0;34m=\u001b[0m \u001b[0mtree_unflatten\u001b[0m\u001b[0;34m(\u001b[0m\u001b[0mtreedef\u001b[0m\u001b[0;34m,\u001b[0m \u001b[0;34m[\u001b[0m\u001b[0mobject\u001b[0m\u001b[0;34m(\u001b[0m\u001b[0;34m)\u001b[0m\u001b[0;34m]\u001b[0m \u001b[0;34m*\u001b[0m \u001b[0mtreedef\u001b[0m\u001b[0;34m.\u001b[0m\u001b[0mnum_leaves\u001b[0m\u001b[0;34m)\u001b[0m\u001b[0;34m\u001b[0m\u001b[0;34m\u001b[0m\u001b[0m\n\u001b[0m\u001b[1;32m    412\u001b[0m   \u001b[0maxes\u001b[0m \u001b[0;34m=\u001b[0m \u001b[0;34m[\u001b[0m\u001b[0;34m]\u001b[0m\u001b[0;34m\u001b[0m\u001b[0;34m\u001b[0m\u001b[0m\n",
            "\u001b[0;32m/usr/local/lib/python3.8/dist-packages/jax/_src/tree_util.py\u001b[0m in \u001b[0;36mtree_unflatten\u001b[0;34m(treedef, leaves)\u001b[0m\n\u001b[1;32m     74\u001b[0m   \"\"\"\n\u001b[0;32m---> 75\u001b[0;31m   \u001b[0;32mreturn\u001b[0m \u001b[0mtreedef\u001b[0m\u001b[0;34m.\u001b[0m\u001b[0munflatten\u001b[0m\u001b[0;34m(\u001b[0m\u001b[0mleaves\u001b[0m\u001b[0;34m)\u001b[0m\u001b[0;34m\u001b[0m\u001b[0;34m\u001b[0m\u001b[0m\n\u001b[0m\u001b[1;32m     76\u001b[0m \u001b[0;34m\u001b[0m\u001b[0m\n",
            "\u001b[0;32m<ipython-input-17-01fb0f75d43e>\u001b[0m in \u001b[0;36mtree_unflatten\u001b[0;34m(cls, aux_data, children)\u001b[0m\n\u001b[1;32m     32\u001b[0m         \u001b[0mjax\u001b[0m\u001b[0;34m.\u001b[0m\u001b[0mdebug\u001b[0m\u001b[0;34m.\u001b[0m\u001b[0mprint\u001b[0m\u001b[0;34m(\u001b[0m\u001b[0;34m'tree_unflatten'\u001b[0m\u001b[0;34m)\u001b[0m\u001b[0;34m\u001b[0m\u001b[0;34m\u001b[0m\u001b[0m\n\u001b[0;32m---> 33\u001b[0;31m         \u001b[0;32mreturn\u001b[0m \u001b[0mcls\u001b[0m\u001b[0;34m(\u001b[0m\u001b[0;34m**\u001b[0m\u001b[0;34m(\u001b[0m\u001b[0mchildren\u001b[0m\u001b[0;34m[\u001b[0m\u001b[0;36m0\u001b[0m\u001b[0;34m]\u001b[0m\u001b[0;34m)\u001b[0m\u001b[0;34m,\u001b[0m \u001b[0;34m**\u001b[0m\u001b[0maux_data\u001b[0m\u001b[0;34m)\u001b[0m\u001b[0;34m\u001b[0m\u001b[0;34m\u001b[0m\u001b[0m\n\u001b[0m\u001b[1;32m     34\u001b[0m \u001b[0;34m\u001b[0m\u001b[0m\n",
            "\u001b[0;32m<ipython-input-17-01fb0f75d43e>\u001b[0m in \u001b[0;36m__init__\u001b[0;34m(self, a, gsparams)\u001b[0m\n\u001b[1;32m     39\u001b[0m     \u001b[0mjax\u001b[0m\u001b[0;34m.\u001b[0m\u001b[0mdebug\u001b[0m\u001b[0;34m.\u001b[0m\u001b[0mprint\u001b[0m\u001b[0;34m(\u001b[0m\u001b[0;34m\"Init T: a={}, type {}\"\u001b[0m\u001b[0;34m,\u001b[0m\u001b[0ma\u001b[0m\u001b[0;34m,\u001b[0m \u001b[0mtype\u001b[0m\u001b[0;34m(\u001b[0m\u001b[0ma\u001b[0m\u001b[0;34m)\u001b[0m\u001b[0;34m)\u001b[0m\u001b[0;34m\u001b[0m\u001b[0;34m\u001b[0m\u001b[0m\n\u001b[0;32m---> 40\u001b[0;31m     \u001b[0mself\u001b[0m\u001b[0;34m.\u001b[0m\u001b[0m_m\u001b[0m \u001b[0;34m=\u001b[0m \u001b[0ma\u001b[0m\u001b[0;34m*\u001b[0m\u001b[0;36m2\u001b[0m     \u001b[0;31m#<<<<<<<<<<<<<<  pb if decommented\u001b[0m\u001b[0;34m\u001b[0m\u001b[0;34m\u001b[0m\u001b[0m\n\u001b[0m\u001b[1;32m     41\u001b[0m \u001b[0;34m\u001b[0m\u001b[0m\n",
            "\u001b[0;31mUnfilteredStackTrace\u001b[0m: TypeError: unsupported operand type(s) for *: 'object' and 'int'\n\nThe stack trace below excludes JAX-internal frames.\nThe preceding is the original exception that occurred, unmodified.\n\n--------------------",
            "\nThe above exception was the direct cause of the following exception:\n",
            "\u001b[0;31mTypeError\u001b[0m                                 Traceback (most recent call last)",
            "\u001b[0;32m<ipython-input-19-06b641f62fff>\u001b[0m in \u001b[0;36m<module>\u001b[0;34m\u001b[0m\n\u001b[0;32m----> 1\u001b[0;31m \u001b[0mjax\u001b[0m\u001b[0;34m.\u001b[0m\u001b[0mvmap\u001b[0m\u001b[0;34m(\u001b[0m\u001b[0;32mlambda\u001b[0m \u001b[0mt\u001b[0m\u001b[0;34m:\u001b[0m \u001b[0mt\u001b[0m\u001b[0;34m.\u001b[0m\u001b[0mf\u001b[0m\u001b[0;34m(\u001b[0m\u001b[0;36m1.\u001b[0m\u001b[0;34m)\u001b[0m\u001b[0;34m)\u001b[0m\u001b[0;34m(\u001b[0m\u001b[0mts\u001b[0m\u001b[0;34m)\u001b[0m\u001b[0;34m\u001b[0m\u001b[0;34m\u001b[0m\u001b[0m\n\u001b[0m",
            "\u001b[0;32m<ipython-input-17-01fb0f75d43e>\u001b[0m in \u001b[0;36mtree_unflatten\u001b[0;34m(cls, aux_data, children)\u001b[0m\n\u001b[1;32m     31\u001b[0m         \u001b[0;34m\"\"\"Recreates an instance of the class from flatten representation\"\"\"\u001b[0m\u001b[0;34m\u001b[0m\u001b[0;34m\u001b[0m\u001b[0m\n\u001b[1;32m     32\u001b[0m         \u001b[0mjax\u001b[0m\u001b[0;34m.\u001b[0m\u001b[0mdebug\u001b[0m\u001b[0;34m.\u001b[0m\u001b[0mprint\u001b[0m\u001b[0;34m(\u001b[0m\u001b[0;34m'tree_unflatten'\u001b[0m\u001b[0;34m)\u001b[0m\u001b[0;34m\u001b[0m\u001b[0;34m\u001b[0m\u001b[0m\n\u001b[0;32m---> 33\u001b[0;31m         \u001b[0;32mreturn\u001b[0m \u001b[0mcls\u001b[0m\u001b[0;34m(\u001b[0m\u001b[0;34m**\u001b[0m\u001b[0;34m(\u001b[0m\u001b[0mchildren\u001b[0m\u001b[0;34m[\u001b[0m\u001b[0;36m0\u001b[0m\u001b[0;34m]\u001b[0m\u001b[0;34m)\u001b[0m\u001b[0;34m,\u001b[0m \u001b[0;34m**\u001b[0m\u001b[0maux_data\u001b[0m\u001b[0;34m)\u001b[0m\u001b[0;34m\u001b[0m\u001b[0;34m\u001b[0m\u001b[0m\n\u001b[0m\u001b[1;32m     34\u001b[0m \u001b[0;34m\u001b[0m\u001b[0m\n\u001b[1;32m     35\u001b[0m \u001b[0;34m@\u001b[0m\u001b[0mregister_pytree_node_class\u001b[0m\u001b[0;34m\u001b[0m\u001b[0;34m\u001b[0m\u001b[0m\n",
            "\u001b[0;32m<ipython-input-17-01fb0f75d43e>\u001b[0m in \u001b[0;36m__init__\u001b[0;34m(self, a, gsparams)\u001b[0m\n\u001b[1;32m     38\u001b[0m \u001b[0;34m\u001b[0m\u001b[0m\n\u001b[1;32m     39\u001b[0m     \u001b[0mjax\u001b[0m\u001b[0;34m.\u001b[0m\u001b[0mdebug\u001b[0m\u001b[0;34m.\u001b[0m\u001b[0mprint\u001b[0m\u001b[0;34m(\u001b[0m\u001b[0;34m\"Init T: a={}, type {}\"\u001b[0m\u001b[0;34m,\u001b[0m\u001b[0ma\u001b[0m\u001b[0;34m,\u001b[0m \u001b[0mtype\u001b[0m\u001b[0;34m(\u001b[0m\u001b[0ma\u001b[0m\u001b[0;34m)\u001b[0m\u001b[0;34m)\u001b[0m\u001b[0;34m\u001b[0m\u001b[0;34m\u001b[0m\u001b[0m\n\u001b[0;32m---> 40\u001b[0;31m     \u001b[0mself\u001b[0m\u001b[0;34m.\u001b[0m\u001b[0m_m\u001b[0m \u001b[0;34m=\u001b[0m \u001b[0ma\u001b[0m\u001b[0;34m*\u001b[0m\u001b[0;36m2\u001b[0m     \u001b[0;31m#<<<<<<<<<<<<<<  pb if decommented\u001b[0m\u001b[0;34m\u001b[0m\u001b[0;34m\u001b[0m\u001b[0m\n\u001b[0m\u001b[1;32m     41\u001b[0m \u001b[0;34m\u001b[0m\u001b[0m\n\u001b[1;32m     42\u001b[0m     \u001b[0msuper\u001b[0m\u001b[0;34m(\u001b[0m\u001b[0;34m)\u001b[0m\u001b[0;34m.\u001b[0m\u001b[0m__init__\u001b[0m\u001b[0;34m(\u001b[0m\u001b[0ma\u001b[0m\u001b[0;34m=\u001b[0m\u001b[0ma\u001b[0m\u001b[0;34m,\u001b[0m \u001b[0mgsparams\u001b[0m\u001b[0;34m=\u001b[0m\u001b[0mgsparams\u001b[0m\u001b[0;34m)\u001b[0m\u001b[0;34m\u001b[0m\u001b[0;34m\u001b[0m\u001b[0m\n",
            "\u001b[0;31mTypeError\u001b[0m: unsupported operand type(s) for *: 'object' and 'int'"
          ]
        }
      ]
    },
    {
      "cell_type": "markdown",
      "source": [
        "As you see `a` is Traced object, so it does not make sense to perform any operation with it. Notice that the crash doesn't depends of the \"super\" init position.\n",
        "\n",
        "### One simple solution in that case"
      ],
      "metadata": {
        "id": "9Asf6kWqt6hO"
      }
    },
    {
      "cell_type": "code",
      "source": [
        "@register_pytree_node_class\n",
        "class T(BaseObj):\n",
        "  def __init__(self, a, gsparams=None):\n",
        "    super().__init__(a=a, gsparams=gsparams)\n",
        "\n",
        "    jax.debug.print(\"Init T: a={}\",a) \n",
        "\n",
        "\n",
        "  @property\n",
        "  def _m(self):                #<-----\n",
        "    return self.a * 2\n",
        "\n",
        "  @property\n",
        "  def a(self):\n",
        "    return self.params[\"a\"]\n",
        "  \n",
        "  @jit\n",
        "  def f(self,x):\n",
        "    return self.a*x + self._m"
      ],
      "metadata": {
        "id": "yK7FzMOntQQM"
      },
      "execution_count": 21,
      "outputs": []
    },
    {
      "cell_type": "code",
      "source": [
        "avals = jnp.pi * jnp.array([1.,2.])\n",
        "ts = T(avals)"
      ],
      "metadata": {
        "colab": {
          "base_uri": "https://localhost:8080/"
        },
        "id": "56lXz9ZMv0wx",
        "outputId": "ef1a5094-6894-4c69-b361-78548e4b28df"
      },
      "execution_count": 22,
      "outputs": [
        {
          "output_type": "stream",
          "name": "stdout",
          "text": [
            "Init BaseObj\n",
            "Init T: a=[3.1415927 6.2831855]\n"
          ]
        }
      ]
    },
    {
      "cell_type": "code",
      "source": [
        "jax.vmap(lambda t: t.f(1.))(ts)"
      ],
      "metadata": {
        "colab": {
          "base_uri": "https://localhost:8080/"
        },
        "id": "26jMLXrhv3-v",
        "outputId": "e6e7001a-04e6-47e6-ef95-3c711690da7c"
      },
      "execution_count": 23,
      "outputs": [
        {
          "output_type": "stream",
          "name": "stdout",
          "text": [
            "tree_flatten\n",
            "tree_unflatten\n",
            "Init BaseObj\n",
            "Init T: a=<object object at 0x7fe510245f60>\n",
            "tree_flatten\n",
            "tree_unflatten\n",
            "Init BaseObj\n",
            "Init T: a=3.1415927410125732\n",
            "Init T: a=6.2831854820251465\n",
            "tree_flatten\n",
            "tree_flatten\n",
            "tree_unflatten\n",
            "Init BaseObj\n",
            "Init T: a=3.1415927410125732\n",
            "Init T: a=6.2831854820251465\n"
          ]
        },
        {
          "output_type": "execute_result",
          "data": {
            "text/plain": [
              "Array([ 9.424778, 18.849556], dtype=float32)"
            ]
          },
          "metadata": {},
          "execution_count": 23
        }
      ]
    },
    {
      "cell_type": "code",
      "source": [
        "jax.vmap(lambda t: t.f(2.))(ts)"
      ],
      "metadata": {
        "colab": {
          "base_uri": "https://localhost:8080/"
        },
        "id": "rQXr-1jjx092",
        "outputId": "a920a4cb-0bd6-4f79-fcac-0d8aed7f0c53"
      },
      "execution_count": 24,
      "outputs": [
        {
          "output_type": "stream",
          "name": "stdout",
          "text": [
            "tree_flatten\n",
            "tree_unflatten\n",
            "Init BaseObj\n",
            "Init T: a=<object object at 0x7fe4ffa20940>\n",
            "tree_flatten\n",
            "tree_unflatten\n",
            "Init BaseObj\n",
            "Init T: a=3.1415927410125732\n",
            "Init T: a=6.2831854820251465\n",
            "tree_flatten\n",
            "tree_flatten\n",
            "tree_unflatten\n",
            "Init BaseObj\n",
            "Init T: a=3.1415927410125732\n",
            "Init T: a=6.2831854820251465\n"
          ]
        },
        {
          "output_type": "execute_result",
          "data": {
            "text/plain": [
              "Array([12.566371, 25.132742], dtype=float32)"
            ]
          },
          "metadata": {},
          "execution_count": 24
        }
      ]
    },
    {
      "cell_type": "markdown",
      "source": [
        "It works as expected but may be not convenient it the computation of `_m` in the above example needs a more sophisticated plan. Ie. we do not want to repeate it if for instance an other function need it."
      ],
      "metadata": {
        "id": "xB_NYjfww8zk"
      }
    },
    {
      "cell_type": "markdown",
      "source": [
        "## A more complete ex with different kinds of variables\n",
        "\n",
        "The classes below are just for academic purposes to show the init & use of some variables that you can encontered in your use-case.  "
      ],
      "metadata": {
        "id": "Oyb_VchpzO-_"
      }
    },
    {
      "cell_type": "code",
      "source": [
        "from functools import partial\n",
        "\n",
        "from typing import Optional\n",
        "import jax.tree_util as tu\n",
        "from jax import Array, jit, lax, vmap\n",
        "from jax.typing import ArrayLike\n",
        "\n",
        "import numpy as np\n",
        "import numpy.typing as npt\n",
        "rng = np.random.default_rng(0)\n"
      ],
      "metadata": {
        "id": "_7Rdl9DZv8gs"
      },
      "execution_count": 32,
      "outputs": []
    },
    {
      "cell_type": "markdown",
      "source": [
        "### A Numpy class"
      ],
      "metadata": {
        "id": "F2O7xAtJzIkx"
      }
    },
    {
      "cell_type": "code",
      "source": [
        "class ExprNp:\n",
        "  def __init__(self, name: str, steps: int, const: npt.NDArray,\n",
        "               *, start: int = 0):\n",
        "    self.name = name  # metadata\n",
        "    self.steps = steps  # constant, static\n",
        "    self.const = const  # constant, array\n",
        "    # state, initialized in __init__, modified throughout\n",
        "    self._start = start\n",
        "    self._state = np.zeros_like(const, dtype=np.float32)\n",
        "    # value, depends on constant, initialized in __init__, never modified again\n",
        "    self._y = self._init_y(const)\n",
        "    # state, depends on state, initialized in __init__, modified throughout\n",
        "    self._sum = np.zeros(steps)\n",
        "\n",
        "  @property\n",
        "  def state(self):\n",
        "    return self._state, self._sum\n",
        "\n",
        "  @staticmethod\n",
        "  def _init_y(c: npt.NDArray):\n",
        "    return np.sin(c)\n",
        "\n",
        "  def _step(self, i):\n",
        "    self._state += self._y\n",
        "    self._sum[i] += 1\n",
        "\n",
        "  def main(self, steps: Optional[int] = None, *, start: Optional[int] = None):\n",
        "    steps = steps or self.steps\n",
        "    start = start or self._start\n",
        "    end = start + steps\n",
        "    for i in range(start, end):\n",
        "      self._step(i)\n",
        "    self._start = end\n",
        "    return self"
      ],
      "metadata": {
        "id": "K8u0C6qAyyoa"
      },
      "execution_count": 47,
      "outputs": []
    },
    {
      "cell_type": "markdown",
      "source": [
        "### The JAX class"
      ],
      "metadata": {
        "id": "68oW_yxtRjo4"
      }
    },
    {
      "cell_type": "code",
      "source": [
        "a = None or jnp.array([0.]) \n",
        "print(a)"
      ],
      "metadata": {
        "colab": {
          "base_uri": "https://localhost:8080/"
        },
        "id": "2KxMbDNCSJG0",
        "outputId": "096cf918-200d-4db5-ddb6-0e8cf32fc162"
      },
      "execution_count": 169,
      "outputs": [
        {
          "output_type": "stream",
          "name": "stdout",
          "text": [
            "[0.]\n"
          ]
        }
      ]
    },
    {
      "cell_type": "code",
      "source": [
        "@register_pytree_node_class\n",
        "class ExprJax:\n",
        "  def __init__(self, name: str, steps: int, const: Array, start: Array,\n",
        "               _state: Array, _sum: Array):\n",
        "    #\n",
        "    # the user should use the explicit init\n",
        "    #\n",
        "\n",
        "    # init in __init__, not changed after\n",
        "    self.name = name    # metadata here a string\n",
        "    self.steps = steps  # constant, static\n",
        "    self.const = const  # constant, array\n",
        "    # state, initialized in __init__, modified throughout\n",
        "    self._start = start \n",
        "    self._state = _state\n",
        "    # state, depends on state, initialized in __init__, modified throughout\n",
        "    self._sum = _sum\n",
        "\n",
        "    # the self._y is the same as \"self._m\" is the T Class at the beginning (see @ property)\n",
        "\n",
        "  # user initialisation\n",
        "  @classmethod\n",
        "  def init(cls, name: str, steps: int, const: ArrayLike, *, start: int = 0):\n",
        "    _state = jnp.zeros_like(const, dtype=jnp.float32)\n",
        "    _start = jnp.full(_state.shape[:-1], start)\n",
        "    _sum = jnp.zeros(_state.shape[:-1] + (steps,))\n",
        "    return cls(name, steps, jnp.array(const), _start, _state=_state, _sum=_sum)\n",
        "\n",
        "  @property\n",
        "  def state(self):\n",
        "    return self._state, self._sum\n",
        "\n",
        "  def tree_flatten(self):\n",
        "    traced = (self.const, self._start, self._state, self._sum) #traced Arrays\n",
        "    aux_data = (self.name, self.steps)\n",
        "    # print(\"tree_flatten: \",aux_data, \" | \", children) # decomment if you want what are traced obj...\n",
        "    return traced, aux_data\n",
        "\n",
        "  @classmethod\n",
        "  def tree_unflatten(cls, aux_data, traced):\n",
        "    # print(\"tree_unflatten: \",aux_data, \" | \", children)# decomment if you want what are traced obj...\n",
        "    return cls(*aux_data, *traced)\n",
        "\n",
        "  @property\n",
        "  def _y(self):\n",
        "    return jnp.sin(self.const)\n",
        "\n",
        "  def _step(self, i: Array):\n",
        "    self._state += self._y\n",
        "    self._sum = self._sum.at[i].add(1)\n",
        "\n",
        "  @partial(jit, static_argnums=(1,))   # in case of use printing you need to desable jit\n",
        "  def main(self, steps: Optional[int] = None, *, start: Array = jnp.array(0)):\n",
        "    assert self._state.ndim == 1\n",
        "    steps = steps or self.steps\n",
        "    start = start or self._start\n",
        "\n",
        "    def body(i: int, self: ExprJax):\n",
        "      jax.debug.print(\"body i:{}\",i) \n",
        "      self._step(start + i)\n",
        "      return self\n",
        "\n",
        "    # here we can do better  using scan but let keep simple  \n",
        "    # The JIT will be triggered implicitly in cascade: body, _step\n",
        "    self = lax.fori_loop(0, steps, body, self)    \n",
        "    self._start = start + steps\n",
        "\n",
        "    return self"
      ],
      "metadata": {
        "id": "qXYIkD7g0F53"
      },
      "execution_count": 155,
      "outputs": []
    },
    {
      "cell_type": "code",
      "source": [
        "N=10\n",
        "nsteps= 3\n",
        "starters = np.arange(N).reshape(2, -1)\n",
        "starters"
      ],
      "metadata": {
        "colab": {
          "base_uri": "https://localhost:8080/"
        },
        "id": "Ngja-25D3Ggv",
        "outputId": "1f63110e-4224-4fa7-e0a4-57f944ddb463"
      },
      "execution_count": 156,
      "outputs": [
        {
          "output_type": "execute_result",
          "data": {
            "text/plain": [
              "array([[0, 1, 2, 3, 4],\n",
              "       [5, 6, 7, 8, 9]])"
            ]
          },
          "metadata": {},
          "execution_count": 156
        }
      ]
    },
    {
      "cell_type": "code",
      "source": [
        "res_np = [ExprNp('sim_np', N, s).main(nsteps).state for s in starters]\n",
        "res_np"
      ],
      "metadata": {
        "colab": {
          "base_uri": "https://localhost:8080/"
        },
        "id": "xuj7G1Lh4dey",
        "outputId": "3184b7bb-7b7c-41a0-a466-257c3c719cfe"
      },
      "execution_count": 157,
      "outputs": [
        {
          "output_type": "execute_result",
          "data": {
            "text/plain": [
              "[(array([ 0.        ,  2.5244129 ,  2.7278922 ,  0.42336002, -2.2704074 ],\n",
              "        dtype=float32), array([1., 1., 1., 0., 0., 0., 0., 0., 0., 0.])),\n",
              " (array([-2.8767729 , -0.83824646,  1.9709598 ,  2.9680748 ,  1.2363554 ],\n",
              "        dtype=float32), array([1., 1., 1., 0., 0., 0., 0., 0., 0., 0.]))]"
            ]
          },
          "metadata": {},
          "execution_count": 157
        }
      ]
    },
    {
      "cell_type": "code",
      "source": [
        "#just to see what is computed\n",
        "y = np.sin(starters)*nsteps\n",
        "y"
      ],
      "metadata": {
        "colab": {
          "base_uri": "https://localhost:8080/"
        },
        "id": "7GOB4B8R4iyh",
        "outputId": "36ebd2a9-2ac5-459f-bb0a-5a3535386148"
      },
      "execution_count": 158,
      "outputs": [
        {
          "output_type": "execute_result",
          "data": {
            "text/plain": [
              "array([[ 0.        ,  2.52441295,  2.72789228,  0.42336002, -2.27040749],\n",
              "       [-2.87677282, -0.83824649,  1.9709598 ,  2.96807474,  1.23635546]])"
            ]
          },
          "metadata": {},
          "execution_count": 158
        }
      ]
    },
    {
      "cell_type": "code",
      "source": [
        "[s for s in starters]"
      ],
      "metadata": {
        "colab": {
          "base_uri": "https://localhost:8080/"
        },
        "id": "JBhm-_fxL_Kg",
        "outputId": "fa32a8ef-cb67-4b05-e815-05aa87ef630c"
      },
      "execution_count": 159,
      "outputs": [
        {
          "output_type": "execute_result",
          "data": {
            "text/plain": [
              "[array([0, 1, 2, 3, 4]), array([5, 6, 7, 8, 9])]"
            ]
          },
          "metadata": {},
          "execution_count": 159
        }
      ]
    },
    {
      "cell_type": "code",
      "source": [
        "# as a list comprehension\n",
        "res_jax = [ExprJax.init('sim_jax',N, s).main(nsteps).state for s in starters] \n",
        "res_jax"
      ],
      "metadata": {
        "colab": {
          "base_uri": "https://localhost:8080/"
        },
        "id": "mIGUJQWd6Oxg",
        "outputId": "ce10578c-a703-49aa-9733-161fd43716ba"
      },
      "execution_count": 160,
      "outputs": [
        {
          "output_type": "stream",
          "name": "stdout",
          "text": [
            "body i:0\n",
            "body i:1\n",
            "body i:2\n",
            "body i:0\n",
            "body i:1\n",
            "body i:2\n"
          ]
        },
        {
          "output_type": "execute_result",
          "data": {
            "text/plain": [
              "[(Array([ 0.       ,  2.5244129,  2.7278922,  0.42336  , -2.2704074],      dtype=float32),\n",
              "  Array([1., 1., 1., 0., 0., 0., 0., 0., 0., 0.], dtype=float32)),\n",
              " (Array([-2.8767729 , -0.83824646,  1.9709598 ,  2.9680748 ,  1.2363555 ],      dtype=float32),\n",
              "  Array([1., 1., 1., 0., 0., 0., 0., 0., 0., 0.], dtype=float32))]"
            ]
          },
          "metadata": {},
          "execution_count": 160
        }
      ]
    },
    {
      "cell_type": "code",
      "source": [
        "# as a vmap on ExprJax objects\n",
        "sim_jax = ExprJax.init('sim_jax', N, starters)\n",
        "print(\"sim_jax: \", sim_jax)\n",
        "res_mapped = jit(vmap(partial(ExprJax.main, steps=nsteps)))(sim_jax)\n",
        "res_mapped.state"
      ],
      "metadata": {
        "colab": {
          "base_uri": "https://localhost:8080/"
        },
        "id": "UL8s1mHTAHYm",
        "outputId": "9e5e5483-ef28-44e0-aebd-b185f4943ea1"
      },
      "execution_count": 161,
      "outputs": [
        {
          "output_type": "stream",
          "name": "stdout",
          "text": [
            "sim_jax:  <__main__.ExprJax object at 0x7fe4fef20fa0>\n",
            "body i:0\n",
            "body i:1\n",
            "body i:2\n"
          ]
        },
        {
          "output_type": "execute_result",
          "data": {
            "text/plain": [
              "(Array([[ 0.        ,  2.5244129 ,  2.7278922 ,  0.42336   , -2.2704074 ],\n",
              "        [-2.8767729 , -0.83824646,  1.9709598 ,  2.9680748 ,  1.2363555 ]],      dtype=float32),\n",
              " Array([[1., 1., 1., 0., 0., 0., 0., 0., 0., 0.],\n",
              "        [1., 1., 1., 0., 0., 0., 0., 0., 0., 0.]], dtype=float32))"
            ]
          },
          "metadata": {},
          "execution_count": 161
        }
      ]
    },
    {
      "cell_type": "code",
      "source": [
        "#double the number of steps to shaow the results & compare with later code\n",
        "sim_jax = ExprJax.init('sim_jax', N, starters)\n",
        "res_mapped = jit(vmap(partial(ExprJax.main, steps=2*nsteps)))(sim_jax)\n",
        "res_mapped.state"
      ],
      "metadata": {
        "colab": {
          "base_uri": "https://localhost:8080/"
        },
        "id": "V72wM7FkQ8bO",
        "outputId": "240123c6-943e-4732-c9fa-a3ab5b01ccc4"
      },
      "execution_count": 162,
      "outputs": [
        {
          "output_type": "stream",
          "name": "stdout",
          "text": [
            "body i:0\n",
            "body i:1\n",
            "body i:2\n",
            "body i:3\n",
            "body i:4\n",
            "body i:5\n"
          ]
        },
        {
          "output_type": "execute_result",
          "data": {
            "text/plain": [
              "(Array([[ 0.        ,  5.0488253 ,  5.4557843 ,  0.84672004, -4.540815  ],\n",
              "        [-5.7535458 , -1.6764929 ,  3.9419198 ,  5.9361496 ,  2.4727108 ]],      dtype=float32),\n",
              " Array([[1., 1., 1., 1., 1., 1., 0., 0., 0., 0.],\n",
              "        [1., 1., 1., 1., 1., 1., 0., 0., 0., 0.]], dtype=float32))"
            ]
          },
          "metadata": {},
          "execution_count": 162
        }
      ]
    },
    {
      "cell_type": "code",
      "source": [
        "run3 = jit(vmap(partial(ExprJax.main, steps=3)))    #3 steps\n",
        "run6 = jit(vmap(partial(ExprJax.main, steps=6)))    #6 steps\n",
        "\n",
        "sim_jax33 = run3(run3(ExprJax.init('sim_jax', N, starters)))  # apply twice the 3steps function\n",
        "sim_jax6 = run6(ExprJax.init('sim_jax', N, starters))         # apply once  the 6steps function\n"
      ],
      "metadata": {
        "colab": {
          "base_uri": "https://localhost:8080/"
        },
        "id": "I5VGYK-pAy2S",
        "outputId": "daab4f8b-e950-4a22-f019-931aed6c2e70"
      },
      "execution_count": 163,
      "outputs": [
        {
          "output_type": "stream",
          "name": "stdout",
          "text": [
            "body i:0\n",
            "body i:1\n",
            "body i:2\n",
            "body i:0\n",
            "body i:1\n",
            "body i:2\n",
            "body i:0\n",
            "body i:1\n",
            "body i:2\n",
            "body i:3\n",
            "body i:4\n",
            "body i:5\n"
          ]
        }
      ]
    },
    {
      "cell_type": "code",
      "source": [
        "sim_jax33.state"
      ],
      "metadata": {
        "colab": {
          "base_uri": "https://localhost:8080/"
        },
        "id": "J7MXIQ1vQaCU",
        "outputId": "11ac19f0-be0f-431f-94f9-8deb5602572a"
      },
      "execution_count": 164,
      "outputs": [
        {
          "output_type": "execute_result",
          "data": {
            "text/plain": [
              "(Array([[ 0.        ,  5.0488253 ,  5.4557843 ,  0.84672004, -4.540815  ],\n",
              "        [-5.7535458 , -1.6764929 ,  3.9419198 ,  5.9361496 ,  2.4727108 ]],      dtype=float32),\n",
              " Array([[1., 1., 1., 1., 1., 1., 0., 0., 0., 0.],\n",
              "        [1., 1., 1., 1., 1., 1., 0., 0., 0., 0.]], dtype=float32))"
            ]
          },
          "metadata": {},
          "execution_count": 164
        }
      ]
    },
    {
      "cell_type": "code",
      "source": [
        "sim_jax6.state"
      ],
      "metadata": {
        "colab": {
          "base_uri": "https://localhost:8080/"
        },
        "id": "DXMkWouQQcOl",
        "outputId": "e2804c86-59ed-42a0-8b52-2e2ea4806733"
      },
      "execution_count": 165,
      "outputs": [
        {
          "output_type": "execute_result",
          "data": {
            "text/plain": [
              "(Array([[ 0.        ,  5.0488253 ,  5.4557843 ,  0.84672004, -4.540815  ],\n",
              "        [-5.7535458 , -1.6764929 ,  3.9419198 ,  5.9361496 ,  2.4727108 ]],      dtype=float32),\n",
              " Array([[1., 1., 1., 1., 1., 1., 0., 0., 0., 0.],\n",
              "        [1., 1., 1., 1., 1., 1., 0., 0., 0., 0.]], dtype=float32))"
            ]
          },
          "metadata": {},
          "execution_count": 165
        }
      ]
    },
    {
      "cell_type": "markdown",
      "source": [
        "# Takeaway\n",
        "\n",
        "- simple initialisation as in the case of Numpy cannot be used in JAX PyTree. Reminder: see JAX_JIT_in_class notebook to see why PyTrees should be considered.\n",
        "- initialisation should be adapted to each kind of variables later usage\n"
      ],
      "metadata": {
        "id": "_XN5OdqjRwUv"
      }
    },
    {
      "cell_type": "code",
      "source": [],
      "metadata": {
        "id": "SCepKbhHQiaM"
      },
      "execution_count": null,
      "outputs": []
    }
  ]
}