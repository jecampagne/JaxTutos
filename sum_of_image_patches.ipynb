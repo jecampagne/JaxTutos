{
  "nbformat": 4,
  "nbformat_minor": 0,
  "metadata": {
    "colab": {
      "provenance": [],
      "gpuType": "T4",
      "authorship_tag": "ABX9TyMYz44fbD3ZW61quXSaOFCK",
      "include_colab_link": true
    },
    "kernelspec": {
      "name": "python3",
      "display_name": "Python 3"
    },
    "language_info": {
      "name": "python"
    },
    "accelerator": "GPU"
  },
  "cells": [
    {
      "cell_type": "markdown",
      "metadata": {
        "id": "view-in-github",
        "colab_type": "text"
      },
      "source": [
        "<a href=\"https://colab.research.google.com/github/jecampagne/JaxTutos/blob/main/sum_of_image_patches.ipynb\" target=\"_parent\"><img src=\"https://colab.research.google.com/assets/colab-badge.svg\" alt=\"Open In Colab\"/></a>"
      ]
    },
    {
      "cell_type": "code",
      "source": [
        "%pylab inline"
      ],
      "metadata": {
        "colab": {
          "base_uri": "https://localhost:8080/"
        },
        "id": "SG7dNmKdCxGY",
        "outputId": "1dfdaddc-64db-4c01-c971-382f0f8fbee3"
      },
      "execution_count": 1,
      "outputs": [
        {
          "output_type": "stream",
          "name": "stdout",
          "text": [
            "Populating the interactive namespace from numpy and matplotlib\n"
          ]
        }
      ]
    },
    {
      "cell_type": "markdown",
      "source": [
        "# Objectives:\n",
        "The goal is to sum patches of identical size from a 2D image, and to see what is the fastest way on CPU & GPU. We propose three methods but you can code your own."
      ],
      "metadata": {
        "id": "niKa5AgxaKR7"
      }
    },
    {
      "cell_type": "code",
      "execution_count": 2,
      "metadata": {
        "id": "ERXTkM5_-Om3"
      },
      "outputs": [],
      "source": [
        "import jax\n",
        "jax.config.update(\"jax_enable_x64\", True)\n",
        "import jax.numpy as jnp\n",
        "import numpy as np\n",
        "from functools import partial"
      ]
    },
    {
      "cell_type": "code",
      "source": [
        "@partial(jax.jit, static_argnames=(\"nxwrap\",\"nywrap\"))\n",
        "def make_fim_nested_for_loop(im,nxwrap,nywrap):\n",
        "\n",
        "  fim = jnp.zeros((nywrap, nxwrap), dtype=im.dtype)\n",
        "\n",
        "  nx = im.shape[1] // nxwrap\n",
        "  ny = im.shape[0] // nywrap\n",
        "\n",
        "  yl = 0\n",
        "  for _ in range(ny):\n",
        "      yh = yl + nywrap\n",
        "\n",
        "      xl = 0\n",
        "      for _ in range(nx):\n",
        "          xh = xl + nxwrap\n",
        "          fim = fim + im[yl:yh, xl:xh]\n",
        "          xl = xh\n",
        "\n",
        "      yl = yh\n",
        "\n",
        "  return fim"
      ],
      "metadata": {
        "id": "-DTslj71-Xn8"
      },
      "execution_count": 3,
      "outputs": []
    },
    {
      "cell_type": "code",
      "source": [
        "@partial(jax.jit, static_argnames=(\"nxwrap\",\"nywrap\"))\n",
        "def make_fim_nested_fori_loop(im,nxwrap,nywrap):\n",
        "  def _body_j(j, vals):\n",
        "        i, im, fim = vals\n",
        "\n",
        "        ii = i% nywrap\n",
        "        jj = j% nxwrap\n",
        "\n",
        "        fim = fim.at[ii, jj].add(im[i, j])\n",
        "\n",
        "        return i, im, fim\n",
        "\n",
        "  def _body_i(i, vals):\n",
        "        im,fim = vals\n",
        "        _,_, fim = jax.lax.fori_loop(0, im.shape[1], _body_j, (i, im, fim))\n",
        "        return im,fim\n",
        "\n",
        "  fim = jnp.zeros((nywrap, nxwrap), dtype=im.dtype)\n",
        "  _,fim = jax.lax.fori_loop(0, im.shape[0], _body_i, (im,fim))\n",
        "  return fim"
      ],
      "metadata": {
        "id": "IcuMgMDiAazd"
      },
      "execution_count": 4,
      "outputs": []
    },
    {
      "cell_type": "code",
      "source": [
        "@partial(jax.jit, static_argnames=(\"windi\",\"windj\"))\n",
        "def make_fim_roll(arr, windi,windj):\n",
        "  def rolling_window_i(arr, wind):\n",
        "    idx = jnp.arange(arr.shape[0] - wind + 1)[::wind, None] + jnp.arange(wind)[None, :]\n",
        "    return arr[idx]\n",
        "  y = rolling_window_i(arr, windi)\n",
        "  y = jnp.moveaxis(y, -1, -2)\n",
        "  y = jax.vmap(partial(rolling_window_i,wind=windj))(y)\n",
        "  y = y.reshape(-1,windj,windi)\n",
        "  return jnp.moveaxis(y, -1, -2).sum(axis=0)\n"
      ],
      "metadata": {
        "id": "z4ywer4M_Bmq"
      },
      "execution_count": 5,
      "outputs": []
    },
    {
      "cell_type": "code",
      "source": [
        "#clear JIT to be sure to start we fresh code\n",
        "jax.clear_caches()\n",
        "\n",
        "nxwrap,nywrap = 16, 10\n",
        "Nx,Ny = nxwrap*50,nywrap*80\n",
        "im = jax.random.normal(jax.random.PRNGKey(1),(Nx,Ny))"
      ],
      "metadata": {
        "id": "lawKxgwNPW7D"
      },
      "execution_count": 6,
      "outputs": []
    },
    {
      "cell_type": "code",
      "source": [
        "%%time\n",
        "fim_nested_for_loop = make_fim_nested_for_loop(im,nxwrap,nywrap)"
      ],
      "metadata": {
        "colab": {
          "base_uri": "https://localhost:8080/"
        },
        "id": "WW7LYL1hDrl5",
        "outputId": "5dcd99cd-f019-40ab-b201-33be42d72c02"
      },
      "execution_count": 7,
      "outputs": [
        {
          "output_type": "stream",
          "name": "stdout",
          "text": [
            "CPU times: user 29.8 s, sys: 2.04 s, total: 31.8 s\n",
            "Wall time: 36.6 s\n"
          ]
        }
      ]
    },
    {
      "cell_type": "code",
      "source": [
        "%%time\n",
        "for _ in range(10):\n",
        "  _= make_fim_nested_for_loop(im,nxwrap,nywrap)"
      ],
      "metadata": {
        "colab": {
          "base_uri": "https://localhost:8080/"
        },
        "id": "wCMCW5KpQBz5",
        "outputId": "4efb8f9b-36fc-4b93-c824-3ae2b5475f69"
      },
      "execution_count": 8,
      "outputs": [
        {
          "output_type": "stream",
          "name": "stdout",
          "text": [
            "CPU times: user 619 µs, sys: 0 ns, total: 619 µs\n",
            "Wall time: 628 µs\n"
          ]
        }
      ]
    },
    {
      "cell_type": "code",
      "source": [
        "%%time\n",
        "fim_nested_fori_loop = make_fim_nested_fori_loop(im,nxwrap,nywrap)"
      ],
      "metadata": {
        "colab": {
          "base_uri": "https://localhost:8080/"
        },
        "id": "7vpriyc9H8Gu",
        "outputId": "3fce14b2-f9ec-4bf3-bd8a-d2eda7ffd820"
      },
      "execution_count": 9,
      "outputs": [
        {
          "output_type": "stream",
          "name": "stdout",
          "text": [
            "CPU times: user 6.75 s, sys: 46.7 ms, total: 6.8 s\n",
            "Wall time: 6.89 s\n"
          ]
        }
      ]
    },
    {
      "cell_type": "code",
      "source": [
        "%%time\n",
        "for _ in range(10):\n",
        "  _= make_fim_nested_fori_loop(im,nxwrap,nywrap)"
      ],
      "metadata": {
        "colab": {
          "base_uri": "https://localhost:8080/"
        },
        "id": "R_70ZBzdQauT",
        "outputId": "241cfd5e-efd0-4529-ffa2-ffcc174809f6"
      },
      "execution_count": 10,
      "outputs": [
        {
          "output_type": "stream",
          "name": "stdout",
          "text": [
            "CPU times: user 1min 3s, sys: 80.2 ms, total: 1min 3s\n",
            "Wall time: 1min 3s\n"
          ]
        }
      ]
    },
    {
      "cell_type": "code",
      "source": [
        "%%time\n",
        "fim_roll= make_fim_roll(im,nywrap,nxwrap)"
      ],
      "metadata": {
        "colab": {
          "base_uri": "https://localhost:8080/"
        },
        "id": "WVeJQ76UDyRq",
        "outputId": "39298110-bb5c-434a-c820-305f7bbdecc1"
      },
      "execution_count": 11,
      "outputs": [
        {
          "output_type": "stream",
          "name": "stdout",
          "text": [
            "CPU times: user 84.2 ms, sys: 15 µs, total: 84.2 ms\n",
            "Wall time: 144 ms\n"
          ]
        }
      ]
    },
    {
      "cell_type": "code",
      "source": [
        "%%time\n",
        "for _ in range(10):\n",
        "  _= make_fim_roll(im,nxwrap,nywrap)"
      ],
      "metadata": {
        "colab": {
          "base_uri": "https://localhost:8080/"
        },
        "id": "mOxtGXvOQrLg",
        "outputId": "1397a299-c1cf-4721-e580-eafb73f72430"
      },
      "execution_count": 12,
      "outputs": [
        {
          "output_type": "stream",
          "name": "stdout",
          "text": [
            "CPU times: user 71.7 ms, sys: 5.92 ms, total: 77.6 ms\n",
            "Wall time: 122 ms\n"
          ]
        }
      ]
    },
    {
      "cell_type": "code",
      "source": [
        "np.max(np.abs(fim_nested_fori_loop-fim_nested_for_loop)), np.max(np.abs(fim_roll-fim_nested_for_loop))"
      ],
      "metadata": {
        "colab": {
          "base_uri": "https://localhost:8080/"
        },
        "id": "SVhlf--BTii1",
        "outputId": "a2df4331-66c9-4f06-ccf7-10031b7861c2"
      },
      "execution_count": 14,
      "outputs": [
        {
          "output_type": "execute_result",
          "data": {
            "text/plain": [
              "(0.0, 3.836930773104541e-13)"
            ]
          },
          "metadata": {},
          "execution_count": 14
        }
      ]
    },
    {
      "cell_type": "code",
      "source": [],
      "metadata": {
        "id": "FTWTGCZDTqet"
      },
      "execution_count": 14,
      "outputs": []
    }
  ]
}