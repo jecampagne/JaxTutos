{
  "nbformat": 4,
  "nbformat_minor": 0,
  "metadata": {
    "colab": {
      "provenance": [],
      "toc_visible": true,
      "gpuType": "T4",
      "authorship_tag": "ABX9TyOWTUbdi2hjHSQejDU6vw+R",
      "include_colab_link": true
    },
    "kernelspec": {
      "name": "python3",
      "display_name": "Python 3"
    },
    "language_info": {
      "name": "python"
    },
    "accelerator": "GPU"
  },
  "cells": [
    {
      "cell_type": "markdown",
      "metadata": {
        "id": "view-in-github",
        "colab_type": "text"
      },
      "source": [
        "<a href=\"https://colab.research.google.com/github/jecampagne/JaxTutos/blob/main/JAX_get_started.ipynb\" target=\"_parent\"><img src=\"https://colab.research.google.com/assets/colab-badge.svg\" alt=\"Open In Colab\"/></a>"
      ]
    },
    {
      "cell_type": "code",
      "source": [
        "! pip install -q equinox==0.9.2 #(just for last item of the nb)"
      ],
      "metadata": {
        "colab": {
          "base_uri": "https://localhost:8080/"
        },
        "id": "dHBqdY3J6D6o",
        "outputId": "ea8ad842-7f66-4f60-cbfc-17915d08a2bc"
      },
      "execution_count": 1,
      "outputs": [
        {
          "output_type": "stream",
          "name": "stdout",
          "text": [
            "\u001b[2K     \u001b[90m━━━━━━━━━━━━━━━━━━━━━━━━━━━━━━━━━━━━━━━━\u001b[0m \u001b[32m88.3/88.3 kB\u001b[0m \u001b[31m974.3 kB/s\u001b[0m eta \u001b[36m0:00:00\u001b[0m\n",
            "\u001b[2K     \u001b[90m━━━━━━━━━━━━━━━━━━━━━━━━━━━━━━━━━━━━━━━━\u001b[0m \u001b[32m41.2/41.2 kB\u001b[0m \u001b[31m2.8 MB/s\u001b[0m eta \u001b[36m0:00:00\u001b[0m\n",
            "\u001b[?25h"
          ]
        }
      ]
    },
    {
      "cell_type": "code",
      "execution_count": 1,
      "metadata": {
        "id": "9s94ihDqcbpb"
      },
      "outputs": [],
      "source": [
        "import jax\n",
        "\n",
        "import jax.numpy as jnp                       #<----------\n",
        "import numpy as np                            #<----------\n",
        "\n",
        "from jax import grad, jit, vmap\n",
        "from jax import jacfwd, jacrev, hessian\n",
        "jax.config.update(\"jax_enable_x64\", True)\n",
        "\n",
        "from functools import partial\n",
        "\n",
        "\n",
        "import matplotlib as mpl\n",
        "import matplotlib.pyplot as plt\n",
        "mpl.rc('image', cmap='jet')\n",
        "mpl.rcParams['font.size'] = 18\n"
      ]
    },
    {
      "cell_type": "code",
      "source": [
        "jax.__version__  #<=0.4.26 ok"
      ],
      "metadata": {
        "colab": {
          "base_uri": "https://localhost:8080/",
          "height": 36
        },
        "id": "TpvHrbzChe-s",
        "outputId": "4d54bebd-9ef4-43d6-e650-f168c66e2d34"
      },
      "execution_count": 2,
      "outputs": [
        {
          "output_type": "execute_result",
          "data": {
            "text/plain": [
              "'0.4.26'"
            ],
            "application/vnd.google.colaboratory.intrinsic+json": {
              "type": "string"
            }
          },
          "metadata": {},
          "execution_count": 2
        }
      ]
    },
    {
      "cell_type": "code",
      "source": [
        "jax.devices()"
      ],
      "metadata": {
        "id": "I17OGlHd4c1M",
        "outputId": "fe53564a-e65c-4c41-a0e5-d0fe95cc5385",
        "colab": {
          "base_uri": "https://localhost:8080/"
        }
      },
      "execution_count": 3,
      "outputs": [
        {
          "output_type": "execute_result",
          "data": {
            "text/plain": [
              "[cuda(id=0)]"
            ]
          },
          "metadata": {},
          "execution_count": 3
        }
      ]
    },
    {
      "cell_type": "markdown",
      "source": [
        "# Theme: get some first flavour of JAX\n",
        "\n",
        "One remark concerns the import: there is 2 ways of naming that you can see in libs:\n",
        "\n",
        "-    either (numpy -> np, jax.numpy -> jnp)\n",
        "-    or (numpy -> onp, jax.numpy -> np)\n",
        "\n",
        "So, when you edit or C&P a JAX code have a look at import to figure out which convention has been adopted by the author(s).\n"
      ],
      "metadata": {
        "id": "FjflbNJMctqZ"
      }
    },
    {
      "cell_type": "markdown",
      "source": [
        "# JAX Numpy very close to Numpy\n"
      ],
      "metadata": {
        "id": "rMnBMT8QXsc8"
      }
    },
    {
      "cell_type": "code",
      "source": [
        "x = np.arange(0.,10.,1)\n",
        "x"
      ],
      "metadata": {
        "colab": {
          "base_uri": "https://localhost:8080/"
        },
        "id": "BT1_F0h2Wyea",
        "outputId": "9263372e-dd30-4ccb-e43e-6e1b2700d2a2"
      },
      "execution_count": 4,
      "outputs": [
        {
          "output_type": "execute_result",
          "data": {
            "text/plain": [
              "array([0., 1., 2., 3., 4., 5., 6., 7., 8., 9.])"
            ]
          },
          "metadata": {},
          "execution_count": 4
        }
      ]
    },
    {
      "cell_type": "code",
      "source": [
        "# Numpy Array -> JAX\n",
        "jx = jnp.array(x)\n",
        "jx, type(jx)"
      ],
      "metadata": {
        "colab": {
          "base_uri": "https://localhost:8080/"
        },
        "id": "A-Gm_bq4W9Ed",
        "outputId": "96ba6b4f-5fa2-4a21-96ef-423b98197ad4"
      },
      "execution_count": 5,
      "outputs": [
        {
          "output_type": "execute_result",
          "data": {
            "text/plain": [
              "(Array([0., 1., 2., 3., 4., 5., 6., 7., 8., 9.], dtype=float64),\n",
              " jaxlib.xla_extension.ArrayImpl)"
            ]
          },
          "metadata": {},
          "execution_count": 5
        }
      ]
    },
    {
      "cell_type": "code",
      "source": [
        "# JAX Array -> Numpy\n",
        "y = np.asarray(jx)\n",
        "y, type(y)"
      ],
      "metadata": {
        "colab": {
          "base_uri": "https://localhost:8080/"
        },
        "id": "V1vbPBzkXHVV",
        "outputId": "f01566e3-1c7d-484f-88fc-4ba4c7152857"
      },
      "execution_count": 6,
      "outputs": [
        {
          "output_type": "execute_result",
          "data": {
            "text/plain": [
              "(array([0., 1., 2., 3., 4., 5., 6., 7., 8., 9.]), numpy.ndarray)"
            ]
          },
          "metadata": {},
          "execution_count": 6
        }
      ]
    },
    {
      "cell_type": "code",
      "source": [
        "plt.scatter(x, jx); # no need to convert"
      ],
      "metadata": {
        "colab": {
          "base_uri": "https://localhost:8080/",
          "height": 440
        },
        "id": "GJPzW9mVZa9h",
        "outputId": "1c161c89-c792-4093-9e8f-7c21c0c2c1c1"
      },
      "execution_count": 7,
      "outputs": [
        {
          "output_type": "display_data",
          "data": {
            "text/plain": [
              "<Figure size 640x480 with 1 Axes>"
            ],
            "image/png": "[encoded data removed]"
          },
          "metadata": {}
        }
      ]
    },
    {
      "cell_type": "markdown",
      "source": [
        "## BUT DeviceArray are immutable"
      ],
      "metadata": {
        "id": "zJhIcI98YL4D"
      }
    },
    {
      "cell_type": "code",
      "source": [
        "jx[2]=-1"
      ],
      "metadata": {
        "colab": {
          "base_uri": "https://localhost:8080/",
          "height": 314
        },
        "id": "aFZ40QZYXfdp",
        "outputId": "f7d68ac1-91f4-41b4-ad25-bacb2c3901c6"
      },
      "execution_count": 8,
      "outputs": [
        {
          "output_type": "error",
          "ename": "TypeError",
          "evalue": "'<class 'jaxlib.xla_extension.ArrayImpl'>' object does not support item assignment. JAX arrays are immutable. Instead of ``x[idx] = y``, use ``x = x.at[idx].set(y)`` or another .at[] method: https://jax.readthedocs.io/en/latest/_autosummary/jax.numpy.ndarray.at.html",
          "traceback": [
            "\u001b[0;31m---------------------------------------------------------------------------\u001b[0m",
            "\u001b[0;31mTypeError\u001b[0m                                 Traceback (most recent call last)",
            "\u001b[0;32m<ipython-input-8-b8f8f01606e5>\u001b[0m in \u001b[0;36m<cell line: 1>\u001b[0;34m()\u001b[0m\n\u001b[0;32m----> 1\u001b[0;31m \u001b[0mjx\u001b[0m\u001b[0;34m[\u001b[0m\u001b[0;36m2\u001b[0m\u001b[0;34m]\u001b[0m\u001b[0;34m=\u001b[0m\u001b[0;34m-\u001b[0m\u001b[0;36m1\u001b[0m\u001b[0;34m\u001b[0m\u001b[0;34m\u001b[0m\u001b[0m\n\u001b[0m",
            "\u001b[0;32m/usr/local/lib/python3.10/dist-packages/jax/_src/numpy/array_methods.py\u001b[0m in \u001b[0;36m_unimplemented_setitem\u001b[0;34m(self, i, x)\u001b[0m\n\u001b[1;32m    276\u001b[0m          \u001b[0;34m\"or another .at[] method: \"\u001b[0m\u001b[0;34m\u001b[0m\u001b[0;34m\u001b[0m\u001b[0m\n\u001b[1;32m    277\u001b[0m          \"https://jax.readthedocs.io/en/latest/_autosummary/jax.numpy.ndarray.at.html\")\n\u001b[0;32m--> 278\u001b[0;31m   \u001b[0;32mraise\u001b[0m \u001b[0mTypeError\u001b[0m\u001b[0;34m(\u001b[0m\u001b[0mmsg\u001b[0m\u001b[0;34m.\u001b[0m\u001b[0mformat\u001b[0m\u001b[0;34m(\u001b[0m\u001b[0mtype\u001b[0m\u001b[0;34m(\u001b[0m\u001b[0mself\u001b[0m\u001b[0;34m)\u001b[0m\u001b[0;34m)\u001b[0m\u001b[0;34m)\u001b[0m\u001b[0;34m\u001b[0m\u001b[0;34m\u001b[0m\u001b[0m\n\u001b[0m\u001b[1;32m    279\u001b[0m \u001b[0;34m\u001b[0m\u001b[0m\n\u001b[1;32m    280\u001b[0m \u001b[0;32mdef\u001b[0m \u001b[0m_operator_round\u001b[0m\u001b[0;34m(\u001b[0m\u001b[0mnumber\u001b[0m\u001b[0;34m:\u001b[0m \u001b[0mArrayLike\u001b[0m\u001b[0;34m,\u001b[0m \u001b[0mndigits\u001b[0m\u001b[0;34m:\u001b[0m \u001b[0mint\u001b[0m \u001b[0;34m|\u001b[0m \u001b[0;32mNone\u001b[0m \u001b[0;34m=\u001b[0m \u001b[0;32mNone\u001b[0m\u001b[0;34m)\u001b[0m \u001b[0;34m->\u001b[0m \u001b[0mArray\u001b[0m\u001b[0;34m:\u001b[0m\u001b[0;34m\u001b[0m\u001b[0;34m\u001b[0m\u001b[0m\n",
            "\u001b[0;31mTypeError\u001b[0m: '<class 'jaxlib.xla_extension.ArrayImpl'>' object does not support item assignment. JAX arrays are immutable. Instead of ``x[idx] = y``, use ``x = x.at[idx].set(y)`` or another .at[] method: https://jax.readthedocs.io/en/latest/_autosummary/jax.numpy.ndarray.at.html"
          ]
        }
      ]
    },
    {
      "cell_type": "code",
      "source": [
        "jx = jx.at[2].set(-1) # other functions exist, slicing etc\n",
        "jx"
      ],
      "metadata": {
        "colab": {
          "base_uri": "https://localhost:8080/"
        },
        "id": "5vLXj0E4XjA7",
        "outputId": "01c40fe8-15e1-48bc-bbeb-696f166071f5"
      },
      "execution_count": 9,
      "outputs": [
        {
          "output_type": "execute_result",
          "data": {
            "text/plain": [
              "Array([ 0.,  1., -1.,  3.,  4.,  5.,  6.,  7.,  8.,  9.], dtype=float64)"
            ]
          },
          "metadata": {},
          "execution_count": 9
        }
      ]
    },
    {
      "cell_type": "markdown",
      "source": [
        "## Array on device\n",
        "\n",
        "By default, JAX arrays are placed uncommitted on the default device (jax.devices()[0]), which is the first GPU or TPU by default. If no GPU or TPU is present, jax.devices()[0] is the CPU.\n",
        "\n",
        "So most of the cases you do not care about contrary to Pytorch for instance with the `to_device` and the `detach`...\n",
        "\n",
        "But we can \"put\" into a particular device..."
      ],
      "metadata": {
        "id": "Q1gnr3MTYbjz"
      }
    },
    {
      "cell_type": "code",
      "source": [
        "jx.sharding"
      ],
      "metadata": {
        "colab": {
          "base_uri": "https://localhost:8080/"
        },
        "id": "yzoKI58MY6sW",
        "outputId": "72eee102-0473-4c07-a054-54dbc744b2c5"
      },
      "execution_count": 10,
      "outputs": [
        {
          "output_type": "execute_result",
          "data": {
            "text/plain": [
              "SingleDeviceSharding(device=cuda(id=0))"
            ]
          },
          "metadata": {},
          "execution_count": 10
        }
      ]
    },
    {
      "cell_type": "code",
      "source": [
        "tmp = jax.device_put(jx,device=jax.devices(\"cpu\")[0])\n",
        "tmp.sharding"
      ],
      "metadata": {
        "id": "alyEY6sj5Lny",
        "outputId": "057b1662-b1f8-4a71-e2fc-d712dfe8ec91",
        "colab": {
          "base_uri": "https://localhost:8080/"
        }
      },
      "execution_count": 13,
      "outputs": [
        {
          "output_type": "execute_result",
          "data": {
            "text/plain": [
              "SingleDeviceSharding(device=CpuDevice(id=0))"
            ]
          },
          "metadata": {},
          "execution_count": 13
        }
      ]
    },
    {
      "cell_type": "markdown",
      "source": [
        "# Automatic differentiation and vectorization"
      ],
      "metadata": {
        "id": "Udjql7Iddob6"
      }
    },
    {
      "cell_type": "markdown",
      "source": [
        "## Why auto-diff may be useful"
      ],
      "metadata": {
        "id": "c1tjXOPNpp8z"
      }
    },
    {
      "cell_type": "code",
      "source": [
        "def f(x):\n",
        "    return jnp.exp(-x*0.5)*jnp.sin(x)"
      ],
      "metadata": {
        "id": "-xwHYxF9cptd"
      },
      "execution_count": 14,
      "outputs": []
    },
    {
      "cell_type": "code",
      "source": [
        "# Exact f'(x) et f''(x)\n",
        "def fp(x):\n",
        "    return jnp.exp(-x*0.5)*(2.*jnp.cos(x)-jnp.sin(x))/2.\n",
        "def fpp(x):\n",
        "    return -jnp.exp(-x*0.5)*(4.*jnp.cos(x)+3.*jnp.sin(x))/4.\n",
        "\n",
        "# Numerical differenciation via central finite differences  f'(x) et f''(x)\n",
        "def fpnum(x,h=0.1):\n",
        "    return (f(x+h)-f(x-h))/(2*h)\n",
        "def fppnum(x,h=0.1):\n",
        "    return (f(x+h)-2*f(x)+f(x-h))/h**2"
      ],
      "metadata": {
        "id": "lo13524Cdwuh"
      },
      "execution_count": 15,
      "outputs": []
    },
    {
      "cell_type": "code",
      "source": [
        "# With JAX gradient (gard)\n",
        "jfp  = grad(f)            #f'\n",
        "jfpp = grad(grad(f))      #f''"
      ],
      "metadata": {
        "id": "wt4TW3x4eA-o"
      },
      "execution_count": 16,
      "outputs": []
    },
    {
      "cell_type": "markdown",
      "source": [
        "Have a look at the code: take a paper and a pencil and check that this code is correct :)"
      ],
      "metadata": {
        "id": "EilSP8bFeSkE"
      }
    },
    {
      "cell_type": "code",
      "source": [
        "jax.make_jaxpr(f)(0.)"
      ],
      "metadata": {
        "colab": {
          "base_uri": "https://localhost:8080/"
        },
        "id": "4hhV_BotePKL",
        "outputId": "168381e1-d154-4b53-e4de-be1ce716a646"
      },
      "execution_count": 17,
      "outputs": [
        {
          "output_type": "execute_result",
          "data": {
            "text/plain": [
              "{ lambda ; a:f64[]. let\n",
              "    b:f64[] = neg a\n",
              "    c:f64[] = mul b 0.5\n",
              "    d:f64[] = exp c\n",
              "    e:f64[] = sin a\n",
              "    f:f64[] = mul d e\n",
              "  in (f,) }"
            ]
          },
          "metadata": {},
          "execution_count": 17
        }
      ]
    },
    {
      "cell_type": "code",
      "source": [
        "jax.make_jaxpr(jfp)(0.)"
      ],
      "metadata": {
        "colab": {
          "base_uri": "https://localhost:8080/"
        },
        "id": "BimEsHwyeZVz",
        "outputId": "3d583f2e-0ef0-4be9-b881-ee3941e71d44"
      },
      "execution_count": 18,
      "outputs": [
        {
          "output_type": "execute_result",
          "data": {
            "text/plain": [
              "{ lambda ; a:f64[]. let\n",
              "    b:f64[] = neg a\n",
              "    c:f64[] = mul b 0.5\n",
              "    d:f64[] = exp c\n",
              "    e:f64[] = sin a\n",
              "    f:f64[] = cos a\n",
              "    _:f64[] = mul d e\n",
              "    g:f64[] = mul d 1.0\n",
              "    h:f64[] = mul 1.0 e\n",
              "    i:f64[] = mul g f\n",
              "    j:f64[] = mul h d\n",
              "    k:f64[] = mul j 0.5\n",
              "    l:f64[] = neg k\n",
              "    m:f64[] = add_any i l\n",
              "  in (m,) }"
            ]
          },
          "metadata": {},
          "execution_count": 18
        }
      ]
    },
    {
      "cell_type": "markdown",
      "source": [
        "vectorization `vmap` is for instance used when we call a function with an array. The result is not like numpy vectorize which is a for-loop.  "
      ],
      "metadata": {
        "id": "FoQjtY6We976"
      }
    },
    {
      "cell_type": "code",
      "source": [
        "jfp  = vmap(grad(f))\n",
        "jfpp = vmap(grad(grad(f)))"
      ],
      "metadata": {
        "id": "bjIUMYOHekcu"
      },
      "execution_count": 19,
      "outputs": []
    },
    {
      "cell_type": "code",
      "source": [
        "jax.make_jaxpr(jfp)(jnp.array([0.,1.]))   # notice we create an DeviceArray (JAX) from a list as numpy does"
      ],
      "metadata": {
        "colab": {
          "base_uri": "https://localhost:8080/"
        },
        "id": "w477tQFVfPAh",
        "outputId": "b015ce44-671e-4945-c5f4-9065523972e4"
      },
      "execution_count": 20,
      "outputs": [
        {
          "output_type": "execute_result",
          "data": {
            "text/plain": [
              "{ lambda ; a:f64[2]. let\n",
              "    b:f64[2] = neg a\n",
              "    c:f64[2] = mul b 0.5\n",
              "    d:f64[2] = exp c\n",
              "    e:f64[2] = sin a\n",
              "    f:f64[2] = cos a\n",
              "    _:f64[2] = mul d e\n",
              "    g:f64[2] = mul d 1.0\n",
              "    h:f64[2] = mul 1.0 e\n",
              "    i:f64[2] = mul g f\n",
              "    j:f64[2] = mul h d\n",
              "    k:f64[2] = mul j 0.5\n",
              "    l:f64[2] = neg k\n",
              "    m:f64[2] = add_any i l\n",
              "  in (m,) }"
            ]
          },
          "metadata": {},
          "execution_count": 20
        }
      ]
    },
    {
      "cell_type": "code",
      "source": [
        "x=jnp.arange(0,10,0.1)   # as numpy equivalent"
      ],
      "metadata": {
        "id": "iTk8KCYEf4oZ"
      },
      "execution_count": 21,
      "outputs": []
    },
    {
      "cell_type": "code",
      "source": [
        "fig1 = plt.figure(1, figsize=(8,8))\n",
        "frame1=fig1.add_axes((.1,.30,.8,.5))\n",
        "\n",
        "plt.plot(x,f(x), label=\"$f(x)$\")\n",
        "#plt.scatter(x,fpnum(x), label=\"$f^{\\ \\prime}(x)$ (Num.)\")\n",
        "plt.plot(x,jfp(x), lw=3,label=\"$f^{\\ \\prime}(x)$ (JAX)\")\n",
        "plt.plot(x,fp(x),ls=\"--\",c='k', label=\"$f^{\\ \\prime}(x)$ (True)\")\n",
        "#plt.scatter(x,fppnum(x), label=\"$f^{\\ \\prime\\prime}(x)$ (Num.)\")\n",
        "plt.plot(x,jfpp(x), lw=3,label=\"$f^{\\ \\prime\\prime}(x)$ (JAX)\")\n",
        "plt.plot(x,fpp(x),ls=\"--\", c='purple',label=\"$f^{\\ \\prime\\prime}(x)$ (True)\")\n",
        "plt.grid()\n",
        "plt.xlabel(\"$x$\")\n",
        "plt.legend(loc=\"upper right\");\n",
        "\n",
        "frame1.set_xticklabels([])\n",
        "#frame1.set_xticks([])\n",
        "\n",
        "frame2=fig1.add_axes((.1,.1,.8,.2))\n",
        "plt.plot(x,np.abs(fpnum(x)-fp(x)), c=\"r\", label=\"Num.-True\")\n",
        "plt.plot(x,np.abs(jfp(x)-fp(x)),lw=3,c=\"g\",  label=\"Jax-True\")\n",
        "plt.grid()\n",
        "plt.xlabel(\"$x$\")\n",
        "plt.ylabel(\"$\\Delta f^{\\prime}(x)$\")\n",
        "plt.yscale(\"log\")\n",
        "plt.legend(loc=\"upper right\");"
      ],
      "metadata": {
        "colab": {
          "base_uri": "https://localhost:8080/",
          "height": 660
        },
        "id": "HtVptzsJgKgo",
        "outputId": "75da4491-dbbe-462f-e420-a970288becba"
      },
      "execution_count": 22,
      "outputs": [
        {
          "output_type": "display_data",
          "data": {
            "text/plain": [
              "<Figure size 800x800 with 2 Axes>"
            ],
            "image/png": "[encoded data removed]"
          },
          "metadata": {}
        }
      ]
    },
    {
      "cell_type": "code",
      "source": [
        "x=jnp.arange(0,10,0.1)\n",
        "jnp.max(jnp.abs(jfpp(x)-fpp(x)))"
      ],
      "metadata": {
        "colab": {
          "base_uri": "https://localhost:8080/"
        },
        "id": "HVh4D4lUhphw",
        "outputId": "e848d4ab-2c7c-4b02-8415-ddf5cf6c2d4b"
      },
      "execution_count": 23,
      "outputs": [
        {
          "output_type": "execute_result",
          "data": {
            "text/plain": [
              "Array(2.22044605e-16, dtype=float64)"
            ]
          },
          "metadata": {},
          "execution_count": 23
        }
      ]
    },
    {
      "cell_type": "markdown",
      "source": [
        "As you see JAX auto-diff precision is at machine precision and finite differences may be difficult to tune (ie. h parameter) to get the same level of accuracy.\n",
        "\n"
      ],
      "metadata": {
        "id": "eMxEhDI3hKPq"
      }
    },
    {
      "cell_type": "markdown",
      "source": [
        "## Non-scalar function : jacobian\n",
        "For non-scalar functions, the jacfwd or jacrev compute the Jacobian, as well as you can compute the hessian.\n",
        "\n",
        "$$\n",
        "f(W,x) = y = W x \\quad \\mathrm{with} \\quad  W=\\begin{pmatrix}\n",
        "1 & 2 \\\\\n",
        "3 & 5\n",
        "\\end{pmatrix}\n",
        "$$\n",
        "We can write the result as\n",
        "$$\n",
        "\\begin{cases}\n",
        "y_1 &= W_{11} \\times x_1 + W_{12} \\times x_2 + W_{21}\\times 0 + W_{22}\\times 0 \\\\\n",
        "y_2 &=W_{11}\\times 0 + W_{12}\\times 0 + W_{21}\\times x1 + W_{22}\\times x2\n",
        "\\end{cases}\n",
        "$$\n",
        "So, we have 4 parameters ($n$) for 2 outputs ($m$).\n",
        "\n",
        "\n",
        "Then with the input $x=(x_1,x_2)$\n",
        "$$\n",
        "\\begin{pmatrix}\n",
        "\\frac{\\partial y_1}{\\partial W_{11}}=x_1 & \\frac{\\partial y_1}{\\partial W_{12}}= x_2 & \\frac{\\partial y_1}{\\partial W_{21}}=0 & \\frac{\\partial y_1}{\\partial W_{12}}=0 \\\\\n",
        "\\frac{\\partial y_2}{\\partial W_{11}}=0 & \\frac{\\partial y_2}{\\partial W_{12}}= 0 & \\frac{\\partial y_1}{\\partial W_{21}}=x_1 & \\frac{\\partial y_1}{\\partial W_{12}}=x_2 \\\\\n",
        "\\end{pmatrix}\n",
        "$$\n",
        "\n",
        "In fact, the output keep track of the parameter shape."
      ],
      "metadata": {
        "id": "ICMbzJPajq-O"
      }
    },
    {
      "cell_type": "code",
      "source": [
        "def fvec(W,x):\n",
        "  return W @ x\n"
      ],
      "metadata": {
        "id": "2PwSSiZDhmDo"
      },
      "execution_count": 24,
      "outputs": []
    },
    {
      "cell_type": "code",
      "source": [
        "W = jnp.array([[1., 2.],[3.,5.]])\n",
        "x = jnp.array([-1.,1.])\n",
        "W,x"
      ],
      "metadata": {
        "id": "Tgp0RG7WkUIb",
        "outputId": "b2274f0d-f772-447b-8b19-d65b294a80d5",
        "colab": {
          "base_uri": "https://localhost:8080/"
        }
      },
      "execution_count": 43,
      "outputs": [
        {
          "output_type": "execute_result",
          "data": {
            "text/plain": [
              "(Array([[1., 2.],\n",
              "        [3., 5.]], dtype=float64),\n",
              " Array([-1.,  1.], dtype=float64))"
            ]
          },
          "metadata": {},
          "execution_count": 43
        }
      ]
    },
    {
      "cell_type": "code",
      "source": [
        "fvec(W,x)"
      ],
      "metadata": {
        "colab": {
          "base_uri": "https://localhost:8080/"
        },
        "id": "d-V-Qhnkkjse",
        "outputId": "27b4e195-9dd3-4563-b0a6-ba64298533e5"
      },
      "execution_count": 44,
      "outputs": [
        {
          "output_type": "execute_result",
          "data": {
            "text/plain": [
              "Array([1., 2.], dtype=float64)"
            ]
          },
          "metadata": {},
          "execution_count": 44
        }
      ]
    },
    {
      "cell_type": "code",
      "source": [
        "Jfwd =jacfwd(fvec)(W,x)   # W is the parameter\n",
        "print(Jfwd.shape,\"\\n\",Jfwd)"
      ],
      "metadata": {
        "colab": {
          "base_uri": "https://localhost:8080/"
        },
        "id": "MDwcPL6DlCAl",
        "outputId": "f4274521-1599-4a49-e495-5d55184552d4"
      },
      "execution_count": 45,
      "outputs": [
        {
          "output_type": "stream",
          "name": "stdout",
          "text": [
            "(2, 2, 2) \n",
            " [[[-1.  1.]\n",
            "  [ 0.  0.]]\n",
            "\n",
            " [[ 0.  0.]\n",
            "  [-1.  1.]]]\n"
          ]
        }
      ]
    },
    {
      "cell_type": "code",
      "source": [
        "Jrev =jacrev(fvec)(W,x)\n",
        "print(Jrev.shape,\"\\n\",Jrev)"
      ],
      "metadata": {
        "id": "elLfguiT_Yvc",
        "outputId": "9d655544-070e-4672-c0db-ab3204ac494a",
        "colab": {
          "base_uri": "https://localhost:8080/"
        }
      },
      "execution_count": 46,
      "outputs": [
        {
          "output_type": "stream",
          "name": "stdout",
          "text": [
            "(2, 2, 2) \n",
            " [[[-1.  1.]\n",
            "  [-0.  0.]]\n",
            "\n",
            " [[-0.  0.]\n",
            "  [-1.  1.]]]\n"
          ]
        }
      ]
    },
    {
      "cell_type": "markdown",
      "source": [
        "**Warning**:\n",
        "\n",
        "- `jacfwd` is designed for $\\mathbb{R}^n \\rightarrow \\mathbb{R}^m$ with $n\\ll m$ (*tall matrix*)\n",
        "\n",
        "- `jacrev` is designed for $\\mathbb{R}^n \\rightarrow \\mathbb{R}^m$ with $m\\ll n$ (*wide matrix*)\n",
        "\n",
        "The last case is particularly adapted when we have a lot of parameters ($n$) with a few outputs ($m$). But this will imply restriction for the coding (`fori_loop` and `while` loop) see [doc](https://jax.readthedocs.io/en/latest/notebooks/Common_Gotchas_in_JAX.html#summary)\n",
        "\n",
        "\n"
      ],
      "metadata": {
        "id": "uCnR2SMnDy9K"
      }
    },
    {
      "cell_type": "markdown",
      "source": [
        "## Auto-diff on multi-args function\n",
        "\n",
        "The differentiation is by default on the 1st argument of the function but this is not exclusive\n"
      ],
      "metadata": {
        "id": "MRFghTaZjtBE"
      }
    },
    {
      "cell_type": "code",
      "source": [
        "def func(x, y):\n",
        "    return 2 * x * y\n",
        "\n",
        "print(grad(func)(3., 4.))  # 8.                 # function evaluated @ (3,4)\n",
        "print(grad(func, argnums=0)(3., 4.))  # 8.      # df/dx    evaluated @  (3,4)\n",
        "print(grad(func, argnums=1)(3., 4.))  # 6       # df/dy    evaluated @  (3,4)\n",
        "print(grad(func, argnums=(0, 1))(3., 4.))  # (8., 6.)  # both firs derivatives evaluated at once"
      ],
      "metadata": {
        "colab": {
          "base_uri": "https://localhost:8080/"
        },
        "id": "pL-rGxAbjtbe",
        "outputId": "6b4f4c12-4b02-4b60-917d-cb37650ab721"
      },
      "execution_count": 47,
      "outputs": [
        {
          "output_type": "stream",
          "name": "stdout",
          "text": [
            "8.0\n",
            "8.0\n",
            "6.0\n",
            "(Array(8., dtype=float64, weak_type=True), Array(6., dtype=float64, weak_type=True))\n"
          ]
        }
      ]
    },
    {
      "cell_type": "markdown",
      "source": [
        "# Example via the minimization of the Mean Squared Error (MSE)\n",
        "\n"
      ],
      "metadata": {
        "id": "YVC13eJ1pFSb"
      }
    },
    {
      "cell_type": "markdown",
      "source": [
        "## Model, loss"
      ],
      "metadata": {
        "id": "lXR0D_RzsoUV"
      }
    },
    {
      "cell_type": "code",
      "source": [
        "def model(p, x):\n",
        "    return jnp.exp(-x*p[0])*jnp.sin(x*p[1])\n",
        "\n",
        "def loss_fun(p, xi, yi):\n",
        "    yhat = model(p, xi)\n",
        "    return jnp.mean( (yhat - yi)**2 )"
      ],
      "metadata": {
        "id": "p8JhzQxoo4ZY"
      },
      "execution_count": null,
      "outputs": []
    },
    {
      "cell_type": "markdown",
      "source": [
        "jnp.exp, jnp.sin ... are vectorized so  `model` and ``oss_fun` do not need vmap.\n",
        "\n",
        "## Dataset\n",
        "Let us now generate a dataset. Look at random number generation"
      ],
      "metadata": {
        "id": "kxWzkFTXqLI7"
      }
    },
    {
      "cell_type": "code",
      "source": [
        "# dataset\n",
        "ptrue = jnp.array([0.5,1])\n",
        "\n",
        "xin = jnp.arange(0,10,1.)\n",
        "yerr = 0.05\n",
        "# jax.random.PRNGKey(seed) simple way to give a key to the RNG\n",
        "y_true =  model(ptrue, xin)\n",
        "yin = y_true + yerr*jax.random.normal(jax.random.PRNGKey(42),shape=xin.shape)\n"
      ],
      "metadata": {
        "id": "6eUtBDLWpJ_x"
      },
      "execution_count": null,
      "outputs": []
    },
    {
      "cell_type": "code",
      "source": [
        "plt.errorbar(xin,yin,yerr=yerr, fmt='o', linewidth=2, capsize=0, c='k', label=\"data\");\n",
        "plt.plot(xin,y_true, label='True (noiseless)')\n",
        "plt.legend();"
      ],
      "metadata": {
        "colab": {
          "base_uri": "https://localhost:8080/",
          "height": 446
        },
        "id": "LOrHq5NQr61L",
        "outputId": "03caea5b-a972-44d6-e778-9bd1a91b1b1d"
      },
      "execution_count": null,
      "outputs": [
        {
          "output_type": "display_data",
          "data": {
            "text/plain": [
              "<Figure size 640x480 with 1 Axes>"
            ],
            "image/png": "[encoded data removed]"
          },
          "metadata": {}
        }
      ]
    },
    {
      "cell_type": "markdown",
      "source": [
        "notice: most of matplotlib accept JAX Device array asis as they have a numpy representation. If not use np.asarray(JAX-device-array)\n",
        "\n",
        "## Gradient descent"
      ],
      "metadata": {
        "id": "Qikc3aalr9WJ"
      }
    },
    {
      "cell_type": "code",
      "source": [
        "@jit  # we will see what it is later\n",
        "def gradient_descent_step(p, xi, yi, lr=0.1):\n",
        "    return p - lr * jax.grad(loss_fun)(p, xi, yi)\n"
      ],
      "metadata": {
        "id": "XpTXHZlUssVI"
      },
      "execution_count": null,
      "outputs": []
    },
    {
      "cell_type": "markdown",
      "source": [
        "Below is a simple minimizer from scratch with a for loop. We would use a more JAXy version later"
      ],
      "metadata": {
        "id": "yeShvARPs5EP"
      }
    },
    {
      "cell_type": "code",
      "source": [
        "def minimzer(loss_fun, x_data, y_data, par_init, method, verbose=True):\n",
        "    p_cur = par_init\n",
        "    new_loss=jnp.inf\n",
        "\n",
        "    for t in range(5000):\n",
        "\n",
        "        if (t % 100 == 0) and verbose:\n",
        "            print(t, p_cur,new_loss)\n",
        "\n",
        "        old_loss = new_loss\n",
        "        new_p = method(p_cur, x_data,y_data)\n",
        "        new_loss = loss_fun(new_p, x_data,y_data)\n",
        "\n",
        "        if jnp.abs(new_loss-old_loss) < 1e-9:\n",
        "            print(f\"Converged after {t} epochs: p = {new_p}, loss = {new_loss}\")\n",
        "            break\n",
        "\n",
        "        p_cur = new_p\n",
        "\n",
        "    return p_cur"
      ],
      "metadata": {
        "id": "3aEBYFKCs29S"
      },
      "execution_count": null,
      "outputs": []
    },
    {
      "cell_type": "code",
      "source": [
        "par_mini_GD = minimzer(loss_fun, x_data=xin, y_data=yin, par_init=jnp.array([0., 0.5]),\n",
        "                    method=gradient_descent_step, verbose=True)\n",
        "\n"
      ],
      "metadata": {
        "colab": {
          "base_uri": "https://localhost:8080/"
        },
        "id": "xTT1UzARtMrV",
        "outputId": "8e700367-8f71-4b22-bacc-6d2752727ac0"
      },
      "execution_count": null,
      "outputs": [
        {
          "output_type": "stream",
          "name": "stdout",
          "text": [
            "0 [0.  0.5] inf\n",
            "100 [0.62048393 0.70750834] 0.008637562559042187\n",
            "200 [0.59232543 0.93250246] 0.003369178419368657\n",
            "300 [0.54957041 1.04688945] 0.0017975857523135552\n",
            "400 [0.53074669 1.08778781] 0.0015735323299857114\n",
            "500 [0.52542832 1.09953584] 0.0015546792362664712\n",
            "600 [0.52410865 1.10263342] 0.001553384289830772\n",
            "Converged after 633 epochs: p = [0.52394625 1.10302972], loss = 0.0015533297417048115\n"
          ]
        }
      ]
    },
    {
      "cell_type": "code",
      "source": [
        "plt.errorbar(xin,yin,yerr=yerr, fmt='o', linewidth=2, capsize=0, c='k', label=\"data\")\n",
        "x_val = jnp.linspace(0.,10,50)\n",
        "plt.plot(x_val,model(ptrue, x_val),label=\"true noiseless\")\n",
        "plt.plot(x_val,model(par_mini_GD, x_val) ,lw=3,label=\"GD fit\")\n",
        "plt.legend();\n"
      ],
      "metadata": {
        "colab": {
          "base_uri": "https://localhost:8080/",
          "height": 446
        },
        "id": "gXnTSFUktTy6",
        "outputId": "b9da7b29-4163-4acf-d550-559421c8c9ef"
      },
      "execution_count": null,
      "outputs": [
        {
          "output_type": "display_data",
          "data": {
            "text/plain": [
              "<Figure size 640x480 with 1 Axes>"
            ],
            "image/png": "[encoded data removed]"
          },
          "metadata": {}
        }
      ]
    },
    {
      "cell_type": "markdown",
      "source": [
        "## Use 2nd order method : Hessian"
      ],
      "metadata": {
        "id": "zMQjon_ctd8l"
      }
    },
    {
      "cell_type": "code",
      "source": [
        "gLoss = lambda p,xi,yi: jacfwd(loss_fun)(p,xi,yi)\n",
        "hLoss = lambda p,xi,yi: jax.hessian(loss_fun)(p,xi,yi)\n",
        "\n",
        "@jit\n",
        "def oneStepNewton(p,xi,yi,lr=0.1):\n",
        "    return p - lr*jnp.linalg.inv(hLoss(p,xi,yi)) @ gLoss(p,xi,yi)\n"
      ],
      "metadata": {
        "id": "gVvtCVs0tche"
      },
      "execution_count": null,
      "outputs": []
    },
    {
      "cell_type": "code",
      "source": [
        "par_mini_Newton = minimzer(loss_fun, x_data=xin, y_data=yin, par_init=jnp.array([0., 0.5]),\n",
        "                    method=oneStepNewton, verbose=True)"
      ],
      "metadata": {
        "colab": {
          "base_uri": "https://localhost:8080/"
        },
        "id": "Nxvlpz-UtnRU",
        "outputId": "7770e935-f175-4eb2-cbe1-b735f97e967d"
      },
      "execution_count": null,
      "outputs": [
        {
          "output_type": "stream",
          "name": "stdout",
          "text": [
            "0 [0.  0.5] inf\n",
            "100 [0.07535076 0.00358029] 0.039375743405272515\n",
            "Converged after 183 epochs: p = [0.52373613 1.10348083], loss = 0.0015532978650187029\n"
          ]
        }
      ]
    },
    {
      "cell_type": "code",
      "source": [
        "plt.errorbar(xin,yin,yerr=yerr, fmt='o', linewidth=2, capsize=0, c='k', label=\"data\")\n",
        "x_val = jnp.linspace(0.,10,50)\n",
        "plt.plot(x_val,model(ptrue, x_val),label=\"true noiseless\")\n",
        "plt.plot(x_val,model(par_mini_GD, x_val) ,lw=3,label=\"GD fit\")\n",
        "plt.plot(x_val,model(par_mini_Newton, x_val),ls='--',lw=3,label=\"Newton fit\")\n",
        "plt.legend();\n"
      ],
      "metadata": {
        "colab": {
          "base_uri": "https://localhost:8080/",
          "height": 446
        },
        "id": "5GLh_eaqtuXP",
        "outputId": "8f18cfff-18ba-4996-a5ba-4b090bab8821"
      },
      "execution_count": null,
      "outputs": [
        {
          "output_type": "display_data",
          "data": {
            "text/plain": [
              "<Figure size 640x480 with 1 Axes>"
            ],
            "image/png": "[encoded data removed]"
          },
          "metadata": {}
        }
      ]
    },
    {
      "cell_type": "markdown",
      "source": [
        "# Gradient/Vmap...wrt  tuples, lists, and dicts"
      ],
      "metadata": {
        "id": "LrruiqWzt34T"
      }
    },
    {
      "cell_type": "code",
      "source": [
        "def f(p:dict,x):\n",
        "    return p[\"a\"]**2 + p[\"b\"]*x"
      ],
      "metadata": {
        "id": "1RgdvwK3t_tH"
      },
      "execution_count": null,
      "outputs": []
    },
    {
      "cell_type": "markdown",
      "source": [
        "$$\n",
        "∂ f/\\partial p(a) = 2 p(a), \\qquad ∂ f/\\partial p(b) = x\n",
        "$$"
      ],
      "metadata": {
        "id": "Dtw2LB4guNdq"
      }
    },
    {
      "cell_type": "code",
      "source": [
        "p= {\"a\":3.,\"b\":1.}\n",
        "x = 10.\n",
        "print(grad(f)(p,x))"
      ],
      "metadata": {
        "colab": {
          "base_uri": "https://localhost:8080/"
        },
        "id": "Y1B_rHVsuDMQ",
        "outputId": "97e88bbe-7716-4207-faf3-5ee118d87884"
      },
      "execution_count": null,
      "outputs": [
        {
          "output_type": "stream",
          "name": "stdout",
          "text": [
            "{'a': Array(6., dtype=float64, weak_type=True), 'b': Array(10., dtype=float64, weak_type=True)}\n"
          ]
        }
      ]
    },
    {
      "cell_type": "markdown",
      "source": [
        "$$\\partial f / \\partial x = p(b)$$"
      ],
      "metadata": {
        "id": "C4Q1R_UAvLt1"
      }
    },
    {
      "cell_type": "code",
      "source": [
        "print(grad(f, argnums=1)(p,x))"
      ],
      "metadata": {
        "colab": {
          "base_uri": "https://localhost:8080/"
        },
        "id": "WXhW0Q7EvF6d",
        "outputId": "f442c779-ffc8-4d03-8d29-71356bb31090"
      },
      "execution_count": null,
      "outputs": [
        {
          "output_type": "stream",
          "name": "stdout",
          "text": [
            "1.0\n"
          ]
        }
      ]
    },
    {
      "cell_type": "code",
      "source": [
        "def f(p:tuple,x):\n",
        "    return p[0]**2 + p[1]*x"
      ],
      "metadata": {
        "id": "QcipjzVcveGX"
      },
      "execution_count": null,
      "outputs": []
    },
    {
      "cell_type": "code",
      "source": [
        "p= (3.,1.)\n",
        "x = 10.\n",
        "print(grad(f)(p,x))"
      ],
      "metadata": {
        "colab": {
          "base_uri": "https://localhost:8080/"
        },
        "id": "EF1zEPoavoYV",
        "outputId": "eadcd214-b4c4-4ffc-8eab-31f480cbe793"
      },
      "execution_count": null,
      "outputs": [
        {
          "output_type": "stream",
          "name": "stdout",
          "text": [
            "(Array(6., dtype=float64, weak_type=True), Array(10., dtype=float64, weak_type=True))\n"
          ]
        }
      ]
    },
    {
      "cell_type": "code",
      "source": [
        "def f(p:list,x):\n",
        "    return p[0]**2 + p[1]*x"
      ],
      "metadata": {
        "id": "LOwRLi7fvyDY"
      },
      "execution_count": null,
      "outputs": []
    },
    {
      "cell_type": "code",
      "source": [
        "p= [3.,1.]\n",
        "x = 10.\n",
        "print(grad(f)(p,x))"
      ],
      "metadata": {
        "colab": {
          "base_uri": "https://localhost:8080/"
        },
        "id": "T-7LdS92v428",
        "outputId": "2964803f-4c12-44c9-fa31-d27d2db4af86"
      },
      "execution_count": null,
      "outputs": [
        {
          "output_type": "stream",
          "name": "stdout",
          "text": [
            "[Array(6., dtype=float64, weak_type=True), Array(10., dtype=float64, weak_type=True)]\n"
          ]
        }
      ]
    },
    {
      "cell_type": "markdown",
      "source": [
        "# Vectorization partielle: in-axes"
      ],
      "metadata": {
        "id": "AhRJDjERvW-I"
      }
    },
    {
      "cell_type": "code",
      "source": [
        "def f(p:dict,x):\n",
        "    return p[\"a\"]**2 + p[\"b\"]*x"
      ],
      "metadata": {
        "id": "sji3Deq4wI2w"
      },
      "execution_count": null,
      "outputs": []
    },
    {
      "cell_type": "code",
      "source": [
        "# We vectorize on the \"b\" values of the dictionnary as array of (1,2,3)\n",
        "# p(a)=1, x=10\n",
        "print(vmap(f, in_axes=({\"a\": None, \"b\": 0},None))({\"a\":1.,\"b\":jnp.array([1.,2.,3.])},10.))"
      ],
      "metadata": {
        "colab": {
          "base_uri": "https://localhost:8080/"
        },
        "id": "djIVP9zNwyUa",
        "outputId": "275e150d-ac5d-4829-dc41-c1b77b80682c"
      },
      "execution_count": null,
      "outputs": [
        {
          "output_type": "stream",
          "name": "stdout",
          "text": [
            "[11. 21. 31.]\n"
          ]
        }
      ]
    },
    {
      "cell_type": "code",
      "source": [
        "# make p(b)=2, x=10 and vectorize upon p(a)\n",
        "vmap(f, in_axes=({\"a\":0, \"b\": None},None))({\"a\":jnp.array([1.,2.,3.]),\"b\":2.0},10)"
      ],
      "metadata": {
        "colab": {
          "base_uri": "https://localhost:8080/"
        },
        "id": "jdVASvWvwzch",
        "outputId": "8f856316-d993-4fac-9cfd-61f0c506429f"
      },
      "execution_count": null,
      "outputs": [
        {
          "output_type": "execute_result",
          "data": {
            "text/plain": [
              "Array([21., 24., 29.], dtype=float64)"
            ]
          },
          "metadata": {},
          "execution_count": 45
        }
      ]
    },
    {
      "cell_type": "markdown",
      "source": [
        "A bit more in_axis manipulations"
      ],
      "metadata": {
        "id": "fodoECFlxHBd"
      }
    },
    {
      "cell_type": "code",
      "source": [
        "def func(a,b,x):\n",
        "    return a**2 + b*x\n"
      ],
      "metadata": {
        "id": "gcfecWTdxNwS"
      },
      "execution_count": null,
      "outputs": []
    },
    {
      "cell_type": "code",
      "source": [
        "vfunc = vmap(func, in_axes=(0,None,None))  # vectorize on \"a\""
      ],
      "metadata": {
        "id": "1c7btsNvxRZa"
      },
      "execution_count": null,
      "outputs": []
    },
    {
      "cell_type": "code",
      "source": [
        "vfunc(jnp.array([1.,2.,3.]), 1.,10.)"
      ],
      "metadata": {
        "colab": {
          "base_uri": "https://localhost:8080/"
        },
        "id": "kwh8qJumxY70",
        "outputId": "b16a904d-53a8-4590-fbc7-fb4620ec9227"
      },
      "execution_count": null,
      "outputs": [
        {
          "output_type": "execute_result",
          "data": {
            "text/plain": [
              "Array([11., 14., 19.], dtype=float64)"
            ]
          },
          "metadata": {},
          "execution_count": 48
        }
      ]
    },
    {
      "cell_type": "code",
      "source": [
        "# map over 2 axis : \"a\" and \"b\"\n",
        "vvfunc = vmap(vmap(func, in_axes=(0,None,None)),in_axes=(None,0,None))"
      ],
      "metadata": {
        "id": "M3ltXgWmxe-Y"
      },
      "execution_count": null,
      "outputs": []
    },
    {
      "cell_type": "code",
      "source": [
        "vvfunc(jnp.array([1.,2.,3.]),jnp.array([0.,1.,4.,5.]),10.)\n",
        "# x= 10\n",
        "# a:(1,2,3) b: 0\n",
        "# a:(1,2,3) b: 1\n",
        "# a:(1,2,3) b: 4\n",
        "# a:(1,2,3) b: 5\n"
      ],
      "metadata": {
        "colab": {
          "base_uri": "https://localhost:8080/"
        },
        "id": "SKrJrRSKxtHC",
        "outputId": "50da2148-65f0-46a9-8c8a-af7750519374"
      },
      "execution_count": null,
      "outputs": [
        {
          "output_type": "execute_result",
          "data": {
            "text/plain": [
              "Array([[ 1.,  4.,  9.],\n",
              "       [11., 14., 19.],\n",
              "       [41., 44., 49.],\n",
              "       [51., 54., 59.]], dtype=float64)"
            ]
          },
          "metadata": {},
          "execution_count": 50
        }
      ]
    },
    {
      "cell_type": "code",
      "source": [
        "# Python list comprehension equiv.\n",
        "[[func(ai,bj,x=10.) for ai in [1,2,3]] for bj in [0.,1.,4.,5.]]"
      ],
      "metadata": {
        "colab": {
          "base_uri": "https://localhost:8080/"
        },
        "id": "1Cbq9OCGx3UQ",
        "outputId": "c6097e08-0479-4593-e6d7-6c297be35aaa"
      },
      "execution_count": null,
      "outputs": [
        {
          "output_type": "execute_result",
          "data": {
            "text/plain": [
              "[[1.0, 4.0, 9.0], [11.0, 14.0, 19.0], [41.0, 44.0, 49.0], [51.0, 54.0, 59.0]]"
            ]
          },
          "metadata": {},
          "execution_count": 51
        }
      ]
    },
    {
      "cell_type": "code",
      "source": [
        "vmap(func,in_axes=(0,0,None))(jnp.array([1.,2.,3.]),jnp.array([0.,1.,4.]),10.)\n",
        "# here map a,b at the same times : requires than arrays have the same sizes\n",
        "#x=10\n",
        "# a:1 b:0\n",
        "# a:2 b:1\n",
        "# a:3 b:4\n"
      ],
      "metadata": {
        "colab": {
          "base_uri": "https://localhost:8080/"
        },
        "id": "yHBHjNBTyDmi",
        "outputId": "674a0d7d-88ae-442a-95f8-3138440e8a70"
      },
      "execution_count": null,
      "outputs": [
        {
          "output_type": "execute_result",
          "data": {
            "text/plain": [
              "Array([ 1., 14., 49.], dtype=float64)"
            ]
          },
          "metadata": {},
          "execution_count": 52
        }
      ]
    },
    {
      "cell_type": "code",
      "source": [
        "# Python list comprehension equiv.\n",
        "[func(ai,bj,x=10.) for ai,bj in zip([1,2,3],[0.,1.,4.,5.])]"
      ],
      "metadata": {
        "colab": {
          "base_uri": "https://localhost:8080/"
        },
        "id": "SlXiPQdgyXzl",
        "outputId": "f1517a03-5d39-4248-9f7e-70619012101d"
      },
      "execution_count": null,
      "outputs": [
        {
          "output_type": "execute_result",
          "data": {
            "text/plain": [
              "[1.0, 14.0, 49.0]"
            ]
          },
          "metadata": {},
          "execution_count": 53
        }
      ]
    },
    {
      "cell_type": "markdown",
      "source": [
        "Now, \"0\" in the above in_axes means the first dimension of each \"a\" and \"b\" args.\n",
        "\n",
        "What about if \"b\" is a matrix, and \"a\" a vector"
      ],
      "metadata": {
        "id": "t6J58uO-zX-a"
      }
    },
    {
      "cell_type": "code",
      "source": [
        "a = np.array([1.,2.,3.])\n",
        "b = np.array([[0.,1.,4.],\n",
        "               [1.,2.,8.]])"
      ],
      "metadata": {
        "id": "daMxMxTCzXNa"
      },
      "execution_count": null,
      "outputs": []
    },
    {
      "cell_type": "code",
      "source": [
        "for i in range(len(a)):\n",
        "  print(func(a[i],b[:,i],10))"
      ],
      "metadata": {
        "colab": {
          "base_uri": "https://localhost:8080/"
        },
        "id": "e3P7SV6fz39G",
        "outputId": "4f703d5f-a253-4e4d-fd0f-846a68be3e5f"
      },
      "execution_count": null,
      "outputs": [
        {
          "output_type": "stream",
          "name": "stdout",
          "text": [
            "[ 1. 11.]\n",
            "[14. 24.]\n",
            "[49. 89.]\n"
          ]
        }
      ]
    },
    {
      "cell_type": "code",
      "source": [
        "# here is the vmap equivalent\n",
        "vmap(func,in_axes=(0,1,None))(a,b,10.)"
      ],
      "metadata": {
        "colab": {
          "base_uri": "https://localhost:8080/"
        },
        "id": "qobEwTZny2zH",
        "outputId": "8c8797f5-f004-4233-c285-48f5365f22d6"
      },
      "execution_count": null,
      "outputs": [
        {
          "output_type": "execute_result",
          "data": {
            "text/plain": [
              "Array([[ 1., 11.],\n",
              "       [14., 24.],\n",
              "       [49., 89.]], dtype=float64)"
            ]
          },
          "metadata": {},
          "execution_count": 56
        }
      ]
    },
    {
      "cell_type": "markdown",
      "source": [
        "# Ploting a 2D scalar function and its gradient flow"
      ],
      "metadata": {
        "id": "bgix1V1gN9PQ"
      }
    },
    {
      "cell_type": "code",
      "source": [
        "def f(p):\n",
        "  x,y=p[0],p[1]\n",
        "  return jnp.sin(x)*jnp.cos(y)\n",
        "fig,ax = plt.subplots(1,1,figsize=(5,5))\n",
        "\n",
        "xmin,xmax,ymin,ymax,Npix = -jnp.pi,jnp.pi,-jnp.pi,jnp.pi,101\n",
        "grid = x0,y0 = jnp.mgrid[xmin:xmax:Npix*1j,ymin:ymax:Npix*1j]\n",
        "pts = jnp.swapaxes(grid,0,-1).reshape(-1,2)\n",
        "vfunc = vmap(f)\n",
        "v = vfunc(pts)\n",
        "v = jnp.swapaxes(v.reshape(Npix,Npix),0,-1)\n",
        "\n",
        "g0=ax.contourf(x0,y0,v, levels = 100)\n",
        "img = ax.contour(x0,y0,v, levels = 10, colors = 'w')\n",
        "\n",
        "xmin,xmax,ymin,ymax,Npix = -jnp.pi,jnp.pi,-jnp.pi,jnp.pi,20\n",
        "grid = x0,y0 = jnp.mgrid[xmin:xmax:Npix*1j,ymin:ymax:Npix*1j]\n",
        "pts = jnp.swapaxes(grid,0,-1).reshape(-1,2)\n",
        "\n",
        "gradients = vmap(grad(f))(pts)\n",
        "scale = 1\n",
        "ax.quiver(\n",
        "        pts[:,0],\n",
        "        pts[:,1],\n",
        "        gradients[:,0],\n",
        "        gradients[:,1],\n",
        "        color=\"white\",\n",
        "        angles = 'xy',\n",
        "        scale_units='xy',\n",
        "        scale = scale\n",
        "    )\n",
        "ax.set_aspect(\"equal\")\n",
        "fig.colorbar(g0,ax=ax,shrink=0.95)"
      ],
      "metadata": {
        "id": "R7BUoLQiN7o0"
      },
      "execution_count": null,
      "outputs": []
    },
    {
      "cell_type": "markdown",
      "source": [
        "# PyTree: a user structure adapted to JAX (vmap,grad,jit)\n",
        "\n",
        "Here a simple example with a class with 2 fields (a, b).\n",
        "\n",
        "Notice that one can implement in different way (eg. NamedTuple) and may use library (eg. Equinox)"
      ],
      "metadata": {
        "id": "Ya2AenXz1uPG"
      }
    },
    {
      "cell_type": "code",
      "source": [
        "from jax.tree_util import register_pytree_node_class\n",
        "\n",
        "@register_pytree_node_class\n",
        "class Params:\n",
        "    def __init__(self, a, b):\n",
        "        self._a = a\n",
        "        self._b = b\n",
        "\n",
        "    def __repr__(self):\n",
        "        return f\"Params(a={self._a}, b={self._b})\"\n",
        "\n",
        "    @property\n",
        "    def a(self):\n",
        "        return self._a\n",
        "\n",
        "    @property\n",
        "    def b(self):\n",
        "        return self._b\n",
        "\n",
        "    def tree_flatten(self):\n",
        "        children = (self._a, self._b)\n",
        "        aux_data = None\n",
        "        return (children, aux_data)\n",
        "\n",
        "    @classmethod\n",
        "    def tree_unflatten(cls, aux_data, children):\n",
        "        return cls(*children)"
      ],
      "metadata": {
        "id": "r8EBfEGU18GG"
      },
      "execution_count": null,
      "outputs": []
    },
    {
      "cell_type": "code",
      "source": [
        "my_params = Params(3.,1.)\n",
        "my_params"
      ],
      "metadata": {
        "colab": {
          "base_uri": "https://localhost:8080/"
        },
        "id": "MSZ3lfeT2aZ6",
        "outputId": "74544c72-a1cc-44aa-e40d-6b2c1a5a3340"
      },
      "execution_count": null,
      "outputs": [
        {
          "output_type": "execute_result",
          "data": {
            "text/plain": [
              "Params(a=3.0, b=1.0)"
            ]
          },
          "metadata": {},
          "execution_count": 58
        }
      ]
    },
    {
      "cell_type": "code",
      "source": [
        "def g(p: Params,x):\n",
        "    return (p.a)**2 + (p.b)*x\n"
      ],
      "metadata": {
        "id": "GPe2eOQm2etD"
      },
      "execution_count": null,
      "outputs": []
    },
    {
      "cell_type": "code",
      "source": [
        "print(grad(g)(my_params,10)) # as easy as arrays, dicts, lists"
      ],
      "metadata": {
        "colab": {
          "base_uri": "https://localhost:8080/"
        },
        "id": "G_zmzrxY2mnl",
        "outputId": "f6c05888-a548-4f20-95d1-58bb59864a80"
      },
      "execution_count": null,
      "outputs": [
        {
          "output_type": "stream",
          "name": "stdout",
          "text": [
            "Params(a=6.0, b=10.0)\n"
          ]
        }
      ]
    },
    {
      "cell_type": "code",
      "source": [
        "# vmaping to the \"b\" parameter (2nd field) of Params class\n",
        "print(vmap(g, in_axes=(Params(None, 0), None))(Params(3., jnp.array([1.,2.,3.])), 10))"
      ],
      "metadata": {
        "colab": {
          "base_uri": "https://localhost:8080/"
        },
        "id": "zoS3wKLJ2z0U",
        "outputId": "7f568bd2-8cf0-48d7-8700-85d7595bb8a3"
      },
      "execution_count": null,
      "outputs": [
        {
          "output_type": "stream",
          "name": "stdout",
          "text": [
            "[19. 29. 39.]\n"
          ]
        }
      ]
    },
    {
      "cell_type": "code",
      "source": [
        "# A way to see the structure\n",
        "from jax.tree_util import tree_flatten, tree_unflatten\n",
        "def show_example(structured):\n",
        "    flat, tree = tree_flatten(structured)\n",
        "    unflattened = tree_unflatten(tree, flat)\n",
        "    print(\"structured={}\\n  flat={}\\n  tree={}\\n  unflattened={}\".format(\n",
        "          structured, flat, tree, unflattened))"
      ],
      "metadata": {
        "id": "6n8JDhdm3EZ2"
      },
      "execution_count": null,
      "outputs": []
    },
    {
      "cell_type": "code",
      "source": [
        "show_example(my_params)"
      ],
      "metadata": {
        "colab": {
          "base_uri": "https://localhost:8080/"
        },
        "id": "iyu41J7L3d_k",
        "outputId": "bb1d3b85-09aa-47a9-f195-bec1b5429bf0"
      },
      "execution_count": null,
      "outputs": [
        {
          "output_type": "stream",
          "name": "stdout",
          "text": [
            "structured=Params(a=3.0, b=1.0)\n",
            "  flat=[3.0, 1.0]\n",
            "  tree=PyTreeDef(CustomNode(Params[None], [*, *]))\n",
            "  unflattened=Params(a=3.0, b=1.0)\n"
          ]
        }
      ]
    },
    {
      "cell_type": "markdown",
      "source": [
        "# Use of Equinox data structure"
      ],
      "metadata": {
        "id": "o_jA6sA-38jD"
      }
    },
    {
      "cell_type": "code",
      "source": [
        "! pip install -q equinox"
      ],
      "metadata": {
        "id": "B6yE9TJR362B"
      },
      "execution_count": null,
      "outputs": []
    },
    {
      "cell_type": "code",
      "source": [
        "import equinox as eqx\n",
        "\n",
        "#like a layer in a NN\n",
        "class Model(eqx.Module):\n",
        "  a : float                 # the params\n",
        "  b : float\n",
        "\n",
        "  def __init__(self, a,b):  # the init\n",
        "    self.a = a\n",
        "    self.b = b\n",
        "\n",
        "  def __call__(self, x):    # the forward call\n",
        "    return self.a + x *  self.b**2"
      ],
      "metadata": {
        "id": "3MPQc2Rk4KN5",
        "outputId": "5f87743d-38d6-4a24-c9a0-76e9d18001a0",
        "colab": {
          "base_uri": "https://localhost:8080/"
        }
      },
      "execution_count": null,
      "outputs": [
        {
          "output_type": "stream",
          "name": "stderr",
          "text": [
            "/usr/local/lib/python3.10/dist-packages/jaxtyping/__init__.py:243: UserWarning: jaxtyping version >=0.2.23 should be used with Equinox version >=0.11.1\n",
            "  warnings.warn(\n"
          ]
        }
      ]
    },
    {
      "cell_type": "code",
      "source": [
        "def f(model, x):\n",
        "  return vmap(model)(x)   # in the presnt use case vmap is not necessary\n",
        "\n",
        "model = Model(a=0.,b=1.)"
      ],
      "metadata": {
        "id": "fXlKXTob7lUZ"
      },
      "execution_count": null,
      "outputs": []
    },
    {
      "cell_type": "code",
      "source": [
        "f(model,jnp.linspace(0.,10.,10))"
      ],
      "metadata": {
        "colab": {
          "base_uri": "https://localhost:8080/"
        },
        "id": "PblktoTV7gm2",
        "outputId": "93670949-524e-4514-b8c9-f07ebb7ddaa6"
      },
      "execution_count": null,
      "outputs": [
        {
          "output_type": "execute_result",
          "data": {
            "text/plain": [
              "Array([ 0.        ,  1.11111111,  2.22222222,  3.33333333,  4.44444444,\n",
              "        5.55555556,  6.66666667,  7.77777778,  8.88888889, 10.        ],      dtype=float64)"
            ]
          },
          "metadata": {},
          "execution_count": 67
        }
      ]
    },
    {
      "cell_type": "code",
      "source": [
        "grads = jacfwd(f)(model,jnp.linspace(0.,10.,10))"
      ],
      "metadata": {
        "id": "XMCHwSJ38ydV"
      },
      "execution_count": null,
      "outputs": []
    },
    {
      "cell_type": "code",
      "source": [
        "grads.a, grads.b"
      ],
      "metadata": {
        "colab": {
          "base_uri": "https://localhost:8080/"
        },
        "id": "ULbiJxaF82K2",
        "outputId": "b6ea5684-27ce-4706-829c-7501d690cc87"
      },
      "execution_count": null,
      "outputs": [
        {
          "output_type": "execute_result",
          "data": {
            "text/plain": [
              "(Array([1., 1., 1., 1., 1., 1., 1., 1., 1., 1.], dtype=float64),\n",
              " Array([ 0.        ,  2.22222222,  4.44444444,  6.66666667,  8.88888889,\n",
              "        11.11111111, 13.33333333, 15.55555556, 17.77777778, 20.        ],      dtype=float64))"
            ]
          },
          "metadata": {},
          "execution_count": 69
        }
      ]
    },
    {
      "cell_type": "markdown",
      "source": [
        "# Takeaway message\n",
        "\n",
        "- JAX rather easy to be on board in you know Python. After sometimes you will discover that you need to think differently (ie. pure-functions)\n",
        "- jax.numpy as API close to Numpy. Now, DeviceArray are immutable objects so there are some adaptation\n",
        "- auto-diff is easy and exact\n",
        "- vmap is really amazing, there are other kinds of paralellization (eg. pmap for multi-devices)\n",
        "- You can use JAX optimization on jnp.array, dict and User structures using PyTree\n",
        "\n",
        "Other nbs use JAX fucntions to use JIT (Just-In-Time compilation)"
      ],
      "metadata": {
        "id": "MLTuwhCc__4Y"
      }
    },
    {
      "cell_type": "markdown",
      "source": [
        "# Docs\n",
        "\n",
        "- JAX https://jax.readthedocs.io/en/latest/index.html\n"
      ],
      "metadata": {
        "id": "2dgQ4ENJrhii"
      }
    },
    {
      "cell_type": "code",
      "source": [],
      "metadata": {
        "id": "J7mhz0MdrsDl"
      },
      "execution_count": null,
      "outputs": []
    }
  ]
}