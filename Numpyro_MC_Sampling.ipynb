{
  "nbformat": 4,
  "nbformat_minor": 0,
  "metadata": {
    "colab": {
      "provenance": [],
      "toc_visible": true,
      "authorship_tag": "ABX9TyPF1yc3M2BXn5d8IhKFv6O0",
      "include_colab_link": true
    },
    "kernelspec": {
      "name": "python3",
      "display_name": "Python 3"
    },
    "language_info": {
      "name": "python"
    }
  },
  "cells": [
    {
      "cell_type": "markdown",
      "metadata": {
        "id": "view-in-github",
        "colab_type": "text"
      },
      "source": [
        "<a href=\"https://colab.research.google.com/github/jecampagne/JaxTutos/blob/main/Numpyro_MC_Sampling.ipynb\" target=\"_parent\"><img src=\"https://colab.research.google.com/assets/colab-badge.svg\" alt=\"Open In Colab\"/></a>"
      ]
    },
    {
      "cell_type": "code",
      "execution_count": null,
      "metadata": {
        "colab": {
          "base_uri": "https://localhost:8080/"
        },
        "id": "24X51kUtew4g",
        "outputId": "6545cb3d-8718-4f02-d616-c857b03fe2b8"
      },
      "outputs": [
        {
          "output_type": "stream",
          "name": "stdout",
          "text": [
            "\u001b[?25l     \u001b[90m━━━━━━━━━━━━━━━━━━━━━━━━━━━━━━━━━━━━━━━━\u001b[0m \u001b[32m0.0/291.7 KB\u001b[0m \u001b[31m?\u001b[0m eta \u001b[36m-:--:--\u001b[0m\r\u001b[2K     \u001b[90m━━━━━━━━━━━━━━━━━━━━━━━━━━━━━━━━━━━━━━\u001b[0m \u001b[32m291.7/291.7 KB\u001b[0m \u001b[31m12.0 MB/s\u001b[0m eta \u001b[36m0:00:00\u001b[0m\n",
            "\u001b[?25h"
          ]
        }
      ],
      "source": [
        "! pip install -q numpyro==0.10."
      ]
    },
    {
      "cell_type": "code",
      "source": [
        "import numpyro\n",
        "from numpyro.diagnostics import hpdi\n",
        "import numpyro.distributions as dist\n",
        "from numpyro import handlers\n",
        "from numpyro.infer import HMC, NUTS,  BarkerMH,  MCMC, init_to_sample\n"
      ],
      "metadata": {
        "id": "kfS-bBBMfZTP"
      },
      "execution_count": null,
      "outputs": []
    },
    {
      "cell_type": "code",
      "source": [
        "import jax\n",
        "import jax.numpy as jnp\n",
        "import jax.scipy as jsc\n",
        "from jax import grad, jit, vmap\n",
        "from jax import jacfwd, jacrev, hessian\n",
        "#import jaxopt\n",
        "\n",
        "from functools import partial\n",
        "\n",
        "import numpy as np\n",
        "import matplotlib as mpl\n",
        "import matplotlib.pyplot as plt\n",
        "mpl.rc('image', cmap='jet')\n",
        "mpl.rcParams['font.size'] = 18\n",
        "\n",
        "from jax.config import config\n",
        "config.update(\"jax_enable_x64\", True)\n",
        "\n",
        "import scipy as sc\n",
        "from scipy.optimize import minimize as sc_minimize\n",
        "import scipy.stats as scs\n",
        "import scipy.integrate as sc_integrate\n"
      ],
      "metadata": {
        "id": "6Jhbc3J6f9_F"
      },
      "execution_count": null,
      "outputs": []
    },
    {
      "cell_type": "code",
      "source": [
        "! pip install corner"
      ],
      "metadata": {
        "colab": {
          "base_uri": "https://localhost:8080/"
        },
        "id": "TpkmOjy7iBrT",
        "outputId": "97514bb1-de27-4e12-b290-e0c58cb7857b"
      },
      "execution_count": null,
      "outputs": [
        {
          "output_type": "stream",
          "name": "stdout",
          "text": [
            "Looking in indexes: https://pypi.org/simple, https://us-python.pkg.dev/colab-wheels/public/simple/\n",
            "Collecting corner\n",
            "  Downloading corner-2.2.1-py3-none-any.whl (15 kB)\n",
            "Requirement already satisfied: matplotlib>=2.1 in /usr/local/lib/python3.8/dist-packages (from corner) (3.2.2)\n",
            "Requirement already satisfied: kiwisolver>=1.0.1 in /usr/local/lib/python3.8/dist-packages (from matplotlib>=2.1->corner) (1.4.4)\n",
            "Requirement already satisfied: cycler>=0.10 in /usr/local/lib/python3.8/dist-packages (from matplotlib>=2.1->corner) (0.11.0)\n",
            "Requirement already satisfied: pyparsing!=2.0.4,!=2.1.2,!=2.1.6,>=2.0.1 in /usr/local/lib/python3.8/dist-packages (from matplotlib>=2.1->corner) (3.0.9)\n",
            "Requirement already satisfied: python-dateutil>=2.1 in /usr/local/lib/python3.8/dist-packages (from matplotlib>=2.1->corner) (2.8.2)\n",
            "Requirement already satisfied: numpy>=1.11 in /usr/local/lib/python3.8/dist-packages (from matplotlib>=2.1->corner) (1.21.6)\n",
            "Requirement already satisfied: six>=1.5 in /usr/local/lib/python3.8/dist-packages (from python-dateutil>=2.1->matplotlib>=2.1->corner) (1.15.0)\n",
            "Installing collected packages: corner\n",
            "Successfully installed corner-2.2.1\n"
          ]
        }
      ]
    },
    {
      "cell_type": "code",
      "source": [
        "! pip install arviz"
      ],
      "metadata": {
        "colab": {
          "base_uri": "https://localhost:8080/"
        },
        "id": "evvQ-UCViHkX",
        "outputId": "1741c5e2-19bd-4244-8ffc-5ba5a629235c"
      },
      "execution_count": null,
      "outputs": [
        {
          "output_type": "stream",
          "name": "stdout",
          "text": [
            "Looking in indexes: https://pypi.org/simple, https://us-python.pkg.dev/colab-wheels/public/simple/\n",
            "Requirement already satisfied: arviz in /usr/local/lib/python3.8/dist-packages (0.12.1)\n",
            "Requirement already satisfied: packaging in /usr/local/lib/python3.8/dist-packages (from arviz) (23.0)\n",
            "Requirement already satisfied: numpy>=1.12 in /usr/local/lib/python3.8/dist-packages (from arviz) (1.21.6)\n",
            "Requirement already satisfied: scipy>=0.19 in /usr/local/lib/python3.8/dist-packages (from arviz) (1.7.3)\n",
            "Requirement already satisfied: typing-extensions>=3.7.4.3 in /usr/local/lib/python3.8/dist-packages (from arviz) (4.5.0)\n",
            "Requirement already satisfied: matplotlib>=3.0 in /usr/local/lib/python3.8/dist-packages (from arviz) (3.2.2)\n",
            "Requirement already satisfied: xarray-einstats>=0.2 in /usr/local/lib/python3.8/dist-packages (from arviz) (0.5.1)\n",
            "Requirement already satisfied: xarray>=0.16.1 in /usr/local/lib/python3.8/dist-packages (from arviz) (2022.12.0)\n",
            "Requirement already satisfied: netcdf4 in /usr/local/lib/python3.8/dist-packages (from arviz) (1.6.2)\n",
            "Requirement already satisfied: setuptools>=38.4 in /usr/local/lib/python3.8/dist-packages (from arviz) (57.4.0)\n",
            "Requirement already satisfied: pandas>=0.23 in /usr/local/lib/python3.8/dist-packages (from arviz) (1.3.5)\n",
            "Requirement already satisfied: python-dateutil>=2.1 in /usr/local/lib/python3.8/dist-packages (from matplotlib>=3.0->arviz) (2.8.2)\n",
            "Requirement already satisfied: pyparsing!=2.0.4,!=2.1.2,!=2.1.6,>=2.0.1 in /usr/local/lib/python3.8/dist-packages (from matplotlib>=3.0->arviz) (3.0.9)\n",
            "Requirement already satisfied: cycler>=0.10 in /usr/local/lib/python3.8/dist-packages (from matplotlib>=3.0->arviz) (0.11.0)\n",
            "Requirement already satisfied: kiwisolver>=1.0.1 in /usr/local/lib/python3.8/dist-packages (from matplotlib>=3.0->arviz) (1.4.4)\n",
            "Requirement already satisfied: pytz>=2017.3 in /usr/local/lib/python3.8/dist-packages (from pandas>=0.23->arviz) (2022.7.1)\n",
            "Requirement already satisfied: cftime in /usr/local/lib/python3.8/dist-packages (from netcdf4->arviz) (1.6.2)\n",
            "Requirement already satisfied: six>=1.5 in /usr/local/lib/python3.8/dist-packages (from python-dateutil>=2.1->matplotlib>=3.0->arviz) (1.15.0)\n"
          ]
        }
      ]
    },
    {
      "cell_type": "code",
      "source": [
        "import corner\n",
        "import arviz as az"
      ],
      "metadata": {
        "id": "sisjwogPh483"
      },
      "execution_count": null,
      "outputs": []
    },
    {
      "cell_type": "code",
      "source": [
        "\n",
        "numpyro.__version__"
      ],
      "metadata": {
        "colab": {
          "base_uri": "https://localhost:8080/",
          "height": 36
        },
        "id": "_HIWBHpjfB0T",
        "outputId": "2f88675a-07a7-4499-8433-7cd90bbdcb8c"
      },
      "execution_count": null,
      "outputs": [
        {
          "output_type": "execute_result",
          "data": {
            "text/plain": [
              "'0.10.0'"
            ],
            "application/vnd.google.colaboratory.intrinsic+json": {
              "type": "string"
            }
          },
          "metadata": {},
          "execution_count": 3
        }
      ]
    },
    {
      "cell_type": "markdown",
      "source": [
        "# Simple gaussian dist."
      ],
      "metadata": {
        "id": "g5R4n-bCff16"
      }
    },
    {
      "cell_type": "markdown",
      "source": [],
      "metadata": {
        "id": "dFpx6r2NfzVT"
      }
    },
    {
      "cell_type": "code",
      "source": [
        "# One possibility to use jit on function in the class is to use a off-class function \n",
        "# this is due to the self arg\n",
        "# There are alternatives w/o any class\n",
        "@jit\n",
        "def _logpdf(x, loc, scale, weights):\n",
        "  log_probs = jax.scipy.stats.norm.logpdf(x,loc=loc, scale=scale)\n",
        "  return jax.scipy.special.logsumexp(jnp.log(weights) + log_probs, axis=0)\n",
        "\n",
        "class MixtureModel_jax():\n",
        "    def __init__(self, locs, scales, weights, *args, **kwargs):\n",
        "        super().__init__(*args, **kwargs)\n",
        "        self.loc = jnp.array([locs]).T\n",
        "        self.scale = jnp.array([scales]).T\n",
        "        self.weights = jnp.array([weights]).T\n",
        "        norm = jnp.sum(self.weights)\n",
        "        self.weights = self.weights/norm\n",
        "\n",
        "        self.num_distr = len(locs)\n",
        "\n",
        "    def pdf(self, x):\n",
        "        probs = jax.scipy.stats.norm.pdf(x,loc=self.loc, scale=self.scale)\n",
        "        return jnp.dot(self.weights.T,probs).squeeze()\n",
        "    \n",
        "    def logpdf(self, x):\n",
        "        return _logpdf(x, self.loc, self.scale, self.weights)[0]\n"
      ],
      "metadata": {
        "id": "dQ5agYU2f2Cu"
      },
      "execution_count": null,
      "outputs": []
    },
    {
      "cell_type": "code",
      "source": [
        "# \\phi(x)\n",
        "def phi(x):\n",
        "    return x**2\n"
      ],
      "metadata": {
        "id": "02tIXpR2f43z"
      },
      "execution_count": null,
      "outputs": []
    },
    {
      "cell_type": "code",
      "source": [
        "single_gaussian_model = MixtureModel_jax([0],[1],[1])"
      ],
      "metadata": {
        "id": "BRA59xGTgMSI"
      },
      "execution_count": null,
      "outputs": []
    },
    {
      "cell_type": "code",
      "source": [
        "Integ_true,_=sc_integrate.quad(lambda x: phi(x)*single_gaussian_model.pdf(x),-7,7)"
      ],
      "metadata": {
        "id": "lSZ1l3p8gNPL"
      },
      "execution_count": null,
      "outputs": []
    },
    {
      "cell_type": "code",
      "source": [
        "single_gaussian_model.logpdf(0.)"
      ],
      "metadata": {
        "colab": {
          "base_uri": "https://localhost:8080/"
        },
        "id": "u_Kq3iCngrdm",
        "outputId": "b7de39e7-998a-4b42-f353-bf19caf2f096"
      },
      "execution_count": null,
      "outputs": [
        {
          "output_type": "execute_result",
          "data": {
            "text/plain": [
              "DeviceArray(-0.91893853, dtype=float64)"
            ]
          },
          "metadata": {},
          "execution_count": 19
        }
      ]
    },
    {
      "cell_type": "code",
      "source": [
        "print(\"Integ. true: \",Integ_true)"
      ],
      "metadata": {
        "colab": {
          "base_uri": "https://localhost:8080/"
        },
        "id": "FJzCahohgP0V",
        "outputId": "15e3d239-fc9c-46cb-ae32-052fc626482c"
      },
      "execution_count": null,
      "outputs": [
        {
          "output_type": "stream",
          "name": "stdout",
          "text": [
            "Integ. true:  0.9999999998695543\n"
          ]
        }
      ]
    },
    {
      "cell_type": "code",
      "source": [
        "rng_key = jax.random.PRNGKey(42)\n",
        "_, rng_key = jax.random.split(rng_key)\n",
        "\n",
        "# Use a HMC \n",
        "kernel = HMC(potential_fn=lambda x: -single_gaussian_model.logpdf(x))  # negative log\n",
        "num_samples = 1_000_000\n",
        "n_chains    = 1\n",
        "mcmc = MCMC(kernel, num_warmup=2_000, num_samples=num_samples, num_chains=n_chains, \n",
        "            progress_bar=False) # progress_bar=True ralentit bcq... donc ok pour num_samples=1000.\n",
        "mcmc.run(rng_key, init_params=jnp.zeros(n_chains))\n",
        "mcmc.print_summary()\n",
        "samples_1 = mcmc.get_samples()\n"
      ],
      "metadata": {
        "colab": {
          "base_uri": "https://localhost:8080/"
        },
        "id": "-rdiCPhVgSLf",
        "outputId": "57215506-dbf2-49e9-fb45-ee2e97be779c"
      },
      "execution_count": null,
      "outputs": [
        {
          "output_type": "stream",
          "name": "stdout",
          "text": [
            "\n",
            "                mean       std    median      5.0%     95.0%     n_eff     r_hat\n",
            "Param:0[0]     -0.00      1.00     -0.00     -1.65      1.64 219315.47      1.00\n",
            "\n",
            "Number of divergences: 0\n"
          ]
        }
      ]
    },
    {
      "cell_type": "code",
      "source": [
        "fig = plt.figure()\n",
        "x_axis = np.arange(-5, 5, 0.01)\n",
        "#mixture_pdf = jax.vmap(mixture_gaussian_model.pdf)(x_axis)\n",
        "plt.hist(np.array(samples_1.squeeze()), bins=100, density=True, label=\"HMC samples\");\n",
        "plt.plot(x_axis, single_gaussian_model.pdf(x_axis),'r-', lw=5, alpha=0.6, label='true pdf')\n",
        "plt.xlim([-5,5])\n",
        "plt.yscale('log')\n",
        "plt.grid()\n",
        "plt.legend();\n"
      ],
      "metadata": {
        "colab": {
          "base_uri": "https://localhost:8080/",
          "height": 273
        },
        "id": "r0puMANXgdaA",
        "outputId": "3113f4d8-99b3-473f-bafb-69b05ec9a90c"
      },
      "execution_count": null,
      "outputs": [
        {
          "output_type": "display_data",
          "data": {
            "text/plain": [
              "<Figure size 432x288 with 1 Axes>"
            ],
            "image/png": "[encoded data removed]"
          },
          "metadata": {
            "needs_background": "light"
          }
        }
      ]
    },
    {
      "cell_type": "markdown",
      "source": [
        "You can use the samples to compute $\\int \\phi(x) p(x) dx$"
      ],
      "metadata": {
        "id": "fkwDBSt0hgVz"
      }
    },
    {
      "cell_type": "code",
      "source": [
        "\n",
        "phi_spl1 = phi(samples_1)\n",
        "Integ_HMC1 = np.mean(phi_spl1)\n",
        "print(f\"Integ_HMC:{Integ_HMC1:.6e}, err. relat: {np.abs(Integ_HMC1-Integ_true)/Integ_true:.6e}, sample size : {len(samples_1.flatten())}\")\n"
      ],
      "metadata": {
        "colab": {
          "base_uri": "https://localhost:8080/"
        },
        "id": "nUC6jMZ3hGAf",
        "outputId": "a3efa65e-d1d9-4048-9a85-d5d7f05d9e57"
      },
      "execution_count": null,
      "outputs": [
        {
          "output_type": "stream",
          "name": "stdout",
          "text": [
            "Integ_HMC:9.977529e-01, err. relat: 2.247060e-03, sample size : 1000000\n"
          ]
        }
      ]
    },
    {
      "cell_type": "code",
      "source": [
        "# realtive effective sample size\n",
        "az.ess(np.array(samples_1.squeeze()), relative=True)"
      ],
      "metadata": {
        "colab": {
          "base_uri": "https://localhost:8080/"
        },
        "id": "McSwvdc6hvxB",
        "outputId": "7a2c952e-2dfa-4868-8549-732d243b9855"
      },
      "execution_count": null,
      "outputs": [
        {
          "output_type": "execute_result",
          "data": {
            "text/plain": [
              "0.21931631741854699"
            ]
          },
          "metadata": {},
          "execution_count": 34
        }
      ]
    },
    {
      "cell_type": "markdown",
      "source": [
        "So the Relative ESS is of about 22% which is quite ok but this is for a simple case."
      ],
      "metadata": {
        "id": "yjvhkEe2iiRz"
      }
    },
    {
      "cell_type": "markdown",
      "source": [
        "# Mixture of gaussian dist."
      ],
      "metadata": {
        "id": "AqcihXPDiwMn"
      }
    },
    {
      "cell_type": "code",
      "source": [
        "mixture_gaussian_model = MixtureModel_jax([0,1.5],[0.5,0.1],[8,2])"
      ],
      "metadata": {
        "id": "gC3b9CUYhzT7"
      },
      "execution_count": null,
      "outputs": []
    },
    {
      "cell_type": "code",
      "source": [
        "Integ_true,_=sc_integrate.quad(lambda x: phi(x)*mixture_gaussian_model.pdf(x),-7,7)"
      ],
      "metadata": {
        "id": "Z6t3aiFXiy9z"
      },
      "execution_count": null,
      "outputs": []
    },
    {
      "cell_type": "code",
      "source": [
        "print(\"Integ. true: \",Integ_true)"
      ],
      "metadata": {
        "colab": {
          "base_uri": "https://localhost:8080/"
        },
        "id": "0q707y-Di0_i",
        "outputId": "eedad983-4bbb-441e-fa47-46f281efa069"
      },
      "execution_count": null,
      "outputs": [
        {
          "output_type": "stream",
          "name": "stdout",
          "text": [
            "Integ. true:  0.652\n"
          ]
        }
      ]
    },
    {
      "cell_type": "code",
      "source": [
        "rng_key = jax.random.PRNGKey(42)\n",
        "_, rng_key = jax.random.split(rng_key)\n",
        "\n",
        "kernel = HMC(potential_fn=lambda x: -mixture_gaussian_model.logpdf(x),\n",
        "            trajectory_length=1.0)  # negative log\n",
        "num_samples = 1_000_000\n",
        "n_chains    = 1\n",
        "mcmc = MCMC(kernel, num_warmup=2_000, num_samples=num_samples, num_chains=n_chains, \n",
        "            progress_bar=False)\n",
        "mcmc.run(rng_key, init_params=jnp.zeros(n_chains))\n",
        "mcmc.print_summary()\n",
        "samples_1 = mcmc.get_samples()"
      ],
      "metadata": {
        "colab": {
          "base_uri": "https://localhost:8080/"
        },
        "id": "aC8i-nCGi2tC",
        "outputId": "83d2c1b1-7eca-4e9b-c26f-16396624be84"
      },
      "execution_count": null,
      "outputs": [
        {
          "output_type": "stream",
          "name": "stdout",
          "text": [
            "\n",
            "                mean       std    median      5.0%     95.0%     n_eff     r_hat\n",
            "Param:0[0]      0.30      0.75      0.16     -0.63      1.64  28707.19      1.00\n",
            "\n",
            "Number of divergences: 0\n"
          ]
        }
      ]
    },
    {
      "cell_type": "code",
      "source": [
        "fig = plt.figure()\n",
        "x_axis = np.arange(-3, 3, 0.01)\n",
        "#mixture_pdf = jax.vmap(mixture_gaussian_model.pdf)(x_axis)\n",
        "plt.hist(np.array(samples_1.squeeze()), bins=100, density=True, label=\"samples\");\n",
        "plt.plot(x_axis, mixture_gaussian_model.pdf(x_axis),'r-', lw=5, alpha=0.6, label='true pdf')\n",
        "plt.xlim([-3,3])\n",
        "plt.title(f\"HMC sampling ({len(samples_1.flatten())} spls)\")\n",
        "plt.legend();"
      ],
      "metadata": {
        "colab": {
          "base_uri": "https://localhost:8080/",
          "height": 295
        },
        "id": "val4NXIQi6cr",
        "outputId": "e4bc8b4b-d122-47e8-a438-532d2aa71bb9"
      },
      "execution_count": null,
      "outputs": [
        {
          "output_type": "display_data",
          "data": {
            "text/plain": [
              "<Figure size 432x288 with 1 Axes>"
            ],
            "image/png": "[encoded data removed]"
          },
          "metadata": {
            "needs_background": "light"
          }
        }
      ]
    },
    {
      "cell_type": "code",
      "source": [
        "phi_spl1 = phi(samples_1)\n",
        "Integ_HMC1 = np.mean(phi_spl1)\n",
        "print(f\"Integ_HMC:{Integ_HMC1:.6e}, err. relat: {np.abs(Integ_HMC1-Integ_true)/Integ_true:.6e}, sample size : {len(samples_1.flatten())}\")"
      ],
      "metadata": {
        "colab": {
          "base_uri": "https://localhost:8080/"
        },
        "id": "qskURTuqjJ1c",
        "outputId": "4249c00f-2bc1-4514-a2a3-5a6a4b991844"
      },
      "execution_count": null,
      "outputs": [
        {
          "output_type": "stream",
          "name": "stdout",
          "text": [
            "Integ_HMC:6.555026e-01, err. relat: 5.372124e-03, sample size : 1000000\n"
          ]
        }
      ]
    },
    {
      "cell_type": "code",
      "source": [
        "az.ess(np.array(samples_1.squeeze()), relative=True)"
      ],
      "metadata": {
        "colab": {
          "base_uri": "https://localhost:8080/"
        },
        "id": "WKLV9TJdjPe9",
        "outputId": "04c080b3-d089-423d-c72e-f2da69ddbc8d"
      },
      "execution_count": null,
      "outputs": [
        {
          "output_type": "execute_result",
          "data": {
            "text/plain": [
              "0.03852060519618474"
            ]
          },
          "metadata": {},
          "execution_count": 79
        }
      ]
    },
    {
      "cell_type": "markdown",
      "source": [
        "So we get a less good sampling efficiency (3.8%) on this case with secondary peak. Even if HMC is an improvement compared to M-H (reminder: eff. of 0.1%) we can find a better method. Moreover, one can play with the `trajectory_lengt` parameter of the HMC and see the result sensitivity."
      ],
      "metadata": {
        "id": "qSvMxC8ejZIG"
      }
    },
    {
      "cell_type": "code",
      "source": [
        "rng_key = jax.random.PRNGKey(42)\n",
        "_, rng_key = jax.random.split(rng_key)\n",
        "\n",
        "kernel =  BarkerMH(potential_fn=lambda x: -mixture_gaussian_model.logpdf(x),\n",
        "                   target_accept_prob=0.4)  # negative log\n",
        "num_samples = 1_000_000\n",
        "n_chains    = 2\n",
        "mcmc = MCMC(kernel, num_warmup=2_000, num_samples=num_samples, num_chains=n_chains, \n",
        "            progress_bar=False)\n",
        "mcmc.run(rng_key, init_params=jnp.zeros(n_chains))\n",
        "mcmc.print_summary()\n",
        "samples_2 = mcmc.get_samples()"
      ],
      "metadata": {
        "colab": {
          "base_uri": "https://localhost:8080/"
        },
        "id": "UaGoTSGQjUMM",
        "outputId": "faa25cb6-4613-4403-eb52-f5b409ed9603"
      },
      "execution_count": null,
      "outputs": [
        {
          "output_type": "stream",
          "name": "stderr",
          "text": [
            "<ipython-input-83-bb7778eca129>:8: UserWarning: There are not enough devices to run parallel chains: expected 2 but got 1. Chains will be drawn sequentially. If you are running MCMC in CPU, consider using `numpyro.set_host_device_count(2)` at the beginning of your program. You can double-check how many devices are available in your system using `jax.local_device_count()`.\n",
            "  mcmc = MCMC(kernel, num_warmup=2_000, num_samples=num_samples, num_chains=n_chains,\n"
          ]
        },
        {
          "output_type": "stream",
          "name": "stdout",
          "text": [
            "\n",
            "                mean       std    median      5.0%     95.0%     n_eff     r_hat\n",
            "   Param:0      0.30      0.75      0.16     -0.63      1.64  93946.83      1.00\n",
            "\n"
          ]
        }
      ]
    },
    {
      "cell_type": "code",
      "source": [
        "phi_spl1 = phi(samples_2)\n",
        "Integ_NUTS = np.mean(phi_spl1)\n",
        "print(f\"Integ_NUTS:{Integ_NUTS:.6e}, err. relat: {np.abs(Integ_NUTS-Integ_true)/Integ_true:.6e}, sample size : {len(samples_1.flatten())}\")"
      ],
      "metadata": {
        "colab": {
          "base_uri": "https://localhost:8080/"
        },
        "id": "gFWlzpaFkk_P",
        "outputId": "41622a43-6056-4f7e-862d-e9ba2cdcf12d"
      },
      "execution_count": null,
      "outputs": [
        {
          "output_type": "stream",
          "name": "stdout",
          "text": [
            "Integ_NUTS:6.518708e-01, err. relat: 1.981045e-04, sample size : 1000000\n"
          ]
        }
      ]
    },
    {
      "cell_type": "code",
      "source": [
        "az.ess(np.array(samples_2.squeeze()), relative=True)"
      ],
      "metadata": {
        "colab": {
          "base_uri": "https://localhost:8080/"
        },
        "id": "sXubm4sXk-ET",
        "outputId": "2e161e67-5987-45f4-e6ab-4154d5831d1a"
      },
      "execution_count": null,
      "outputs": [
        {
          "output_type": "execute_result",
          "data": {
            "text/plain": [
              "0.07508978475976032"
            ]
          },
          "metadata": {},
          "execution_count": 85
        }
      ]
    },
    {
      "cell_type": "code",
      "source": [
        "rng_key = jax.random.PRNGKey(42)\n",
        "_, rng_key = jax.random.split(rng_key)\n",
        "\n",
        "kernel =  NUTS(potential_fn=lambda x: -mixture_gaussian_model.logpdf(x))  # negative log\n",
        "num_samples = 1_000_000\n",
        "n_chains    = 1\n",
        "mcmc = MCMC(kernel, num_warmup=2_000, num_samples=num_samples, num_chains=n_chains, \n",
        "            progress_bar=False)\n",
        "mcmc.run(rng_key, init_params=jnp.zeros(n_chains))\n",
        "mcmc.print_summary()\n",
        "samples_3 = mcmc.get_samples()"
      ],
      "metadata": {
        "colab": {
          "base_uri": "https://localhost:8080/"
        },
        "id": "XCHIcmmGlKg7",
        "outputId": "5f669027-83f2-4e53-92c9-f37ac6d63793"
      },
      "execution_count": null,
      "outputs": [
        {
          "output_type": "stream",
          "name": "stdout",
          "text": [
            "\n",
            "                mean       std    median      5.0%     95.0%     n_eff     r_hat\n",
            "Param:0[0]      0.30      0.75      0.16     -0.63      1.64  16740.41      1.00\n",
            "\n",
            "Number of divergences: 0\n"
          ]
        }
      ]
    },
    {
      "cell_type": "code",
      "source": [
        "az.ess(np.array(samples_3.squeeze()), relative=True)"
      ],
      "metadata": {
        "colab": {
          "base_uri": "https://localhost:8080/"
        },
        "id": "9ljX9wBom6ig",
        "outputId": "abf65ee0-c85a-4831-dff9-571b0680ccf3"
      },
      "execution_count": null,
      "outputs": [
        {
          "output_type": "execute_result",
          "data": {
            "text/plain": [
              "0.021933060207131323"
            ]
          },
          "metadata": {},
          "execution_count": 93
        }
      ]
    },
    {
      "cell_type": "markdown",
      "source": [
        "In low dimension BarkerMH may be better than HMC/NUTS. BarkerMH use a proposal distribution that uses the gradient of the potential. In particular the proposal distribution is skewed in the direction of the gradient at the current sample."
      ],
      "metadata": {
        "id": "ogxONDutnqQk"
      }
    },
    {
      "cell_type": "markdown",
      "source": [
        "# Bayesian forward modeling of a simple 4-parameters use-case"
      ],
      "metadata": {
        "id": "DiA4FXSQo5Vq"
      }
    },
    {
      "cell_type": "markdown",
      "source": [
        "## Dataset generation method1 "
      ],
      "metadata": {
        "id": "yJPg51zFwd8o"
      }
    },
    {
      "cell_type": "code",
      "source": [
        " def mean_fn(x, params):\n",
        "    \"\"\" a mean/determinist fnt with a split at t=0 \"\"\"\n",
        "    R0 = params[\"R0\"]\n",
        "    v  = params[\"v\"]\n",
        "    k  = params[\"k\"]\n",
        "    tau =  params[\"tau\"]\n",
        "    return jnp.where(x < 0, R0 + v*x, R0 + v*x - k*(1.-jnp.exp(-x/tau)))\n"
      ],
      "metadata": {
        "id": "wFxTbxP-nCrj"
      },
      "execution_count": null,
      "outputs": []
    },
    {
      "cell_type": "code",
      "source": [
        "#dataset (method 1)\n",
        "rng_key = jax.random.PRNGKey(42)\n",
        "rng_key, rng_key0, rng_key1, rng_key2 = jax.random.split(rng_key, 4)\n",
        "tMes = jax.random.uniform(rng_key0,minval=-5.,maxval=5.0,shape=(20,))\n",
        "tMes=jnp.append(tMes,0.0)\n",
        "tMes=jnp.sort(tMes)\n",
        "par_true={\"R0\":35.0, \"v\":2.20, \"k\":15.5, \"tau\": 1.0}\n",
        "sigma_obs=1.0\n",
        "\n",
        "RMes = mean_fn(tMes,par_true) + sigma_obs * jax.random.normal(rng_key1,shape=tMes.shape)"
      ],
      "metadata": {
        "id": "4DWO8bbEpFHr"
      },
      "execution_count": null,
      "outputs": []
    },
    {
      "cell_type": "code",
      "source": [
        "plt.errorbar(tMes,RMes,yerr=sigma_obs,fmt='o', linewidth=2, capsize=0, c='k', label=\"data\")\n",
        "plt.xlabel(\"t\")\n",
        "plt.ylabel(\"R\")\n",
        "plt.legend()\n",
        "plt.grid();\n"
      ],
      "metadata": {
        "colab": {
          "base_uri": "https://localhost:8080/",
          "height": 295
        },
        "id": "Law0Zunwpk-X",
        "outputId": "32403387-0608-4467-c303-94b2a47d9f11"
      },
      "execution_count": null,
      "outputs": [
        {
          "output_type": "display_data",
          "data": {
            "text/plain": [
              "<Figure size 432x288 with 1 Axes>"
            ],
            "image/png": "[encoded data removed]"
          },
          "metadata": {
            "needs_background": "light"
          }
        }
      ]
    },
    {
      "cell_type": "markdown",
      "source": [
        "## The (Numpyro) fowrward model"
      ],
      "metadata": {
        "id": "S-KGYPxKpzs6"
      }
    },
    {
      "cell_type": "code",
      "source": [
        "def model(t,Robs=None,\n",
        "          R0_min=10.,v_min = 0.5,k_min = 1., tau_min=0.1,\n",
        "          R0_max=50.,v_max = 3.5,k_max = 10., tau_max=5.0,\n",
        "          sigma= 1.0):\n",
        "    \n",
        "    # priors on the parameters (stochastic but can be used as regular variables)\n",
        "    # the variable naming is necessary in the dictionnary produced\n",
        "    R0 = numpyro.sample(\"R0\", dist.Uniform(R0_min,R0_max))\n",
        "    v  = numpyro.sample(\"v\", dist.Uniform(v_min,v_max))\n",
        "    k  = numpyro.sample(\"k\", dist.Uniform(k_min,k_max))\n",
        "    tau= numpyro.sample(\"tau\", dist.Uniform(tau_min,tau_max))\n",
        "\n",
        "    params = {\"R0\":R0, \"v\":v, \"k\":k, \"tau\":tau}\n",
        "    mu = mean_fn(t,params) # the mean\n",
        "    \n",
        "    with numpyro.plate(\"obs\", t.shape[0]):  # each mesure is a random variable iid\n",
        "        numpyro.sample('R', dist.Normal(mu, sigma), obs=Robs) # the likelihood\n"
      ],
      "metadata": {
        "id": "Q2OJJejtpqxv"
      },
      "execution_count": null,
      "outputs": []
    },
    {
      "cell_type": "markdown",
      "source": [
        "### Diagramatic representation"
      ],
      "metadata": {
        "id": "7ZZZ7eZlqa7m"
      }
    },
    {
      "cell_type": "code",
      "source": [
        "! pip install -q graphviz"
      ],
      "metadata": {
        "id": "B_N-ae9_W82_"
      },
      "execution_count": null,
      "outputs": []
    },
    {
      "cell_type": "code",
      "source": [
        "numpyro.render_model(model, model_args=(jnp.array([0.]),jnp.array([1.])),\n",
        "                    render_distributions=True)\n",
        "\n"
      ],
      "metadata": {
        "colab": {
          "base_uri": "https://localhost:8080/",
          "height": 291
        },
        "id": "eKZFS4XxqYga",
        "outputId": "e53bb0fc-7b6d-495c-dd90-aaec6ee70dc8"
      },
      "execution_count": null,
      "outputs": [
        {
          "output_type": "execute_result",
          "data": {
            "text/plain": [
              "<graphviz.dot.Digraph at 0x7f4a2f05c8b0>"
            ],
            "image/svg+xml": "<?xml version=\"1.0\" encoding=\"UTF-8\" standalone=\"no\"?>\n<!DOCTYPE svg PUBLIC \"-//W3C//DTD SVG 1.1//EN\"\n \"http://www.w3.org/Graphics/SVG/1.1/DTD/svg11.dtd\">\n<!-- Generated by graphviz version 2.43.0 (0)\n -->\n<!-- Title: %3 Pages: 1 -->\n<svg width=\"392pt\" height=\"202pt\"\n viewBox=\"0.00 0.00 391.50 202.00\" xmlns=\"http://www.w3.org/2000/svg\" xmlns:xlink=\"http://www.w3.org/1999/xlink\">\n<g id=\"graph0\" class=\"graph\" transform=\"scale(1 1) rotate(0) translate(4 198)\">\n<title>%3</title>\n<polygon fill=\"white\" stroke=\"transparent\" points=\"-4,4 -4,-198 387.5,-198 387.5,4 -4,4\"/>\n<g id=\"clust1\" class=\"cluster\">\n<title>cluster_obs</title>\n<polygon fill=\"none\" stroke=\"black\" points=\"100,-8 100,-83 170,-83 170,-8 100,-8\"/>\n<text text-anchor=\"middle\" x=\"152.5\" y=\"-15.8\" font-family=\"Times,serif\" font-size=\"14.00\">obs</text>\n</g>\n<!-- R0 -->\n<g id=\"node1\" class=\"node\">\n<title>R0</title>\n<ellipse fill=\"white\" stroke=\"black\" cx=\"27\" cy=\"-152.5\" rx=\"27\" ry=\"18\"/>\n<text text-anchor=\"middle\" x=\"27\" y=\"-148.8\" font-family=\"Times,serif\" font-size=\"14.00\">R0</text>\n</g>\n<!-- R -->\n<g id=\"node5\" class=\"node\">\n<title>R</title>\n<ellipse fill=\"grey\" stroke=\"black\" cx=\"135\" cy=\"-57\" rx=\"27\" ry=\"18\"/>\n<text text-anchor=\"middle\" x=\"135\" y=\"-53.3\" font-family=\"Times,serif\" font-size=\"14.00\">R</text>\n</g>\n<!-- R0&#45;&gt;R -->\n<g id=\"edge1\" class=\"edge\">\n<title>R0&#45;&gt;R</title>\n<path fill=\"none\" stroke=\"black\" d=\"M39.29,-136.18C45.95,-128.29 54.52,-118.73 63,-111 77.06,-98.18 94.16,-85.49 108.16,-75.74\"/>\n<polygon fill=\"black\" stroke=\"black\" points=\"110.16,-78.61 116.43,-70.08 106.2,-72.84 110.16,-78.61\"/>\n</g>\n<!-- v -->\n<g id=\"node2\" class=\"node\">\n<title>v</title>\n<ellipse fill=\"white\" stroke=\"black\" cx=\"99\" cy=\"-152.5\" rx=\"27\" ry=\"18\"/>\n<text text-anchor=\"middle\" x=\"99\" y=\"-148.8\" font-family=\"Times,serif\" font-size=\"14.00\">v</text>\n</g>\n<!-- v&#45;&gt;R -->\n<g id=\"edge2\" class=\"edge\">\n<title>v&#45;&gt;R</title>\n<path fill=\"none\" stroke=\"black\" d=\"M105.44,-134.78C110.86,-120.69 118.72,-100.28 124.97,-84.05\"/>\n<polygon fill=\"black\" stroke=\"black\" points=\"128.29,-85.16 128.62,-74.57 121.76,-82.65 128.29,-85.16\"/>\n</g>\n<!-- k -->\n<g id=\"node3\" class=\"node\">\n<title>k</title>\n<ellipse fill=\"white\" stroke=\"black\" cx=\"171\" cy=\"-152.5\" rx=\"27\" ry=\"18\"/>\n<text text-anchor=\"middle\" x=\"171\" y=\"-148.8\" font-family=\"Times,serif\" font-size=\"14.00\">k</text>\n</g>\n<!-- k&#45;&gt;R -->\n<g id=\"edge3\" class=\"edge\">\n<title>k&#45;&gt;R</title>\n<path fill=\"none\" stroke=\"black\" d=\"M164.56,-134.78C159.14,-120.69 151.28,-100.28 145.03,-84.05\"/>\n<polygon fill=\"black\" stroke=\"black\" points=\"148.24,-82.65 141.38,-74.57 141.71,-85.16 148.24,-82.65\"/>\n</g>\n<!-- tau -->\n<g id=\"node4\" class=\"node\">\n<title>tau</title>\n<ellipse fill=\"white\" stroke=\"black\" cx=\"243\" cy=\"-152.5\" rx=\"27\" ry=\"18\"/>\n<text text-anchor=\"middle\" x=\"243\" y=\"-148.8\" font-family=\"Times,serif\" font-size=\"14.00\">tau</text>\n</g>\n<!-- tau&#45;&gt;R -->\n<g id=\"edge4\" class=\"edge\">\n<title>tau&#45;&gt;R</title>\n<path fill=\"none\" stroke=\"black\" d=\"M230.71,-136.18C224.05,-128.29 215.48,-118.73 207,-111 192.94,-98.18 175.84,-85.49 161.84,-75.74\"/>\n<polygon fill=\"black\" stroke=\"black\" points=\"163.8,-72.84 153.57,-70.08 159.84,-78.61 163.8,-72.84\"/>\n</g>\n<!-- distribution_description_node -->\n<g id=\"node6\" class=\"node\">\n<title>distribution_description_node</title>\n<text text-anchor=\"start\" x=\"296.5\" y=\"-178.8\" font-family=\"Times,serif\" font-size=\"14.00\">R0 ~ Uniform</text>\n<text text-anchor=\"start\" x=\"296.5\" y=\"-163.8\" font-family=\"Times,serif\" font-size=\"14.00\">v ~ Uniform</text>\n<text text-anchor=\"start\" x=\"296.5\" y=\"-148.8\" font-family=\"Times,serif\" font-size=\"14.00\">k ~ Uniform</text>\n<text text-anchor=\"start\" x=\"296.5\" y=\"-133.8\" font-family=\"Times,serif\" font-size=\"14.00\">tau ~ Uniform</text>\n<text text-anchor=\"start\" x=\"296.5\" y=\"-118.8\" font-family=\"Times,serif\" font-size=\"14.00\">R ~ Normal</text>\n</g>\n</g>\n</svg>\n"
          },
          "metadata": {},
          "execution_count": 104
        }
      ]
    },
    {
      "cell_type": "markdown",
      "source": [
        "## The forward model can be used also to generate dataset"
      ],
      "metadata": {
        "id": "I9VKs96HqlDi"
      }
    },
    {
      "cell_type": "code",
      "source": [
        "#dataset method 2\n",
        "\n",
        "from numpyro.handlers import seed, trace, condition\n",
        "# So, let's generate the data at the fiducial parameters\n",
        "fiducial_model = condition(model, par_true)\n",
        "# Run the conditionned model (if not conditionned the priors are executed)\n",
        "trace_data = trace(seed(fiducial_model, jax.random.PRNGKey(42))).get_trace(tMes, sigma=sigma_obs)\n"
      ],
      "metadata": {
        "id": "fkheh6bMqdR-"
      },
      "execution_count": null,
      "outputs": []
    },
    {
      "cell_type": "code",
      "source": [
        "RMes_bis = trace_data['R'][\"value\"]"
      ],
      "metadata": {
        "id": "MQvW9chbq5Ch"
      },
      "execution_count": null,
      "outputs": []
    },
    {
      "cell_type": "code",
      "source": [
        "plt.errorbar(tMes,RMes,yerr=sigma_obs,fmt='o', linewidth=2, capsize=0, c='k', label=\"dataset 1\")\n",
        "plt.errorbar(tMes,RMes_bis,yerr=sigma_obs, fmt='o', linewidth=2, capsize=0, c='r', \n",
        "             label=\"dataset 2\")\n",
        "plt.xlabel(\"t\")\n",
        "plt.ylabel(\"R\")\n",
        "plt.legend()\n",
        "plt.title(\"dataset gen. from the same true params\")\n",
        "plt.grid();\n"
      ],
      "metadata": {
        "colab": {
          "base_uri": "https://localhost:8080/",
          "height": 317
        },
        "id": "ppfs9jXlq80y",
        "outputId": "c4fcc0df-6afb-4d63-8fd8-695aa0f76b50"
      },
      "execution_count": null,
      "outputs": [
        {
          "output_type": "display_data",
          "data": {
            "text/plain": [
              "<Figure size 432x288 with 1 Axes>"
            ],
            "image/png": "[encoded data removed]"
          },
          "metadata": {
            "needs_background": "light"
          }
        }
      ]
    },
    {
      "cell_type": "markdown",
      "source": [
        "## Use sampler"
      ],
      "metadata": {
        "id": "OmuDPROfra1T"
      }
    },
    {
      "cell_type": "code",
      "source": [
        "# Run NUTS.\n",
        "kernel = NUTS(model, dense_mass=True, target_accept_prob=0.9,\n",
        "              init_strategy=numpyro.infer.init_to_median())\n",
        "num_samples = 5_000\n",
        "n_chains = 4\n",
        "mcmc = MCMC(kernel, num_warmup=1_000, num_samples=num_samples,  \n",
        "            num_chains=n_chains,\n",
        "            chain_method='vectorized', # chain in paralell on the same device\n",
        "            progress_bar=False)\n",
        "mcmc.run(rng_key, t=tMes, Robs=RMes,sigma=sigma_obs, k_max = 20.)\n",
        "mcmc.print_summary()\n",
        "samples_nuts = mcmc.get_samples()\n"
      ],
      "metadata": {
        "colab": {
          "base_uri": "https://localhost:8080/"
        },
        "id": "Z-A2UJaMq-e6",
        "outputId": "bb9f416a-200f-476a-bfae-802e3079d257"
      },
      "execution_count": null,
      "outputs": [
        {
          "output_type": "stream",
          "name": "stdout",
          "text": [
            "\n",
            "                mean       std    median      5.0%     95.0%     n_eff     r_hat\n",
            "        R0     35.30      0.54     35.31     34.40     36.17   6548.26      1.00\n",
            "         k     16.56      1.32     16.58     14.46     18.84   4771.67      1.00\n",
            "       tau      0.95      0.11      0.95      0.77      1.14  13207.26      1.00\n",
            "         v      2.36      0.21      2.36      2.01      2.71   5912.98      1.00\n",
            "\n",
            "Number of divergences: 0\n"
          ]
        }
      ]
    },
    {
      "cell_type": "markdown",
      "source": [
        "If you want to observe the progress bar with chain_method='vectorized' it will give only one string maybe but it is 4 that will be generated. This progress bar in some cases slows down the generation a lot. You can choose chain_method='sequential', while `parallel` requires like pmap a number of devices identical to the number of strings.\n",
        "\n",
        "\n",
        "You can play on `num_warmup`, `num_samples`and `n_chains` to see how the sampling quality evolves...\n",
        "\n",
        "We have to look at: `r_hat` which must be 1. The number of divergences which if not null indicates that the generation has been cut because of a problem (ex. frontier, squeezed proba...). Finally, `n_eff` which if divided by 4x5000 gives the generation efficiency. There is another (standard) way to calculate this efficiency via arviz.ess. This efficiency is related to the auto-correlation length of the Markov chain, or in other words to the independence of the samples.\n",
        "\n"
      ],
      "metadata": {
        "id": "23NxHbPfrw9t"
      }
    },
    {
      "cell_type": "code",
      "source": [
        "az.ess(samples_nuts, relative=True)  # relative efficiency "
      ],
      "metadata": {
        "colab": {
          "base_uri": "https://localhost:8080/",
          "height": 270
        },
        "id": "lkbOvsUhreVo",
        "outputId": "37597470-4ae3-49b7-d8df-3e061e4dcf13"
      },
      "execution_count": null,
      "outputs": [
        {
          "output_type": "execute_result",
          "data": {
            "text/plain": [
              "<xarray.Dataset>\n",
              "Dimensions:  ()\n",
              "Data variables:\n",
              "    R0       float64 0.3233\n",
              "    k        float64 0.2213\n",
              "    tau      float64 0.6673\n",
              "    v        float64 0.2876"
            ],
            "text/html": [
              "<div><svg style=\"position: absolute; width: 0; height: 0; overflow: hidden\">\n",
              "<defs>\n",
              "<symbol id=\"icon-database\" viewBox=\"0 0 32 32\">\n",
              "<path d=\"M16 0c-8.837 0-16 2.239-16 5v4c0 2.761 7.163 5 16 5s16-2.239 16-5v-4c0-2.761-7.163-5-16-5z\"></path>\n",
              "<path d=\"M16 17c-8.837 0-16-2.239-16-5v6c0 2.761 7.163 5 16 5s16-2.239 16-5v-6c0 2.761-7.163 5-16 5z\"></path>\n",
              "<path d=\"M16 26c-8.837 0-16-2.239-16-5v6c0 2.761 7.163 5 16 5s16-2.239 16-5v-6c0 2.761-7.163 5-16 5z\"></path>\n",
              "</symbol>\n",
              "<symbol id=\"icon-file-text2\" viewBox=\"0 0 32 32\">\n",
              "<path d=\"M28.681 7.159c-0.694-0.947-1.662-2.053-2.724-3.116s-2.169-2.030-3.116-2.724c-1.612-1.182-2.393-1.319-2.841-1.319h-15.5c-1.378 0-2.5 1.121-2.5 2.5v27c0 1.378 1.122 2.5 2.5 2.5h23c1.378 0 2.5-1.122 2.5-2.5v-19.5c0-0.448-0.137-1.23-1.319-2.841zM24.543 5.457c0.959 0.959 1.712 1.825 2.268 2.543h-4.811v-4.811c0.718 0.556 1.584 1.309 2.543 2.268zM28 29.5c0 0.271-0.229 0.5-0.5 0.5h-23c-0.271 0-0.5-0.229-0.5-0.5v-27c0-0.271 0.229-0.5 0.5-0.5 0 0 15.499-0 15.5 0v7c0 0.552 0.448 1 1 1h7v19.5z\"></path>\n",
              "<path d=\"M23 26h-14c-0.552 0-1-0.448-1-1s0.448-1 1-1h14c0.552 0 1 0.448 1 1s-0.448 1-1 1z\"></path>\n",
              "<path d=\"M23 22h-14c-0.552 0-1-0.448-1-1s0.448-1 1-1h14c0.552 0 1 0.448 1 1s-0.448 1-1 1z\"></path>\n",
              "<path d=\"M23 18h-14c-0.552 0-1-0.448-1-1s0.448-1 1-1h14c0.552 0 1 0.448 1 1s-0.448 1-1 1z\"></path>\n",
              "</symbol>\n",
              "</defs>\n",
              "</svg>\n",
              "<style>/* CSS stylesheet for displaying xarray objects in jupyterlab.\n",
              " *\n",
              " */\n",
              "\n",
              ":root {\n",
              "  --xr-font-color0: var(--jp-content-font-color0, rgba(0, 0, 0, 1));\n",
              "  --xr-font-color2: var(--jp-content-font-color2, rgba(0, 0, 0, 0.54));\n",
              "  --xr-font-color3: var(--jp-content-font-color3, rgba(0, 0, 0, 0.38));\n",
              "  --xr-border-color: var(--jp-border-color2, #e0e0e0);\n",
              "  --xr-disabled-color: var(--jp-layout-color3, #bdbdbd);\n",
              "  --xr-background-color: var(--jp-layout-color0, white);\n",
              "  --xr-background-color-row-even: var(--jp-layout-color1, white);\n",
              "  --xr-background-color-row-odd: var(--jp-layout-color2, #eeeeee);\n",
              "}\n",
              "\n",
              "html[theme=dark],\n",
              "body[data-theme=dark],\n",
              "body.vscode-dark {\n",
              "  --xr-font-color0: rgba(255, 255, 255, 1);\n",
              "  --xr-font-color2: rgba(255, 255, 255, 0.54);\n",
              "  --xr-font-color3: rgba(255, 255, 255, 0.38);\n",
              "  --xr-border-color: #1F1F1F;\n",
              "  --xr-disabled-color: #515151;\n",
              "  --xr-background-color: #111111;\n",
              "  --xr-background-color-row-even: #111111;\n",
              "  --xr-background-color-row-odd: #313131;\n",
              "}\n",
              "\n",
              ".xr-wrap {\n",
              "  display: block !important;\n",
              "  min-width: 300px;\n",
              "  max-width: 700px;\n",
              "}\n",
              "\n",
              ".xr-text-repr-fallback {\n",
              "  /* fallback to plain text repr when CSS is not injected (untrusted notebook) */\n",
              "  display: none;\n",
              "}\n",
              "\n",
              ".xr-header {\n",
              "  padding-top: 6px;\n",
              "  padding-bottom: 6px;\n",
              "  margin-bottom: 4px;\n",
              "  border-bottom: solid 1px var(--xr-border-color);\n",
              "}\n",
              "\n",
              ".xr-header > div,\n",
              ".xr-header > ul {\n",
              "  display: inline;\n",
              "  margin-top: 0;\n",
              "  margin-bottom: 0;\n",
              "}\n",
              "\n",
              ".xr-obj-type,\n",
              ".xr-array-name {\n",
              "  margin-left: 2px;\n",
              "  margin-right: 10px;\n",
              "}\n",
              "\n",
              ".xr-obj-type {\n",
              "  color: var(--xr-font-color2);\n",
              "}\n",
              "\n",
              ".xr-sections {\n",
              "  padding-left: 0 !important;\n",
              "  display: grid;\n",
              "  grid-template-columns: 150px auto auto 1fr 20px 20px;\n",
              "}\n",
              "\n",
              ".xr-section-item {\n",
              "  display: contents;\n",
              "}\n",
              "\n",
              ".xr-section-item input {\n",
              "  display: none;\n",
              "}\n",
              "\n",
              ".xr-section-item input + label {\n",
              "  color: var(--xr-disabled-color);\n",
              "}\n",
              "\n",
              ".xr-section-item input:enabled + label {\n",
              "  cursor: pointer;\n",
              "  color: var(--xr-font-color2);\n",
              "}\n",
              "\n",
              ".xr-section-item input:enabled + label:hover {\n",
              "  color: var(--xr-font-color0);\n",
              "}\n",
              "\n",
              ".xr-section-summary {\n",
              "  grid-column: 1;\n",
              "  color: var(--xr-font-color2);\n",
              "  font-weight: 500;\n",
              "}\n",
              "\n",
              ".xr-section-summary > span {\n",
              "  display: inline-block;\n",
              "  padding-left: 0.5em;\n",
              "}\n",
              "\n",
              ".xr-section-summary-in:disabled + label {\n",
              "  color: var(--xr-font-color2);\n",
              "}\n",
              "\n",
              ".xr-section-summary-in + label:before {\n",
              "  display: inline-block;\n",
              "  content: '►';\n",
              "  font-size: 11px;\n",
              "  width: 15px;\n",
              "  text-align: center;\n",
              "}\n",
              "\n",
              ".xr-section-summary-in:disabled + label:before {\n",
              "  color: var(--xr-disabled-color);\n",
              "}\n",
              "\n",
              ".xr-section-summary-in:checked + label:before {\n",
              "  content: '▼';\n",
              "}\n",
              "\n",
              ".xr-section-summary-in:checked + label > span {\n",
              "  display: none;\n",
              "}\n",
              "\n",
              ".xr-section-summary,\n",
              ".xr-section-inline-details {\n",
              "  padding-top: 4px;\n",
              "  padding-bottom: 4px;\n",
              "}\n",
              "\n",
              ".xr-section-inline-details {\n",
              "  grid-column: 2 / -1;\n",
              "}\n",
              "\n",
              ".xr-section-details {\n",
              "  display: none;\n",
              "  grid-column: 1 / -1;\n",
              "  margin-bottom: 5px;\n",
              "}\n",
              "\n",
              ".xr-section-summary-in:checked ~ .xr-section-details {\n",
              "  display: contents;\n",
              "}\n",
              "\n",
              ".xr-array-wrap {\n",
              "  grid-column: 1 / -1;\n",
              "  display: grid;\n",
              "  grid-template-columns: 20px auto;\n",
              "}\n",
              "\n",
              ".xr-array-wrap > label {\n",
              "  grid-column: 1;\n",
              "  vertical-align: top;\n",
              "}\n",
              "\n",
              ".xr-preview {\n",
              "  color: var(--xr-font-color3);\n",
              "}\n",
              "\n",
              ".xr-array-preview,\n",
              ".xr-array-data {\n",
              "  padding: 0 5px !important;\n",
              "  grid-column: 2;\n",
              "}\n",
              "\n",
              ".xr-array-data,\n",
              ".xr-array-in:checked ~ .xr-array-preview {\n",
              "  display: none;\n",
              "}\n",
              "\n",
              ".xr-array-in:checked ~ .xr-array-data,\n",
              ".xr-array-preview {\n",
              "  display: inline-block;\n",
              "}\n",
              "\n",
              ".xr-dim-list {\n",
              "  display: inline-block !important;\n",
              "  list-style: none;\n",
              "  padding: 0 !important;\n",
              "  margin: 0;\n",
              "}\n",
              "\n",
              ".xr-dim-list li {\n",
              "  display: inline-block;\n",
              "  padding: 0;\n",
              "  margin: 0;\n",
              "}\n",
              "\n",
              ".xr-dim-list:before {\n",
              "  content: '(';\n",
              "}\n",
              "\n",
              ".xr-dim-list:after {\n",
              "  content: ')';\n",
              "}\n",
              "\n",
              ".xr-dim-list li:not(:last-child):after {\n",
              "  content: ',';\n",
              "  padding-right: 5px;\n",
              "}\n",
              "\n",
              ".xr-has-index {\n",
              "  font-weight: bold;\n",
              "}\n",
              "\n",
              ".xr-var-list,\n",
              ".xr-var-item {\n",
              "  display: contents;\n",
              "}\n",
              "\n",
              ".xr-var-item > div,\n",
              ".xr-var-item label,\n",
              ".xr-var-item > .xr-var-name span {\n",
              "  background-color: var(--xr-background-color-row-even);\n",
              "  margin-bottom: 0;\n",
              "}\n",
              "\n",
              ".xr-var-item > .xr-var-name:hover span {\n",
              "  padding-right: 5px;\n",
              "}\n",
              "\n",
              ".xr-var-list > li:nth-child(odd) > div,\n",
              ".xr-var-list > li:nth-child(odd) > label,\n",
              ".xr-var-list > li:nth-child(odd) > .xr-var-name span {\n",
              "  background-color: var(--xr-background-color-row-odd);\n",
              "}\n",
              "\n",
              ".xr-var-name {\n",
              "  grid-column: 1;\n",
              "}\n",
              "\n",
              ".xr-var-dims {\n",
              "  grid-column: 2;\n",
              "}\n",
              "\n",
              ".xr-var-dtype {\n",
              "  grid-column: 3;\n",
              "  text-align: right;\n",
              "  color: var(--xr-font-color2);\n",
              "}\n",
              "\n",
              ".xr-var-preview {\n",
              "  grid-column: 4;\n",
              "}\n",
              "\n",
              ".xr-index-preview {\n",
              "  grid-column: 2 / 5;\n",
              "  color: var(--xr-font-color2);\n",
              "}\n",
              "\n",
              ".xr-var-name,\n",
              ".xr-var-dims,\n",
              ".xr-var-dtype,\n",
              ".xr-preview,\n",
              ".xr-attrs dt {\n",
              "  white-space: nowrap;\n",
              "  overflow: hidden;\n",
              "  text-overflow: ellipsis;\n",
              "  padding-right: 10px;\n",
              "}\n",
              "\n",
              ".xr-var-name:hover,\n",
              ".xr-var-dims:hover,\n",
              ".xr-var-dtype:hover,\n",
              ".xr-attrs dt:hover {\n",
              "  overflow: visible;\n",
              "  width: auto;\n",
              "  z-index: 1;\n",
              "}\n",
              "\n",
              ".xr-var-attrs,\n",
              ".xr-var-data,\n",
              ".xr-index-data {\n",
              "  display: none;\n",
              "  background-color: var(--xr-background-color) !important;\n",
              "  padding-bottom: 5px !important;\n",
              "}\n",
              "\n",
              ".xr-var-attrs-in:checked ~ .xr-var-attrs,\n",
              ".xr-var-data-in:checked ~ .xr-var-data,\n",
              ".xr-index-data-in:checked ~ .xr-index-data {\n",
              "  display: block;\n",
              "}\n",
              "\n",
              ".xr-var-data > table {\n",
              "  float: right;\n",
              "}\n",
              "\n",
              ".xr-var-name span,\n",
              ".xr-var-data,\n",
              ".xr-index-name div,\n",
              ".xr-index-data,\n",
              ".xr-attrs {\n",
              "  padding-left: 25px !important;\n",
              "}\n",
              "\n",
              ".xr-attrs,\n",
              ".xr-var-attrs,\n",
              ".xr-var-data,\n",
              ".xr-index-data {\n",
              "  grid-column: 1 / -1;\n",
              "}\n",
              "\n",
              "dl.xr-attrs {\n",
              "  padding: 0;\n",
              "  margin: 0;\n",
              "  display: grid;\n",
              "  grid-template-columns: 125px auto;\n",
              "}\n",
              "\n",
              ".xr-attrs dt,\n",
              ".xr-attrs dd {\n",
              "  padding: 0;\n",
              "  margin: 0;\n",
              "  float: left;\n",
              "  padding-right: 10px;\n",
              "  width: auto;\n",
              "}\n",
              "\n",
              ".xr-attrs dt {\n",
              "  font-weight: normal;\n",
              "  grid-column: 1;\n",
              "}\n",
              "\n",
              ".xr-attrs dt:hover span {\n",
              "  display: inline-block;\n",
              "  background: var(--xr-background-color);\n",
              "  padding-right: 10px;\n",
              "}\n",
              "\n",
              ".xr-attrs dd {\n",
              "  grid-column: 2;\n",
              "  white-space: pre-wrap;\n",
              "  word-break: break-all;\n",
              "}\n",
              "\n",
              ".xr-icon-database,\n",
              ".xr-icon-file-text2,\n",
              ".xr-no-icon {\n",
              "  display: inline-block;\n",
              "  vertical-align: middle;\n",
              "  width: 1em;\n",
              "  height: 1.5em !important;\n",
              "  stroke-width: 0;\n",
              "  stroke: currentColor;\n",
              "  fill: currentColor;\n",
              "}\n",
              "</style><pre class='xr-text-repr-fallback'>&lt;xarray.Dataset&gt;\n",
              "Dimensions:  ()\n",
              "Data variables:\n",
              "    R0       float64 0.3233\n",
              "    k        float64 0.2213\n",
              "    tau      float64 0.6673\n",
              "    v        float64 0.2876</pre><div class='xr-wrap' style='display:none'><div class='xr-header'><div class='xr-obj-type'>xarray.Dataset</div></div><ul class='xr-sections'><li class='xr-section-item'><input id='section-b444ff71-5d6b-4927-b970-cf1cf29c8cc0' class='xr-section-summary-in' type='checkbox' disabled ><label for='section-b444ff71-5d6b-4927-b970-cf1cf29c8cc0' class='xr-section-summary'  title='Expand/collapse section'>Dimensions:</label><div class='xr-section-inline-details'></div><div class='xr-section-details'></div></li><li class='xr-section-item'><input id='section-361aa793-2cd6-4f61-876c-7f748cf543bf' class='xr-section-summary-in' type='checkbox' disabled ><label for='section-361aa793-2cd6-4f61-876c-7f748cf543bf' class='xr-section-summary'  title='Expand/collapse section'>Coordinates: <span>(0)</span></label><div class='xr-section-inline-details'></div><div class='xr-section-details'><ul class='xr-var-list'></ul></div></li><li class='xr-section-item'><input id='section-edcf870c-ae3b-491d-9c7c-2b6991f7d8d9' class='xr-section-summary-in' type='checkbox'  checked><label for='section-edcf870c-ae3b-491d-9c7c-2b6991f7d8d9' class='xr-section-summary' >Data variables: <span>(4)</span></label><div class='xr-section-inline-details'></div><div class='xr-section-details'><ul class='xr-var-list'><li class='xr-var-item'><div class='xr-var-name'><span>R0</span></div><div class='xr-var-dims'>()</div><div class='xr-var-dtype'>float64</div><div class='xr-var-preview xr-preview'>0.3233</div><input id='attrs-cee384cd-94ca-418a-a1f1-aa13f109953a' class='xr-var-attrs-in' type='checkbox' disabled><label for='attrs-cee384cd-94ca-418a-a1f1-aa13f109953a' title='Show/Hide attributes'><svg class='icon xr-icon-file-text2'><use xlink:href='#icon-file-text2'></use></svg></label><input id='data-f02eeeeb-08a9-4bcb-bf2c-fe8e6b7443ea' class='xr-var-data-in' type='checkbox'><label for='data-f02eeeeb-08a9-4bcb-bf2c-fe8e6b7443ea' title='Show/Hide data repr'><svg class='icon xr-icon-database'><use xlink:href='#icon-database'></use></svg></label><div class='xr-var-attrs'><dl class='xr-attrs'></dl></div><div class='xr-var-data'><pre>array(0.32334327)</pre></div></li><li class='xr-var-item'><div class='xr-var-name'><span>k</span></div><div class='xr-var-dims'>()</div><div class='xr-var-dtype'>float64</div><div class='xr-var-preview xr-preview'>0.2213</div><input id='attrs-6150a651-f3cc-46c8-a10e-1d1c5a9a2804' class='xr-var-attrs-in' type='checkbox' disabled><label for='attrs-6150a651-f3cc-46c8-a10e-1d1c5a9a2804' title='Show/Hide attributes'><svg class='icon xr-icon-file-text2'><use xlink:href='#icon-file-text2'></use></svg></label><input id='data-2d6e5188-59da-4816-a47b-17c4f3e374df' class='xr-var-data-in' type='checkbox'><label for='data-2d6e5188-59da-4816-a47b-17c4f3e374df' title='Show/Hide data repr'><svg class='icon xr-icon-database'><use xlink:href='#icon-database'></use></svg></label><div class='xr-var-attrs'><dl class='xr-attrs'></dl></div><div class='xr-var-data'><pre>array(0.22130161)</pre></div></li><li class='xr-var-item'><div class='xr-var-name'><span>tau</span></div><div class='xr-var-dims'>()</div><div class='xr-var-dtype'>float64</div><div class='xr-var-preview xr-preview'>0.6673</div><input id='attrs-e0aa2b6a-1044-4b6a-9e81-0915a36655cc' class='xr-var-attrs-in' type='checkbox' disabled><label for='attrs-e0aa2b6a-1044-4b6a-9e81-0915a36655cc' title='Show/Hide attributes'><svg class='icon xr-icon-file-text2'><use xlink:href='#icon-file-text2'></use></svg></label><input id='data-48fd7860-2a88-4a60-9cc7-342d2ffcedf3' class='xr-var-data-in' type='checkbox'><label for='data-48fd7860-2a88-4a60-9cc7-342d2ffcedf3' title='Show/Hide data repr'><svg class='icon xr-icon-database'><use xlink:href='#icon-database'></use></svg></label><div class='xr-var-attrs'><dl class='xr-attrs'></dl></div><div class='xr-var-data'><pre>array(0.6673444)</pre></div></li><li class='xr-var-item'><div class='xr-var-name'><span>v</span></div><div class='xr-var-dims'>()</div><div class='xr-var-dtype'>float64</div><div class='xr-var-preview xr-preview'>0.2876</div><input id='attrs-b503fa5a-b527-4bb7-ac75-9338e1cb1305' class='xr-var-attrs-in' type='checkbox' disabled><label for='attrs-b503fa5a-b527-4bb7-ac75-9338e1cb1305' title='Show/Hide attributes'><svg class='icon xr-icon-file-text2'><use xlink:href='#icon-file-text2'></use></svg></label><input id='data-17daddeb-ce0b-4db3-b9a9-529a445c0fe8' class='xr-var-data-in' type='checkbox'><label for='data-17daddeb-ce0b-4db3-b9a9-529a445c0fe8' title='Show/Hide data repr'><svg class='icon xr-icon-database'><use xlink:href='#icon-database'></use></svg></label><div class='xr-var-attrs'><dl class='xr-attrs'></dl></div><div class='xr-var-data'><pre>array(0.28764502)</pre></div></li></ul></div></li><li class='xr-section-item'><input id='section-96ae6cde-6ac6-4b39-a3ac-c7ebbef40b74' class='xr-section-summary-in' type='checkbox' disabled ><label for='section-96ae6cde-6ac6-4b39-a3ac-c7ebbef40b74' class='xr-section-summary'  title='Expand/collapse section'>Indexes: <span>(0)</span></label><div class='xr-section-inline-details'></div><div class='xr-section-details'><ul class='xr-var-list'></ul></div></li><li class='xr-section-item'><input id='section-bcfc6d6b-eaf6-4d3b-9aeb-63c2999ec303' class='xr-section-summary-in' type='checkbox' disabled ><label for='section-bcfc6d6b-eaf6-4d3b-9aeb-63c2999ec303' class='xr-section-summary'  title='Expand/collapse section'>Attributes: <span>(0)</span></label><div class='xr-section-inline-details'></div><div class='xr-section-details'><dl class='xr-attrs'></dl></div></li></ul></div></div>"
            ]
          },
          "metadata": {},
          "execution_count": 112
        }
      ]
    },
    {
      "cell_type": "markdown",
      "source": [
        "Note that the efficiency is >= 25% which is very good. A simple MCMC usually reaches 0.1% or less and we then have to generate a lot of samples, and then we proceed to a thinning which is very problematic from a statistical point of view because we have no guarantee to produce an iid batch."
      ],
      "metadata": {
        "id": "u1I5Xv_hs53E"
      }
    },
    {
      "cell_type": "code",
      "source": [
        "# Run NUTS.\n",
        "kernel = HMC(model)\n",
        "num_samples = 5_000\n",
        "n_chains = 4\n",
        "mcmc = MCMC(kernel, num_warmup=1_000, num_samples=num_samples,  \n",
        "            num_chains=n_chains,\n",
        "            chain_method='vectorized', # chain in paralell on the same device\n",
        "            progress_bar=False)\n",
        "mcmc.run(rng_key, t=tMes, Robs=RMes,sigma=sigma_obs, k_max = 20.)\n",
        "mcmc.print_summary()\n",
        "samples_hmc = mcmc.get_samples()\n"
      ],
      "metadata": {
        "colab": {
          "base_uri": "https://localhost:8080/"
        },
        "id": "Xrx1mfvjsr0n",
        "outputId": "fbab2c77-cd6f-47ad-d3d2-1d7b9cbab0ab"
      },
      "execution_count": null,
      "outputs": [
        {
          "output_type": "stream",
          "name": "stdout",
          "text": [
            "\n",
            "                mean       std    median      5.0%     95.0%     n_eff     r_hat\n",
            "        R0     35.32      0.54     35.31     34.43     36.20   7522.59      1.00\n",
            "         k     16.55      1.31     16.54     14.33     18.66  14340.34      1.00\n",
            "       tau      0.95      0.11      0.94      0.77      1.12    546.41      1.01\n",
            "         v      2.36      0.21      2.36      2.02      2.71  31397.59      1.00\n",
            "\n",
            "Number of divergences: 0\n"
          ]
        }
      ]
    },
    {
      "cell_type": "code",
      "source": [
        "az.ess(samples_hmc, relative=True)  # relative efficiency "
      ],
      "metadata": {
        "colab": {
          "base_uri": "https://localhost:8080/",
          "height": 270
        },
        "id": "DLB2_opotJQ0",
        "outputId": "274cb4be-7eec-4ddc-dc0e-f9227ee0a93d"
      },
      "execution_count": null,
      "outputs": [
        {
          "output_type": "execute_result",
          "data": {
            "text/plain": [
              "<xarray.Dataset>\n",
              "Dimensions:  ()\n",
              "Data variables:\n",
              "    R0       float64 0.3797\n",
              "    k        float64 0.7071\n",
              "    tau      float64 0.02874\n",
              "    v        float64 1.544"
            ],
            "text/html": [
              "<div><svg style=\"position: absolute; width: 0; height: 0; overflow: hidden\">\n",
              "<defs>\n",
              "<symbol id=\"icon-database\" viewBox=\"0 0 32 32\">\n",
              "<path d=\"M16 0c-8.837 0-16 2.239-16 5v4c0 2.761 7.163 5 16 5s16-2.239 16-5v-4c0-2.761-7.163-5-16-5z\"></path>\n",
              "<path d=\"M16 17c-8.837 0-16-2.239-16-5v6c0 2.761 7.163 5 16 5s16-2.239 16-5v-6c0 2.761-7.163 5-16 5z\"></path>\n",
              "<path d=\"M16 26c-8.837 0-16-2.239-16-5v6c0 2.761 7.163 5 16 5s16-2.239 16-5v-6c0 2.761-7.163 5-16 5z\"></path>\n",
              "</symbol>\n",
              "<symbol id=\"icon-file-text2\" viewBox=\"0 0 32 32\">\n",
              "<path d=\"M28.681 7.159c-0.694-0.947-1.662-2.053-2.724-3.116s-2.169-2.030-3.116-2.724c-1.612-1.182-2.393-1.319-2.841-1.319h-15.5c-1.378 0-2.5 1.121-2.5 2.5v27c0 1.378 1.122 2.5 2.5 2.5h23c1.378 0 2.5-1.122 2.5-2.5v-19.5c0-0.448-0.137-1.23-1.319-2.841zM24.543 5.457c0.959 0.959 1.712 1.825 2.268 2.543h-4.811v-4.811c0.718 0.556 1.584 1.309 2.543 2.268zM28 29.5c0 0.271-0.229 0.5-0.5 0.5h-23c-0.271 0-0.5-0.229-0.5-0.5v-27c0-0.271 0.229-0.5 0.5-0.5 0 0 15.499-0 15.5 0v7c0 0.552 0.448 1 1 1h7v19.5z\"></path>\n",
              "<path d=\"M23 26h-14c-0.552 0-1-0.448-1-1s0.448-1 1-1h14c0.552 0 1 0.448 1 1s-0.448 1-1 1z\"></path>\n",
              "<path d=\"M23 22h-14c-0.552 0-1-0.448-1-1s0.448-1 1-1h14c0.552 0 1 0.448 1 1s-0.448 1-1 1z\"></path>\n",
              "<path d=\"M23 18h-14c-0.552 0-1-0.448-1-1s0.448-1 1-1h14c0.552 0 1 0.448 1 1s-0.448 1-1 1z\"></path>\n",
              "</symbol>\n",
              "</defs>\n",
              "</svg>\n",
              "<style>/* CSS stylesheet for displaying xarray objects in jupyterlab.\n",
              " *\n",
              " */\n",
              "\n",
              ":root {\n",
              "  --xr-font-color0: var(--jp-content-font-color0, rgba(0, 0, 0, 1));\n",
              "  --xr-font-color2: var(--jp-content-font-color2, rgba(0, 0, 0, 0.54));\n",
              "  --xr-font-color3: var(--jp-content-font-color3, rgba(0, 0, 0, 0.38));\n",
              "  --xr-border-color: var(--jp-border-color2, #e0e0e0);\n",
              "  --xr-disabled-color: var(--jp-layout-color3, #bdbdbd);\n",
              "  --xr-background-color: var(--jp-layout-color0, white);\n",
              "  --xr-background-color-row-even: var(--jp-layout-color1, white);\n",
              "  --xr-background-color-row-odd: var(--jp-layout-color2, #eeeeee);\n",
              "}\n",
              "\n",
              "html[theme=dark],\n",
              "body[data-theme=dark],\n",
              "body.vscode-dark {\n",
              "  --xr-font-color0: rgba(255, 255, 255, 1);\n",
              "  --xr-font-color2: rgba(255, 255, 255, 0.54);\n",
              "  --xr-font-color3: rgba(255, 255, 255, 0.38);\n",
              "  --xr-border-color: #1F1F1F;\n",
              "  --xr-disabled-color: #515151;\n",
              "  --xr-background-color: #111111;\n",
              "  --xr-background-color-row-even: #111111;\n",
              "  --xr-background-color-row-odd: #313131;\n",
              "}\n",
              "\n",
              ".xr-wrap {\n",
              "  display: block !important;\n",
              "  min-width: 300px;\n",
              "  max-width: 700px;\n",
              "}\n",
              "\n",
              ".xr-text-repr-fallback {\n",
              "  /* fallback to plain text repr when CSS is not injected (untrusted notebook) */\n",
              "  display: none;\n",
              "}\n",
              "\n",
              ".xr-header {\n",
              "  padding-top: 6px;\n",
              "  padding-bottom: 6px;\n",
              "  margin-bottom: 4px;\n",
              "  border-bottom: solid 1px var(--xr-border-color);\n",
              "}\n",
              "\n",
              ".xr-header > div,\n",
              ".xr-header > ul {\n",
              "  display: inline;\n",
              "  margin-top: 0;\n",
              "  margin-bottom: 0;\n",
              "}\n",
              "\n",
              ".xr-obj-type,\n",
              ".xr-array-name {\n",
              "  margin-left: 2px;\n",
              "  margin-right: 10px;\n",
              "}\n",
              "\n",
              ".xr-obj-type {\n",
              "  color: var(--xr-font-color2);\n",
              "}\n",
              "\n",
              ".xr-sections {\n",
              "  padding-left: 0 !important;\n",
              "  display: grid;\n",
              "  grid-template-columns: 150px auto auto 1fr 20px 20px;\n",
              "}\n",
              "\n",
              ".xr-section-item {\n",
              "  display: contents;\n",
              "}\n",
              "\n",
              ".xr-section-item input {\n",
              "  display: none;\n",
              "}\n",
              "\n",
              ".xr-section-item input + label {\n",
              "  color: var(--xr-disabled-color);\n",
              "}\n",
              "\n",
              ".xr-section-item input:enabled + label {\n",
              "  cursor: pointer;\n",
              "  color: var(--xr-font-color2);\n",
              "}\n",
              "\n",
              ".xr-section-item input:enabled + label:hover {\n",
              "  color: var(--xr-font-color0);\n",
              "}\n",
              "\n",
              ".xr-section-summary {\n",
              "  grid-column: 1;\n",
              "  color: var(--xr-font-color2);\n",
              "  font-weight: 500;\n",
              "}\n",
              "\n",
              ".xr-section-summary > span {\n",
              "  display: inline-block;\n",
              "  padding-left: 0.5em;\n",
              "}\n",
              "\n",
              ".xr-section-summary-in:disabled + label {\n",
              "  color: var(--xr-font-color2);\n",
              "}\n",
              "\n",
              ".xr-section-summary-in + label:before {\n",
              "  display: inline-block;\n",
              "  content: '►';\n",
              "  font-size: 11px;\n",
              "  width: 15px;\n",
              "  text-align: center;\n",
              "}\n",
              "\n",
              ".xr-section-summary-in:disabled + label:before {\n",
              "  color: var(--xr-disabled-color);\n",
              "}\n",
              "\n",
              ".xr-section-summary-in:checked + label:before {\n",
              "  content: '▼';\n",
              "}\n",
              "\n",
              ".xr-section-summary-in:checked + label > span {\n",
              "  display: none;\n",
              "}\n",
              "\n",
              ".xr-section-summary,\n",
              ".xr-section-inline-details {\n",
              "  padding-top: 4px;\n",
              "  padding-bottom: 4px;\n",
              "}\n",
              "\n",
              ".xr-section-inline-details {\n",
              "  grid-column: 2 / -1;\n",
              "}\n",
              "\n",
              ".xr-section-details {\n",
              "  display: none;\n",
              "  grid-column: 1 / -1;\n",
              "  margin-bottom: 5px;\n",
              "}\n",
              "\n",
              ".xr-section-summary-in:checked ~ .xr-section-details {\n",
              "  display: contents;\n",
              "}\n",
              "\n",
              ".xr-array-wrap {\n",
              "  grid-column: 1 / -1;\n",
              "  display: grid;\n",
              "  grid-template-columns: 20px auto;\n",
              "}\n",
              "\n",
              ".xr-array-wrap > label {\n",
              "  grid-column: 1;\n",
              "  vertical-align: top;\n",
              "}\n",
              "\n",
              ".xr-preview {\n",
              "  color: var(--xr-font-color3);\n",
              "}\n",
              "\n",
              ".xr-array-preview,\n",
              ".xr-array-data {\n",
              "  padding: 0 5px !important;\n",
              "  grid-column: 2;\n",
              "}\n",
              "\n",
              ".xr-array-data,\n",
              ".xr-array-in:checked ~ .xr-array-preview {\n",
              "  display: none;\n",
              "}\n",
              "\n",
              ".xr-array-in:checked ~ .xr-array-data,\n",
              ".xr-array-preview {\n",
              "  display: inline-block;\n",
              "}\n",
              "\n",
              ".xr-dim-list {\n",
              "  display: inline-block !important;\n",
              "  list-style: none;\n",
              "  padding: 0 !important;\n",
              "  margin: 0;\n",
              "}\n",
              "\n",
              ".xr-dim-list li {\n",
              "  display: inline-block;\n",
              "  padding: 0;\n",
              "  margin: 0;\n",
              "}\n",
              "\n",
              ".xr-dim-list:before {\n",
              "  content: '(';\n",
              "}\n",
              "\n",
              ".xr-dim-list:after {\n",
              "  content: ')';\n",
              "}\n",
              "\n",
              ".xr-dim-list li:not(:last-child):after {\n",
              "  content: ',';\n",
              "  padding-right: 5px;\n",
              "}\n",
              "\n",
              ".xr-has-index {\n",
              "  font-weight: bold;\n",
              "}\n",
              "\n",
              ".xr-var-list,\n",
              ".xr-var-item {\n",
              "  display: contents;\n",
              "}\n",
              "\n",
              ".xr-var-item > div,\n",
              ".xr-var-item label,\n",
              ".xr-var-item > .xr-var-name span {\n",
              "  background-color: var(--xr-background-color-row-even);\n",
              "  margin-bottom: 0;\n",
              "}\n",
              "\n",
              ".xr-var-item > .xr-var-name:hover span {\n",
              "  padding-right: 5px;\n",
              "}\n",
              "\n",
              ".xr-var-list > li:nth-child(odd) > div,\n",
              ".xr-var-list > li:nth-child(odd) > label,\n",
              ".xr-var-list > li:nth-child(odd) > .xr-var-name span {\n",
              "  background-color: var(--xr-background-color-row-odd);\n",
              "}\n",
              "\n",
              ".xr-var-name {\n",
              "  grid-column: 1;\n",
              "}\n",
              "\n",
              ".xr-var-dims {\n",
              "  grid-column: 2;\n",
              "}\n",
              "\n",
              ".xr-var-dtype {\n",
              "  grid-column: 3;\n",
              "  text-align: right;\n",
              "  color: var(--xr-font-color2);\n",
              "}\n",
              "\n",
              ".xr-var-preview {\n",
              "  grid-column: 4;\n",
              "}\n",
              "\n",
              ".xr-index-preview {\n",
              "  grid-column: 2 / 5;\n",
              "  color: var(--xr-font-color2);\n",
              "}\n",
              "\n",
              ".xr-var-name,\n",
              ".xr-var-dims,\n",
              ".xr-var-dtype,\n",
              ".xr-preview,\n",
              ".xr-attrs dt {\n",
              "  white-space: nowrap;\n",
              "  overflow: hidden;\n",
              "  text-overflow: ellipsis;\n",
              "  padding-right: 10px;\n",
              "}\n",
              "\n",
              ".xr-var-name:hover,\n",
              ".xr-var-dims:hover,\n",
              ".xr-var-dtype:hover,\n",
              ".xr-attrs dt:hover {\n",
              "  overflow: visible;\n",
              "  width: auto;\n",
              "  z-index: 1;\n",
              "}\n",
              "\n",
              ".xr-var-attrs,\n",
              ".xr-var-data,\n",
              ".xr-index-data {\n",
              "  display: none;\n",
              "  background-color: var(--xr-background-color) !important;\n",
              "  padding-bottom: 5px !important;\n",
              "}\n",
              "\n",
              ".xr-var-attrs-in:checked ~ .xr-var-attrs,\n",
              ".xr-var-data-in:checked ~ .xr-var-data,\n",
              ".xr-index-data-in:checked ~ .xr-index-data {\n",
              "  display: block;\n",
              "}\n",
              "\n",
              ".xr-var-data > table {\n",
              "  float: right;\n",
              "}\n",
              "\n",
              ".xr-var-name span,\n",
              ".xr-var-data,\n",
              ".xr-index-name div,\n",
              ".xr-index-data,\n",
              ".xr-attrs {\n",
              "  padding-left: 25px !important;\n",
              "}\n",
              "\n",
              ".xr-attrs,\n",
              ".xr-var-attrs,\n",
              ".xr-var-data,\n",
              ".xr-index-data {\n",
              "  grid-column: 1 / -1;\n",
              "}\n",
              "\n",
              "dl.xr-attrs {\n",
              "  padding: 0;\n",
              "  margin: 0;\n",
              "  display: grid;\n",
              "  grid-template-columns: 125px auto;\n",
              "}\n",
              "\n",
              ".xr-attrs dt,\n",
              ".xr-attrs dd {\n",
              "  padding: 0;\n",
              "  margin: 0;\n",
              "  float: left;\n",
              "  padding-right: 10px;\n",
              "  width: auto;\n",
              "}\n",
              "\n",
              ".xr-attrs dt {\n",
              "  font-weight: normal;\n",
              "  grid-column: 1;\n",
              "}\n",
              "\n",
              ".xr-attrs dt:hover span {\n",
              "  display: inline-block;\n",
              "  background: var(--xr-background-color);\n",
              "  padding-right: 10px;\n",
              "}\n",
              "\n",
              ".xr-attrs dd {\n",
              "  grid-column: 2;\n",
              "  white-space: pre-wrap;\n",
              "  word-break: break-all;\n",
              "}\n",
              "\n",
              ".xr-icon-database,\n",
              ".xr-icon-file-text2,\n",
              ".xr-no-icon {\n",
              "  display: inline-block;\n",
              "  vertical-align: middle;\n",
              "  width: 1em;\n",
              "  height: 1.5em !important;\n",
              "  stroke-width: 0;\n",
              "  stroke: currentColor;\n",
              "  fill: currentColor;\n",
              "}\n",
              "</style><pre class='xr-text-repr-fallback'>&lt;xarray.Dataset&gt;\n",
              "Dimensions:  ()\n",
              "Data variables:\n",
              "    R0       float64 0.3797\n",
              "    k        float64 0.7071\n",
              "    tau      float64 0.02874\n",
              "    v        float64 1.544</pre><div class='xr-wrap' style='display:none'><div class='xr-header'><div class='xr-obj-type'>xarray.Dataset</div></div><ul class='xr-sections'><li class='xr-section-item'><input id='section-48cec024-8f16-48d7-8bdf-98cd68cb2c18' class='xr-section-summary-in' type='checkbox' disabled ><label for='section-48cec024-8f16-48d7-8bdf-98cd68cb2c18' class='xr-section-summary'  title='Expand/collapse section'>Dimensions:</label><div class='xr-section-inline-details'></div><div class='xr-section-details'></div></li><li class='xr-section-item'><input id='section-2ed2b96c-8028-4f20-b0a0-733a7049ef91' class='xr-section-summary-in' type='checkbox' disabled ><label for='section-2ed2b96c-8028-4f20-b0a0-733a7049ef91' class='xr-section-summary'  title='Expand/collapse section'>Coordinates: <span>(0)</span></label><div class='xr-section-inline-details'></div><div class='xr-section-details'><ul class='xr-var-list'></ul></div></li><li class='xr-section-item'><input id='section-6ac3bea2-f9f6-4bd6-9066-be5fd3543635' class='xr-section-summary-in' type='checkbox'  checked><label for='section-6ac3bea2-f9f6-4bd6-9066-be5fd3543635' class='xr-section-summary' >Data variables: <span>(4)</span></label><div class='xr-section-inline-details'></div><div class='xr-section-details'><ul class='xr-var-list'><li class='xr-var-item'><div class='xr-var-name'><span>R0</span></div><div class='xr-var-dims'>()</div><div class='xr-var-dtype'>float64</div><div class='xr-var-preview xr-preview'>0.3797</div><input id='attrs-dc27888a-48c4-4e5b-ab6b-5f20e9bac774' class='xr-var-attrs-in' type='checkbox' disabled><label for='attrs-dc27888a-48c4-4e5b-ab6b-5f20e9bac774' title='Show/Hide attributes'><svg class='icon xr-icon-file-text2'><use xlink:href='#icon-file-text2'></use></svg></label><input id='data-43d2db68-b1d2-415a-8139-77db9f654961' class='xr-var-data-in' type='checkbox'><label for='data-43d2db68-b1d2-415a-8139-77db9f654961' title='Show/Hide data repr'><svg class='icon xr-icon-database'><use xlink:href='#icon-database'></use></svg></label><div class='xr-var-attrs'><dl class='xr-attrs'></dl></div><div class='xr-var-data'><pre>array(0.37968056)</pre></div></li><li class='xr-var-item'><div class='xr-var-name'><span>k</span></div><div class='xr-var-dims'>()</div><div class='xr-var-dtype'>float64</div><div class='xr-var-preview xr-preview'>0.7071</div><input id='attrs-2e2a9d62-1f1b-486b-aec3-19b7a56e444a' class='xr-var-attrs-in' type='checkbox' disabled><label for='attrs-2e2a9d62-1f1b-486b-aec3-19b7a56e444a' title='Show/Hide attributes'><svg class='icon xr-icon-file-text2'><use xlink:href='#icon-file-text2'></use></svg></label><input id='data-3ba5abf6-b085-460a-a0f4-d93a4dab036a' class='xr-var-data-in' type='checkbox'><label for='data-3ba5abf6-b085-460a-a0f4-d93a4dab036a' title='Show/Hide data repr'><svg class='icon xr-icon-database'><use xlink:href='#icon-database'></use></svg></label><div class='xr-var-attrs'><dl class='xr-attrs'></dl></div><div class='xr-var-data'><pre>array(0.70714533)</pre></div></li><li class='xr-var-item'><div class='xr-var-name'><span>tau</span></div><div class='xr-var-dims'>()</div><div class='xr-var-dtype'>float64</div><div class='xr-var-preview xr-preview'>0.02874</div><input id='attrs-cd00213e-66b4-4a80-965c-cd75a43c3f59' class='xr-var-attrs-in' type='checkbox' disabled><label for='attrs-cd00213e-66b4-4a80-965c-cd75a43c3f59' title='Show/Hide attributes'><svg class='icon xr-icon-file-text2'><use xlink:href='#icon-file-text2'></use></svg></label><input id='data-66ab03ef-4cc8-4986-9188-14e0a39b65dc' class='xr-var-data-in' type='checkbox'><label for='data-66ab03ef-4cc8-4986-9188-14e0a39b65dc' title='Show/Hide data repr'><svg class='icon xr-icon-database'><use xlink:href='#icon-database'></use></svg></label><div class='xr-var-attrs'><dl class='xr-attrs'></dl></div><div class='xr-var-data'><pre>array(0.02874355)</pre></div></li><li class='xr-var-item'><div class='xr-var-name'><span>v</span></div><div class='xr-var-dims'>()</div><div class='xr-var-dtype'>float64</div><div class='xr-var-preview xr-preview'>1.544</div><input id='attrs-5f8f20b2-e016-4cd0-bc5c-cb8e262138a0' class='xr-var-attrs-in' type='checkbox' disabled><label for='attrs-5f8f20b2-e016-4cd0-bc5c-cb8e262138a0' title='Show/Hide attributes'><svg class='icon xr-icon-file-text2'><use xlink:href='#icon-file-text2'></use></svg></label><input id='data-7756cf19-c781-4923-9679-2daffb21ea40' class='xr-var-data-in' type='checkbox'><label for='data-7756cf19-c781-4923-9679-2daffb21ea40' title='Show/Hide data repr'><svg class='icon xr-icon-database'><use xlink:href='#icon-database'></use></svg></label><div class='xr-var-attrs'><dl class='xr-attrs'></dl></div><div class='xr-var-data'><pre>array(1.54371077)</pre></div></li></ul></div></li><li class='xr-section-item'><input id='section-79cbc668-53f7-4411-b540-73772e4d1dc8' class='xr-section-summary-in' type='checkbox' disabled ><label for='section-79cbc668-53f7-4411-b540-73772e4d1dc8' class='xr-section-summary'  title='Expand/collapse section'>Indexes: <span>(0)</span></label><div class='xr-section-inline-details'></div><div class='xr-section-details'><ul class='xr-var-list'></ul></div></li><li class='xr-section-item'><input id='section-cd00e86b-585c-4ac0-a4a5-c38e0aa412d4' class='xr-section-summary-in' type='checkbox' disabled ><label for='section-cd00e86b-585c-4ac0-a4a5-c38e0aa412d4' class='xr-section-summary'  title='Expand/collapse section'>Attributes: <span>(0)</span></label><div class='xr-section-inline-details'></div><div class='xr-section-details'><dl class='xr-attrs'></dl></div></li></ul></div></div>"
            ]
          },
          "metadata": {},
          "execution_count": 114
        }
      ]
    },
    {
      "cell_type": "markdown",
      "source": [
        "Notice the poor efficiency for the $\\tau$ sampling."
      ],
      "metadata": {
        "id": "0UuZN82gtVMQ"
      }
    },
    {
      "cell_type": "markdown",
      "source": [
        "## Posterior contours"
      ],
      "metadata": {
        "id": "xfX6srokwz0F"
      }
    },
    {
      "cell_type": "code",
      "source": [
        "data = az.from_dict(\n",
        "    posterior=samples_nuts  # dictionary od samplings\n",
        ")\n",
        "     \n"
      ],
      "metadata": {
        "id": "dleAaf5vtSdM"
      },
      "execution_count": null,
      "outputs": []
    },
    {
      "cell_type": "code",
      "source": [
        "# mean value of the parameter posterior\n",
        "param_mean = np.mean(np.array(list(samples_nuts.values())),axis=1)\n",
        "param_mean\n"
      ],
      "metadata": {
        "colab": {
          "base_uri": "https://localhost:8080/"
        },
        "id": "48pDAlsIwAc_",
        "outputId": "79fb52b5-914c-4618-d429-1a0aff245200"
      },
      "execution_count": null,
      "outputs": [
        {
          "output_type": "execute_result",
          "data": {
            "text/plain": [
              "array([35.30460682, 16.56110037,  0.95456448,  2.35695582])"
            ]
          },
          "metadata": {},
          "execution_count": 136
        }
      ]
    },
    {
      "cell_type": "code",
      "source": [
        "figure = corner.corner(data, \n",
        "                       levels=(0.393, 0.865, 0.989),  #Plot 1sigma, 2sigma, 3sigma 2D contours\n",
        "                        quantiles=[0.16, 0.84], #68% CL 1D plmlots = 1sigma\n",
        "                       show_titles=True,\n",
        "                       )\n",
        "#true parameter positions\n",
        "tmp = np.array([par_true[\"R0\"],par_true[\"k\"], par_true[\"tau\"], par_true[\"v\"]])\n",
        "corner.overplot_lines(figure, tmp, color=\"blue\")\n",
        "corner.overplot_points(figure, tmp[None], marker=\"s\", color=\"blue\")\n",
        "#mean MCMC parameter positions\n",
        "corner.overplot_lines(figure, param_mean, color=\"red\")\n",
        "corner.overplot_points(figure, param_mean[None], marker=\"s\", color=\"red\")\n",
        "\n",
        "\n"
      ],
      "metadata": {
        "colab": {
          "base_uri": "https://localhost:8080/",
          "height": 721
        },
        "id": "WlFMXEQUt6AE",
        "outputId": "bfcbbbee-c21f-4090-973e-d9298902c9bc"
      },
      "execution_count": null,
      "outputs": [
        {
          "output_type": "display_data",
          "data": {
            "text/plain": [
              "<Figure size 698.4x698.4 with 16 Axes>"
            ],
            "image/png": "[encoded data removed]"
          },
          "metadata": {
            "needs_background": "light"
          }
        }
      ]
    },
    {
      "cell_type": "markdown",
      "source": [
        "## Prediction: mean, error bands..."
      ],
      "metadata": {
        "id": "Zbc04mHzwYB4"
      }
    },
    {
      "cell_type": "code",
      "source": [
        "t_val = np.linspace(-5,5,100) # some new values of the t (time)"
      ],
      "metadata": {
        "id": "PjEr_TJSvZVN"
      },
      "execution_count": null,
      "outputs": []
    },
    {
      "cell_type": "code",
      "source": [
        "Rtrue_val = mean_fn(t_val,par_true) # prediction with True parameter values (like method1 dataset)"
      ],
      "metadata": {
        "id": "oLPcMJKuxDEY"
      },
      "execution_count": null,
      "outputs": []
    },
    {
      "cell_type": "code",
      "source": [
        "func = jax.vmap(lambda x: mean_fn(t_val,x))"
      ],
      "metadata": {
        "id": "3-KmhDVExFjl"
      },
      "execution_count": null,
      "outputs": []
    },
    {
      "cell_type": "code",
      "source": [
        "Rall_val= func(samples_nuts)  # use of MCMC chain samples"
      ],
      "metadata": {
        "id": "JK0UHswgxQGc"
      },
      "execution_count": null,
      "outputs": []
    },
    {
      "cell_type": "code",
      "source": [
        "Rmean_val = jnp.mean(Rall_val,axis=0) # mean expectation (predict)"
      ],
      "metadata": {
        "id": "yM-JhK9ZxVlj"
      },
      "execution_count": null,
      "outputs": []
    },
    {
      "cell_type": "code",
      "source": [
        "std_R_val = jnp.std(Rall_val,axis=0) # standard error"
      ],
      "metadata": {
        "id": "C91l2WygxaS_"
      },
      "execution_count": null,
      "outputs": []
    },
    {
      "cell_type": "code",
      "source": [
        "fig=plt.figure(figsize=(10,8))\n",
        "plt.errorbar(tMes,RMes,yerr=sigma_obs,fmt='o', linewidth=2, capsize=0, c='k', label=\"data\")\n",
        "plt.plot(t_val,Rtrue_val,c='k',label=\"true\")\n",
        "\n",
        "plt.fill_between(t_val, Rmean_val-2*std_R_val, Rmean_val+2*std_R_val, \n",
        "                    color=\"lightblue\",label=r\"$2-\\sigma$\")\n",
        "plt.fill_between(t_val, Rmean_val-std_R_val, Rmean_val+std_R_val, \n",
        "                    color=\"lightgray\",label=r\"$1-\\sigma$\")\n",
        "# plot mean prediction\n",
        "plt.plot(t_val, Rmean_val, \"blue\", ls=\"--\", lw=2.0, label=\"mean\")\n",
        "\n",
        "plt.xlabel(\"t\")\n",
        "plt.ylabel(\"R\")\n",
        "plt.legend()\n",
        "plt.grid();\n"
      ],
      "metadata": {
        "colab": {
          "base_uri": "https://localhost:8080/",
          "height": 513
        },
        "id": "qZCbmE6Vxi62",
        "outputId": "58b15d79-8f77-4841-d6ca-ab16c714680e"
      },
      "execution_count": null,
      "outputs": [
        {
          "output_type": "display_data",
          "data": {
            "text/plain": [
              "<Figure size 720x576 with 1 Axes>"
            ],
            "image/png": "[encoded data removed]"
          },
          "metadata": {
            "needs_background": "light"
          }
        }
      ]
    },
    {
      "cell_type": "markdown",
      "source": [
        "# Possible exos:\n",
        "- Resume the dataset generation exercise without conditioning by fixed parameters but leave the generation by priors free:  `trace_data = trace(seed(model, jax.random.RNGKey(42))).get_trace(tMes, sigma=sigma_obs)` \n",
        "extract the parameters (R0,v,k,tau) generated and continue until the last comparison figure (truth/prediction).\n",
        "\n",
        "- In the forward model, we have used Uniform priors, but we can wonder if this is a choice that does not condition the result too much. If you take a look at the documentation, I suggest that you change the distribution to LogNormal, HalfCauchy, InverseGamma... "
      ],
      "metadata": {
        "id": "oxuA0CiLxzNq"
      }
    },
    {
      "cell_type": "markdown",
      "source": [
        "# Takeaway \n",
        "\n",
        "- You have learned how to code a Bayesian model with Numpyro that involves priors and likelihood.\n",
        "\n",
        "- A new method is available (forward modeling) to generate datasets from this model.\n",
        "\n",
        "- Markov chain generation via NUTS/HMC... is simple to code and you can add arviz to help diagnostics\n",
        "\n",
        "- Note that besides Pyro has its JAX version (ie. Numpyro), PyMC3 is faster with JAX [(read this)](https://docs.pymc.io/en/v3/pymc-examples/examples/samplers/GLM-hierarchical-jax.html)"
      ],
      "metadata": {
        "id": "ENLzNrtOyeIt"
      }
    },
    {
      "cell_type": "code",
      "source": [],
      "metadata": {
        "id": "dactEtCPye9N"
      },
      "execution_count": null,
      "outputs": []
    }
  ]
}