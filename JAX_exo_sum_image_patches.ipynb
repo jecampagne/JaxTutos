{
  "nbformat": 4,
  "nbformat_minor": 0,
  "metadata": {
    "colab": {
      "provenance": [],
      "authorship_tag": "ABX9TyNYbzAYLv9O9YKxpGL6MCAT",
      "include_colab_link": true
    },
    "kernelspec": {
      "name": "python3",
      "display_name": "Python 3"
    },
    "language_info": {
      "name": "python"
    }
  },
  "cells": [
    {
      "cell_type": "markdown",
      "metadata": {
        "id": "view-in-github",
        "colab_type": "text"
      },
      "source": [
        "<a href=\"https://colab.research.google.com/github/jecampagne/JaxTutos/blob/main/JAX_exo_sum_image_patches.ipynb\" target=\"_parent\"><img src=\"https://colab.research.google.com/assets/colab-badge.svg\" alt=\"Open In Colab\"/></a>"
      ]
    },
    {
      "cell_type": "markdown",
      "source": [
        "# Objectives:\n",
        "The goal is to sum patches of identical size cut in a 2D image, and to see what is the trends on compilation/execution on CPU & GPU. We propose different methods, and it is up to you to propose your own."
      ],
      "metadata": {
        "id": "niKa5AgxaKR7"
      }
    },
    {
      "cell_type": "code",
      "execution_count": 1,
      "metadata": {
        "id": "ERXTkM5_-Om3"
      },
      "outputs": [],
      "source": [
        "import jax\n",
        "jax.config.update(\"jax_enable_x64\", True)\n",
        "import jax.numpy as jnp\n",
        "import numpy as np\n",
        "from functools import partial"
      ]
    },
    {
      "cell_type": "code",
      "source": [
        "jax.__version__"
      ],
      "metadata": {
        "colab": {
          "base_uri": "https://localhost:8080/",
          "height": 36
        },
        "id": "8lvwfQd9Kud1",
        "outputId": "7150f2f1-76a9-4960-ab66-a437658448e3"
      },
      "execution_count": 2,
      "outputs": [
        {
          "output_type": "execute_result",
          "data": {
            "text/plain": [
              "'0.4.26'"
            ],
            "application/vnd.google.colaboratory.intrinsic+json": {
              "type": "string"
            }
          },
          "metadata": {},
          "execution_count": 2
        }
      ]
    },
    {
      "cell_type": "code",
      "source": [
        "jax.devices()"
      ],
      "metadata": {
        "colab": {
          "base_uri": "https://localhost:8080/"
        },
        "id": "hR46XbbmKrhF",
        "outputId": "f9e67020-0d89-41c9-ac09-409e7080cfaa"
      },
      "execution_count": 3,
      "outputs": [
        {
          "output_type": "execute_result",
          "data": {
            "text/plain": [
              "[CpuDevice(id=0)]"
            ]
          },
          "metadata": {},
          "execution_count": 3
        }
      ]
    },
    {
      "cell_type": "markdown",
      "source": [
        "# Compilation/Execution time on CPU & GPU devices"
      ],
      "metadata": {
        "id": "5Aq28SSGBQkN"
      }
    },
    {
      "cell_type": "code",
      "source": [
        "#clear JIT to be sure to start with fresh codes\n",
        "jax.clear_caches()\n",
        "\n",
        "expend_factor = 10  # [up-to 10 on Colab CPU]\n",
        "nxwrap,nywrap = 16, 10\n",
        "Nx,Ny = nxwrap*5*expend_factor,nywrap*8*expend_factor\n",
        "im = jax.random.normal(jax.random.PRNGKey(1),(Nx,Ny))"
      ],
      "metadata": {
        "id": "lawKxgwNPW7D"
      },
      "execution_count": 4,
      "outputs": []
    },
    {
      "cell_type": "markdown",
      "source": [
        "## 2 nested explicit simple for loops"
      ],
      "metadata": {
        "id": "CLVxDka6Bcrc"
      }
    },
    {
      "cell_type": "code",
      "source": [
        "@partial(jax.jit, static_argnames=(\"nxwrap\",\"nywrap\"))\n",
        "def make_fim_nested_for_loop(im,nxwrap,nywrap):\n",
        "\n",
        "  fim = jnp.zeros((nywrap, nxwrap), dtype=im.dtype)\n",
        "\n",
        "  nx = im.shape[1] // nxwrap\n",
        "  ny = im.shape[0] // nywrap\n",
        "\n",
        "  yl = 0\n",
        "  for _ in range(ny):\n",
        "      yh = yl + nywrap\n",
        "\n",
        "      xl = 0\n",
        "      for _ in range(nx):\n",
        "          xh = xl + nxwrap\n",
        "          fim = fim + im[yl:yh, xl:xh]\n",
        "          xl = xh\n",
        "\n",
        "      yl = yh\n",
        "\n",
        "  return fim"
      ],
      "metadata": {
        "id": "-DTslj71-Xn8"
      },
      "execution_count": 5,
      "outputs": []
    },
    {
      "cell_type": "code",
      "source": [
        "%time fim_nested_for_loop = make_fim_nested_for_loop(im,nxwrap,nywrap)"
      ],
      "metadata": {
        "colab": {
          "base_uri": "https://localhost:8080/"
        },
        "id": "WW7LYL1hDrl5",
        "outputId": "88fb51d8-f1a8-479f-dd3d-9efdb1ea8822"
      },
      "execution_count": 6,
      "outputs": [
        {
          "output_type": "stream",
          "name": "stdout",
          "text": [
            "CPU times: user 12.1 s, sys: 267 ms, total: 12.4 s\n",
            "Wall time: 21.7 s\n"
          ]
        }
      ]
    },
    {
      "cell_type": "code",
      "source": [
        "%timeit _= make_fim_nested_for_loop(im,nxwrap,nywrap).block_until_ready()"
      ],
      "metadata": {
        "colab": {
          "base_uri": "https://localhost:8080/"
        },
        "id": "wCMCW5KpQBz5",
        "outputId": "5ba74744-811e-461a-f23a-0091f0658b1a"
      },
      "execution_count": 7,
      "outputs": [
        {
          "output_type": "stream",
          "name": "stdout",
          "text": [
            "1.18 ms ± 43.3 µs per loop (mean ± std. dev. of 7 runs, 1000 loops each)\n"
          ]
        }
      ]
    },
    {
      "cell_type": "markdown",
      "source": [
        "## nested 2-lax_fori_loop"
      ],
      "metadata": {
        "id": "gaxA7GC9Bixq"
      }
    },
    {
      "cell_type": "code",
      "source": [
        "@partial(jax.jit, static_argnames=(\"nxwrap\",\"nywrap\"))\n",
        "def make_fim_nested_fori_loop(im,nxwrap,nywrap):\n",
        "  def _body_j(j, vals):\n",
        "        i, im, fim = vals\n",
        "\n",
        "        ii = i% nywrap\n",
        "        jj = j% nxwrap\n",
        "\n",
        "        fim = fim.at[ii, jj].add(im[i, j])\n",
        "\n",
        "        return i, im, fim\n",
        "\n",
        "  def _body_i(i, vals):\n",
        "        im,fim = vals\n",
        "        _,_, fim = jax.lax.fori_loop(0, im.shape[1], _body_j, (i, im, fim))\n",
        "        return im,fim\n",
        "\n",
        "  fim = jnp.zeros((nywrap, nxwrap), dtype=im.dtype)\n",
        "  _,fim = jax.lax.fori_loop(0, im.shape[0], _body_i, (im,fim))\n",
        "  return fim"
      ],
      "metadata": {
        "id": "IcuMgMDiAazd"
      },
      "execution_count": 8,
      "outputs": []
    },
    {
      "cell_type": "code",
      "source": [
        "%time fim_nested_fori_loop = make_fim_nested_fori_loop(im,nxwrap,nywrap)"
      ],
      "metadata": {
        "colab": {
          "base_uri": "https://localhost:8080/"
        },
        "id": "7vpriyc9H8Gu",
        "outputId": "3013d182-63bc-49b2-c89d-ae51da559f2b"
      },
      "execution_count": 9,
      "outputs": [
        {
          "output_type": "stream",
          "name": "stdout",
          "text": [
            "CPU times: user 161 ms, sys: 2.94 ms, total: 164 ms\n",
            "Wall time: 184 ms\n"
          ]
        }
      ]
    },
    {
      "cell_type": "code",
      "source": [
        "%timeit _= make_fim_nested_fori_loop(im,nxwrap,nywrap).block_until_ready()"
      ],
      "metadata": {
        "colab": {
          "base_uri": "https://localhost:8080/"
        },
        "id": "R_70ZBzdQauT",
        "outputId": "15f57f9e-3601-4382-b0bc-db4fd6cdc9a1"
      },
      "execution_count": 10,
      "outputs": [
        {
          "output_type": "stream",
          "name": "stdout",
          "text": [
            "4.68 ms ± 339 µs per loop (mean ± std. dev. of 7 runs, 100 loops each)\n"
          ]
        }
      ]
    },
    {
      "cell_type": "markdown",
      "source": [
        "## 1-lax_fori_loop-unrolled"
      ],
      "metadata": {
        "id": "8t4CnS5GCMPA"
      }
    },
    {
      "cell_type": "code",
      "source": [
        "@partial(jax.jit, static_argnames=(\"nxwrap\",\"nywrap\"))\n",
        "def make_fim_nested_for_loop_unroll(im, nxwrap, nywrap):\n",
        "\n",
        "    nx = im.shape[1] // nxwrap\n",
        "    ny = im.shape[0] // nywrap\n",
        "\n",
        "    def _body_ij(ij, vals):\n",
        "        i, j = jnp.unravel_index(ij, (ny, nx))\n",
        "        im, fim = vals\n",
        "        xl = j * nxwrap\n",
        "        yl = i * nywrap\n",
        "        fim = fim + jax.lax.dynamic_slice(im, (yl, xl), (nywrap, nxwrap))\n",
        "        return im, fim\n",
        "\n",
        "\n",
        "    fim = jnp.zeros((nywrap, nxwrap), dtype=im.dtype)\n",
        "\n",
        "    _, fim = jax.lax.fori_loop(0, ny * nx, _body_ij, (im, fim), unroll=10)\n",
        "\n",
        "    return fim"
      ],
      "metadata": {
        "id": "YY_4zc-yAkbL"
      },
      "execution_count": 11,
      "outputs": []
    },
    {
      "cell_type": "code",
      "source": [
        "%time fim_nested_for_loop_unroll = make_fim_nested_for_loop_unroll(im,nxwrap,nywrap)"
      ],
      "metadata": {
        "colab": {
          "base_uri": "https://localhost:8080/"
        },
        "id": "tdrqCqcCBq9Z",
        "outputId": "eb21ec91-7a1b-4108-c800-a8971783d8da"
      },
      "execution_count": 12,
      "outputs": [
        {
          "output_type": "stream",
          "name": "stdout",
          "text": [
            "CPU times: user 370 ms, sys: 1.15 ms, total: 371 ms\n",
            "Wall time: 369 ms\n"
          ]
        }
      ]
    },
    {
      "cell_type": "code",
      "source": [
        "%timeit _ =  make_fim_nested_for_loop_unroll(im,nxwrap,nywrap).block_until_ready()"
      ],
      "metadata": {
        "colab": {
          "base_uri": "https://localhost:8080/"
        },
        "id": "iHlont-SCFKQ",
        "outputId": "7d21a458-4525-4a4b-b782-f0d2c9e18ec0"
      },
      "execution_count": 13,
      "outputs": [
        {
          "output_type": "stream",
          "name": "stdout",
          "text": [
            "263 µs ± 12.2 µs per loop (mean ± std. dev. of 7 runs, 1000 loops each)\n"
          ]
        }
      ]
    },
    {
      "cell_type": "markdown",
      "source": [
        "## Index brodcasting & vmapping"
      ],
      "metadata": {
        "id": "FK0rLsBNCe-r"
      }
    },
    {
      "cell_type": "code",
      "source": [
        "@partial(jax.jit, static_argnames=(\"windi\",\"windj\"))\n",
        "def make_fim_broadcast(arr, windi,windj):\n",
        "  def rolling_window_i(arr, wind):\n",
        "    idx = jnp.arange(arr.shape[0] - wind + 1)[::wind, None] + jnp.arange(wind)[None, :]\n",
        "    return arr[idx]\n",
        "  y = rolling_window_i(arr, windi)\n",
        "  y = jnp.moveaxis(y, -1, -2)\n",
        "  y = jax.vmap(partial(rolling_window_i,wind=windj))(y)\n",
        "  y = y.reshape(-1,windj,windi)\n",
        "  return jnp.moveaxis(y, -1, -2).sum(axis=0)\n"
      ],
      "metadata": {
        "id": "z4ywer4M_Bmq"
      },
      "execution_count": 14,
      "outputs": []
    },
    {
      "cell_type": "code",
      "source": [
        "%time fim_broadcast= make_fim_broadcast(im,nywrap,nxwrap) # pay attention swap x-y"
      ],
      "metadata": {
        "colab": {
          "base_uri": "https://localhost:8080/"
        },
        "id": "WVeJQ76UDyRq",
        "outputId": "c2a9fd6a-c947-4cd9-baf3-6b60b2850113"
      },
      "execution_count": 15,
      "outputs": [
        {
          "output_type": "stream",
          "name": "stdout",
          "text": [
            "CPU times: user 105 ms, sys: 2.95 ms, total: 108 ms\n",
            "Wall time: 112 ms\n"
          ]
        }
      ]
    },
    {
      "cell_type": "code",
      "source": [
        "%timeit _ =  make_fim_broadcast(im,nxwrap,nywrap).block_until_ready() # pay attention swap x-y"
      ],
      "metadata": {
        "colab": {
          "base_uri": "https://localhost:8080/"
        },
        "id": "mOxtGXvOQrLg",
        "outputId": "f08779c4-c042-4181-cddc-ae539e835736"
      },
      "execution_count": 16,
      "outputs": [
        {
          "output_type": "stream",
          "name": "stdout",
          "text": [
            "2.05 ms ± 49.2 µs per loop (mean ± std. dev. of 7 runs, 100 loops each)\n"
          ]
        }
      ]
    },
    {
      "cell_type": "code",
      "source": [
        "def max_diff(x,x_ref):\n",
        "  return np.max(np.abs(x-x_ref))"
      ],
      "metadata": {
        "id": "-rbdW2hjC1Ui"
      },
      "execution_count": 17,
      "outputs": []
    },
    {
      "cell_type": "code",
      "source": [
        "max_diff(fim_nested_fori_loop,fim_nested_for_loop), max_diff(fim_nested_for_loop_unroll,fim_nested_for_loop), max_diff(fim_broadcast,fim_nested_for_loop)"
      ],
      "metadata": {
        "colab": {
          "base_uri": "https://localhost:8080/"
        },
        "id": "SVhlf--BTii1",
        "outputId": "23ff85cf-9ea7-4116-d9d9-6e85c735fe71"
      },
      "execution_count": 18,
      "outputs": [
        {
          "output_type": "execute_result",
          "data": {
            "text/plain": [
              "(0.0, 0.0, 1.8917489796876907e-10)"
            ]
          },
          "metadata": {},
          "execution_count": 18
        }
      ]
    },
    {
      "cell_type": "code",
      "source": [],
      "metadata": {
        "id": "VAyl2LRSVNfS"
      },
      "execution_count": null,
      "outputs": []
    }
  ]
}