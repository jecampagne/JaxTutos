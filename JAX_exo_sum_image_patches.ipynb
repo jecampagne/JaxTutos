{
  "nbformat": 4,
  "nbformat_minor": 0,
  "metadata": {
    "colab": {
      "provenance": [],
      "gpuType": "T4",
      "authorship_tag": "ABX9TyN+IVk1KAvsEpeLYdd32BkD",
      "include_colab_link": true
    },
    "kernelspec": {
      "name": "python3",
      "display_name": "Python 3"
    },
    "language_info": {
      "name": "python"
    },
    "accelerator": "GPU"
  },
  "cells": [
    {
      "cell_type": "markdown",
      "metadata": {
        "id": "view-in-github",
        "colab_type": "text"
      },
      "source": [
        "<a href=\"https://colab.research.google.com/github/jecampagne/JaxTutos/blob/main/JAX_exo_sum_image_patches.ipynb\" target=\"_parent\"><img src=\"https://colab.research.google.com/assets/colab-badge.svg\" alt=\"Open In Colab\"/></a>"
      ]
    },
    {
      "cell_type": "markdown",
      "source": [
        "# Objectives:\n",
        "The goal is to sum patches of identical size cut in a 2D image, and to see what is the trends on compilation/execution on CPU & GPU. We propose different methods, and it is up to you to propose your own."
      ],
      "metadata": {
        "id": "niKa5AgxaKR7"
      }
    },
    {
      "cell_type": "code",
      "execution_count": 2,
      "metadata": {
        "id": "ERXTkM5_-Om3"
      },
      "outputs": [],
      "source": [
        "import jax\n",
        "jax.config.update(\"jax_enable_x64\", True)\n",
        "import jax.numpy as jnp\n",
        "import numpy as np\n",
        "from functools import partial"
      ]
    },
    {
      "cell_type": "code",
      "source": [
        "jax.__version__"
      ],
      "metadata": {
        "colab": {
          "base_uri": "https://localhost:8080/",
          "height": 36
        },
        "id": "8lvwfQd9Kud1",
        "outputId": "a87ed5bb-ae1b-4013-c33a-12adc29ddbb4"
      },
      "execution_count": 19,
      "outputs": [
        {
          "output_type": "execute_result",
          "data": {
            "text/plain": [
              "'0.4.26'"
            ],
            "application/vnd.google.colaboratory.intrinsic+json": {
              "type": "string"
            }
          },
          "metadata": {},
          "execution_count": 19
        }
      ]
    },
    {
      "cell_type": "code",
      "source": [
        "jax.devices()"
      ],
      "metadata": {
        "colab": {
          "base_uri": "https://localhost:8080/"
        },
        "id": "hR46XbbmKrhF",
        "outputId": "0dff8bf3-7128-4836-9576-d300a9126f0e"
      },
      "execution_count": 18,
      "outputs": [
        {
          "output_type": "execute_result",
          "data": {
            "text/plain": [
              "[cuda(id=0)]"
            ]
          },
          "metadata": {},
          "execution_count": 18
        }
      ]
    },
    {
      "cell_type": "markdown",
      "source": [
        "# Compilation/Execution time on CPU & GPU devices"
      ],
      "metadata": {
        "id": "5Aq28SSGBQkN"
      }
    },
    {
      "cell_type": "code",
      "source": [
        "#clear JIT to be sure to start with fresh codes\n",
        "jax.clear_caches()\n",
        "\n",
        "expend_factor = 10  # [up-to 10 on Colab CPU]\n",
        "nxwrap,nywrap = 16, 10\n",
        "Nx,Ny = nxwrap*5*expend_factor,nywrap*8*expend_factor\n",
        "im = 10 + jax.random.normal(jax.random.PRNGKey(1),(Nx,Ny))"
      ],
      "metadata": {
        "id": "lawKxgwNPW7D"
      },
      "execution_count": 20,
      "outputs": []
    },
    {
      "cell_type": "markdown",
      "source": [
        "## 2 nested explicit simple for loops"
      ],
      "metadata": {
        "id": "CLVxDka6Bcrc"
      }
    },
    {
      "cell_type": "code",
      "source": [
        "@partial(jax.jit, static_argnames=(\"nxwrap\",\"nywrap\"))\n",
        "def make_fim_nested_for_loop(im,nxwrap,nywrap):\n",
        "\n",
        "  fim = jnp.zeros((nywrap, nxwrap), dtype=im.dtype)\n",
        "\n",
        "  nx = im.shape[1] // nxwrap\n",
        "  ny = im.shape[0] // nywrap\n",
        "\n",
        "  yl = 0\n",
        "  for _ in range(ny):\n",
        "      yh = yl + nywrap\n",
        "\n",
        "      xl = 0\n",
        "      for _ in range(nx):\n",
        "          xh = xl + nxwrap\n",
        "          fim = fim + im[yl:yh, xl:xh]\n",
        "          xl = xh\n",
        "\n",
        "      yl = yh\n",
        "\n",
        "  return fim"
      ],
      "metadata": {
        "id": "-DTslj71-Xn8"
      },
      "execution_count": 21,
      "outputs": []
    },
    {
      "cell_type": "code",
      "source": [
        "%time fim_nested_for_loop = make_fim_nested_for_loop(im,nxwrap,nywrap)"
      ],
      "metadata": {
        "colab": {
          "base_uri": "https://localhost:8080/"
        },
        "id": "WW7LYL1hDrl5",
        "outputId": "eeec6667-a7bf-4aba-c182-2d59b78c4e05"
      },
      "execution_count": 22,
      "outputs": [
        {
          "output_type": "stream",
          "name": "stdout",
          "text": [
            "CPU times: user 28.5 s, sys: 359 ms, total: 28.8 s\n",
            "Wall time: 29.3 s\n"
          ]
        }
      ]
    },
    {
      "cell_type": "code",
      "source": [
        "%timeit _= make_fim_nested_for_loop(im,nxwrap,nywrap).block_until_ready()"
      ],
      "metadata": {
        "colab": {
          "base_uri": "https://localhost:8080/"
        },
        "id": "wCMCW5KpQBz5",
        "outputId": "c9a1d7d4-ecd1-499c-cd9b-000548d6041e"
      },
      "execution_count": 23,
      "outputs": [
        {
          "output_type": "stream",
          "name": "stdout",
          "text": [
            "329 µs ± 5.79 µs per loop (mean ± std. dev. of 7 runs, 1000 loops each)\n"
          ]
        }
      ]
    },
    {
      "cell_type": "markdown",
      "source": [
        "## nested 2-lax_fori_loop"
      ],
      "metadata": {
        "id": "gaxA7GC9Bixq"
      }
    },
    {
      "cell_type": "code",
      "source": [
        "@partial(jax.jit, static_argnames=(\"nxwrap\",\"nywrap\"))\n",
        "def make_fim_nested_fori_loop(im,nxwrap,nywrap):\n",
        "  def _body_j(j, vals):\n",
        "        i, im, fim = vals\n",
        "\n",
        "        ii = i% nywrap\n",
        "        jj = j% nxwrap\n",
        "\n",
        "        fim = fim.at[ii, jj].add(im[i, j])\n",
        "\n",
        "        return i, im, fim\n",
        "\n",
        "  def _body_i(i, vals):\n",
        "        im,fim = vals\n",
        "        _,_, fim = jax.lax.fori_loop(0, im.shape[1], _body_j, (i, im, fim))\n",
        "        return im,fim\n",
        "\n",
        "  fim = jnp.zeros((nywrap, nxwrap), dtype=im.dtype)\n",
        "  _,fim = jax.lax.fori_loop(0, im.shape[0], _body_i, (im,fim))\n",
        "  return fim"
      ],
      "metadata": {
        "id": "IcuMgMDiAazd"
      },
      "execution_count": 24,
      "outputs": []
    },
    {
      "cell_type": "code",
      "source": [
        "%time fim_nested_fori_loop = make_fim_nested_fori_loop(im,nxwrap,nywrap)"
      ],
      "metadata": {
        "colab": {
          "base_uri": "https://localhost:8080/"
        },
        "id": "7vpriyc9H8Gu",
        "outputId": "15afe1de-3829-4b1d-b98b-b2f5845d6418"
      },
      "execution_count": 25,
      "outputs": [
        {
          "output_type": "stream",
          "name": "stdout",
          "text": [
            "CPU times: user 6.26 s, sys: 12.7 ms, total: 6.27 s\n",
            "Wall time: 6.24 s\n"
          ]
        }
      ]
    },
    {
      "cell_type": "code",
      "source": [
        "%timeit _= make_fim_nested_fori_loop(im,nxwrap,nywrap).block_until_ready()"
      ],
      "metadata": {
        "colab": {
          "base_uri": "https://localhost:8080/"
        },
        "id": "R_70ZBzdQauT",
        "outputId": "8879bc10-005a-4c9a-9091-354202d00be7"
      },
      "execution_count": 26,
      "outputs": [
        {
          "output_type": "stream",
          "name": "stdout",
          "text": [
            "6.36 s ± 215 ms per loop (mean ± std. dev. of 7 runs, 1 loop each)\n"
          ]
        }
      ]
    },
    {
      "cell_type": "markdown",
      "source": [
        "## 1-lax_fori_loop-unrolled"
      ],
      "metadata": {
        "id": "8t4CnS5GCMPA"
      }
    },
    {
      "cell_type": "code",
      "source": [
        "@partial(jax.jit, static_argnames=(\"nxwrap\",\"nywrap\"))\n",
        "def make_fim_nested_for_loop_unroll(im, nxwrap, nywrap):\n",
        "\n",
        "    nx = im.shape[1] // nxwrap\n",
        "    ny = im.shape[0] // nywrap\n",
        "\n",
        "    def _body_ij(ij, vals):\n",
        "        i, j = jnp.unravel_index(ij, (ny, nx))\n",
        "        im, fim = vals\n",
        "        xl = j * nxwrap\n",
        "        yl = i * nywrap\n",
        "        fim = fim + jax.lax.dynamic_slice(im, (yl, xl), (nywrap, nxwrap))\n",
        "        return im, fim\n",
        "\n",
        "\n",
        "    fim = jnp.zeros((nywrap, nxwrap), dtype=im.dtype)\n",
        "\n",
        "    _, fim = jax.lax.fori_loop(0, ny * nx, _body_ij, (im, fim), unroll=10)\n",
        "\n",
        "    return fim"
      ],
      "metadata": {
        "id": "YY_4zc-yAkbL"
      },
      "execution_count": 27,
      "outputs": []
    },
    {
      "cell_type": "code",
      "source": [
        "%time fim_nested_for_loop_unroll = make_fim_nested_for_loop_unroll(im,nxwrap,nywrap)"
      ],
      "metadata": {
        "colab": {
          "base_uri": "https://localhost:8080/"
        },
        "id": "tdrqCqcCBq9Z",
        "outputId": "8ee8c295-6216-440a-845e-127f7246bf92"
      },
      "execution_count": 28,
      "outputs": [
        {
          "output_type": "stream",
          "name": "stdout",
          "text": [
            "CPU times: user 1.04 s, sys: 15.4 ms, total: 1.06 s\n",
            "Wall time: 837 ms\n"
          ]
        }
      ]
    },
    {
      "cell_type": "code",
      "source": [
        "%timeit _ =  make_fim_nested_for_loop_unroll(im,nxwrap,nywrap).block_until_ready()"
      ],
      "metadata": {
        "colab": {
          "base_uri": "https://localhost:8080/"
        },
        "id": "iHlont-SCFKQ",
        "outputId": "fda6a600-ee1b-46c7-878b-d6490def5e42"
      },
      "execution_count": 29,
      "outputs": [
        {
          "output_type": "stream",
          "name": "stdout",
          "text": [
            "2.24 ms ± 27.4 µs per loop (mean ± std. dev. of 7 runs, 100 loops each)\n"
          ]
        }
      ]
    },
    {
      "cell_type": "markdown",
      "source": [
        "## Index brodcasting & vmapping"
      ],
      "metadata": {
        "id": "FK0rLsBNCe-r"
      }
    },
    {
      "cell_type": "code",
      "source": [
        "@partial(jax.jit, static_argnames=(\"windi\",\"windj\"))\n",
        "def make_fim_broadcast(arr, windi,windj):\n",
        "  def rolling_window_i(arr, wind):\n",
        "    idx = jnp.arange(arr.shape[0] - wind + 1)[::wind, None] + jnp.arange(wind)[None, :]\n",
        "    return arr[idx]\n",
        "  y = rolling_window_i(arr, windi)\n",
        "  y = jnp.moveaxis(y, -1, -2)\n",
        "  y = jax.vmap(partial(rolling_window_i,wind=windj))(y)\n",
        "  y = y.reshape(-1,windj,windi)\n",
        "  return jnp.moveaxis(y, -1, -2).sum(axis=0)\n"
      ],
      "metadata": {
        "id": "z4ywer4M_Bmq"
      },
      "execution_count": 30,
      "outputs": []
    },
    {
      "cell_type": "code",
      "source": [
        "%time fim_broadcast= make_fim_broadcast(im,nywrap,nxwrap) # pay attention swap x-y"
      ],
      "metadata": {
        "colab": {
          "base_uri": "https://localhost:8080/"
        },
        "id": "WVeJQ76UDyRq",
        "outputId": "789e3e2a-8d54-4a12-f8da-36e66f12ebbc"
      },
      "execution_count": 31,
      "outputs": [
        {
          "output_type": "stream",
          "name": "stdout",
          "text": [
            "CPU times: user 73 ms, sys: 2.03 ms, total: 75.1 ms\n",
            "Wall time: 70.7 ms\n"
          ]
        }
      ]
    },
    {
      "cell_type": "code",
      "source": [
        "%timeit _ =  make_fim_broadcast(im,nxwrap,nywrap).block_until_ready() # pay attention swap x-y"
      ],
      "metadata": {
        "colab": {
          "base_uri": "https://localhost:8080/"
        },
        "id": "mOxtGXvOQrLg",
        "outputId": "cf95ccdf-9e9e-4b13-b4ca-f0cdf4ad801a"
      },
      "execution_count": 32,
      "outputs": [
        {
          "output_type": "stream",
          "name": "stdout",
          "text": [
            "238 µs ± 5.27 µs per loop (mean ± std. dev. of 7 runs, 1000 loops each)\n"
          ]
        }
      ]
    },
    {
      "cell_type": "code",
      "source": [
        "def max_diff(x,x_ref):\n",
        "  return np.max(np.abs(x-x_ref))"
      ],
      "metadata": {
        "id": "-rbdW2hjC1Ui"
      },
      "execution_count": 33,
      "outputs": []
    },
    {
      "cell_type": "code",
      "source": [
        "max_diff(fim_nested_fori_loop,fim_nested_for_loop), max_diff(fim_nested_for_loop_unroll,fim_nested_for_loop), max_diff(fim_broadcast,fim_nested_for_loop)"
      ],
      "metadata": {
        "colab": {
          "base_uri": "https://localhost:8080/"
        },
        "id": "SVhlf--BTii1",
        "outputId": "425a2efa-93aa-4ac7-a3d9-f5760b42548e"
      },
      "execution_count": 34,
      "outputs": [
        {
          "output_type": "execute_result",
          "data": {
            "text/plain": [
              "(0.0, 0.0, 1.8917489796876907e-10)"
            ]
          },
          "metadata": {},
          "execution_count": 34
        }
      ]
    }
  ]
}